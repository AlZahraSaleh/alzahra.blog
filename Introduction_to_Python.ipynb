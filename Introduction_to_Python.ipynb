{
  "nbformat": 4,
  "nbformat_minor": 0,
  "metadata": {
    "colab": {
      "provenance": [],
      "include_colab_link": true
    },
    "kernelspec": {
      "name": "python3",
      "display_name": "Python 3"
    },
    "language_info": {
      "name": "python"
    }
  },
  "cells": [
    {
      "cell_type": "markdown",
      "metadata": {
        "id": "view-in-github",
        "colab_type": "text"
      },
      "source": [
        "<a href=\"https://colab.research.google.com/github/AlZahraSaleh/alzahra.blog/blob/main/Introduction_to_Python.ipynb\" target=\"_parent\"><img src=\"https://colab.research.google.com/assets/colab-badge.svg\" alt=\"Open In Colab\"/></a>"
      ]
    },
    {
      "cell_type": "markdown",
      "source": [
        "#Why python\n",
        "\n",
        "Python is a widely used programming language that offers several unique features and advantages compared to languages like Java and C++.\n",
        "\n",
        "\n",
        "\n",
        "Python is a popular programming language. It was created by Guido van Rossum, and released in 1991"
      ],
      "metadata": {
        "id": "hhM3BZxzD0cL"
      }
    },
    {
      "cell_type": "markdown",
      "source": [
        "-**Easy to use and Read** - Python's syntax is clear and easy to read, making it an ideal language for both beginners and experienced programmers. This simplicity can lead to faster development and reduce the chances of errors.\n",
        "\n",
        "\n",
        "\n"
      ],
      "metadata": {
        "id": "QcYNIJyBGv5n"
      }
    },
    {
      "cell_type": "markdown",
      "source": [
        "-**Dynamically Typed** - The data types of variables are determined during run-time. We do not need to specify the data type of a variable during writing codes.\n",
        "\n",
        "\n",
        "\n"
      ],
      "metadata": {
        "id": "_2gZH69wG0PI"
      }
    },
    {
      "cell_type": "markdown",
      "source": [
        "-**High-level** - High-level language means human readable code.\n",
        "\n",
        "\n"
      ],
      "metadata": {
        "id": "6gpGoWotG4Yy"
      }
    },
    {
      "cell_type": "markdown",
      "source": [
        "-**Garbage Collected** - Memory allocation and de-allocation are automatically managed. Programmers do not specifically need to manage the memory.\n",
        "\n"
      ],
      "metadata": {
        "id": "cJfCDCUWG6yO"
      }
    },
    {
      "cell_type": "markdown",
      "source": [
        "**Purely Object-Oriented** - It refers to everything as an object, including numbers and strings.\n"
      ],
      "metadata": {
        "id": "rsiHX8IUG9Jb"
      }
    },
    {
      "cell_type": "markdown",
      "source": [
        "-**Cross-platform Compatibility** - Python can be easily installed on Windows, macOS, and various Linux distributions, allowing developers to create software that runs across different operating systems.\n"
      ],
      "metadata": {
        "id": "1opPun-mHApf"
      }
    },
    {
      "cell_type": "markdown",
      "source": [
        "-**Rich Standard Library** - Python comes with several standard libraries that provide ready-to-use modules and functions for various tasks, ranging from web development and data manipulation to machine learning and networking.\n"
      ],
      "metadata": {
        "id": "hheGv7QzHC4f"
      }
    },
    {
      "cell_type": "markdown",
      "source": [
        "-**Open Source** - Python is an open-source, cost-free programming language. It is utilized in several sectors and disciplines as a result."
      ],
      "metadata": {
        "id": "ck0Byy8WHE5W"
      }
    },
    {
      "cell_type": "code",
      "source": [
        "print(\"Hello World\")"
      ],
      "metadata": {
        "colab": {
          "base_uri": "https://localhost:8080/"
        },
        "id": "T9KoYRLsF2tq",
        "outputId": "df9df702-3003-4e56-d2cd-59e1f2d50107"
      },
      "execution_count": null,
      "outputs": [
        {
          "output_type": "stream",
          "name": "stdout",
          "text": [
            "Hello World\n"
          ]
        }
      ]
    },
    {
      "cell_type": "code",
      "source": [
        "public class HelloWorld {\n",
        "    public static void main(String[] args) {\n",
        "        System.out.println(\"Hello, World!\");\n",
        "    }\n",
        "}"
      ],
      "metadata": {
        "id": "MMBGOOJjF3sM"
      },
      "execution_count": null,
      "outputs": []
    },
    {
      "cell_type": "markdown",
      "source": [
        "There is **no use of curly braces or semicolons** in Python programming language. It is an English-like language. But **Python uses indentation** to define a block of code. Indentation is nothing but adding whitespace before the statement when it is needed."
      ],
      "metadata": {
        "id": "iHMzxadDGCJa"
      }
    },
    {
      "cell_type": "markdown",
      "source": [
        "Instead of Semicolon as used in other languages, Python ends its statements with a **NewLine character**.\n",
        "\n"
      ],
      "metadata": {
        "id": "8L9rzGjuGKDH"
      }
    },
    {
      "cell_type": "markdown",
      "source": [
        "Python is a **case-sensitive language**, which means that uppercase and lowercase letters are treated differently. For example, 'name' and 'Name' are two different variables in Python."
      ],
      "metadata": {
        "id": "9wXNBUe0GRHB"
      }
    },
    {
      "cell_type": "markdown",
      "source": [
        "In Python, **comments** can be added using the '#' symbol. Any text written after the '#' symbol is considered a comment and is ignored by the interpreter. This trick is useful for **adding notes** to the code or temporarily disabling a code block. It also helps in understanding the code better by some other developers.\n"
      ],
      "metadata": {
        "id": "mTpS5FpDGzOU"
      }
    },
    {
      "cell_type": "markdown",
      "source": [
        "**Career Opportunities**: Python is a highly popular language in the job market. Learning Python can open up several career opportunities in data science, artificial intelligence, web development, and more."
      ],
      "metadata": {
        "id": "UfZ4aW1THaDT"
      }
    },
    {
      "cell_type": "markdown",
      "source": [
        "Python has become the go-to language for big data, machine learning, Data science. Python has become popular among data scientists and machine learning engineers with libraries like NumPy, Pandas, Scikit-learn, TensorFlow, and more.\n"
      ],
      "metadata": {
        "id": "-U-UTAghHkGz"
      }
    },
    {
      "cell_type": "markdown",
      "source": [
        "#Python Popular Frameworks and Libraries"
      ],
      "metadata": {
        "id": "RRhYfMFaIrIf"
      }
    },
    {
      "cell_type": "markdown",
      "source": [
        "**Web development** (Server-side) - Django Flask, Pyramid, CherryPy\n",
        "\n",
        "**Machine Learning** - TensorFlow, PyTorch, Scikit-learn, Matplotlib, Scipy, etc.\n",
        "\n",
        "**Mathematics** - NumPy, Pandas, etc.\n",
        "\n",
        "**BeautifulSoup**: a library for web scraping and parsing HTML and XML\n",
        "\n",
        "**SQLAlchemy**: a library for working with SQL databases\n",
        "\n",
        "**Requests**: a library for making HTTP requests\n",
        "\n",
        "**Streamlit**: a library for building interactive web apps for machine learning and data science\n",
        "\n",
        "**NLTK**: a library for natural language processing\n"
      ],
      "metadata": {
        "id": "ZaGkW4IoIxyF"
      }
    },
    {
      "cell_type": "markdown",
      "source": [
        "#Python Variables"
      ],
      "metadata": {
        "id": "wv1yg6GVN_-e"
      }
    },
    {
      "cell_type": "markdown",
      "source": [
        "A variable is the name given to a memory location. A value-holding Python variable is also known as an identifier.\n",
        "\n"
      ],
      "metadata": {
        "id": "MPMXNjFNOBOG"
      }
    },
    {
      "cell_type": "markdown",
      "source": [
        "Since Python is an infer language that is smart enough to determine the type of a variable, we do not need to specify its type in Python.\n",
        "\n"
      ],
      "metadata": {
        "id": "FAKsKHDVOLlC"
      }
    },
    {
      "cell_type": "markdown",
      "source": [
        "Variable names must begin with a letter or an underscore, but they can be a group of both letters and digits.\n",
        "\n"
      ],
      "metadata": {
        "id": "hlc9jwObON1R"
      }
    },
    {
      "cell_type": "markdown",
      "source": [
        "\n"
      ],
      "metadata": {
        "id": "wPGctkO4OiHG"
      }
    },
    {
      "cell_type": "markdown",
      "source": [
        "The variable's first character must be an underscore or alphabet (_).\n",
        "\n",
        "White space and special characters (!, @, #, %, etc.) are not allowed in the identifier name. ^, &, *).\n",
        "\n",
        "Identifier name should not be like any watchword characterized in the language.\n",
        "\n",
        "The name of the variable should be written in lowercase. Both Rahul and rahul are distinct variables.\n",
        "\n",
        "Examples of valid identifiers: a123, _n, n_9, etc.\n",
        "\n",
        "Examples of invalid identifiers: 1a, n%4, n 9, etc.\n"
      ],
      "metadata": {
        "id": "42E_EnFrOxch"
      }
    },
    {
      "cell_type": "markdown",
      "source": [
        "The equal (=) operator is utilized to assign worth to a variable.\n"
      ],
      "metadata": {
        "id": "AalctIsSPHIZ"
      }
    },
    {
      "cell_type": "code",
      "source": [
        "age = 25\n",
        "print(age)\n",
        "type(age)"
      ],
      "metadata": {
        "colab": {
          "base_uri": "https://localhost:8080/"
        },
        "id": "T4chkAPpGRlk",
        "outputId": "4c07b3fe-f843-45eb-bd3e-647cd43c3df4"
      },
      "execution_count": null,
      "outputs": [
        {
          "output_type": "stream",
          "name": "stdout",
          "text": [
            "25.2\n"
          ]
        },
        {
          "output_type": "execute_result",
          "data": {
            "text/plain": [
              "float"
            ]
          },
          "metadata": {},
          "execution_count": 29
        }
      ]
    },
    {
      "cell_type": "code",
      "source": [
        "name = \"vinay\"\n",
        "type(name)"
      ],
      "metadata": {
        "colab": {
          "base_uri": "https://localhost:8080/"
        },
        "id": "2BbI4CREIp_V",
        "outputId": "2e746c86-0e16-4685-f116-46e78b8e3eaf"
      },
      "execution_count": null,
      "outputs": [
        {
          "output_type": "execute_result",
          "data": {
            "text/plain": [
              "str"
            ]
          },
          "metadata": {},
          "execution_count": 30
        }
      ]
    },
    {
      "cell_type": "markdown",
      "source": [
        "Python manages memory efficiently\n",
        "a = 50\n",
        "![image.png](data:image/png;base64,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)"
      ],
      "metadata": {
        "id": "fl4SOcmGQKz0"
      }
    },
    {
      "cell_type": "markdown",
      "source": [
        "b = a\n",
        "![image.png](data:image/png;base64,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)"
      ],
      "metadata": {
        "id": "yJwiggTdQ9iy"
      }
    },
    {
      "cell_type": "markdown",
      "source": [
        "a = 50  \n",
        "b =100  \n",
        "![image.png](data:image/png;base64,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)"
      ],
      "metadata": {
        "id": "N07crsusRUUz"
      }
    },
    {
      "cell_type": "markdown",
      "source": [
        "![image.png](data:image/png;base64,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)"
      ],
      "metadata": {
        "id": "zhg0p0PRRdYV"
      }
    },
    {
      "cell_type": "code",
      "source": [
        "a = 50\n",
        "b = a\n",
        "print(id(a))\n",
        "print(id(b))"
      ],
      "metadata": {
        "colab": {
          "base_uri": "https://localhost:8080/"
        },
        "id": "cGIjppveQ4YP",
        "outputId": "55b91820-b445-4f35-9eb9-b1f59a88152c"
      },
      "execution_count": null,
      "outputs": [
        {
          "output_type": "stream",
          "name": "stdout",
          "text": [
            "138218019981072\n",
            "138218019981072\n"
          ]
        }
      ]
    },
    {
      "cell_type": "code",
      "source": [
        "# Reassigned variable a\n",
        "a = 500\n",
        "print(id(a))"
      ],
      "metadata": {
        "colab": {
          "base_uri": "https://localhost:8080/"
        },
        "id": "PdAhGGKEtjtC",
        "outputId": "935458db-7610-4e7e-aaf6-76378915dc09"
      },
      "execution_count": null,
      "outputs": [
        {
          "output_type": "stream",
          "name": "stdout",
          "text": [
            "138217586977840\n"
          ]
        }
      ]
    },
    {
      "cell_type": "code",
      "source": [
        "x=y=z=50\n",
        "print(x)\n",
        "print(y)\n",
        "print(z)"
      ],
      "metadata": {
        "colab": {
          "base_uri": "https://localhost:8080/"
        },
        "id": "P2V34xUetywx",
        "outputId": "95824c11-9933-48c2-a53c-bd0f4ec181cb"
      },
      "execution_count": null,
      "outputs": [
        {
          "output_type": "stream",
          "name": "stdout",
          "text": [
            "50\n",
            "50\n",
            "50\n"
          ]
        }
      ]
    },
    {
      "cell_type": "code",
      "source": [
        "a,b,c=5,10,15\n",
        "print(a)\n",
        "print(b)\n",
        "print(c)"
      ],
      "metadata": {
        "colab": {
          "base_uri": "https://localhost:8080/"
        },
        "id": "rNTiE4JmtymU",
        "outputId": "acfb9bee-26b9-4cc0-a78a-1ebbee834a8b"
      },
      "execution_count": null,
      "outputs": [
        {
          "output_type": "stream",
          "name": "stdout",
          "text": [
            "5\n",
            "10\n",
            "15\n"
          ]
        }
      ]
    },
    {
      "cell_type": "markdown",
      "source": [
        "#Python Variable Types\n"
      ],
      "metadata": {
        "id": "hzLmBt8qt9-4"
      }
    },
    {
      "cell_type": "markdown",
      "source": [
        "There are two types of variables in Python - Local variable and Global variable. Let's understand the following variables.\n",
        "\n",
        "\n",
        "The variables that are declared within the function and have scope within the function are known as local variables. Let's examine the following illustration."
      ],
      "metadata": {
        "id": "D4YcRxz4t_X9"
      }
    },
    {
      "cell_type": "code",
      "source": [
        "# Declaring a function\n",
        "def add():\n",
        "    # Defining local variables. They has scope only within a function\n",
        "    a = 20\n",
        "    b = 30\n",
        "    c = a + b\n",
        "    print(\"The sum is:\", c)\n",
        "\n",
        "# Calling a function\n",
        "add()"
      ],
      "metadata": {
        "colab": {
          "base_uri": "https://localhost:8080/"
        },
        "id": "3OwO9OLqt-qB",
        "outputId": "aada1b4a-a6ee-4486-d56f-e0db4f50877c"
      },
      "execution_count": null,
      "outputs": [
        {
          "output_type": "stream",
          "name": "stdout",
          "text": [
            "The sum is: 50\n"
          ]
        }
      ]
    },
    {
      "cell_type": "markdown",
      "source": [
        "Global variables can be utilized all through the program, and its extension is in the whole program.\n",
        "\n",
        "Local variable takes precedence over global variable"
      ],
      "metadata": {
        "id": "vwUVj_18uYH7"
      }
    },
    {
      "cell_type": "code",
      "source": [
        "# Declare a variable and initialize it\n",
        "x = 101\n",
        "\n",
        "# Global variable in function\n",
        "def mainFunction():\n",
        "    # printing a global variable\n",
        "    global x\n",
        "    print(x)\n",
        "    # modifying a global variable\n",
        "    x = 'Vinay'\n",
        "    print(x)\n",
        "\n",
        "mainFunction()\n",
        "print(x)"
      ],
      "metadata": {
        "colab": {
          "base_uri": "https://localhost:8080/"
        },
        "id": "tgNmiUZ-uYrl",
        "outputId": "fbd74461-75f0-4398-d1ba-f3d2d81ef820"
      },
      "execution_count": null,
      "outputs": [
        {
          "output_type": "stream",
          "name": "stdout",
          "text": [
            "101\n",
            "Vinay\n",
            "Vinay\n"
          ]
        }
      ]
    },
    {
      "cell_type": "code",
      "source": [
        "#Delete a variable\n",
        "# Assigning a value to x\n",
        "x = 6\n",
        "print(x)\n",
        "# deleting a variable.\n",
        "del x\n",
        "print(x)"
      ],
      "metadata": {
        "collapsed": true,
        "colab": {
          "base_uri": "https://localhost:8080/",
          "height": 198
        },
        "id": "EPVhiCoCu4Qf",
        "outputId": "0b1c583e-a8a9-48c5-9446-ed595272409b"
      },
      "execution_count": null,
      "outputs": [
        {
          "output_type": "stream",
          "name": "stdout",
          "text": [
            "6\n"
          ]
        },
        {
          "output_type": "error",
          "ename": "NameError",
          "evalue": "name 'x' is not defined",
          "traceback": [
            "\u001b[0;31m---------------------------------------------------------------------------\u001b[0m",
            "\u001b[0;31mNameError\u001b[0m                                 Traceback (most recent call last)",
            "\u001b[0;32m<ipython-input-35-0f920690e5c2>\u001b[0m in \u001b[0;36m<cell line: 7>\u001b[0;34m()\u001b[0m\n\u001b[1;32m      5\u001b[0m \u001b[0;31m# deleting a variable.\u001b[0m\u001b[0;34m\u001b[0m\u001b[0;34m\u001b[0m\u001b[0m\n\u001b[1;32m      6\u001b[0m \u001b[0;32mdel\u001b[0m \u001b[0mx\u001b[0m\u001b[0;34m\u001b[0m\u001b[0;34m\u001b[0m\u001b[0m\n\u001b[0;32m----> 7\u001b[0;31m \u001b[0mprint\u001b[0m\u001b[0;34m(\u001b[0m\u001b[0mx\u001b[0m\u001b[0;34m)\u001b[0m\u001b[0;34m\u001b[0m\u001b[0;34m\u001b[0m\u001b[0m\n\u001b[0m",
            "\u001b[0;31mNameError\u001b[0m: name 'x' is not defined"
          ]
        }
      ]
    },
    {
      "cell_type": "markdown",
      "source": [
        "![image.png](data:image/png;base64,iVBORw0KGgoAAAANSUhEUgAAAfQAAAGICAIAAAA4VIVnAAAgAElEQVR4Ae29f1AUV773351vlWX0EcYyah6LIHmqBEJ2XFa+eNHI3gnRYW+p5bCIFbTUcdjiSUwIQ/4IUIuKlVr3RkzIruJ9xFrHZxMf+WeB+60bKll/EBSeLO4iYZIVbpU6kyzeIhWT8Wf5B1X2l54Pfjz2/KCnu2emu+dDTVGnu885ffrdn3n1Zz7n9DmcQH+kAClACpACplOAM90V0QWRAqQAKUAKCAR3MgJSgBQgBUyoAMHdhDeVLokUIAVIAYI72QApQAqQAiZUgOBuwptKl0QKkAKkAMGdbIAUIAVIARMqQHA34U2lSyIFTKNAd3f3888/z9Efx/3zP//z5cuX5d9Zgrt8rSgnKUAKJFSBzz//nOf5Ffbs+tPb6jtS+lPTXv7CqqUWi+XatWsy7wHBXaZQlI0UIAUSrUBZWVluUeYJX4PH30gfj79xYaaltrb24cOHcu4EwV2OSpSHFCAFkqBASUmJw118wkdkn1agrO7nNpuN4J4EW6RTkgKkgIYKENwlv1cI7hpaF1VFCpACcVTgh7Pno/ihBHeCexyNj6omBUiB+Cng3VF19+9XhAhBZII7wT1+tkc1kwKkQBwV8O6oGnJURHLeCe4E9zgaH1VNCpAC8VPAu6OqL8fq/31bWL4T3Anu8bM9qpkUIAXiqADAvS/HevPPZ0ODMwrg3uatq+/YJmGiaTapQzWOtkhVkwKkgIYKINwHCleHBt8VwL24YjnHc66W9R4ZAyiXvvhsZt5iA42jJ7hraHtUFSlACihR4MH4jcDgpdCPxD1HuPflWIccFZO3brMnUwD3F1Yt5ThuU62s0fH8UzzHcSeuG+YlKYI7ax6UJgVIgbgrcPfK6PjJj64eeG9ku2ugcHVfjjX6Z7CkdGS7y3/46OArv2BzSvhOcJcElAjucTdlOgEpQAo8GL8x0dn99Ru1cmjOEjx6emS7CztXVcK9pX/33PSnX92z1uEufua5dI7jnslIf/PYLz2+RjiE05Gt21UIwZmt+9YuDOackzZ7Tbn1yIgb8FpatXJO+ux3Tm+dm/70nLTZ8MugzVtXUJrD8dyctNn2XYU17eU8z0P9Hn/jVOh/6YvPwilWrMtu/mQXVCWe2vL0ptriNZutPM9l5i0+ePF1CcQjbRLc6XtHCpACcVQAmC5h9EDhanDGx09+BNEYSQRGEITJ23fgkP/w0bGGpr7c5ZJKYHOs/tfAd5Vwr+/YxvNi4OWZjHRHbfEKezaA+MiXIrK37lsLRzfVFu//xOXxN5bVFfP8E5kz8xYD3yHaMxXDmdrzTEa6GKm/3rD0JyK7c4syp+ZIyHxx8Zy02cGI0JoTvgY49Zy02et2FdpdhXzwAQB8x1bNSZudW5TJ8Rw+DyIxHfcT3ONo1lQ1KZCyCkzevuM/8m8DK19iifz1G7XjJz+6e2U0Vlm+6/r3SHDvy7GO1f968tbtl19+Oda5ZdiYO2IUaA4Tb3Ec987prYBLScx9rkX0yjEzeOWv7nnlhK8Rql1TbsXe15rjop8+BXoI2bd56xZmWhDuUBZPBA+SFeuykfscxx28INdhJ7jHal2UnxQgBWQpEMT6URbrI9tdE53dk7fvyCofkumHs+ejkB0eHkOOiuIVK9TDnZ1XEhiNzGXhDk8C8PEd7mKHu1h0q8W+2TUId9bFDrr5PBwF+JZWreR5yN8ANW+qXQNVQQQGWgInAt8fqS0zQZ57iCnRDlKAFFCqwERnN4v1sYamB/8YV1qZWO7u6BhbIfs7ALE+st01st21cvF/d8gb94JwDPXcY4I7hEpyizLhMxXJaQ5GbCRPhUcxnCfgXlb3c56HPdNwx3og8eaxco9PjMXzPC+2KvZROgR3NYZHZUkBUmBagQfjN0aCb5ACc9VjHcLuOEIGw/QTnd2BwUsPxm9IpNck5i4T7i39u/mnHodZ4GlR9f6GtpE6j386LIMuv8ffCGGZ0MqDvnwDhGjYwMsU0/f3iJF9grvkLtMmKUAKJFQB1mEf2e5S6a1D0ydv3xkq2/I4TB9hvjC8zsTA/ciX7jbvY4LjSBh4H4qNubNwb/PWzbU8DXGb+o5tayrEoS+PwjgN4MWvWJcN/bGhMXfy3PEuU4IUIAUSp8DVA+/15Ypj1QcKV497/qjViSdv34kpTK8A7o96QdeeYAMgj9ZykkRXIDOMVnzn9Nb9Pa6Fz4mdoviHjrmkIPj1+3tcc9NFvsMoGhgVA557m7cOimBVz2Skw5BH8ty1MieqhxQgBWJQYPL2HQzFDDkqNHHYYzj9k1kVwH1/j8tRV3wkGEuB8Y4QDEEcV+4VuQ+bbd66yn3iKPiqQxtwuoKa4+XQCwrjI8MWhJ1Tg+LbRsSpbOAUbIcqlnLUiX2zNe1itB12hrYK98+YoJj7kwZCW6QAKSBPAQibYIRdXqE45lIA9xn5qFUGcMDxFaT6jm3gxTf/x/TLSlqdiK2H4B5Ha6OqSQGzKsCS3f/7Nj1cpp7h7vE3QlAeAy8cx73EDIRnoaxVmuCuB7OkNpACRlKAJfvEn7p00nSdw93jb9zf46rcKwZ2KveuZeM/WtFcUg/BXSeWSc0gBYyhgD7JLgiC/uEugW+8NwnuxvhGUStJAZ0o8PUbtRBn14/PDsoQ3CVPC4K7Tr4y1AxSwAAK4KjHq795T2/NJbgT3PVmk9QeUsAYCkx0dsMcL2MNTTpsMcGd4K5Ds6QmkQJ6V+DulVGY40WyRIZ+2k1wJ7jrxxqpJaSAMRSYvH0H5ngZKFyd3DeVouhFcCe4RzEPOkQKkAJhFMBO1Jt/PhvmsD52EdwJ7vqwRGoFKWAQBTDUrpOXlSLJRnAnuEeyDdpPCpACUgUejN/AUHvoSnjS3EndJrgT3JNqgHRyUsBQCgyVbYHpHnUbakc5S0pK1mx+vLKdhHQpuPnC6qU7nTtxAXEUKmyCC7uXdpICpIApFfAfPgpjH/X2vlJYtU+ePMnzvKtlPTulYgoyHS556751PM+fO3curFahOwnuoZrQHlLAnArcvTIKZP/6jVqjXGFdXR0Pq2CwE3SlavqDDz6Q6bYLgkBwN4qRUztJAbUKYEBm8tZttXUlsLzP5+ulv95en88Xk+oE95jkosykgFEVwICMnsc+GlVcXbab4K7L20KNIgU0VSAweEnP0wxoeq1U2bQCBHcyBVLA5Argy6iDJaXGCsiY/MbE+fII7nEWmKonBZKtgDjvY4642nXgL4PJbgudP3EKENwTpzWdiRRIvAI3z5yDgMzVA7qb0TfxaqTUGQnuKXW76WJTS4HJ23fwZVQKyKTWvaehkKl2v+l6U0qBkR1VEJC5+/crKXXhdLE0zp1sgBQwrQI49nHc80fTXiRdWGQFKCwTWRs6QgoYVgEc+2igl1ENK7ZOG05w1+mNoWaRAooVwHkfTTD2sbu7+/nnn0/V6QaeuO78/PyhoSH5VkFwl68V5SQFDKDA5O07OM2A0UPtn3/+Oc/zK+zZ9ae31Xek+ueFVUstFsu1a9dkWiHBXaZQlE1jBaYmythHfyEKxDp/SOhdwU5UQ8z7GNp+dk9ZWVluUeYJX0PKzgQpufCFmZba2lqZc4cR3FlbonTiFOjt7eU4zla0hD6oAMdx58+fV3MPxhqaYHiMzpdYknmNsS7WUfX+hhWl2blFmSvs2VUtG9pG6iRwjOtmm7euoDSnqmXDCV9jnE5UVvdzm81GcJdpP5QtOQoA3AV/NX1QAZ5XBXck+1hDU3JuqtZnlQ/3Nm/d0heffSJEzXHPZKQ3f7IrTpwNrba+YxvP83H9qUFw19rEqL44KEBwR6ZjQg3czUd2QRDkw/2FVUs5jsvMW/zO6W0ef2NL/25gfWbe4oRFdQjuceAEVWlABQjuyHRMKIa7KckuH+5AVY7jDl58HR3qNm/d3PSnOY575/RW3Lm/x+WoK3a4i2vay9nVnbbuW7u/x9XSv7ty31qHu7i+Y/oJAZn3f+LCGiCnx99Y9f4Gh7u46tAGrCcU7lhh1aHHMaI2b11ZXTHWKdnEE4VNkOduQNSlXpMJ7sh0TCiA++TtO9iDappoDH4bZHrupVWFPM+tWJctcdJrjpevqXi8BGtxxXKOfxy5ycxbfGTE7fE3ApRXrMuekzYbD68pt7KZ3zz2S49vOufUr4HMvMWYU1IPhmV+9f4GeLpAzqnKIUa0v8fFP8U/k5F+5Evx7AWlORzPvbrnFTmReoI72gYl9KsAwR2ZjolY4f5g/AaMeuzLsZqP7PI9d4jJbKotjsLHKWeZ58W4zcGLr7d56wD0AGJ0/IHgkJPjpoEb3JyOpGPONeXWIyNuDPRvql1z4hH6oU7xd4Pl6Tlps+F3w6/e38Dz/Jy02QD04orlPM/l/lOmo7aY53nx8RAEfVhvnd1JcNcv0ahlqADBHZmOiZjgHhi8BJOC9eVY/YePorBmSsj03OXAfeFzlikPmu1fnWsRgzYHL7wOyH4mI/3EdXHMJWyKwXpmU/IYQBajG37iegMUhJxA83W7CvHHBDQSWI9PhakGiB79f8jt9SW4m8m8TXstBHdkOibkw12cNyY4RftA4WoTjGePZOUy4Q6RjSBJnxiDCCMjIfbCPyVGZIDX4AsjbVkoI9yB0ZJNCfehHqyZraes7udh1/VGjgP9OY5jHwCskx42TXCPZCq0X0cKENyR6ZiQA/cH4zcwyD5YUmr0d1CjW6RMuFcFgx6i6/3k607grYOzDAhGj3sKnTCc5p3TW1koS2gu2YScc9Jm40OizVsXBe4vlVvfYd6tnRrDA8iGoA247eLvCfLco9sBHTWWAjHB3e2yOjdnB7xO5KDgr/YcsjnsWZKdbIYEpANeZ7O7QKs2zAj38ZMfDRSuBp/96zdqDTpFe+DSXyc6u+W8iSMT7jgwZk25tPsUQSzptxTDKcEguCScIqG5ZBPgzo7AmRo8I06QEOzLZR8SbLgGgP6r9zcsfM4C43mgMSvWiW9aQcwdnxZhHXbcSZ67sSiXiNYGAoHW1laHw2HTzV9+fj7HcXL429uxEcYbNLsL2Py2oiUcx/V2bGR3Jjjd7C4QPa8nG6a4DVHgHhi8hH2nA4Wrx09+lAi7ids5/u8/rRlraJrx4SQT7h5/Y83xcgiDPJORnluUOfX6EtgM9JF6/I1TIx1h7MqacqvdVTgnXRwY42pZj2NgwsZhwsJ9TtrsOWmz7bsK7S5xlA6ynoW7x98IYZ/cokyHu3jNZivPiy9VHfnSje4//Ix4YfVSjueCXbIzz7JAcI+bSRqzYo/HY7GIvUk6/JPDQYS7BOV6gHsCPPcH4zdwGHtfjnVku+vBP8aNaYmPW/2fjXv6cpcPlpSKy7o+fPj4wJMp+XAHCheUPh7OuGJddjMzPh34XlCaDQMcM/MWv3lseqh7S//uuelP2x91fobZtEwfRXxPzW0AMR9pPZanMYYOA9gXPic+ZuakzV5TbgW3HZ5D+NQRT8eUQic9bILg/qSBpPbW8PAwMN1isTidzpCJqpK2w+l0xuq5cxyXlTEPYyAs3EMh29Vu72q3w8MD0gGv03PI1uwu8ByyCf7qgNfZundVs7sAs0FmzNa6d5WvvxIfP3iKrnZ7s7tguKccKpGEZSIVx3qiJCSeuwTrgyWlN/981hzmfHd0DFZ2FQdx1v86kgsfE9zD0lDbnQh3SXBf27NEqY3gbg771+YqbDYbx3EWi2V4eFibGjWqRX7MHTz3/LwFWRnzOI5zbs4GPrJwDw2PwO/lhz5x7hqe5/LzFuTnLcDfLg57liVtFm66XVaoc7in/PngWfAQPAkEfzWcAk4KR69frJSc13PIxlYrDs8IPkiiAJ09hHC/eebc12/UQmy9L8c6ULjaf/jo5O07Gmmvi2ourf2XJy7w922hiCe4S0BPcNeF7eqhET6fDzDk8Xj00B62DbHC3Va0BOMz4GvHBHeO44DgWAn00OImPAZeDsbxW/euEvzVwz3l84MPgPPBsD5wnOM4zyFbV7sd8rBwD3id89PFBwYAvbdjI2xev/jY/WdRHprmee6jXb8aLCl9gnqmwzqYwTdH/g2dd7jewZLSiT91sc8wvcEdQigYwJGQNwGbBHeWISmdBoCK0Q/9/SmAu+Cvdrus4g+RtFk/ep2xwv36oxgLOPU/jkyPvUEf39dfCT4+gB69degvBY477FkPmZksWbh7Dtn44A8LzNDbsdFhz/rxyUE+oUzHPTzPffjc/3hMus5ulnT6u4eqWvTgxn9J4A4XLv5MeeTF6w3uCcB39FMQ3FXZnJkKmw/ugr8aoiswBzp2sbKQBVYisiEsw3EcIps9xB7t7djITD2CgRku1ElHHLPnZdOYIaYEC3d03lM2MVb/61XZ2Y6okwpER6H5jhLczcRnVddiSrgP95SzCIahkKFgZQnOplmaSx4DAPf8vAW9HRvxAx2nEi8ekc2eF9IYvofATujwfCwbmiC4s0+yke2uVcuWEdzZRxTBXRUQzVTYlHBHzoJrzcLdVrQEiDk1DAaOYoeqHM9d8FdLouTQvwohfpbjyGV2p/jU4cWQ0eVPpgfS/OxFsQv3/Gm5I/EB7kOOivGTHwUGL5n7M9HZHSksM9bQBMM9KSzDkt3jbyS4m4nPqq7FrHAX/NU/ezT0BeCO7jyMirGkzYJRK7HCHWA9NSyn2V3gdlmhEoA1y/GwcGe7BGxFS6Bsft4CDAdhqUgJ1nMHxJs45n7jf38sgTsbbQe7VwB3mJPrmYx0dm53j7+xtEp8cUmyU4LOWDeX/uRZnF8s1rLK8hPcVQHRTIXNAXdff6UlbRYb7oCIR1bGPOhZBVZC76WtaInbZYUx6VjkZ8FxkNjPGX3Tc8iGgyYd9ix8A7ar3c5zXOejsfNwUnEnz3Uemx5Qj5Mi2IqWOOxZOIwyEs0l+3meO1m+BScYgBiF6MaO3zCTWcK1sEMh+3KsV3/zr5oMhYSh6Bwnnd4dpwlTRtWwpXBWmbBH47GT4G6+L4LCKzIH3CUENPEmO86dfSu1L8f69Ru1gcFLCu1Af8XYl5im37kN956qAs8d4R6ckH0tzvBOcNefFVCLVChAcDfWkwDhDvd88vYd/+GjrCNvGi/+2m8P9uUuHyhcffPPZ6PMIKYS7lOTwGAchoX7/h7X1CY7t3tp1Uq7a3ru9dKqlQ63uAxecYU1tyhzzWZxXY76jm0Fpdm5RZl2V+GRkTrwynGmydKqwtyizBX2bJzSADLUHC+HUms2i9NDoi//q/c3rCjNPjLiLijNCS2F2UIT5LmrwKG5ihLcDQ13NMaJzm72zSYTvK16ae2/yJnVUjHcc4syc4syYclsmCqAhTustcSu3MQGWGANvDlps3ECMpiGbGq9JEjgFGNQamo6MJitDPrwXS3r4edCadVKnhdnlcktyoQF/PAQNAZX9cN1QkJpLtlDcMcvRaonCO7mgDvYMevFT0+5ZUwDD1z66/jJj6I47HhZauB+8OLrMA0kQDwmuOOEkS39u4HgsMYpbsIMvXAI127FtfROXG+AnLhQKs5JefCCuIQ3NCb3nzKPjLin3nrFed4lKA/dJLijbaR6guBuJrgLgjB5+85Y4x4cDH71wHsmHk4jfw1VFoLs3F6wiMeUQ938ya4XVomOPCzcMaPnznEcLuvBOvVTU0uym5CGOqENCzPF6VffOb21cq84zzu7WAeuDYJwR0eebX/0NME91ZmO109wNxnc4c4GBi8NvvILQPyQo8LEizGp8dwhGgPLYkzFPTLzFscEd1w9g6V5WLhjTqT2O6e3TkXtQ5fZwwGa0z8j/s9Wj++JdQGjk53GuSPZKCEQ3E0Jd3Dhrx54D/hu4mVU1cMdF2mCgHhYz51dKk+C7+ibkTz35v/YBZ47zu0O1MbwC8Gd6KxWAYK7WeEOlnHzzLmBlS/hcHi15qK/8urhzi7ShJ47rI0nBsRH3G3euuKK5bCCBxtJR398Rs9dEnOH3lGIuc9Jm43hneKK5VPTYMByqQR3/dma0VpEcDc33AVBeDB+A5ffG9nuCn0PyGg2+0R7NYG7x98IwRmEO6y1BL48x3E4KkYZ3GEUDQzO4TgOl1hiR8tIhtkQ3J+4zbShQAGCu+nhLullHXJUmInvCuDe5q0rKM2patnAhrOD7rl1hT0bV1Bq89ZV7lvrcBfXtIuL7dUcL4dEcKKCx2Peo2/C6PgjI3U4zp0dzA4r/8Fg+RV2cS1sfKMKx7nPGGSXZKAOVQUYNGcRgnsqwB1s13/4KEzVYia+l5SUrNlsRSJLSJeCmy+sXrrTuVPOKFJBEPS4jIM5QZuMqyK4pw7cBUHAeRZNw/eTJ0/yPP/qnrWsG56CTIdL3rpvHc/z586dk8kSgrtMoQyZTf9whzU36D+uPXL+/Hk1pmY+vtfV1YWOKcRweaol/vCHP8g3D4K7fK2Ml1PPcPf5fPvoL0SBKVlU2pn5+O7z+Xrpr7c3VtsguKv8Kum6uJ7hrmvhDN445PtYQ5PBL4War1wBgrty7fRfkuCu/3sUpxbiK05XD7wXp1NQtTpXgOCu8xukqnkEd1XyGbwwzgg/8acug18KNV+JAgR3JaoZpQzB3Sh3Kh7tnLx9B95vGihcbeL5Z+IhnTnqJLib4z6GvwqCe3hdUmbvg/EbMD/BYEmpmV5uSpkbqOpCCe6q5NN5YYK7zm9QApoXGLwELzeNbHcJ4ZayS0Ab6BRJUYDgnhTZE3RSgnuChNb3acZPfgR89/++Td8tpdZpqQDBXUs19VYXwV1vdyRZ7fn6jVqYPDLwl8FktYHOm2AFCO4JFjyhpyO4J1RuHZ9s8vYdWN9joHA1Bd91fKO0bBrBXUs19VYXwV1vdySJ7bl7ZdSIwffu7u7nn38+1aYZCHu9WVlZQ0ND8k2I4C5fK+PlJLgb757Fs8WGC75//vnnPM+vsGfXn95W35Hqn4LSHMt8y7Vr12TaCMFdplCGzEZwN+Rti2ejMfh+889n43kebeouKyvLLcqkKX9xIsyFmZba2lqa8lcb8zJ0LQR3Q9++eDSeDb4/+Md4PE6hYZ0KFutADpoyQYt1aGhdxq6K4G7s+xef1t+9MgpvNul/2neCu+QRRXCPz3fCgLUS3A140xLRZKNMG0lwJ7gn4vtgxHMQ3I141xLTZnHayFxrX45Vz282EdwJ7on5OhjvLAR3492zBLZ4ZIcL3mzS7bSRBHeCewK/EIY6FcHdULcr0Y3FaSP7cqz6HDxDcCe4J/pbYZTzEdyNcqeS1c7J23egc1Wf0wIT3Anuyfpq6P28BHe93yEdtA8Hz+iQ7wR3grsOviK6bALBXZe3RXeNYvmuq5nFNId76Guu+3tcHn9jm7eurK74yEidBKaxbtZ3bIu1SEz5aSik7r48yWoQwT1ZyhvuvMj3vhyrfvpXtYV7ccVyjg8za8uJ6w1ldcU8z22qLT7ha4yJtmzmrfvW8jz/6p5X1FTCVhiaJrgb7psVrwYT3OOlrBnrZfl+9Te6WFZbW7i/sGopx3G5RZkOdzF+KveuPeFr1ATuZXU/53l+U+2a+M2XQHA34zdP0TUR3BXJlrqF2PEzI9tdSZ8cOB5wD+ueh4X7/h5Xfce2lv7doR40HKrv2NbmnY7ktHnriiuW8zz3Urm1+RMx1BOPD8E9db+ckisnuEsEoc0ZFZi8fWescQ+Mfx8oXK35EMkHN/5L/mp/yYL7/h7XwucsGMHJLco8MuIGWEsOcRwXdNUbgexY5OCF1wnuMxobZVCuAMFduXapXXL85EcwRLIvxzqy3aXhFGPeHVVfv1E70dn9YPzGjJSPB9yfyUjPLcrEz8GLIoVZz72lf/fc9KeB2vUd2wpKszmey8xbfOJ6wxSvl/7kWTxUdWgDz4tR/IMXXifPPbW/MQm/eoJ7wiU3zwnvXhkd2VEFLnxfjnWsoUkTxOO0lH051iFHxVhD00Rn990ro2FBHw+4o3MNieZPdkngXlq1kue5dbsKMXQOQH/z2C89vsbSqpUO93S/61RMZumLIuvfOb01WAnF3M1j/3q/Ej3D3efz7aO/EAWmZNGVVU10dqMLD4i/+/crKlt4d3SMrROfH4MlpSPbXVcPvOc/fNR/+Ghg8FJxQQGSVH2UAzpUZ4y5QzbgNZw06NdDT6kYSa96f4PdVZiZtxifEwR3lSZBxWNWQM9wh7bZipbQBxXgOO78+fMx3+Y4F5i8fcd/5OjAytVI4SFHxfjJj8S4itK/77r+Hdb8wzpDEwOFq1cuftahbngi+0jQBO7gxecWZVbuWbu/x8U+CWi0jFJzoHKxK6B/uAv+avqgAjyvR7iD3QUR/2+DJaUshYccFeBix26bwrXfHozCd3hd9uWXX0685x4lLFPfsY3neYy/T739tDBT7Hclz12BAVARVQoQ3JGbhkjoGe5oiDfPnBtraGIRD2kIoPsPH7155lxg8FKk/tK7o2OBwUsTnd3+w0fDBmf6cqyDJaVi8Ofhw3jE3GcMy0TpUN3f4+Kf4uekzXa1rK9pL18R7GvlOA5eXIKXmFasy34nuOIr+6NBqzQNhUQ7TPUEwd0QTMdGGgLu+KUCykt8+VDox7qHXR9KW7jDG6qulvWekNdQJS+XSsY7skMhwa+HaPu6XYU17eU8z0Pvq/hUsIjDbDiOW7EuG/tjtSI79NnabDZaQxWNMHUTBHfkpiESxoI7fq8ejN+4eeac//DRr9+oHXJUyKT5yHaX+AsgdzmbnyW7IAjawr3NWxdl7pfQQ5FeYmrp382+3DT1JGBfZYLpazQEOlsVee5odameILgbgunYSIPCPezXLDB4KexHEq658MJPEe4Dhasl78RqC3eWkgZNE9zDGlsq7iS4IzcNkTAT3GV+3xDu0xMOP3zIFiS4Sx5CBHfWPFI6TXA3BNOxkakMd+hBlXxdCe4Ed4lJ0Oa0AgR35KYhEikL94k/dYXtJCS4pxDcv7r2Tc8Xfzt4qrOp/ZSj4QB+Fj6c3+8AACAASURBVK3fsWj9Dtx0NBxoaj918FRnzxd/++raNykLe4K7IZiOjUw1uE/evtOXu3ys/tdhya55h6oElEbcNFVY5ta9+z1f/A1QDgRX9r+kpqmp/VTPF3+7de9+6rDeiHAPeJ29HRvZD7IPE8M95QGvEzejJCQ5ff2Vvv7KKPmTeyjV4B649NfBV34h6URlv57kuUueQGaA+7cT3x/r/rSkpkkZyqOXKqlpOtb96bcT37NmZMq0EeGelTEPRgrjf0varGZ3AWJ3uKec5ziHPQv3REqE5pyfPsuSNuuhT6evxaYa3OGFprBThsH3keBuHrjfunf/9JkLcWJ6KPFLappOn7lgYl9ePdx9Pl9vb2/I9FYa7HA6nRzHhXIZmO7cnN3sLmh2F+TnLYA9yPeA1+mwZ3kO2ULLSvb0dmzkOM5WtAT3u11Wt8uKm3pLpBrcZ/SoCO5mgPu3E9+/1Xp82ZbXQhEc7z3Ltrz2VutxUzryauAeCASAv+hBxyMRilc4S2/HRjzUuncVx3GWtFkYipEEWwR/ta+/srdj43BPOZYS/NVQMD9vAdYWGpbBKBBbUPBXY5HhnvLejo14aswG+0MPQUFoD2TGqmAz4HVK2ol1EtwluCe4GxvugPV4E1xO/eZDvGK4BwKB/Px8pLktDn9QP3INE6FwF/zVU5EZjuO62u2Cv1oSbBnuKbcVLcGmZmXMA3R6DtlwJ8dx4OlLwjJulxXzWNJm4a8BeCo0uwswRmRJmwVnhwY8/2TsCH9VQEG3ywoNhoDS1Ckwg+Cv3lWRzXHc5U+eeA7B5RPcCe4Smks2DRNz1w/WWfSbCfGK4b5v3z6g3r59+wKBgOQrp8kmtA2Zjgk4r8TbBXwDIiXBFuCsc3P21P6pSA74+D8Gu1tDPffgsjkcxNyB7Pl5C7ra7Z5DNsBxZ/D5AfUAlHs7Nk7FiDiOy8qYBwV/9qIYKWp2F/R2bPQcsokr8XDc9YtiPy0WdG7OdrusED7imbKCv3p+uvig+nEkTIcwwV1iWiUlJWs2W+MxSYsEmkbZfGH10p3OnZEGF0nU4yTbCds8eKozKUEYluNR0gdPdZogFq8Y7haLOJGp0+mMnz1oAveudrskqt66d5Ulbdb14JAYyWNA8Fcj3ANeJ6QRsl3tdp7j8vMWPPRNM9phz3oYnJEYM+NTAT3xgNcJrD9/WowjAdyhEnxcPf+c2EUMrrr4MOA55+bssJ26BHeJvZ08eZLn+Vf3rA2d6ssoONawnTBf/Llz5yQqRdpMAtwHvKMFrrejgFUnhwpcbw94RyMJZ4j9yuDu8/mCzig31ZUav8uMCe7QrRrquQNMEbXIU0hEgXvoIRb9odXiUwFq9hyyuV1W7OwVF9lg4C5pD9Tmdlkf+qvLSrMws6S10AAdLtYRPxuQU3NdXR2sUwo2meL///CHP8gRDfIkFO637t1vaj+lE3bLbMZbrceN68Irg7uyUvJtDnLKh7uvv3L6YRPsZWW5HErhgNeJoXM2J5AUGR16SD7cwVW3FS1p3bsKI/5R4O7rr+R5Marz44j4cwHDOwR3mTYDQ7Z6U/4v1gBp4uD+1bVvDOGwh0K/wPW2QV9zVYZpZaVkflExm3y4O+yit5uVMQ9oyHIZwjIiNx+90wSZIWTP5pTAHSMtUcIyrAPOPhUwegN1QtQlCtyFRw47RPk/2LsqFOvYPPLc0UIooVKBBMH9WPenodA01p5j3Z+q1DrxxZVhWlmpWK8uOtzz8xbAyqLQz4lDZWCQIhtnh77WqQhJs7sA0pa0WcB6GFeTlTGvt2MjjHVBRgv+6hk7VMPCXayTF8dleg7Zutrt8CzhOK41iOzQXxJAbTGgDx2vj7pew/KdYu6xWhHlj6JA3OF+6979t1qPG4vjkVpruBCNMkwrKxXFyMIeigR3xCVGVx32LHbwjGQoZMDrdG7OxqGHzs3Z7AQDP3v0DhS8mBrTUEjgNVCYLcgOoHS7rABueDcKxuewBRHi4OCLnbSR348luIc1FdqpTIH4wv3WvfsJe900EpG13V9S02SgELwyTCsrFav9RYI70jBKIvQlpiiZYZoaeAtJwUtMULOkILyjhE8Rtj3sc4htFcC985g4VD/Sh+AeqxVR/igKxBHuxg2yR38eLNvymlFC8MowraxUFCMLe0gN3CPBUYf74TEA4ZooXanQcoJ7WFOhncoUiBfcv7r2jZ6HsUfH94xHjcJ3ZZhWVipW+0sRuMPYR3i1CjpdozyBCO6xWhHlj6JAXOBubrID+g3Bd2WYVlYqipGFPZQicIce4NApaMIinuAe1lRopzIFtId7KpDdKHxXhmllpWK1v9SBe1iOh91JcI/Viih/FAU0hnvqkN0QfFeGaWWlohhZ2EME91C+E9zDmgrtVKaAlnBPNbLrn+/KMK2sVKz2R3AnuMdqM5Q/JgU0g7v5Rj0Cu+X8L3C9rc/xkcowraxUTGYnCALBneAeq81Q/pgU0AzuJhvPLofpbB59jn9XhmllpWIyO4J7KNlp4rBYTYjyR1dAG7ib5h1Ultexpt9qPR5d68QfVYZpZaVivTo4S1jGpexOirnHakWUP4oCGsD99JkLsXLQrPn1Nv+MMkwrKxXFyMIeIriHPsMI7mFNhXYqU0At3L+69o1ZSa3sunT18qoyTCsrFav9wVmmXt2kDyrAcxzNChmrIVH+SAqogvute/cNOouvMnDLKaWrzlVlmFZWKpKFRdo/PDwch5VZDV/l5cuXIylG+0mBmBRQBXcKtYfF/c53fxfTPYhfZmWYVlYqfldBNZMCpIACBZTDveeLv4VFG+1ctH5Hzxd/U3AzNC+iDNPKSmneeKqQFCAF1CigEO637t038bxg6p9Py7a8poeR78owrayUGiuksqQAKaC5AgrhTgGZGR8AegjOKMO0slKamyZVSAqQAmoUUAL3Ae/ojGijDIvW7xjwjqq5N+rLKsO0slLqW0s1kAKkgIYKKIF7ir+MKv+5VeB6W8NbpaAqZZhWVkpB86gIKUAKxE+BmOFugqWu5dNZfc6Dpzrjd/NmrFkZppWVmrExlIEUIAUSqUBscKd+1Fhxn9yeVY/HA8tMx2RSBPeY5KLMpIA+FYgN7gdPdcZKN8qfrDlnAoFAVlYWx3EOhyMm4yO4xyQXZSYF9KlADHD/duJ7Gv6o7Fn1/316pjexf62trUB2juN6e3tjMj6Ce0xyUWZSQJ8KxAB3Gv6ojOyL1u9I++lLEB5J/H+PxxOr5RHcY1WM8pMCOlRALty/nfheMdqo4KL1O/6fp/9bIslusVicTufw8LACmyO4KxCNipACelNALtwp2q7yEZWsyLsCgyO4KxCNipACelNAFtxpkIxKskNxPUxIIMf+CO5yVKI8pIDOFZAFdxrbrgnckzvmXb4hEtzla0U5SQHdKiAL7jRpuyZwT/oLqzKtkOAuUyjKRgroWYGZ4U5T+2pCdqjk9JkLerYGaBvBXf/3iFpICsyowMxw3/nu7zSkW4pX5Wg4MOMtSXoGgnvSbwE1gBRQr8AMcKcRkJo/jb6d+F79bYtrDQT3uMpLlZMCiVFgBrhTV6rmcNd/tyrBPTHfPToLKRBXBWaAO83uqznc9d+tSnCP61eOKicFEqNANLhTTEZzskOFX137JjF3V9lZCO7KdKNSpICuFIgGd4rJxAnuTe2ndGUEksYQ3CWC0CYpYEQFosGdYjJxgrvOIzMEdyN+k6nNpIBEgYhwp5hMnMgO1ep5zIyyJT4khkWbpAApkFwFIsL99JkLcaVbild+rPvT5N74SGfHJT5sNlukPLSfFCAF9K9ARLjTu0txffz87NX/uU9/f26322KxwNTEsS7xoX9bpxaSAimlQES406JLcYX7ovU7Ejm9e6znUrDER6xfm0AgkNjFqYxxtkAgEKuSlJ8UCKtAeLh/de2beKON6l/5yi9s+vtzOp0+ny+srWi7E7ttY33wmDv/+fPntdWZaktZBcLDnQZBJuDZo/9XVeP6rQC4C/5q+qACPM8R3ONqdSlVeXi4ax5wdzQcaDnVJfnUtLYrmEy4pKZJUqqkpmnAO1rT2p4AImt4CkNMIha/LwPBHZmOCYJ7/OwtBWsOD3dtA+7Rh3Uf6/5MPjF3vvuhIAi37t1n+T7gHYU7J78eneRMQYPDSya4I9MxQXBH86CEegXCwF3zEe7oot66d3/AOwofds25pvaPZdK25VQXXLOj4QAWMS7cdT4PgXrzilIDwR2ZjgmCexSDoUOxKhAG7pqvzoFwH/COIpEXrd+BpJbff4tFzAF3Q6zdEatJycxPcEemY4LgLtN4KJscBcLA/eCpThbB6tOR4L5o/Q5s4qL1OyKFzo91f9Zx9uKi9Tt2vvshOukdZy+2nOqC8BHuXLR+R01re88XQwPe0Y6zF0OnT1i25bWm9o/hp0PPF0OhYfqOsxc7zl5ctuW1Atfbx7o/g5zyf1jEqlUq96kS3JHpmCC4IxAooV6BMHCPR28qNFTiuS/b8hpewKL1O4DRt+7dZxGJDwZMYBFBEIDOCPeOsxfZo4IgsA5+TWs7GwuCnF9d+wafAXiKpvaPJTklLWdbqCaNZ5Q0OxU2Ce7IdEwQ3FPB8hN2jWHgjrBTgy22LCKMRWRJTRNGnHu+GGKjNDvf/RCLA6+B+BLPvan9Y4nnfuve/ZZTXY6GA0h5DPgUuN4GXt+6d7+mtR1G74DKmAfbKQjCgHd057sf7nz3Q6Q82ypsnspE9K7mhBlBUk5EcEemY4LgnhRTNOtJw8BdJbBCi7PQDKsjPE6QdBCEWbR+x7ItrwFbcU/0mDsbZkEoQ3sQ96wvj7VBQWznt999j1fR1P4xtLnlVBfu1DARVpBU2ElwR6ZjguCeCpafsGuUwh3dWA35hdAMvaoB7yj7Q6HniyEY6Qhnr2lthyKYB3HMMhrDMuwITtwJVX37nbhyKUvtRet3SB4n2E52dCbuDAv3Atfb7OB99ukiU0BsZ6g45t5DcEemY4Lgbm6bT/DVSeHORk5k4mnGbMjHr65942g4gB+WxVAJDGPHYDqwnn3eRIc72xKEJuwEWUOvjt2P7WQ5HnYnngjPgreNfepgtiiJ0BqwKnMnCO7IdEwQ3M1t8wm+Oinc4zHxAPIxlK2h1AMXu+eLIexuZQer6A3u0A2Ag/dhpE3oRUXZk7IDZnQLd19/pa+/EoGbyATBPcH4M/fppHDXfBzkovU7YoI74hsTrIOPO1kHGZ1flqGSnbjJ1oY/FMBVx3bK99zZMypLE9wV0LO3Y6MlbZZkBjGHPUsTKM9Pn2VJm/XQl4RJbwju5qZtgq9OCve3Wo8rg1SUUghNOZ47xsFBCOxKhfoR7uzYFQQ32wbJTgzfY4XLtryGw3VgMgNsZyLhvvPd3yX4luvkdGo892Z3AcdxlrRZtqIl8AHQZ2XMe6h6JjKeFysjuOvETqgZihWQwp31iFlWqkkjNOXAfdH6HRBqh0tiIQ7vMcF+mMkAJpmRcByaGroT93z73fcD3lEcToMox3biHvZnB7tTjRqSsnhSxbfQoAXVw91WtAS9/uGe8iCTud6OjbhTWYLgblCLomZLFEgE3HFEo0w+YrREMrhFQm2cQQyGObL9rovW7zjW/ZkgCJKdLae6kOkweIZ9eOBY+Bl3SgCtZnN+UakkvJBSm8r4C547C3fBXw1QvtxTDnUGvE7n5myI3mRlzGt2F7Dn6mq35+ctAKkd9qzhR6WwHvTcW/eumioOPxScm7MDXifW0+wugEMcx7Gn8PVXzk+f1bp3FWbIypjX1W7HgpESFJaR4Ik21SgghTsOOlQDrNCyBa635deMcI/0MCipaYIhN3giR8MBNpgO+8PuBGfc0XAgbHvCtjPsTjy1ygTBPRLpouwHuOfnLejt2Agfhz2L4zjn5mwoFfA6gd22oiVIWDzqOWQDWLtdVufmbEgj31nPHU4E4IZT5Oct+DHI9yl2I9PdLis8Rc6fFn839HZshErYgpa0WT+OPH4whL06grsallFZiQJSuKtElSbFMX7CzuurSc06rGSh/VVjrP+mdStbW1s5jgvLuBl3AnMlP3GyMuZhTAbI67BnIeufD3rf4NfPTxc7Y9HHx8wQr2fhDp2rCOWy4COkde8qwV8NQMdDbpd1qj3w+wDhjkeff070/QH9Ua6O4C7BE22qUUBHcIcJv7CTE3s+dUhkbZuk5v4Zt6z6mDvrubfuXQW+M/B9ymHnOI6NhCB8ezs2chyXn7cAu14DXicLdEyLjH4Ub5l6nDS7C6BajPAEvM6p2nC/BO62oiUY23l5ldgegrtxzdWILdcR3Nlo+IB3NDTMoi1S9VObEe1GfZvVw10Scwd8g7cOFEZHXvBXg7Pf7C4AuEvKItDZmDvAnR2TYytaggF6zyEbPE4g8gPhHdZzJ7irNxKqQY0COoI7RsNTIRrDPlrU3D/jltUc7oBXoDakIX4CYRCImHsO2Xz9lXxwGCW61TDSRhxGGRzbjqAXc/JiTynmFPzVnkM26FOdju18Mt1/i78MMOZOcDeucZqj5fqCO4u81Embw5JivQr1cIfuSjZgwnGc55AN8ArdpOC8Q1Rd7NIM9oWCXw9DX3z9ldD1isEWhLvgr345GN6BQzD8huM4eGZANoi0dLXb5wdfqnJuzn74qEOV4B6rSVB+bRUguO9I+lNE2ztqlNrUwB2Gu0g6VDmOc7us2F0pyWNJm4XjYXAsDdaAA2nYsIzgrx7uKYeeWMwpIjv4nhS46rDfkiYOfJwO5fumR8sQ3I1iimZtJ8Gd4J4c21YDd8AujoOEBGIdE77+yinmNrsLMJaChwR/dVe7Hbx+hD4c7Wq3sz2xUXJCb2rr3lUQqGELtu5dxVY73FPOxojYZrBpGi2THFs06VkJ7gT35Ji2SrizTDRNmuCeHFs06VljgHuB622crRcTyY1phG0Sts3RcMAQfbMmNa0ZLovgHvpMIrjPYDR0OBYF5MI9yhQokgU3ZOIeZvJSM5gdZwuIcr0w+YzMJiUrW5T2m/gQwZ3gbmLz1sOlyYU7TscYttG37t0P+zZ/FFzia6hR8kQ/RHAPey+MspPgTnA3iq0atJ0xw52d78XRcABncLx1735Mrx2phzusk4dBGFwltePsRdxJYRnd2iXBneCuW+M0R8OkcI805S967izcwbNGTLNLJgF5a1rbYYnRpvaPWde+pKYJpxkIncOrpKapqf1jKFjT2i4T0JFauGzLay2nutizQ7N3vvshLnm6890Pm9o/hodTSU0TnJqdG5L9DVHgehuvK6xcbIad734Y/ZmHC06Zw57kXwXBneAu31oopwIFNIA7TuLITtcOM+5KGgQZSmqaJPsFQQCCL9vyGj4q2DyhTxSWtpCOBHf4bSGZPRiXBAHow8wHTe0fo/sPZ//q2jcSNONZsHlfXfuGfXLgqiCY4da9+/gUCW12lM4MrMGUCYI7wd2Uhq2fi9IA7uh73rp3X8LZAe8oeMGwMqogCOAg93wxhDPJDHhHsVsVyd5x9mLLqa5j3Z9hNhagoYhctH4HYlfyJEBeszXgswfYDfcDzgWnxpawM8LjKb797vuWU11Y87fffQ/1IKkhNFTT2o7tj/T7A4voxyYS0xKCO8E9MZaWsmeRwr2p/VRM6ITMKB9sAhkR2YvW70BvveeLITaPIAjs6aAe1s9tav8YdkpiPmwpSCN5JXDHUx/r/gxL4TLcsAfbz54auxNgJy45wuJe0jxsA/r7JTVNt+7djzJo56ebd+3T019vby+qEdcEwB1eI6L/oADPcefPn4+r7FR56igghXukBbIRWxJ0SuAImxC2RsAt2/IaBiswdIOuMQIXVtFjIV7gehtd7LDnZctGaSHE9zEyg3EkjKrD/WapzT6Q4CmFpdgHwKL1O6AsXBde5rfffS/pZmCbyqbnZv8UX23XSSIrKysBiB8eHrbRX4gCly9fTh360JXGVQEp3I91f8qiB9NR0InxawzLLFq/A4B+rPsz7DhlIbho/Y6wcIduWIh9YyQHCqqBOzIX+j8hnIKslwAaL1myHxX46to3A95R/EDgBR9aGKuBZt+6d7/j7MVIMZlF63e8aN8U8gVP2o78/Hx8wCSA73G1bKqcFEhxBaRwR0ixjIsS0V60fgeiE8uyseZvv/u+4+zF0Dxh4Y5+Oix/eqz7M0SqGrhjRAV8cMAxG6UBI8D247Wz+7ElErgPeEd7vhhiA/olNU3Huj9jH05R3gNAHXRiiL29vRaLRVxALitLJ02iZpACpIACBaRw/3bie0Qbm0C0hUIWfXOIqGD/6lfXvmE9VmgcAhShhmfBuEfH2YsY0sH+xtDzYkFIRGnhovU7wKGGgSvQktC2RQ/L4PMJgznYAKwKhl1i4wtcb6Mjj50NWAoSqIOCmxenIhAN5ziOnPc4KUzVkgIJUEAKd0kPJ5IoLDpLapqw1xFfYgqLYyRjFLjjKdjB4whHlXDHblVJFAUuEIVm4+l4aUBzdP/xEqAsXBo0Dy5BkgEql+xEYfHUukpAfGaqo1dXraLGkAKkgHwFwsCdjTAgg5C8Yatmww7ouYOb7Gg4wAZbBEEAxxap3fPF0LHuz451f4ae+1fXvtn57oc73/0Q8QpRGmxM2AS2MNJjAH9hCILAQhxj63BpcoZC9nwx5Gg4wLYQHgD4DIMM7Bu8kjPCJWB3RVhVk7jTZrNNrV5NcE/iLaBTkwIqFQgD953v/i6UnuiPh55PEnFmo/CQ+da9+y2nunDUIDw8JBVCZywSHwp++933CFC2tza0eexJw2KUzYA/MrAeON2x7s/Yx4kgCKFLueIjBHWQvKMkeZJhzXguNiERAetMeoLgnvRbQA0gBVQqEAbukUZDhp1fl0UVmy5wvQ1TCNS0tmMMuqa1nSVvgettnJwAw9ahb/8v2/JaU/vHbKyGPRGbbmr/mB1JyR6CBVpBLHYAPuSB/eDyhzZAUg8MBMIpCvDqMBs7/UD06RMOnupUef/iVJzgHidhqVpSIGEKhIF7zxd/Q06ZKYE/C0LjTiB3pHhO/EQ4feZCwu50TCciuMckF2UmBXSoQBi4RxowEz/GxbVm+AGB0ZKwHZtwYxIPd7YbQFfGQXDX1e2gxpACChQIA3ecxiuuzE1Y5awobMcv2wAYQhMlpMNm1iqNPc9sC3WSJrjr5EZQM0gBxQqEh3vYPlWtoJbgejCGzkb/JW1gp/yVHIrfpm57UwVBILgr/kZRQVJAJwqEh3ukSQjiR7oUrFm3vakEd518OakZpIAaBcLDXfKuZgqSNwGXrMN3U9GSyHNHKShBChhUgfBwx1eNEsC4lD2Fni2G4K7nu0NtIwXkKBAR7mYKu+vw+bHz3d/JuT3JykNwT5bydF5SQCsFIsL99JkLOmSiaZp0rPtTrW5hPOohuMdDVaqTFEikAhHhbrLR7np7Knw78X0ib3Os5yK4x6oY5ScF9KZARLgLghD6JqfeEGnQ9uAUlXqzBmwPwR2loAQpYFAFosGdBkTG6eHR1H5K5+ZCcNf5DaLmkQIzKhAN7hSZiRPcdTvrAJoLwR2loAQpYFAFosGdIjPxgLtu53BnLZjgzqpBaVLAiArMAHeKzGjOd52PkwEjJrgb8ctMbSYFWAVmgPuMS2Rozj7TV7hi9Uu2hPy1trYGAgH2ZstPE9zla0U5SQF9KjAD3AVBeKv1uOmBm7ALTP9/X+YS+GexWIaHhxVYHsFdgWhUhBTQlQIzwz3sBOgJo6HJTvQ/G/ZMLUyagD+n0wkPEYvF4vP5YrU5gnusilF+UkBvCswMd5NN757Ep0WCu1KHh4ctFgvHcU6nM1azI7jHqhjlJwX0poAsuNNUBJo8EhI/x+++ffs4jrNYLLGaHcE9VsUoPymgNwVkwf3Wvfuhy0BrwrvUqWTZltdgvadEWkBvby8EZ2I9aQLgHggEeukvRAHFfeCx3mLKb3oFZMFdEISDpzpTB8TxuNKkvJWqZ7hj2xLYwWyAU50/f9700KELTIwCcuFOzrtK4idlpjAEaKzGlADPHdom+KvpgwrwPEdwj9VWKX8kBeTCnZx3NXB/q/V4pBsQ1/0Ed+SmIRIE97h+HVKt8hjgTs67Yr4nxW0XBIHgbgimYyMJ7qnG37hebwxwJ+ddGdwTP0gGLYbgjtw0RILgjqZLCfUKxAZ3ct5j5XtSBsmgWRDcDcF0bCTBHU2XEuoViA3ugiDQmPeY+J7cacII7shNQyQI7uqJRjWgAjHDneYBlg/3BL+SijcVEwR3QzAdG0lwR9OlhHoFlMD9q2vfyAdcKucc8I6qv0NqaiC4IzcNkSC4q7F2KitRQAncBUFoaj+VytSWc+3JGv7I3mCCuyGYjo0kuLPWS2mVCiiE+6179wtcb8thXGrmSW4/KtoEwR252duxsdld0Owu8ByyBbxO3B89EfA6h3vKo+fR8CjBHU2XEuoVUAh3QRBoKuAoz62eL/6m/t6or0Ex3GHG4Pz8fPVtiFQDtE1DMkaqarinPD9vATvzgCVtlueQLVJ+dn+ZPYvjuMufJIjvBPdI1kL7FSigHO4UnIkEdz0EZMAUFMMdCyqYLlimFSYM7raiJVNkb3YXALWn/HcA/fX+SpbjYdMvB8ue79gY9qjmOwnuMo2HsslRQBXcaeRMKN9LapoSP/tjpDuNjI6UIcp+h8MBEMzKyorHsoD5+fkcx2nOx9AKeV68joe+x5PYAO4vPxlv6e3Y2NuxkY3Y+PorfxZ0+Vv3rvLJeBKEnjrWPQT3KAZJh2JVQC3cv7r2Dc0GjIhftuW1r659E+s9iF9+NXAPBAK4nBNQPh7/Y8Wfgvzz02dxHOewZ/U+csAlkfSudrslTcwDf26XFc7y/HPzHu3jsjLmsY8HBc2QU4TgHr/vQgrWrBbu9FoTkn3R+h2nz1zQlQ2pgTtcyNQSrHFaFBCeHHKQpzKP55ANGW1Jm+WwZ7EBJ3uH1wAAIABJREFUd19/Jc9xEIXv7dgI0XngO3nuujJmakysCmgAdwq+A9/1E2pHI1APd6xK8wS0TSW4ZRbv7djoCHaNIuXz8xZABMbtsnIch7gPeJ1sGIdi7prfd6owYQpoA3dBEHa++zvWh021tKPhQMLumfwTEdwl9O9qtzs3Z7PhF4i/5+ctsBUtgQ8chSAMwV2+sSnLeXd0THj4UFlZKhVdAc3gfuve/ZKaplRjOlyvrjpR2ftNcPf1V85Pm4VDZYD1wHdb0RLBXw1wn9oDo+DhP0bnCe6sOcUj/fc33Q/+MU58j4e2msFdEITUfLNp2ZbXkjVd+4wGQXAf7imHkPqPzItLAHeHPUvwV0NYhqV/V7sd+1QJ7jPamMoM3h1VX79R+zCy897d3f38889jPC2VE1lZWUNDQ/IF1xLugiCk2uAZvQ2Pkdx4gjv65vl5C7ra7b0dG4HmHMeBey7pUIVR8Pl5CyAsAy8xNbsLutrtCRgNmYKjZbw7qvpyrBN/6grL988//5zn+RX27PrT2+o7Uv1TUJpjmW+5du2a5GseaVNjuKcU33VOdjUrMUUyFw33w4NHEhOPx2bA64TYCzp9WRnzutrteK6udntWxuNRj7aiJTjlQFe7PThKXizauncVFolTImXhPlC4+u7fr4QGZ8rKynKLMk/4Gjz+Rvp4/I0LMy21tdF+6LDfUO3hniJ81z/ZCe4sggNeJ7ymFMkBH+4p7+3YGHrU11/Z27ERcc/WqXk6ZeHel2MdclRM3rrNskl8R7KkxOEuPuEjsk8rUFb3c5vNFvZXjkQ6QRDiAnfT890QZCe4aw7feFeYynDvy7GObHdJsEVwl/xe0QXcoX/VlONnSmqadNuDKnl6U8w93jjWtn5Dwz0weGn85Ef+w0dHtrtGtrv6cqxhPwOFq0e2u75+o9Z/+OjNM+eGyraw2cbqf83yneCuU7gD3x0NB8w0PlK3ox4lWIdNgru28I13bYaD+90ro0BzFtAq0yzfCe76hTsgxjQre+jwHdSwTMedBPd441jb+o0C9wfjN67+9uBgSamE4+CVXz3wHnjlgcFLoZ+Jzm7/4aNjDU1RvHvkO8Fd73CH+WcMPb/Ysi2v6W3eGCR4lATBXVv4xrs2/cN9orNbAuXBktKxhqaJzu4H4zeimGLooR/Onu/LXS55POAm8J3gbgC4QxerQUPwJTVNuprrMfR7EmkPwT3eONa2fj3DfaKze/CVXyB8BwpXXz3w3t0rClcJvjs6NrDyJawtbGKs/tcv22zqR8u09O+uOrTB4S52uIv3f+KS4LK+Y5tkT+jm/h5Xm7cudH/i9+ilQzUscQ6e6jRWCL6p/VTYCzHEToK7tvCNd236hHtg8NJI8FUjQPDIdtdEZ7ca+5+8fYd9ToQlO+z82Zy5jlpVQyHL6ophJjh8yyG3KPPIiBu4vHXfWp7nX93zSpTRlvt7XPxT/Ip12XoYbq9ruBvIhS+paRrwKnRM1Ji+hmUJ7vHGsbb16w3uk7fvXP3twb7c6XEvI9tdgb8MqrfPy8wIGTZMDwF6NryjMixT37GN5/lnMtIPXnzd429s6d+98DkLx3Fryq1AakD/pqjPjzZvXUFpTlXLBo8OhtvrHe5gHMe6P9VtFH7ZltcOnupUb8RJr4Hgri18412bruB+98oojlMcLCm9+eezmtjzfzbueSJMH3lWGfUvMYWyG3APbnibt664YjnHi6xvfhSugShNS/9uNlzDhmUwDXla+ndLgjOwH8I4Lf272Qxt3jqYREFxkMcYcIeBkjqM0jS1n9LPOnkqv04E93jjWNv69QP3ic5ujIlf/c17oe+OKrPMBzf+KzB4KXSagUi1qfTcg1EXbk7abFfLBoQs0hnIjuGagxderwxGadbtKpyTPpvjxIJHvnSzYRlIrym35hZlYsFNtWswqlNcsRyjQK/ueWXhc+lz0mafuC5On/Cr9zfweIzj1u0qVBDnMQzc4Y5+O/H9W63H9RCIf6v1uFHeTor0ZZDs1z/c2Yl2Kc1z3Pnz5yU3MfGbVw+8B6GYgcLVmsRhFF+CSrhPOchLX3wWKZyZt9juKjx4cdrXDvXcMUC/ptxqdxWusGcfGXGDsw9T3ECa47gV67LfOb2tcq8Ysp96DBy8IIZ9yup+zvN8Zt7iN4/9sqa9fG7603DqE9cbWvp380+JAaIjX7rbvHUvrFrKcdw7/2drrKEeg8Edbvyte/cPnupMSqAGgjAmwzqoqme4Dw8Px2PdbaPXefnyZcUo1KTgWEMTdGaGnexFk1PIr0Ql3Kdm2mrz1pXVFT/zXDoinuM4V8t6oKokbgObmXmLWZ86FO7ojE8FZJb+RHx4vHN6K8zqhWmPv7HmeDmg/8T1BnD5g78h1reN1LV566re39A2EvMIHEPCHe/36TMXErao0853f2fE0euo1YwJPcN9xsZThsQrgGQfa2jSKhSj5irUwx0D4i39uyv3rV34iPJHvhQHzISFu6R/NRTu7ESV0z54EO78U6IXD0EYOC+7p7RqJUZlMvMWu1o2YDAHGzljwthwB1O4de9+/CgPTDdNYD3Kl4fgHkUcOiRRgCW75FCyNlXCvbRKjJ7jwEcYMAPABV87kXCHs1fuW7vCns0FJ5IOButjm83YDHBnjWnAO3rwVKej4YDioM2yLa85Gg4cPNVp9KGNrCxy0gR3OSpRHkEQdEh29aNlCkpzOJ5jPXGIfU+FaJo/2aW55w5evKtlPbjkMIgefPn9Pa656U+/eeyXEA6CiE3uP2Wybv6MbjuE9ZM/5W+cvjDfTnw/4B091v3pwVOdb7UedzQcCPt5q/X4wVOdx7o/HfCOmjKYLlNegrtMoVI8G/agjjU06UoKlZ479n9uqi2u79hWdWjD0hcXcxyHcRXgL/SO1ndsm3qFlX/yYeDxN8oPywCy56TNXrer0O4qnBsccoNw55/iIeZe37GtoFR03slz15WxGawxBHeD3bBkNHeisxvmePn6jdpknD/aOVXC3eNvrHp/A0IW+lTXlFsxUDM1Dh3HtKxYlw2jXyQvrIYOhWTfVoUfB83/If4OgPGO8J5UZt7i5k92sTH3X4ktmR4/Aw8YbIYcnx3ymC0sE+3m07GoChDco8pDB4W7V0aB7HoYGxN6P9TDHZi4v8cFbw+FYhRfLIJD7LtLmBmHxnv8jWwaRuPs75mer+ZX72+wux6PXocQEDu0Bn4H1Hdsw0H3eAqZCYJ7qJGk6B6Ce4reeHmXPXn7DrypNFC4Wg9jY0JbrRXcZaJTZTbw4iHIU9NeDkPsX3o01YHKyqE4wT3USFJ0D8E9RW+8vMse2TG9XpK4OLUu/4wFd3w7CcfUs5OUEdx1aWKGbRTB3bC3Lu4N9x8+CgGZcc8f434ypScwFtwB3xjnUTyBTJTHAHnuSk3JdOUI7qa7pdpcUGDwkm47UdkrNCLco6BZ/SGCO2seKZ0muKf07Y9w8Tid+mBJqT5D7dhwgrvkeUBwR9tI9QTBPdUtINz1f/1GLcwek9xJwcI1TbqP4E5wl9oEbYMCBHeyBIkCN8+cg4CM//dtkkM63CS4E9x1aJa6aBLBXRe3QTeNwLGPQ44K+ZOqJ7H5BHeCexLNT9enJrjr+vYkvHG4FKpuxz5KJCG4E9wlJkGb0woQ3MkUUIHxkx/pf+wjthYSBHcJ3EurVpp24jDJvafN6AoQ3KPrkzpHH4zfgJdRR7a7DBGQgVuza9cunORLgrkU3Gzz1i3MtNTW1j6MuvAsWjWHKUqYTwGCu/nuqbIrgoDMQOHqB/8YV1ZDUkp9+eWX8+fPzy3KrDlWDpPDpOz/4JSWz1oslmvXrsm8FwR3mUIZMhvB3ZC3TetGGzEggxp8+eWXL7/8Mr7Qn8qJTZs2xbQKI8EdrciECYK7CW9qjJeE8z7qcEbfGC+FssemAME9Nr2MlZvgbqz7pXlrJ2/fGSrb0pdj1e28j5pfMlWIChDcUQoTJgjuJrypsVySuMRSjrUvx3rzz2djKUd5zaAAwd0MdzHSNRDcIymTCvvxZdSrB95Lheula5QoQHCXCGKqTYK7qW5nLBdz98oojH00ysuosVwc5ZWlAMFdlkwGzURwN+iNU9lsNtRurLGPKi+cirMKENxZNcyWJrib7Y7Kux6c95FC7fIEM2cugrs57ytcFcHdzHc3wrWNNTRBJ6oh5n2McBG0WwMFCO4aiKjbKvQM90Ag0Et/IQoEAgE15oTvK401NKmpR29lv/zyyxCpUmvH8PBwrDeF4B6rYkbKr2e4Y9tS+Z3D0Gs/f/68Ygub6OyGqcHM1Il68uTJ+fPnhwqVgnuysrI6OzvlmwfBXb5WxsuJANVh06Ftgr+aPqgAz3OK4c6SXeeL58m3xu7ubp7n7bsKWy7uTsGZwthL3t/jKijN4XiO5paRbz9mzklwR24aIqEY7qYkuyAIZWVlNCski/ilP3mWZoU0M7LlXxvB3RBMx0Yqgzv2oA45Kkzjs4OR03zuLNk9/kZaIFs+/Uyek+CO3DREIla4T96+M9a4B8bGmI/sgiAQ3AnuJme04sszOtyb3QX5eQug6yw/b4HnkM0QjFbcyJjg/mD8BkwK1pdj/fqNWpP57GDzBHeCu2L6mbygoeFuK1rCcdzU/2Z3gdtltaTN4jjO7bIqRqf+C8qH+80z52B2gb4cq4mnjiG4E9xNzmjFl2dcuA/3lHMcl5UxD4nc1W4HFx73mC8hB+6Tt+/gXI8Dhasn/tSl2Dz0X5DgTnDXv5Ump4XGhXtvx0aAe8DrRIi7XVbWcw94nW6X1Va0xFa0pHXvKjZnwOtsdhfYipY4N2cP95R7Dtkc9izIMNxTbitaMtxTHqna4Z5y5+ZsW9EShz2LDQRhJa17V8FJ2aOCv7q3Y2PYgoK/OkpTsRmCv3pGuAcGLw2+8gsMst/9+5XkGJa6s94dHbt7ZVTOUq4Ed4K7Olszb2njwj3gdUIcxpI2CyDr669kOejrr5wfDNTk5y2AuHx+3gLAd8DrhD1ZGfPy8xZY0mZlZczjOK63Y6Pgr252F0z9Amh2F2BtPC/+JHjoE0fcd7Xbg1tiOAhKOTdnQ86Xg2GirIx5WRnzIGTEcdyJR90AbpeV4zhL2ixb0RJouXNz9sPgKH6xqeliTIlt6o8jjx9abEsijXNn+04hFDN5+45BLXfy9p2+3OXjnj/OuNAzwZ3gblAjj3uzjQt3wV893FMOeIVoDMTf0eN2bs7mOK517yogI2wCiFv3roLMcAg2ZcL9+efEx8DlT0S/PuB1/izYnQseOsDdYc8CZMNDwla05KGv2tdfyfMi2R8XfFHsB4bNXU82dVeF2HIR/cHHCZI9iufuP3x0oHA1OOyDJaWBvwzG3XTifIL/bNzTl7t8xn7gxMC9pX/3/h6XBKP63KShkHE2TONUb2i4A/W62u1ulxUpb0mbBS48+MK9HRvhwwLdYc/iOI6NmYBvPqPnPtxTzvOif43VwjMD3HyAe2e7HRrW27GR50UH/6GvGs7Ohox8/ZX44IGmnj/9uKl8sKNYDtwnOrsHS0oB6305Vv/ho8Z12NnvzQ9nz8NMCQOFq6O48ImB+8JMC8dxBy+8Hgr0muPlPM+/eeyXHl9j6FHc09K/e67l6XW7Ck/4GnBnPBIEd9aKUjptXLhD0JwNo0MUHr114DU69ZAACkPMBFAOIGb3RAnLiLyW1BiMtHQFgQ5wPx+M7UCEHeEeWqfEHw+p9Ym4EGbGmPuD8Rust96XYx1raHowfsNM1vx//2kNPrSGHBXiz5GHDyUXmBi480+Jt/2d01tDcSwT7vUd23ieT8DLtAR3iYWk7qZx4R4Wl8BoIDi4w2zkOuB1wsMgJs894HVizB09d9anxlh/FLiD545BdojdZ2XMu35R7CeI0lTEOiR4nuv614M4Gzuw7+s3agODl8xnxNd+exCcd0T8yHaXBPFJh3so7sPuIbibzz71fkXGhTv46Za0WRhkh8GRGDpnAyYQoIeuV8Ff7TlkixJzBxBnZcz7MfgwgHqwQxVi7uieQ1UQYIkCd+wyhf7V3o6NAHQ25o5duMM95fPTxV5i9hGCcP/wuf8BsBsoXG0+b539wtwdHZPAHS58ZLtLXGMk6MUnHe4Sz720auWc9NlTMZw5abPXlFuPjLg9/kbIgz/OZozhhH08yNxJnjtrQimdNi7cBX81YtdWtATfU8WxK+xoGRy7gqEY6AiF0TIwiAWfClgQvo04KgZQy46WgZNa0mbB74MocIcniiSkgyF4RH9+3gJs6vnT4tAdyWeqVxbhjv5saiYGS0rHPX8sLihwuItPRI13y8RilGxRwjJldcU8z2+qXXPC1wjpNeXW+tPb7FWFPM+tWJd9wtfQ5q0rrljO8dwzGembaouPjNRFOZfKQwT3lAY6e/GGhjsQE0aO24qWuF1WZDcwMeB14pBzt8uK8RMY6MKOc2dj7nB0yn9vdhdAML2r3Q4JqNbXXxl2+DyOc8ezlz05EB46UZvdBa17V7GNwTPC6HhJU1m+E9zZJ9lgSenKxc86avUC9xdWLeU4DkAfnMOruHLvWnjwUFiGxQ6lE6EAwl3l+j7xaCu0jUVb/NISuMfvRCpr5nnufxWtuXrgvcDgJdN/bp45FzYs05djHdnuEt+8ffgw6WEZ1nPH8MuctNkr7NlVLRtwCA3BPR6IoDpnUACCD/v27ZshX8IPE9xDnwTouUPA3ZT9qGho33X9eyjcJX2quoK7x9/Y0r+7tKowM28xfK0y8xafuC6OfSS4422lROIUcDqdYIitra2JO6uMMyUS7pKISihVdbIHPHdJaGKis9scY9slRnG5bAt7pRKsQ2ZdwX3rvrV21/RI9pb+3QufE0fHwwBKgrvk5tJmIhQIBAIWi2iFYr+ixWLTzV9+fj7HcTqhqk6aAePcH4zfGD/5Efvu0kDhatO8vgRG/+DGf6HbPlhSevPPZ8NORZBIuK8ptzrcxfipaS/3POpEhTg7xNxf3fPKCZ/owgPc4dUngDs48m1e6lBNBNnoHKICPp/PZhNHB+rwTydU1Ukz8CUmMNzA4CV2zDsg3hw2feN/fwxw9/++LcpM9ImBO7yhKvl2zEmbfeJ6Axtz39/jmpv+NJuNfSV1ruXxIYjVqBwYE7Y4jZYxh/1rfBXDw8NTkZmp4LtO/iBepBOq6qQZEriDBTwYv4EL6fXlWMHP1dg4El7dpbX/MuSoEGe1DHkrlW1LYuDe5q2r79gm+bT0i0tyt3nryuoej25s89ZVvb8BvPv9nzwxHU1L/+6yOtHxr+/YFpbLmuwkuLPmQWmdKpDImLtO2D1jM8LCHe6fBPEj210P/jGu01s7U7Pujo6NNe6J4rBjBYmBuybYTUwlBHe0DUroV4E4wd3XXwnDyUP/45TuM0I2WRmiwB1uZGDwEi6tJ065dfIj/d7gyC2T3z9McJc8Mwjukc2KjuhGgTjBHecXY2OjkLakzbr+5KTwyYJ4pPPOCHe4e+MnP8IZgGecNVc3N1xJQwjuBHcldkNlkqtAnODOchPeXcJJXdhD+kzLhLsgCA/Gb4zsqIKhhIMlpQZdkmlGCyS4E9xnNBLKoDsFkgJ3yUJ9gr8a19LDsfCeQ7awq+hFWn5Pw+eEfLjD7fQfPopDxU25mCrBneCuO3JRg2ZUIClwn56s8dECqrDotsOeJfirwc2HZflwqTyc/IudUAyX34MlmZIId0EQAoOXBla+BIi/euC9GWU3VgaCO8HdWBZLrRUVSArcYaZJRDZswppNAHdxKuDg6qbixLzBNVphTvawy+/hAqpa8T1Wzx0safL2HexlHWtoMpN5EdwJ7may51S5lqTAXVyOg+OyMuY9DC6RCgufwmS/oQF6QH/r3lW4iEfY5fe0InuUNVRntInJ23e+ftMN/ruZulgJ7gT3GY2fMuhOgaTAXfBXw1Tvl3vKYSEO9OIB7rhMh+CvxtWgIi2/h+upasV3ZZ473lp812nIUSFnFDkW1G2C4C6Be2nVSpvNFnaqhtCbyIXuoj2kQAIUSBbckemwGh8OjpTjubNrJ0lmbNeE7yrhLggC8t0c8Zldu3YtzLDEe9VpCUB1u9nmrZtrefqDDz4guCcAUHQK5QokC+4Br3N+2izoFM3PW4CdonJi7ujXs8vvaYJ1qEQ93E3Gd5/PN3/+/My8xZV71kqmB0i1zcq9axc+Z7FYLD/88IPMbx157jKFomwaK5AsuLML+EFXKoAV4C5ntIxk+T29wZ3luwnGz3z55ZdlZWU4s2nou2kpsicrK2vnzp3Xr1+X/z0kuMvXinJqqUAC4N7VbrcVLQmNn+Dq2z96nYhmjLnD0n04/h0zRFp+DzOoT2jiucNNwukkTTn+XUtDNG9dBHfz3lt9X1kC4B6JtjAMBtfahmwI90ilErBfQ7iz4yPN+v6qvg08+a0juCf/HqRmCxIPd5xTTFy3JGSeGZPBXRCEydt34P2mgcLV5hg8k5rfFMVXTXBXLB0VVKVA4uEe8Dqdm7NtRUsc9qzejo0STxynH5DsT+Smhp473Ju7V0ZhTYwhR0X0mdNV3UsqrEsFCO66vC0p0KjEwz2RmFZ2Ls3hLgjCRGc38N0Enasp8LXQ8hIJ7lqqSXXJV4DgHvoAiAfc2cEz1Lkq3z5NkJPgboKbaMhLALhPvQVKH1SA57jz589rfjuxc3WgcDV1rmour24rJLjr9taYvGHDw8M2+gtR4PLly/G48XevjELnqmlmJoiHSiark+BushtKl0MKhFfg5plzEHw33MwEgUCgl/56e8Pf18h7Ce6RtaEjpIC5FLh64D2YOdJAwfcPP/xw/vz5KfIaavTLtFgsJ06ckG+SBHf5WlFOUsDwCsDM70YJvnd3d/M8v6m2uG2kTrfzeSWmYW3euuKK5TzPnTt3TqYVEtxlCkXZSAEzKPBg/IaBgu8lJSVrNltpVkh8fiz9ybM7d+6kWSHN8FWkayAFNFcAg+9fv1GreeXaVkjzuSPWIVFW93Oaz11bG6PaSAFTKSCurJ27vC/H6v99m54vjOBOcNezfVLbSAE9KmCIaSMJ7gR3PX55qE2kgJ4VMMSbTQR3gruev0TUNlJApwpg56puB88Q3AnuOv3yULNIAZ0rgG+uDhSufvCPcb21luBOcNebTVJ7SAHDKICDZ3Q4MwHBneBumC8SNZQU0KECOC2w3uIzGsK9pX93pDW127yq3pDaum/t/h6XhMJx2qShkDr8+lCTSAFdK6BPvmsI96UvPhvp5f4V67IVvydV37GN5/ncokzFNcT0GCC46/pbRI0jBfSpwERnNy7Lp5PJZzSEe83xcoe72OEuXrPZyvEi5zfVipsOd/H+T5T73QR3fRoztYoUIAWeUAD7V/tyrFd/894Tx5KxoSHc0UEGHHMcd+J6A+5s6d/d0r8bNz3+xvqObbiJ6f09rvqObWwYJyzcIZukQqxNTYI892SYIZ2TFDCFAg/Gb8DkYn051iFHRXIX90gY3Odanp6TNhtxPxVG53n+1T2vnPA1QnpT7ZrcokwI7MxJm+1qWe/xNcIzgA3LTAXf2fhPblHmkRG3GppLyhLcTfElo4sgBZKkwOTtO2ONe2ByYJiiYPLWHa3a8vc33VcPvHf376NyFuxOGNz5p8RIDcK9rK6Y57lNtWtO+BqDafHoinXZ75zeVrlX5D7HcQcvvB4K94WZlmDAZ019x7biCivPc5l5i7FaCakVbBLctbJDqocUSF0Fbp45ByH4vhzrQOFqraLwd0fHoNrBktKxhqaJzu67VyKCXj9wfyYjHRldWrWS57l1uwpP+BrYsEzN8XKe518qfzyN5dKfiL2475zeqoDjYYsQ3FP3C0lXTgpoqMDk7TtXf3uwL9cKXvxgSem454+Tt9V68T+cPQ/TluGPAwgBff1Grf/w0fGTHwUGLwUGL929Mvryyy873MUnggGQsLBTsDNszH1Gz30Ng2wW6Gy6rO7nPM8/k5GeW5QJnzlpswnuGhokVUUKkAJaKvBg/MbIjioE8UDh6rGGpsDgJTXn+ObIv4XyHU+BiZWLn3XUGgzuuUWZMAgH/lcd2qDhw4k8dzVWR2VJAVIgjAKBwUtjDU2I3b4cK8RVbp45p8yX//ubbra20PTEn7oS7LlDGN3jb3xh1VIInWPMXX5Yhh3zvr/HVVxh1bBPleAexjRpFylACqhX4MH4Df/ho4MlpRIWDzkqxhqaIKLyYPzGjCcKXPorvjYlqQpC/IG/DAoPHyYs5g5DXDLzFjtqi3FUjMoO1apDG+ami4Nw8JmhIIgkKUJwn9G0KAMpQAqoUuDulVH/4aNDjopQNOOeIUfFyHYX+wl9KmBmTExPgfDwoSAI8YB7S/9u/ikxMo4dpB5/4/4eF3jrc9Jm23cV1p8W3zt989gvPY9Gy0x1n2bmLQ4dCrm/x8U/xeM7rlgP5HwmIx0qkTBa8SbBXZXVUmFSgBSQr8Dk7Ts3z5zzHz46st0lh90IcehEZTfBZxdH1gfJHie4A8rlv2EEQyHBi4e3kyRo3t/jYl9r8vgbYR6beEw4Q3CXb5mUkxQgBTRW4O6V0cDgJSC+//BR9oMjYcTQTZDgF174KfKd9dmhTfHw3CVonnGThfuMmeOdgeCusbFSdaQAKRAnBVi4Q5ydPZEe4M6+rRpvds9YP8GdNQ9KkwKkgH4VQLiLL0k9isZgc/UAd8k8MzPyN64ZCO5oG5QgBUgBXSsAcL/6m399GEL2+MXc48rfuFZOcNe1NVPjSAFSABSYvH2nL3f5kKMiLNkJ7qHPCYI7fXdIAVLAAAoELv11YOVL4tqt4dx2gjvB3QBGTE0kBUiBUAUCl/46fvKjSG47wZ3gHmoztIcUIAXMoIBOOlRDIZusPRSWMYNZ0zWQAqQAwV3yFCmtWmmz2aL81mFthmM3KE0KkAKkgH4U2LVr18IMi4YTb0lYaazNNm94vVpLAAAAkklEQVTdXMvTH3zwAcFdPyZKLSEFSAElCvh8vvnz5z+Tke54tJg1O5tuqqUXPpeen5//ww8/yJSSPHeZQlE2UoAUSIICPp9v165dNvqz2dxu948//ij/HhDc5WtFOUkBUoAUMIwCBHfD3CpqKClACpAC8hUguMvXinKSAqQAKWAYBQjuhrlV1FBSgBQgBeQr8P8DZ0H5quB+1MwAAAAASUVORK5CYII=)"
      ],
      "metadata": {
        "id": "n7Dmc6HvvG0v"
      }
    },
    {
      "cell_type": "code",
      "source": [
        "a = 5\n",
        "print(\"The type of a\", type(a))\n",
        "\n",
        "b = 40.5\n",
        "print(\"The type of b\", type(b))\n",
        "\n",
        "c = 1+3j\n",
        "print(\"The type of c\", type(c))\n",
        "print(\" c is a complex number\", isinstance(1+3j,complex))\n",
        "\n",
        "d = \"vinay\"\n",
        "print(\"The type of d\", type(d))"
      ],
      "metadata": {
        "colab": {
          "base_uri": "https://localhost:8080/"
        },
        "id": "cT6O1VpavHTE",
        "outputId": "5b49c15c-41ac-4ee4-e7bc-87e6c94a76e9"
      },
      "execution_count": null,
      "outputs": [
        {
          "output_type": "stream",
          "name": "stdout",
          "text": [
            "The type of a <class 'int'>\n",
            "The type of b <class 'float'>\n",
            "The type of c <class 'complex'>\n",
            " c is a complex number True\n",
            "The type of d <class 'str'>\n"
          ]
        }
      ]
    },
    {
      "cell_type": "code",
      "source": [
        "str1 = 'hello vinay' #string str1\n",
        "str2 = ' how are you' #string str2\n",
        "print(str1)\n",
        "print (str1[0:2])\n",
        "print (str1*3)\n",
        "print (str1 + str2)\n",
        "\n",
        "#\n",
        "# print (str1[0]) #printing first two character using slice operator\n",
        "# print (str1[4]) #printing 4th character of the string\n",
        "# print (str1*2) #printing the string twice\n",
        "# print (str1 + str2) #printing the concatenation of str1 and str2"
      ],
      "metadata": {
        "colab": {
          "base_uri": "https://localhost:8080/"
        },
        "id": "NnVPvkFmvLdC",
        "outputId": "d3ab1914-0369-43e6-f462-a95905d719ca"
      },
      "execution_count": null,
      "outputs": [
        {
          "output_type": "stream",
          "name": "stdout",
          "text": [
            "hello vinay\n",
            "he\n",
            "hello vinayhello vinayhello vinay\n",
            "hello vinay how are you\n"
          ]
        }
      ]
    },
    {
      "cell_type": "markdown",
      "source": [
        "Lists in Python are like arrays in C, but lists can contain data of different types. The things put away in the rundown are isolated with a comma (,) and encased inside square sections []."
      ],
      "metadata": {
        "id": "etpHosAMv22I"
      }
    },
    {
      "cell_type": "code",
      "source": [
        "list1  = [1, \"hi\", \"Python\", 2]\n",
        "#Checking type of given list\n",
        "print(type(list1))\n",
        "\n",
        "#Printing the list1\n",
        "print (list1)\n",
        "\n",
        "# List slicing\n",
        "print (list1[3:])   # start index and end index\n",
        "\n",
        "# List slicing\n",
        "print (list1[0:2])\n",
        "\n",
        "# List Concatenation using + operator\n",
        "print (list1 + list1)\n",
        "\n",
        "# List repetation using * operator\n",
        "print (list1 * 3)"
      ],
      "metadata": {
        "colab": {
          "base_uri": "https://localhost:8080/"
        },
        "id": "zXS-qTyYvvzK",
        "outputId": "4d3f521a-6f46-47f1-f9bd-263753cd2dd4"
      },
      "execution_count": null,
      "outputs": [
        {
          "output_type": "stream",
          "name": "stdout",
          "text": [
            "<class 'list'>\n",
            "[1, 'hi', 'Python', 2]\n",
            "[2]\n",
            "[1, 'hi']\n",
            "[1, 'hi', 'Python', 2, 1, 'hi', 'Python', 2]\n",
            "[1, 'hi', 'Python', 2, 1, 'hi', 'Python', 2, 1, 'hi', 'Python', 2]\n"
          ]
        }
      ]
    },
    {
      "cell_type": "markdown",
      "source": [
        "In many ways, a tuple is like a list. Tuples, like lists, also contain a collection of items from various data types. A parenthetical space () separates the tuple's components from one another.\n",
        "\n",
        "**Because we cannot alter the size or value of the items** in a tuple, it is a read-only data structure.\n",
        "\n"
      ],
      "metadata": {
        "id": "-BE8l2T3wBS2"
      }
    },
    {
      "cell_type": "code",
      "source": [
        "tup  = (\"hi\", \"Python\", 2)\n",
        "# Checking type of tup\n",
        "print (type(tup))\n",
        "\n",
        "#Printing the tuple\n",
        "print (tup)\n",
        "\n",
        "# Tuple slicing\n",
        "print (tup[1:])\n",
        "print (tup[0:1])\n",
        "\n",
        "# Tuple concatenation using + operator\n",
        "print (tup + tup)\n",
        "\n",
        "# Tuple repatation using * operator\n",
        "print (tup * 3)\n",
        "\n",
        "# Adding value to tup. It will throw an error.\n",
        "tup[2] = \"hi\""
      ],
      "metadata": {
        "colab": {
          "base_uri": "https://localhost:8080/",
          "height": 287
        },
        "id": "KlwlwbmVv7kc",
        "outputId": "8198b9b7-a9a4-4261-a0e3-4cdb8144364c"
      },
      "execution_count": null,
      "outputs": [
        {
          "output_type": "stream",
          "name": "stdout",
          "text": [
            "<class 'tuple'>\n",
            "('hi', 'Python', 2)\n",
            "('Python', 2)\n",
            "('hi',)\n",
            "('hi', 'Python', 2, 'hi', 'Python', 2)\n",
            "('hi', 'Python', 2, 'hi', 'Python', 2, 'hi', 'Python', 2)\n"
          ]
        },
        {
          "output_type": "error",
          "ename": "TypeError",
          "evalue": "'tuple' object does not support item assignment",
          "traceback": [
            "\u001b[0;31m---------------------------------------------------------------------------\u001b[0m",
            "\u001b[0;31mTypeError\u001b[0m                                 Traceback (most recent call last)",
            "\u001b[0;32m<ipython-input-44-8a7f54cf0140>\u001b[0m in \u001b[0;36m<cell line: 19>\u001b[0;34m()\u001b[0m\n\u001b[1;32m     17\u001b[0m \u001b[0;34m\u001b[0m\u001b[0m\n\u001b[1;32m     18\u001b[0m \u001b[0;31m# Adding value to tup. It will throw an error.\u001b[0m\u001b[0;34m\u001b[0m\u001b[0;34m\u001b[0m\u001b[0m\n\u001b[0;32m---> 19\u001b[0;31m \u001b[0mtup\u001b[0m\u001b[0;34m[\u001b[0m\u001b[0;36m2\u001b[0m\u001b[0;34m]\u001b[0m \u001b[0;34m=\u001b[0m \u001b[0;34m\"hi\"\u001b[0m\u001b[0;34m\u001b[0m\u001b[0;34m\u001b[0m\u001b[0m\n\u001b[0m",
            "\u001b[0;31mTypeError\u001b[0m: 'tuple' object does not support item assignment"
          ]
        }
      ]
    },
    {
      "cell_type": "markdown",
      "source": [
        "A dictionary is a key-value pair set arranged in any order. It stores a specific value for each key, like an associative array or a hash table. Value is any Python object, while the key can hold any primitive data type."
      ],
      "metadata": {
        "id": "nAtEXHf0wNwJ"
      }
    },
    {
      "cell_type": "code",
      "source": [
        "d = {1:'Jimmy', 2:'Alex', 3:'john', 4:'mike'}\n",
        "\n",
        "# Printing dictionary\n",
        "print (d)\n",
        "\n",
        "# Accesing value using keys\n",
        "print(\"1st name is \"+d[1])\n",
        "print(\"2nd name is \"+ d[4])\n",
        "\n",
        "print (d.keys())\n",
        "print (d.values())"
      ],
      "metadata": {
        "colab": {
          "base_uri": "https://localhost:8080/"
        },
        "id": "EwoRyECqwODO",
        "outputId": "f6a01550-c9c4-4164-ce50-38a27194659e"
      },
      "execution_count": null,
      "outputs": [
        {
          "output_type": "stream",
          "name": "stdout",
          "text": [
            "{1: 'Jimmy', 2: 'Alex', 3: 'john', 4: 'mike'}\n",
            "1st name is Jimmy\n",
            "2nd name is mike\n",
            "dict_keys([1, 2, 3, 4])\n",
            "dict_values(['Jimmy', 'Alex', 'john', 'mike'])\n"
          ]
        }
      ]
    },
    {
      "cell_type": "markdown",
      "source": [
        "True and False are the two default values for the Boolean type. These qualities are utilized to decide the given assertion valid or misleading."
      ],
      "metadata": {
        "id": "SoTN6lORwXvc"
      }
    },
    {
      "cell_type": "code",
      "source": [
        "# Python program to check the boolean type\n",
        "print(type(True))\n",
        "print(type(False))\n",
        "print(false)"
      ],
      "metadata": {
        "id": "uUiJpM-mwQMd",
        "colab": {
          "base_uri": "https://localhost:8080/",
          "height": 211
        },
        "outputId": "085c652b-9442-4200-cf72-34bfa18bedbf"
      },
      "execution_count": null,
      "outputs": [
        {
          "output_type": "stream",
          "name": "stdout",
          "text": [
            "<class 'bool'>\n",
            "<class 'bool'>\n"
          ]
        },
        {
          "output_type": "error",
          "ename": "NameError",
          "evalue": "name 'false' is not defined",
          "traceback": [
            "\u001b[0;31m---------------------------------------------------------------------------\u001b[0m",
            "\u001b[0;31mNameError\u001b[0m                                 Traceback (most recent call last)",
            "\u001b[0;32m<ipython-input-4-2dfb4759d203>\u001b[0m in \u001b[0;36m<cell line: 4>\u001b[0;34m()\u001b[0m\n\u001b[1;32m      2\u001b[0m \u001b[0mprint\u001b[0m\u001b[0;34m(\u001b[0m\u001b[0mtype\u001b[0m\u001b[0;34m(\u001b[0m\u001b[0;32mTrue\u001b[0m\u001b[0;34m)\u001b[0m\u001b[0;34m)\u001b[0m\u001b[0;34m\u001b[0m\u001b[0;34m\u001b[0m\u001b[0m\n\u001b[1;32m      3\u001b[0m \u001b[0mprint\u001b[0m\u001b[0;34m(\u001b[0m\u001b[0mtype\u001b[0m\u001b[0;34m(\u001b[0m\u001b[0;32mFalse\u001b[0m\u001b[0;34m)\u001b[0m\u001b[0;34m)\u001b[0m\u001b[0;34m\u001b[0m\u001b[0;34m\u001b[0m\u001b[0m\n\u001b[0;32m----> 4\u001b[0;31m \u001b[0mprint\u001b[0m\u001b[0;34m(\u001b[0m\u001b[0mfalse\u001b[0m\u001b[0;34m)\u001b[0m\u001b[0;34m\u001b[0m\u001b[0;34m\u001b[0m\u001b[0m\n\u001b[0m",
            "\u001b[0;31mNameError\u001b[0m: name 'false' is not defined"
          ]
        }
      ]
    },
    {
      "cell_type": "code",
      "source": [
        "print( True and False )"
      ],
      "metadata": {
        "colab": {
          "base_uri": "https://localhost:8080/"
        },
        "id": "uMeow4w5IGUz",
        "outputId": "7014d4fd-e3f1-4888-fa04-300e113c0fb4"
      },
      "execution_count": null,
      "outputs": [
        {
          "output_type": "stream",
          "name": "stdout",
          "text": [
            "False\n"
          ]
        }
      ]
    },
    {
      "cell_type": "code",
      "source": [
        "print( 4 == 4 )\n",
        "\n",
        "\n",
        "print(  )\n",
        "print( 6 > 9 )\n"
      ],
      "metadata": {
        "id": "Er6oW7F2wxsF"
      },
      "execution_count": null,
      "outputs": []
    },
    {
      "cell_type": "code",
      "source": [
        "print( True == 1 )\n",
        "print( False == 0 )\n",
        "print( True + True + True)"
      ],
      "metadata": {
        "id": "ikmjvMXHw2F3",
        "colab": {
          "base_uri": "https://localhost:8080/"
        },
        "outputId": "4af2e06b-781b-4961-aefa-fc38871b610c"
      },
      "execution_count": null,
      "outputs": [
        {
          "output_type": "stream",
          "name": "stdout",
          "text": [
            "True\n",
            "True\n",
            "3\n"
          ]
        }
      ]
    },
    {
      "cell_type": "markdown",
      "source": [
        "The data type's unordered collection is Python Set. It is iterable, mutable(can change after creation), and has remarkable components. The elements of a set have no set order; It might return the element's altered sequence."
      ],
      "metadata": {
        "id": "Az7il2XOwgDr"
      }
    },
    {
      "cell_type": "code",
      "source": [
        "# Creating Empty set\n",
        "set1 = set()\n",
        "\n",
        "set2 = {'James', 2, 3,'Python'}\n",
        "\n",
        "#Printing Set value\n",
        "print(set2)\n",
        "print(set2)\n",
        "print(set2)\n",
        "print(set2)\n",
        "##############################\n",
        "\n",
        "\n",
        "# Adding element to the set\n",
        "\n",
        "set2.add(10)\n",
        "print(set2)\n",
        "\n",
        "#Removing element from the set\n",
        "set2.remove(2)\n",
        "print(set2)"
      ],
      "metadata": {
        "colab": {
          "base_uri": "https://localhost:8080/"
        },
        "id": "46uOWd68wgWg",
        "outputId": "359854b4-14f9-458b-bd7d-a986373310a0"
      },
      "execution_count": null,
      "outputs": [
        {
          "output_type": "stream",
          "name": "stdout",
          "text": [
            "{'James', 2, 3, 'Python'}\n",
            "{'James', 2, 3, 'Python'}\n",
            "{'James', 2, 3, 'Python'}\n",
            "{'James', 2, 3, 'Python'}\n",
            "{2, 3, 'James', 10, 'Python'}\n",
            "{3, 'James', 10, 'Python'}\n"
          ]
        }
      ]
    },
    {
      "cell_type": "markdown",
      "source": [
        "Every scripting language has designated words or keywords, with particular definitions and usage guidelines."
      ],
      "metadata": {
        "id": "8Vm9YhKPxmxw"
      }
    },
    {
      "cell_type": "markdown",
      "source": [
        "Python keywords are unique words reserved with defined meanings and functions that we can only apply for those functions. You'll never need to import any keyword into your program because they're permanently present."
      ],
      "metadata": {
        "id": "P3m-b0cHxsCh"
      }
    },
    {
      "cell_type": "code",
      "source": [
        "import keyword\n",
        "\n",
        "# displaying the complete list using \"kwlist().\"\n",
        "print(\"The set of keywords in this version is: \")\n",
        "print( keyword.kwlist )"
      ],
      "metadata": {
        "colab": {
          "base_uri": "https://localhost:8080/"
        },
        "id": "Dk-ANLyJxpX-",
        "outputId": "aaffe93a-64fc-40d3-8ea3-e1bf52a6009c"
      },
      "execution_count": null,
      "outputs": [
        {
          "output_type": "stream",
          "name": "stdout",
          "text": [
            "The set of keywords in this version is: \n",
            "['False', 'None', 'True', 'and', 'as', 'assert', 'async', 'await', 'break', 'class', 'continue', 'def', 'del', 'elif', 'else', 'except', 'finally', 'for', 'from', 'global', 'if', 'import', 'in', 'is', 'lambda', 'nonlocal', 'not', 'or', 'pass', 'raise', 'return', 'try', 'while', 'with', 'yield']\n"
          ]
        }
      ]
    },
    {
      "cell_type": "code",
      "source": [
        "help(\"import\")"
      ],
      "metadata": {
        "colab": {
          "base_uri": "https://localhost:8080/"
        },
        "id": "guvm_EU8xyuN",
        "outputId": "4d201aee-9292-43bc-add9-f6df2867ce96"
      },
      "execution_count": null,
      "outputs": [
        {
          "output_type": "stream",
          "name": "stdout",
          "text": [
            "The \"import\" statement\n",
            "**********************\n",
            "\n",
            "   import_stmt     ::= \"import\" module [\"as\" identifier] (\",\" module [\"as\" identifier])*\n",
            "                   | \"from\" relative_module \"import\" identifier [\"as\" identifier]\n",
            "                   (\",\" identifier [\"as\" identifier])*\n",
            "                   | \"from\" relative_module \"import\" \"(\" identifier [\"as\" identifier]\n",
            "                   (\",\" identifier [\"as\" identifier])* [\",\"] \")\"\n",
            "                   | \"from\" relative_module \"import\" \"*\"\n",
            "   module          ::= (identifier \".\")* identifier\n",
            "   relative_module ::= \".\"* module | \".\"+\n",
            "\n",
            "The basic import statement (no \"from\" clause) is executed in two\n",
            "steps:\n",
            "\n",
            "1. find a module, loading and initializing it if necessary\n",
            "\n",
            "2. define a name or names in the local namespace for the scope where\n",
            "   the \"import\" statement occurs.\n",
            "\n",
            "When the statement contains multiple clauses (separated by commas) the\n",
            "two steps are carried out separately for each clause, just as though\n",
            "the clauses had been separated out into individual import statements.\n",
            "\n",
            "The details of the first step, finding and loading modules, are\n",
            "described in greater detail in the section on the import system, which\n",
            "also describes the various types of packages and modules that can be\n",
            "imported, as well as all the hooks that can be used to customize the\n",
            "import system. Note that failures in this step may indicate either\n",
            "that the module could not be located, *or* that an error occurred\n",
            "while initializing the module, which includes execution of the\n",
            "module’s code.\n",
            "\n",
            "If the requested module is retrieved successfully, it will be made\n",
            "available in the local namespace in one of three ways:\n",
            "\n",
            "* If the module name is followed by \"as\", then the name following \"as\"\n",
            "  is bound directly to the imported module.\n",
            "\n",
            "* If no other name is specified, and the module being imported is a\n",
            "  top level module, the module’s name is bound in the local namespace\n",
            "  as a reference to the imported module\n",
            "\n",
            "* If the module being imported is *not* a top level module, then the\n",
            "  name of the top level package that contains the module is bound in\n",
            "  the local namespace as a reference to the top level package. The\n",
            "  imported module must be accessed using its full qualified name\n",
            "  rather than directly\n",
            "\n",
            "The \"from\" form uses a slightly more complex process:\n",
            "\n",
            "1. find the module specified in the \"from\" clause, loading and\n",
            "   initializing it if necessary;\n",
            "\n",
            "2. for each of the identifiers specified in the \"import\" clauses:\n",
            "\n",
            "   1. check if the imported module has an attribute by that name\n",
            "\n",
            "   2. if not, attempt to import a submodule with that name and then\n",
            "      check the imported module again for that attribute\n",
            "\n",
            "   3. if the attribute is not found, \"ImportError\" is raised.\n",
            "\n",
            "   4. otherwise, a reference to that value is stored in the local\n",
            "      namespace, using the name in the \"as\" clause if it is present,\n",
            "      otherwise using the attribute name\n",
            "\n",
            "Examples:\n",
            "\n",
            "   import foo                 # foo imported and bound locally\n",
            "   import foo.bar.baz         # foo, foo.bar, and foo.bar.baz imported, foo bound locally\n",
            "   import foo.bar.baz as fbb  # foo, foo.bar, and foo.bar.baz imported, foo.bar.baz bound as fbb\n",
            "   from foo.bar import baz    # foo, foo.bar, and foo.bar.baz imported, foo.bar.baz bound as baz\n",
            "   from foo import attr       # foo imported and foo.attr bound as attr\n",
            "\n",
            "If the list of identifiers is replaced by a star (\"'*'\"), all public\n",
            "names defined in the module are bound in the local namespace for the\n",
            "scope where the \"import\" statement occurs.\n",
            "\n",
            "The *public names* defined by a module are determined by checking the\n",
            "module’s namespace for a variable named \"__all__\"; if defined, it must\n",
            "be a sequence of strings which are names defined or imported by that\n",
            "module.  The names given in \"__all__\" are all considered public and\n",
            "are required to exist.  If \"__all__\" is not defined, the set of public\n",
            "names includes all names found in the module’s namespace which do not\n",
            "begin with an underscore character (\"'_'\").  \"__all__\" should contain\n",
            "the entire public API. It is intended to avoid accidentally exporting\n",
            "items that are not part of the API (such as library modules which were\n",
            "imported and used within the module).\n",
            "\n",
            "The wild card form of import — \"from module import *\" — is only\n",
            "allowed at the module level.  Attempting to use it in class or\n",
            "function definitions will raise a \"SyntaxError\".\n",
            "\n",
            "When specifying what module to import you do not have to specify the\n",
            "absolute name of the module. When a module or package is contained\n",
            "within another package it is possible to make a relative import within\n",
            "the same top package without having to mention the package name. By\n",
            "using leading dots in the specified module or package after \"from\" you\n",
            "can specify how high to traverse up the current package hierarchy\n",
            "without specifying exact names. One leading dot means the current\n",
            "package where the module making the import exists. Two dots means up\n",
            "one package level. Three dots is up two levels, etc. So if you execute\n",
            "\"from . import mod\" from a module in the \"pkg\" package then you will\n",
            "end up importing \"pkg.mod\". If you execute \"from ..subpkg2 import mod\"\n",
            "from within \"pkg.subpkg1\" you will import \"pkg.subpkg2.mod\". The\n",
            "specification for relative imports is contained in the Package\n",
            "Relative Imports section.\n",
            "\n",
            "\"importlib.import_module()\" is provided to support applications that\n",
            "determine dynamically the modules to be loaded.\n",
            "\n",
            "Raises an auditing event \"import\" with arguments \"module\", \"filename\",\n",
            "\"sys.path\", \"sys.meta_path\", \"sys.path_hooks\".\n",
            "\n",
            "\n",
            "Future statements\n",
            "=================\n",
            "\n",
            "A *future statement* is a directive to the compiler that a particular\n",
            "module should be compiled using syntax or semantics that will be\n",
            "available in a specified future release of Python where the feature\n",
            "becomes standard.\n",
            "\n",
            "The future statement is intended to ease migration to future versions\n",
            "of Python that introduce incompatible changes to the language.  It\n",
            "allows use of the new features on a per-module basis before the\n",
            "release in which the feature becomes standard.\n",
            "\n",
            "   future_stmt ::= \"from\" \"__future__\" \"import\" feature [\"as\" identifier]\n",
            "                   (\",\" feature [\"as\" identifier])*\n",
            "                   | \"from\" \"__future__\" \"import\" \"(\" feature [\"as\" identifier]\n",
            "                   (\",\" feature [\"as\" identifier])* [\",\"] \")\"\n",
            "   feature     ::= identifier\n",
            "\n",
            "A future statement must appear near the top of the module.  The only\n",
            "lines that can appear before a future statement are:\n",
            "\n",
            "* the module docstring (if any),\n",
            "\n",
            "* comments,\n",
            "\n",
            "* blank lines, and\n",
            "\n",
            "* other future statements.\n",
            "\n",
            "The only feature that requires using the future statement is\n",
            "\"annotations\" (see **PEP 563**).\n",
            "\n",
            "All historical features enabled by the future statement are still\n",
            "recognized by Python 3.  The list includes \"absolute_import\",\n",
            "\"division\", \"generators\", \"generator_stop\", \"unicode_literals\",\n",
            "\"print_function\", \"nested_scopes\" and \"with_statement\".  They are all\n",
            "redundant because they are always enabled, and only kept for backwards\n",
            "compatibility.\n",
            "\n",
            "A future statement is recognized and treated specially at compile\n",
            "time: Changes to the semantics of core constructs are often\n",
            "implemented by generating different code.  It may even be the case\n",
            "that a new feature introduces new incompatible syntax (such as a new\n",
            "reserved word), in which case the compiler may need to parse the\n",
            "module differently.  Such decisions cannot be pushed off until\n",
            "runtime.\n",
            "\n",
            "For any given release, the compiler knows which feature names have\n",
            "been defined, and raises a compile-time error if a future statement\n",
            "contains a feature not known to it.\n",
            "\n",
            "The direct runtime semantics are the same as for any import statement:\n",
            "there is a standard module \"__future__\", described later, and it will\n",
            "be imported in the usual way at the time the future statement is\n",
            "executed.\n",
            "\n",
            "The interesting runtime semantics depend on the specific feature\n",
            "enabled by the future statement.\n",
            "\n",
            "Note that there is nothing special about the statement:\n",
            "\n",
            "   import __future__ [as name]\n",
            "\n",
            "That is not a future statement; it’s an ordinary import statement with\n",
            "no special semantics or syntax restrictions.\n",
            "\n",
            "Code compiled by calls to the built-in functions \"exec()\" and\n",
            "\"compile()\" that occur in a module \"M\" containing a future statement\n",
            "will, by default, use the new syntax or semantics associated with the\n",
            "future statement.  This can be controlled by optional arguments to\n",
            "\"compile()\" — see the documentation of that function for details.\n",
            "\n",
            "A future statement typed at an interactive interpreter prompt will\n",
            "take effect for the rest of the interpreter session.  If an\n",
            "interpreter is started with the \"-i\" option, is passed a script name\n",
            "to execute, and the script includes a future statement, it will be in\n",
            "effect in the interactive session started after the script is\n",
            "executed.\n",
            "\n",
            "See also:\n",
            "\n",
            "  **PEP 236** - Back to the __future__\n",
            "     The original proposal for the __future__ mechanism.\n",
            "\n",
            "Related help topics: MODULES\n",
            "\n"
          ]
        }
      ]
    },
    {
      "cell_type": "markdown",
      "source": [
        "None is a Python keyword that means \"nothing.\" None is known as nil, null, or undefined in different computer languages.\n",
        "\n"
      ],
      "metadata": {
        "id": "YVbCw1_ex-mL"
      }
    },
    {
      "cell_type": "markdown",
      "source": [
        "If a function does not have a return clause, it will give None as the default output:\n",
        "\n"
      ],
      "metadata": {
        "id": "7hNJ1GMryBmn"
      }
    },
    {
      "cell_type": "code",
      "source": [
        "print( None == 0 )\n",
        "print( None == \" \" )\n",
        "print( None == False )\n",
        "A = None\n",
        "B = None\n",
        "print( A == B )"
      ],
      "metadata": {
        "id": "t3RTAyXqx21w",
        "colab": {
          "base_uri": "https://localhost:8080/"
        },
        "outputId": "2fefe76e-5b99-4e15-c946-745093d2d146"
      },
      "execution_count": null,
      "outputs": [
        {
          "output_type": "stream",
          "name": "stdout",
          "text": [
            "False\n",
            "False\n",
            "False\n",
            "True\n"
          ]
        }
      ]
    },
    {
      "cell_type": "code",
      "source": [
        "def no_return_function(num1, num2):\n",
        "    addition = num1 + num2\n",
        "    #return addition\n",
        "\n",
        "number = no_return_function(10, 60)\n",
        "print( number )"
      ],
      "metadata": {
        "id": "inpx0jcLyHK7",
        "colab": {
          "base_uri": "https://localhost:8080/"
        },
        "outputId": "c28ec5c4-1964-43ad-c8ea-08ded057d9e1"
      },
      "execution_count": null,
      "outputs": [
        {
          "output_type": "stream",
          "name": "stdout",
          "text": [
            "None\n"
          ]
        }
      ]
    },
    {
      "cell_type": "code",
      "source": [
        "def with_return( num ):\n",
        "    if num % 4 == 0:\n",
        "        return True\n",
        "    return False\n",
        "\n",
        "number = with_return(int(input()))\n",
        "print( number )"
      ],
      "metadata": {
        "id": "5o-bTuu6ySjB",
        "colab": {
          "base_uri": "https://localhost:8080/"
        },
        "outputId": "412ceafe-4be4-466c-b208-b33ce6138ada"
      },
      "execution_count": null,
      "outputs": [
        {
          "output_type": "stream",
          "name": "stdout",
          "text": [
            "66\n",
            "False\n"
          ]
        }
      ]
    },
    {
      "cell_type": "markdown",
      "source": [
        "Operator Keywords: and, or, not, in, is\n"
      ],
      "metadata": {
        "id": "EwUWvPsOymKc"
      }
    },
    {
      "cell_type": "markdown",
      "source": [
        "![image.png](data:image/png;base64,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)"
      ],
      "metadata": {
        "id": "9P6CdqxIyrv8"
      }
    },
    {
      "cell_type": "markdown",
      "source": [
        "![image.png](data:image/png;base64,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)"
      ],
      "metadata": {
        "id": "unCK195pyxF2"
      }
    },
    {
      "cell_type": "markdown",
      "source": [
        "The or keyword in Python is utilized to check if, at minimum, 1 of the inputs is true. If the first argument is true, the or operation yields it; otherwise, the second argument is returned:\n",
        "\n"
      ],
      "metadata": {
        "id": "UvEzXNSWzF3o"
      }
    },
    {
      "cell_type": "markdown",
      "source": [
        "![image.png](data:image/png;base64,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)"
      ],
      "metadata": {
        "id": "fam5AI0ozRcr"
      }
    },
    {
      "cell_type": "markdown",
      "source": [
        "![image.png](data:image/png;base64,iVBORw0KGgoAAAANSUhEUgAAAlQAAAEGCAYAAACjNgtIAAAAAXNSR0IArs4c6QAAAARnQU1BAACxjwv8YQUAAAAJcEhZcwAAEnQAABJ0Ad5mH3gAAB9SSURBVHhe7d0PdFXVge/xn0MJoyVTS6xIWpEM/3yxoVCTxgmFxT9XEMYINaACpRBRgtDAi2Aj4U/5E8QGKSBoKBgQAS3GP2QeQmpIGCgZYkJDyZgnoAXxeYPUAJ2wsMRm+c69dye55D/ZSYT4/bgO2fucfc/NzXGt/Vt773PuDV85BAAAgCb7J/MTAAAATUSgAgAAsESgAgAAsESgAgAAsESgAgAAsESgAgAAsESgAgAAsESgAgAAsESgAgAAsESgAgAAsFTvV8/kHs42JQAAANSFESoAAABLBCoAAABLBCoAAABLBCoAAABLBCoAAABLBCoAAABLBCoAAABLBCoAAABLBCoAAABLBCoAAABLBCoAAABLBCoAAABLBCoAAABLBCoAAABLBCoAAABLBCoAAABLBCoAAABLBCoAAABLBCoAAABLBCoAAABLBCoAAABLBCoAAABLBCoAAABLBCoAAABLBCoAAABLBCoAAABLN3zlMOUacg9nm1JTFWlz6AylmFqjxK7VoSnBptISypT/Vq6CRg9QgKd+ThkJ0VqY6ak4YrQhf4JCTK1RCrfqnsmpptI4sZuyNKkRb1KSsVAjEw+YWsOvq95+UFKalkd2MjVL5eeUvy1Vm3cdUv5H5xTQPVxj4hM1KbyjaXAd++QdpV8YoairuvAAAHi1wghVsKKT1uvdnCwdyne2TTFmv5s7vHj3789cr7kjmqnjr0dZ4Q6tzy0zNbdOikx6TpNMrclCRmnR9nTtN59nQ6zZ7+YOiZ79e/Tu9tmK9Ca5RgmIXKS1k02lEdztX0voZ2rN6YTSpj+uGWveUcfxz+vNxQNU8lGuUha8reOmxfWrWBkbUp1oDQBA07R8oJr8qOIie8rfz9Tr4HdzT0XFz1SUqbcI114lzU5VoalWatdB/2yKTTVpeqwie3VU/R/TT/69Rmh2wghTb5wOHUyhkfz9m3/EqCx3r1bkm8jh/EK3dLtLoU4wDOx/hxnpu16VqXBjkha+Q5wCADRdCweqYCdo9GsgZPi4eYDmttR034UCpSQmKaPE1JtTyATFhjb6U8p/8OxGTfddS0ovFJuSl1/wWK3NyNKbCyqmTq9HZTr1VrISUopMHQCAprkGF6W7110N0T0VW8JeuTOQa3+K4kcP0chY9xRTtTahWz2jToUbffcN0eaKoaizB7Rs8pNV9cwkjfR5XXWXSwq0PXGyp83Ih1Yo/ZTvFGEzcq9J+v0aJUwe7/2dIycrfs0BucrN8dpcLlbOxiQ9HOm0H/20VqSfUKk51Bhlp/ZqTXzFZ0vS9iMXzZG6uNeYOW191mXtS4yuvC4VSj+qOq/3c+zVqSt+scZc19p437/ydaGpyvF5L/dnSDte+/Upyd/hXHfztx09Q8u2FKik8m9bpuNbntb0pKrPkTLZ+x4JGYxWAQCuzjUYqII1af8zijY1txJXsfx79JTfJ+5OskAnz9Zs4xYyZY9WPmQqvm4doLlvrVXlsqZhidrlWdNU2+LzVG3P6Kj7Fy/T1Ajn/T56R8vmtsA6obIT2jwlWjP2d1Xsxm06lP2Mxulj5WxZqMeSc+sMSfn7T6vbxES9lvacJt2Yq7TFUxW/6YQTDxpWVrhV06OdEPWPB7QuN0sbHr6oNVMSnKBZ36s7KXJ5lnYlDTB170L3Q8uHVo5Muc8b7w5n54dq+X73Orkx8tvihL6JK7TvrGnUqOtqDlyh+hq3XOWcDFbcyorrs1crfl3z+rgykjQxNkUHb4/Rm861fjfxx/pgzZOaOH2HvPnLT70mPqctPp/LveDfvdat2RbxAwC+Ma7BQOW4yV+3mKJKD8n1RRf5Bw5QzPRgBYT2U9Ctzn7fNpX85P9dU2yyCZo8rqf823VRUB+z6/j7dXT2Fo7lKsU9PJabqX3HnB7ev6d6m7XkJWkndMpbrCH03nAFumcX/ftpyL/39OwrXLdV2Q3+fieU9ox3/dig4eHq1k4KvKufeqlIKRsy5fI2agLnvCu95+3l/G4hNzmFwHs03L1M7JN3lPx6QVXYa8x1rc0Va9wGKHJYF+dnPdfnQq62r/SOPA0e5vy9nJ/+oQM0xEmAJfkpStlz5fQlAAC2rs1A5Ss3QB1vdxf81GvyWu1KGeWEgJZU21qo91X8uSk2l849NS60k3R7gDrd5H7Py1J9U321CAi4zZQOqPCDBqbuinK1zQzj3Hm7O5A4bg7whA3lFOi47/zd1XCf18ybBgZUjFl1UkBXb6lkU66O1jYA1qzX9YCKPzNFR0l+ptLM57nluxUL9APUxQTWnIwCiwAJAEBN136gUkd1aPx67xZy7qrDToNuDVdcSpoOvbVIg8v2as3iVGV8ao7phFxXOSL2+Rf1Tds5IeOTEzXWCt0zIkn7PHsKdMonkFwN3/PWrlglF0zxCi13XV2n9ppSHXLPNfA7AwBwda6DQNWGlZ5QWsJ43fvLQ+o9JUaRZlSnKTq0M4VG8KyB8qwhq9jSNKkln6UKAEAbR6D6ulwq0ua4qVqRWayI6U6YCrzKh01doad6d61/IXVA5ztMSSp0Nd/4TMDtPWt/bMI/zE/nqP+NpthKArsNNSVfPlOqvfxk89cGAKC66zhQfVedwk3RV2VHfm07/vZq76J0R58g95qmMyou8Nbr83efqUfXJ+97CxEPaFBDC5C631V5h13JuwVX3BVXmrNX+ZdM5WoFh2u8ee+Ll5zQ4nFOLrOqPiA6XCH+3nJrCQgdWPmA2P+5VDEVel7F5puUQv7dvRgfAIDm0+qBqvRz32f8nFNpbc8HuFSqqjXgdbRRgAKDK0ZlzqikxDn3ka1a/5bZ5fh7Rf/u4QSwCFPM/Fiu8mJlpOV670Arv6y/ew64VbzfRZWe9+zwuPJcDSi/qBKf1+p8ac3HIFyuGiVyfea859lvq8tgs8OtjmD4H3sOeJ+lVHJAGa87f8uAoVqUMMK7uNwoLfVZoH7Z/OL+4RqXZB51cDxFyRsLVOo+j2uvMhSuUPfdefWoOI3bxQu+n6anop+O8Tx+Ij99rwrdwcx1SNnu70Z0fre4ieGqzFONuq61uNrrc/MATTKfNWPXAc8C9NL8Q8pyHwuJUdwo792Rbv4BVU96/+CTYpUdeVsZdd1iCQBAHdr92mHKNXxa3Iw9i/sLhEfO0ivvfmB2uH2gjJdf1sa//ECjh/2rvH16kTb/25Pa4im7udv8RbePGqwe3za7PNop8If9dLOrUMc+ylfOf32g0l4PKvIHO5WR721x5P/4vs5fvX90py59XKTCTz5wtgD97NFhurX9OWXMnaJVf/G8xOF+v3b61j89paSXzS7Hleeqm/vhog/EvqpMM3jk8f5evfK7l/XhHfdrWA/v/Jd7Cu7SiQIVXr5Td9/TT/1+dId63PodnXwvV6fa36AOHXsp9Eff80xNnf1TnjqM/o1Wzx0h/5yXtGzOCv1290ndPPgX+tWyxzWws+eUHu4vR/7Z4lxTk07955v61r/9Qn2dNv497lH/O8rk+rhYh9/dqb25f1V5yCg9FFbfV9W4H6w5UtM2nTZ1Jy/l7NTG37VT+ON95H7rdp37aPDQH6i8cKfW/3qNnv/Dpwoc+QstePZxRXzP+5rGX9fqmnZ9/HsM1PAf36izma9p8dJ1euXP/1D/cTOc8Hm/evuEx3aBdynsO8UqOHZSRwo/1eUfP6jxP2rlITUAwHXvhq8cplxD7mEzRwIAAIA6sSgdAADAEoEKAADAEoEKAADAEoEKAADAEoEKAADAEoEKAADAEoEKAADAEoEKAADAEoEKAADAEoEKAADAEoEKAADAEoEKAADAEoEKAADAEoEKAADAEoEKAADAEoEKAADAEoEKAADAEoEKAADAEoEKAADAEoEKAADAEoEKAADAEoEKAADAEoEKAADAEoEKAADAEoEKAADAEoEKAADAEoEKAADAEoEKAADAEoEKAADAEoEKAADAEoEKAADAEoEKAADAEoEKAADAEoEKAADAEoEKAADAEoEKAADAEoEKAADAEoEKAADAEoEKAADAEoEKAADAEoEKAADAEoEKAADAEoEKAADAEoEKAADAEoEKAADAEoEKAADAEoEKAADAEoEKAADAEoEKAADAEoEKAADAEoEKAADA0g1fOUy5htzD2abURGf3KmFEkvaZ6hWGJWrX8qEKUJE2h85QitntFaMN+RMUYmoAAKA1lCn/rVwFjR7g9M91K9w4RI9d2XFXit2UpUlOB16SsVAjEw+YvV6DktK0PLKTqbUtLTtCdetQLc/epLkjrvzjjVu3R4c8YcotWJPy07V2Sk8pIFyxKWnaT5gCAKDVlRXu0PrcMlOrW8iULO1aU62vHjhbb+Z7w5RbQOQiHUqfrUFOOeShRG3JzGqzYcqt5af8/O9QVMIzioswdcf2lFTlXzAVj1KVlIZr7e+f0aTQTvIzewEAQCtx7VXS7FQVmmpDAiJitDJ5VNVI1v5UrUj/2FS8ys6e0y2Jm7RuzlD1utnsbKNaZw3VTT01LiHRk1I9nAS8MCXXiVFuxdqXtE0aH6PQNv7HBgDgmnShQCmJScooMfVG8h8cq+XuGSaPc8pZnKztx721ssKtSir4seJG3/GNGChp2TVU1bjeWaifLaiYT+2k6JXPK/J4ig6HJ2pSCONSAADUyQko90xONRVp0IK1ir7wjta/9Y4KP+miiIlxmh0XrkBzvFLpx8rYlKJNu3J1qqSTug0cpsnTJyiye0fv8bMHtGzqQqV/4q1WaeR65ktFSpkyQ5tNkFJIrLYkBShtozRpwdCav08b1ap3+QWOiNWiyvVU55QWP17bAmMJUwAANCRkgt5cMMBUpH2Z/61/GT1b6xLGKkDFytnytDZnXzRHDSfsbI6brIVbSjV8xR4dyn1e4/x2aOFDU7Us+5y3za0DNPettYr11rw3jeVn6VBj1zPfFKyYp2Oq2hamaOLsj3X/7G9OmHJr5ccmdFFk7DRF+tw6UHj0tJn6AwAA9enQwRQcg0YOUy9/yS+oZ2WYSf/otCl5HX/7BaW4F0X1GqgI9+BFuy7qP2yos6NY6cvfVn7D688bxS9krOJig03NcfxPKvx/pvwN0cqByhE4VFOnVyXskrRkrd9fLVEDAICr92GxqpZBnVDOy0XeYteAysXjAZ3v8BZKtiqnoJkSlfwUMu5RTepmqirSmmd2qGIW8Jug9QOVk4rzjwRonO/UX9Jq7TtrqgAAwN7Z0/qggUXmrgvNN6BRVligcxGjrpj6S950Qs0V2a51rRyoylS4aac6TIlT3IyZVVN/JXuVvPaAT6oGAADXDddepRTdo9nxsZozvWrqr3Ddam0v+mZEqlYNVK6MNToYHKNI9yq1Wwcobk7Fwz2dTPXOaq3JNAvkAACAnVu76k6fNcuVyqsCzi03NsNNYe6F7xsvK3pysPyc/3qNn6nYymGqIqUk79Dxb0CmarVA5cpYoc0ar9jwqosXMGyOllcuYjunjOQXleEyVQAAYKGnIsabZ0SVXtZlb0kln5mHbwaMUkQf8+iEpip1wlTSn3T37BFVd/T59dSkpMSqWajCVCVvKWrzU38tHqjKLpxQxson9VhiqX4YXD0q+ykk+iFFm5p76m/h9BVKP84idQAAqrtckYocFy+Ye+RLS1XZa5ZXBSe3XtFmtCj3Hf2h0Ik05cU6mO1+HmQnRcaPUUTlA7W/q04V32iS+bFcTruMtNy6Q1B5mVz5O5QwcYaybr9L3XzuPvQIHKrxv/CZ+ktZoPiUXJW04VTVog/2rO2LEau+FNlR7SFlvtryFygCAHDVaukzB8XGSCmp2mfqHrFrdWiKzyMMajzYc6CiJ8Youm+10SlXrtYsX6PtOZfVLXKCFieOUq+bzLErFGlz6AxV/27kii9F9sw4JURrYaZndzWNfFjodahVn5QOAADQFn0Nj00AAABoWwhUAAAAlghUAAAAlghUAAAAlghUAAAAlghUAAAAlghUAAAAlghUAAAAlghUAAAAlghUAAAAlghUAAAAlghUAAAAlghUAAAAlghUAAAAlghUAAAAlghUAAAAlghUAAAAlghUAAAAlghUAAAAlghUAAAAlghUAAAAlghUAAAAlghUAAAAlghUAAAAlghUAAAAlghUAAAAlm74ymHKNeQezlbvniGmBgAAmurYiUL61DaMESoAAABLBCoAAABLBCoAAABLBCoAAABLBCoAAABLBCoAAABLBCoAAABLBCoAAABLBCoAAABLBCoAAABLBCoAAABLBCoAAABLBCoAAABLBCoAAABLBCoAAABLBCoAAABLBCoAAABLBCoAAABLBCoAAABLBCoAANq889qdMFzDfldk6mhuN3zlMOUacg9nq3fPEFNrwOcZmjv2t3rPVOsyZvUeTW3kKQEAaCuOnShsfJ/q4Q5Bj+i5OjrWq+tPzbn+daUyHw82+9Ccmi9QlX2mosJiXTZV/S1P65e+oS5PLFdUkNnnCOjRV12/YyoAAHxDNDlQ/e1BzZ0Spu+avRWurj8lULW05pvy8+us4Lv7ql/F1qerOjm7b+vts8/ZCFMAAFyF73S9oh+lP702sYYKAADAUusHqsINGjZkvnafOa+CV+ZrzMjhGpaQofPOofO75zvHNqjmkrm6F9OdP/KGls18RPcNcY6PfERxz7yhgnPmIAAAbV2505++9qzmTIp2+lDTF67K0OkvzPH6nDui159JUMxo53XOa+8bG69lWZ+Zg4Y5f9zY+6vavHZE58vNcXh8TSNUX6pg47P6Y/d4vb5rjzKXR9aYG26MM04AGxe/WWd6T9Ki5OVKTnxEd/xls+b8/Fkd+JtpBABAG1b00iOa8/vz6vHQr5Ts9IXLpv5EF9N/q6lJ2Z7Bijr97Y9a9vMEbTvXVxPmOX1o8hLFDfu2Cj4uMQ0c5Z9p98KJmvPKZ7pr8gLP+RdNuF2nX0nQuGf+qIumGb62QHVERXc8pl9GNCVGGZ9naE1ynvo9uVFrnojUT9xzyhFRenLNEo35TrbW7/rINAQA4Dr23m81xj3y5LuZmR2PoCeUun25pt4X5llb9ZOo/61fP9FdX+Zk6NAZ06YW59/LUNYXfTX1yYc1xLMuK0z3Pb5Er0+sWrR+/g9r9VxOXz350sorzv980oMKyNqgdLraSl/bGqoBId1NqWlOH0jXe4rSqHs7mz3Gjc7F/ql05uiH9SdzAACuB70f1Fz3LIzvNrGvOprDwfdGqeuNpmJ07d3X+feITv/VW69Nx05d1F7v68DhalN87cxPndb+9DwpKkrDbjO7jPYhYRqgz/Tfx+lpK3xNgaqvula7OFfr4l/dsThdc4dXS+3ONifNOfTeaRV7WgIAcB2r7S6/4M5OGDLKv9SZY9nauWmznl84XbHTHteomW+Yg3Vr39cJaiO7quC5X+i+sfO1fneRzpSZgx4XnfM6P9Lne9cp+273Juh159B7n9DTVviaApXzv8G3TNFGUFTN1F65RaqraQYAQJv0RZFSY3+mCfG/094zX+rb/ytKMVOe0LJZkaZBPdp11oAn1yl9+3LFRkiZa+M1YfR0pRZ+aRp4dR3tXZtV63YvPW2Fr23Kr26ndab6XXrlxTpdaMqGX8fO0kmpY0i11F65da0cDgUAoC06v+9Vbf/IvcbpVa15+jHFPOxdUxzctfE9YPvb+uqBWUv0+u/XaWrIR9qesFlFnjv4Osj/NqdXLu+oH9boY80WRE9b4ZoKVB0Dujj/HtH7H16Zjr88vE9vV7v9s8fd9+k2pevtd6vN/QIA8A1RfOaI829X3fY9b93rS723L92U61H9sQcdu2vAgL7SF+dU4ulzu+sn93WW0tOVWc/idnhdU4Gqfd9BGtf1S+1cNEvPpeep4PARZb22VFO3SCPc6+t8uRfpPdxV7z03RbFL31CW09bdviArXeufidf2aiNaAAC0NT373Kf2ekPPL67oB7O1fc5EZV4MNy3qdv4P8zVm3gbtzqnoP1/TcxuPqH3UEN1jBp56RP9KY7rm6blHp2vZa9neds6Wlb5By2a8VstzI7+5rq0pP79gxaxcrpjQL3Vg1XzNmbNUb58J06+TH1EPP9OmUnsFP7pSKfOi1OXDV7VsToLTfr6WvZqjkqBHNKSHaQYAQBvV/u7HtH5OlDr+382efnDus1kqHb1Kcx+odgd8LTr2ClO/y3laP8/dfyZo0ZYj6jp5pbb/MqxqwfuNwZq6dp1zvi768PfPetrNWfCsdhw4p57jBqunaYbm/HJkAABQp6v/cmRcT67BRekAAADXFwIVAACAJQIVAACAJQIVAACAJQIVAACAJQIVAACAJQIVAACAJQIVAACAJQIVAACAJQIVAACAJQIVAACAJQIVAACAJQIVAACAJQIVAACAJQIVAACAJQIVAACAJQIVAACAJQIVAACApRu+cphyDbmHs00JAAAAdWkwUIXfPdjUAABAU9Gntm1M+QEAAFgiUAEAAFgiUAEAAFgiUAEAAFgiUAEAAFgiUAEAAFgiUAEAAFgiUAEAAFgiUAEAAFgiUAEAAFgiUAEAAFgiUAEAAFgiUAEAAFgiUAEAAFgiUAEAAFgiUAEAAFgiUAEAAFgiUAEAAFgiUAEAAFi6hgNViXbGhSp0zVFTBwAAuDY1c6AyISi09m3VEdMMAADU7exOzaylH62+0a9eO274ymHKNeQezlb43YNNrTHcgSpSSy5M0NLp/RVg9la4pXeYgm42lQaZc/VIVX5cH7MPAIDr01X1qWUuHS34VJdNVRcOalXiVn0//kWN6W72Oa6uX0VLapkpv5uDFBYeVmPjogMA0Ah+gerj24f2C9Itzu7AYJ99zka/eu1gUToAAIClrydQlZcob8s8TYse7J0HHhipmOU7dfKSOV6fkjxtXTBNY4Z5548jRsRoXobLHDTM+WNGRFS12ZKnknJzHACAtuDIKqefm6mdLqff2zhTkQOdvjFup0qcQyXpM51jq1Tz1q66b/oqyd+qeVMiFVHRNy/Yqjz3ydCgryVQHV0XqWlbStR74lK9uO5FrY77qUrTlmj8vD2e/wnqdCFL80ZP00slYXo06UXntav1q+H+yjv5uWngKHdp55z7NW2jS31ikz3nT44J0smN03T/giyVmmYAALQNZcpbN0/ZvRYoY3++8tc8UGMNc2O4nAB2f+wLcgU/oWSn73xx6aMK+vAFTRs9T1kXTCPUqWUCVc4SRbrTre9mErNHj6f0evqLmhXV3zMH3D96vn4T31tl+3fqj9UGm3yV5OzUnkthmpUYo+Ge+eP+eiButTIeq1q0XrLrWS3ZH6b5r6Vecf5NKyfoloxVev24aQgAQJuQp6NBs/TUwKbEKOPsTj27+KDCEtOUGv+A+rv72IFjNX/jak24eY9WvXXMNERdWiZQBU/QUne69d0eC5O/OdxnxFgF3WQqRlBwmPNvnk6e9dZr4x/wffnpz8rKrZa62pmfOqm9aQel6LG6L9DsMvz69dcQufTnDxi7BAC0LUP69jalpjmZvUMHNVZjR1brPG8KU/9Bkqvgg/pnkNBCgaq2u/xCAp0wZJSXyVW0RztSXtBv5ozX+IljNHjKVnOwbn6hTlAbHaS8pChFjJipVelH5SozBz1KnfM6P9Jmeud/fbfwaXK/w8FTn3paAgDQNoQpqFoOulqln7lHoHZoZkS1vtPZpm13DuWcFL1n/Vp/DdWlo3rh54MUFftb7XHSUMeQsXpi+lNanfCAaVCPdoEakrhN+9zThQOl3StiFDVsvF44ckWqUtBD3rVZtW4jg0wrAADaAj/pW6Zoo/vYmrNLldsDovesX6sHqpLMl5R63L3GKUOpi2fpiYneudo+3SomBBvmFximsQmrlbFrm2b1PabUuBd01HMHXwf9i5PST5b760fVR8gqtu6Nfx8AAK5vJ+WqPldX/qlOVnvCegd/p/P8SPLvV0u/6dmCKpftoHatHqg+deU5/wYpsLO37lWmg5k7TLke1R974N9bQwaHSZc+1+eeRy70Vv8o53+KtB3aXc/idgAA2jr/W77v/Juno8eunMUpy92jHdUeU9Q7fJQCtUM7dtF5NlWrB6o7+42Sn7bqNwlbtSc3T3nOhU2dfr92l/7UtKhbya6ZioxfpZ373a9ztoxULVmXJ7/o+/RTE517j1uqCd0OasnD4zVvyx5vO2fbk7ZK8yan1vI8DgAA2h6/0OGK6VamHQmTtSTtoLcv3PKUxm+QRoWaRhXcN5NNDNLBpGiNT6zon9397A6tWhCjVL4zsEGtHqj8wmdp24Kx8n//Bc2bPk0zF+3W/zy0SUvHNLyizv/O/gq7fFCr4qdpmvPapzbkKSg2Vf8xp3/Vgveb+mjWpm1aGv19HXM/PNRpN23OPL2S/bnunDxcd5pmAAC0aX599MT6F/VEeJmyls90+sOntMPVX79Z96h6V3aaFfzUZ3qqtiWN1fePveTpn6dNn6l5L2fr8x6Pangv0wx1auYvRwYAALWhT23bWv8uPwAAgDaGQAUAAGCJQAUAAGCJQAUAAGCJQAUAAGCJQAUAAGCJQAUAAGCJQAUAAGCJQAUAAGCJQAUAAGCJQAUAAGCJQAUAAGCJQAUAAGCJQAUAAGCJQAUAAGCJQAUAAGCJQAUAAGCJQAUAAGDphq8cplxD7uFsUwIAAEBd6g1UAAAAaBhTfgAAAJYIVAAAAJYIVAAAAJYIVAAAAJYIVAAAAJYIVAAAAFak/w+Gm9bECzptvwAAAABJRU5ErkJggg==)"
      ],
      "metadata": {
        "id": "JQs0szSkzVa9"
      }
    },
    {
      "cell_type": "code",
      "source": [
        "#False and True\n",
        "#False or True\n",
        "not True"
      ],
      "metadata": {
        "colab": {
          "base_uri": "https://localhost:8080/"
        },
        "id": "A2oZ73mwymfH",
        "outputId": "2acaf869-6751-4b78-a1aa-ea76da06d073"
      },
      "execution_count": null,
      "outputs": [
        {
          "output_type": "execute_result",
          "data": {
            "text/plain": [
              "False"
            ]
          },
          "metadata": {},
          "execution_count": 37
        }
      ]
    },
    {
      "cell_type": "markdown",
      "source": [
        "The in keyword of Python is a robust confinement checker, also known as a membership operator."
      ],
      "metadata": {
        "id": "fE5UF-gSzrld"
      }
    },
    {
      "cell_type": "code",
      "source": [
        "container = \"vinay\"\n",
        "print( \"V\" in container )\n",
        "print( \"w\" in container )"
      ],
      "metadata": {
        "colab": {
          "base_uri": "https://localhost:8080/"
        },
        "id": "V_yaXPUbzjLr",
        "outputId": "2e69de50-5663-4553-9945-6c9397aee394"
      },
      "execution_count": null,
      "outputs": [
        {
          "output_type": "stream",
          "name": "stdout",
          "text": [
            "False\n",
            "False\n"
          ]
        }
      ]
    },
    {
      "cell_type": "markdown",
      "source": [
        "In Python, it's used to check the identification of objects. The == operation is used to determine whether two arguments are identical."
      ],
      "metadata": {
        "id": "yAz08itRz1fN"
      }
    },
    {
      "cell_type": "code",
      "source": [
        "print( True is True )\n",
        "print( False is True )\n",
        "print( None is not None )\n",
        "print( (9 + 5) == (7 * 2) )"
      ],
      "metadata": {
        "id": "xqoUWZ4wz14L",
        "colab": {
          "base_uri": "https://localhost:8080/"
        },
        "outputId": "80d24c4d-a5aa-4746-8086-661536b43b8a"
      },
      "execution_count": null,
      "outputs": [
        {
          "output_type": "stream",
          "name": "stdout",
          "text": [
            "True\n",
            "False\n",
            "False\n",
            "True\n"
          ]
        }
      ]
    },
    {
      "cell_type": "code",
      "source": [
        "print( [] == [] )\n",
        "print( [] is [] )\n",
        "print( {} == {} )\n",
        "print( {} is {} )"
      ],
      "metadata": {
        "id": "d2AMxE83z592",
        "colab": {
          "base_uri": "https://localhost:8080/"
        },
        "outputId": "b2aa9da4-12f9-4448-8f07-d0a09b48d822"
      },
      "execution_count": null,
      "outputs": [
        {
          "output_type": "stream",
          "name": "stdout",
          "text": [
            "True\n",
            "False\n",
            "True\n",
            "False\n"
          ]
        }
      ]
    },
    {
      "cell_type": "markdown",
      "source": [
        "Iteration Keywords: for, while, break, continue\n"
      ],
      "metadata": {
        "id": "gj4l8-Yz0AVD"
      }
    },
    {
      "cell_type": "markdown",
      "source": [
        "**The for Keyword**\n",
        "\n",
        "The for loop is by far the most popular loop in Python. It's built by blending two Python keywords. They are for and in, as previously explained.\n",
        "\n",
        "**The while Keyword**\n",
        "\n",
        "Python's while loop employs the term while and functions similarly to other computer languages' while loops. The block after the while phrase will be repeated repeatedly until the condition following the while keyword is false.\n",
        "\n",
        "**The break Keyword**\n",
        "\n",
        "If you want to quickly break out of a loop, employ the break keyword. We can use this keyword in both for and while loops.\n",
        "\n",
        "**The continue Keyword**\n",
        "\n",
        "You can use the continue Python keyword if you wish to jump to the subsequent loop iteration. The continue keyword, as in many other computer languages, enables you to quit performing the present loop iteration and go on to the subsequent one."
      ],
      "metadata": {
        "id": "4gzHaHef0Fki"
      }
    },
    {
      "cell_type": "code",
      "source": [
        "list1 = ['vinay', 'salim', 'Noor', 'Mehose']\n",
        "for element in list1:\n",
        "    if element == 'salim':\n",
        "        continue\n",
        "    print(element)"
      ],
      "metadata": {
        "colab": {
          "base_uri": "https://localhost:8080/"
        },
        "id": "SFq8ib_RQ_Si",
        "outputId": "3f9f24dd-be60-4bdc-ebbe-18bd1a37d493"
      },
      "execution_count": null,
      "outputs": [
        {
          "output_type": "stream",
          "name": "stdout",
          "text": [
            "vinay\n",
            "Noor\n",
            "Mehose\n"
          ]
        }
      ]
    },
    {
      "cell_type": "code",
      "source": [
        "for num in range(10):\n",
        "    print(num)"
      ],
      "metadata": {
        "colab": {
          "base_uri": "https://localhost:8080/"
        },
        "id": "7U59IoI7W3S4",
        "outputId": "7f356661-51eb-453b-d804-2c0ffdfda4eb"
      },
      "execution_count": null,
      "outputs": [
        {
          "output_type": "stream",
          "name": "stdout",
          "text": [
            "0\n",
            "1\n",
            "2\n",
            "3\n",
            "4\n",
            "5\n",
            "6\n",
            "7\n",
            "8\n",
            "9\n"
          ]
        }
      ]
    },
    {
      "cell_type": "code",
      "source": [
        "num = 0\n",
        "while True:\n",
        "    print(num)\n",
        "    num += 1\n",
        "    if num == 10:\n",
        "        break"
      ],
      "metadata": {
        "colab": {
          "base_uri": "https://localhost:8080/"
        },
        "id": "lzbgs-FoWwAX",
        "outputId": "380de085-3551-4f69-f6bd-35db845c6fd8"
      },
      "execution_count": null,
      "outputs": [
        {
          "output_type": "stream",
          "name": "stdout",
          "text": [
            "0\n",
            "1\n",
            "2\n",
            "3\n",
            "4\n",
            "5\n",
            "6\n",
            "7\n",
            "8\n",
            "9\n"
          ]
        }
      ]
    },
    {
      "cell_type": "code",
      "source": [
        "# Program to show the use of keywords for, while, break, continue\n",
        "for i in range(15):\n",
        "\n",
        "    print( i + 4, end = \" \")\n",
        "\n",
        "    # breaking the loop when i = 9\n",
        "    if i == 9:\n",
        "        break\n",
        "print()\n",
        "\n",
        "# looping from 1 to 15\n",
        "i = 0 # initial condition\n",
        "while i < 15:\n",
        "\n",
        "    # When i has value 9, loop will jump to next iteration using continue. It will not print\n",
        "    if i == 9:\n",
        "        i += 3\n",
        "        continue\n",
        "    else:\n",
        "        # when i is not equal to 9, adding 2 and printing the value\n",
        "        print( i + 2, end = \" \")\n",
        "\n",
        "    i += 1"
      ],
      "metadata": {
        "id": "d8Vxhwsz0Auf"
      },
      "execution_count": null,
      "outputs": []
    },
    {
      "cell_type": "markdown",
      "source": [
        "Exception Handling Keywords - try, except, raise, finally, and assert\n"
      ],
      "metadata": {
        "id": "syZrz3Lc0w4j"
      }
    },
    {
      "cell_type": "markdown",
      "source": [
        "**try**: This keyword is designed to handle exceptions and is used in conjunction with the keyword except to handle problems in the program. When there is some kind of error, the program inside the \"try\" block is verified, but the code in that block is not executed.\n",
        "\n",
        "**except**: As previously stated, this operates in conjunction with \"try\" to handle exceptions.\n",
        "\n",
        "**finally**: Whatever the outcome of the \"try\" section, the \"finally\" box is implemented every time.\n",
        "\n",
        "**raise**: The raise keyword could be used to specifically raise an exception.\n",
        "\n",
        "**assert**: This method is used to help in troubleshooting. Often used to ensure that code is correct. Nothing occurs if an expression is interpreted as true; however, if it is false, \"AssertionError\" is raised. An output with the error, followed by a comma, can also be printed."
      ],
      "metadata": {
        "id": "11znkVKJ0x2N"
      }
    },
    {
      "cell_type": "code",
      "source": [
        "4/0"
      ],
      "metadata": {
        "colab": {
          "base_uri": "https://localhost:8080/",
          "height": 141
        },
        "id": "mdsNM77VTm5M",
        "outputId": "5f040514-a125-4bd4-a068-3ebb1fb4d1a3"
      },
      "execution_count": null,
      "outputs": [
        {
          "output_type": "error",
          "ename": "ZeroDivisionError",
          "evalue": "division by zero",
          "traceback": [
            "\u001b[0;31m---------------------------------------------------------------------------\u001b[0m",
            "\u001b[0;31mZeroDivisionError\u001b[0m                         Traceback (most recent call last)",
            "\u001b[0;32m<ipython-input-63-221068dc2815>\u001b[0m in \u001b[0;36m<cell line: 1>\u001b[0;34m()\u001b[0m\n\u001b[0;32m----> 1\u001b[0;31m \u001b[0;36m4\u001b[0m\u001b[0;34m/\u001b[0m\u001b[0;36m0\u001b[0m\u001b[0;34m\u001b[0m\u001b[0;34m\u001b[0m\u001b[0m\n\u001b[0m",
            "\u001b[0;31mZeroDivisionError\u001b[0m: division by zero"
          ]
        }
      ]
    },
    {
      "cell_type": "code",
      "source": [
        "# initializing the numbers\n",
        "var1 = 4\n",
        "var2 = 1\n",
        "\n",
        "# Exception raised in the try section\n",
        "try:\n",
        "    d = var1 // var2 # this will raise a \"divide by zero\" exception.\n",
        "    print( d )\n",
        "# this section will handle exception raised in try block\n",
        "except Exception as error:\n",
        "    print(error)\n",
        "finally:\n",
        "    # If exception is raised or not, this block will be executed every time\n",
        "    print(\"This is inside finally block\")\n",
        "# by using assert keyword we will check if var2 is 0\n",
        "print (\"The value of var1 / var2 is : \")\n",
        "assert var2 != 0, \"Divide by 0 error\"\n",
        "print (var1 / var2)"
      ],
      "metadata": {
        "id": "1VDbY1yw0xX_",
        "colab": {
          "base_uri": "https://localhost:8080/"
        },
        "outputId": "c89b48f6-69ab-4c67-a9ff-aeec19fc4fa2"
      },
      "execution_count": null,
      "outputs": [
        {
          "output_type": "stream",
          "name": "stdout",
          "text": [
            "4\n",
            "This is inside finally block\n",
            "The value of var1 / var2 is : \n",
            "4.0\n"
          ]
        }
      ]
    },
    {
      "cell_type": "markdown",
      "source": [
        "In Python, a null sentence is called a pass. It serves as a stand-in for something else. When it is run, nothing occurs.\n",
        "\n"
      ],
      "metadata": {
        "id": "s9EmxvpH1ADT"
      }
    },
    {
      "cell_type": "code",
      "source": [
        "def function_pass( arguments ):\n",
        "    pass"
      ],
      "metadata": {
        "id": "pxBW4fqg1Ad1"
      },
      "execution_count": null,
      "outputs": []
    },
    {
      "cell_type": "markdown",
      "source": [
        "The return expression is used to leave a function and generate a result.\n",
        "\n"
      ],
      "metadata": {
        "id": "TlpBK9pf1Hq_"
      }
    },
    {
      "cell_type": "markdown",
      "source": [
        "The None keyword is returned by default if we don't specifically return a value."
      ],
      "metadata": {
        "id": "9Cf0ngZb1Mm6"
      }
    },
    {
      "cell_type": "code",
      "source": [
        "def func_with_return():\n",
        "    var = 13\n",
        "    return var\n",
        "\n",
        "def func_with_no_return():\n",
        "    var = 10\n",
        "\n",
        "print( func_with_return() )\n",
        "print( func_with_no_return() )"
      ],
      "metadata": {
        "id": "NaGW0USw1IEY"
      },
      "execution_count": null,
      "outputs": []
    },
    {
      "cell_type": "markdown",
      "source": [
        "#Python If-else statements"
      ],
      "metadata": {
        "id": "sXX2KxDZW6uh"
      }
    },
    {
      "cell_type": "markdown",
      "source": [
        "Decision making is the most important aspect of almost all the programming languages. As the name implies, decision making allows us to run a particular block of code for a particular decision. Here, the decisions are made on the validity of the particular conditions. Condition checking is the backbone of decision making."
      ],
      "metadata": {
        "id": "EP__H7NLdQfU"
      }
    },
    {
      "cell_type": "markdown",
      "source": [
        "![image.png](data:image/png;base64,iVBORw0KGgoAAAANSUhEUgAAAYcAAAH1CAIAAACSlqXjAAAgAElEQVR4Ae2dCXwURfq/a0KuGYTJhCtxUQxyGcJhOOUSgu4u6ID/9WAXD9xFQDlkVYSEw1UigsuVEHAFQRQ5NbBIImsCAgtyCiIGhEQ5FAPhZ4IQg6ibpP7G1qaZma7JvJ00qZlvPnzWnn7rra5+qvrZ7kneGcbxUwkCBQUF6enpiYmJTqczNjbW4XAE/fbjcDhiY2OdTmdiYmJ6enpBQUEl+kMTEAABXQJMN4IA54WFhampqT179rTb7U6nMzk5ef369Tk5OUVFRaWlpZzz0tLSoqKinJyc9evXJycnO51Ou93es2fP1NTUwsJCIAQBECAQgJU8Qzt16tSYMWOCgoKGDBmyceNGz4109m7cuHHIkCFBQUFjxow5deqUTivsBgEQ8EwAVvLAJTk5OTg4OCkp6dy5cx7Cldt17ty5pKSk4ODg5OTkymWgFQiAQAUBWOmqdXDkyJEePXoMGjTo5MmTVwWoL06ePDlo0KAePXocOXKE2gfyQCCwCMBKV+Y7KyvLbrfPmzfvyq4q2po3b57dbs/Kyqqi/tANCPgzAVjp19nNysoKDg7esGFDNc32hg0bgoODIaZqwotu/YkArFQxm0ePHo2IiKg+JSkrZsOGDREREUePHvWnBYRzAYEqJwArVSBNSEiYO3dulcN173Du3LkJCQnu+7EHBEBAJQAr8QULFvTv318lUt0b/fv3X7BgQXUfBf2DgLwEYCUeExOzc+dO06Zw586dMTExph0OBwIB6QgEupXWrVvXt29fk6etb9++69atM/mgOBwIyEIg0K00dOjQtLQ0k2crLS1t6NChJh8UhwMBWQgEupXi4uIOHjxo8mwdPHgwLi7O5IPicCAgC4FAt5LNZispKTF5tkpKSmw2m8kHxeFAQBYCAW2lsrIydu1+ZFkiGCcImEwgoK3EOce9kskLDocDAa8EAt1KeF/J6xJBAxAwmUCgWwm/gzN5weFwIOCVQKBbCX+v5HWJoAEImEwg0K3EOf622+Qlh8OBgBcCsBLq4LwsEYRBwGQCsFIFcHxmgMnLDocDAQEBWKkCDj5fSbBEEAIBkwnASr8Cx2dRmrzycDgQ0CMAK10hg8/tvsICWyBw7QjASlexx3ecXIUDL0DgWhCAlTxQx/fBeYCCXSBgFgFYyTNpfHeuZy7YCwLVTwBWEjEuLCxMTU3t2bOn3W53Op3Jycnr16/PyckpKioqLS3lnJeWlhYVFeXk5Kxfvz45OdnpdNrt9p49e6amphYWFoq6RgwEQECHAKykA+bq3QUFBenp6YmJiU6nMzY21uFwBP3243A4YmNjnU5nYmJienp6QUHB1al4BQIg4BsBWMk3XmrrF154YcqUKepLbIAACFQVAViJSHLq1KmwEpEd0kBASABWEuLRDyYnJ0+ePFk/jggIgACRAKxEBPfiiy9OmjSJmIw0EAABfQKwkj4bYWTatGkTJ04UNkEQBECAQgBWolDjnL/00ktJSUnEZKSBAAjoE4CV9NkII9OnT09MTBQ2QRAEQIBCAFaiUOOcz5gxY8KECcRkpIEACOgTgJX02QgjL7/88vjx44VNEAQBEKAQgJUo1H7+Irl//vOfzz77LDEZaSAAAvoEYCV9NsLIzJkzx40bJ2yCIAiAAIUArEShxjmfNWvWM888Q0xGGgiAgD4BWEmfjTAye/bsp59+WtgEQRAAAQoBWIlCjXM+Z86cp556ipiMNBAAAX0CsJI+G2Fk7ty5f//734VNEAQBEKAQgJUo1DjnKSkpY8eOJSYjDQRAQJ8ArKTPRhhJTU198sknhU0QBAEQoBCAlSjUOOfz5s0bM2YMMRlpIAAC+gRgJX02wkhaWtqoUaOETRAEARCgEICVKNQ45/Pnzx85ciQxGWkgAAL6BGAlfTbCyIIFC5544glhEwRBAAQoBGAlCjXO+SuvvPL4448Tk5EGAiCgTwBW0mcjjPzrX/8aMWKEsAmCIAACFAKwEoUa5/zVV18dPnw4MRlpIAAC+gRgJX02wsjChQuHDRsmbIIgCIAAhQCsRKHGOV+0aNFjjz1GTEYaCICAPgFYSZ+NMPLaa68NHTpU2ARBEAABCgFYiUKNc7548eK//e1vxGSkgQAI6BOAlfTZCCOvv/76X//6V2ETBEEABCgEYCUKNc750qVLH330UWIy0kAABPQJwEr6bISRN954Y8iQIcImCIIACFAIwEoUapzzN99885FHHiEmIw0EQECfAKykz0YYWbZs2cMPPyxsgiAIgACFAKxEocY5f+uttx566CFiMtJAAAT0CcBK+myEkeXLlz/44IPCJgiCAAhQCMBKFGqc8xUrVgwePJiYjDQQAAF9ArCSPhthZOXKlX/5y1+ETRAEARCgEICVKNQ456tWrfrzn/9MTEYaCICAPgFYSZ+NMLJ69epBgwYJmyAIAiBAIQArUahxztesWfPAAw8Qk5EGAiCgTwBW0mcjjLz99tv333+/sAmCIAACFAKwEoUa5/ydd9657777iMlIAwEQ0CcAK+mzEUbS09PvvfdeYRMEQQAEKARgJQo1zvnatWv/9Kc/EZORBgIgoE8AVtJnI4ysW7funnvuETZBEARAgEIAVqJQ45z/+9//HjhwIDEZaSAAAvoEYCV9NsLI+vXrBwwYIGyCIAiAAIUArEShxjnfsGGD0+kkJiMNBEBAnwCspM9GGMnIyLj77ruFTRAEARCgEICVKNQ455mZmXfddRcxGWkgAAL6BGAlfTbCyHvvvde/f39hEwRBAAQoBGAl36j169dv1KhRP/zww8aNG/v166e8wRQREeFbL2gNAiCgTwBW0mfjKfLUU0+Fh4fXqVNnyJAh8b/8WK3Whg0bemqLfSAAAhQCsJLP1BwOB2PMarUGBwczxhwOx9KlS33uBQkgAAI6BGAlHTD6u+fMmWOz2dhvPzfddJN+W0RAAAR8JgAr+YyMcx4ZGalIKTIycvHixZQukAMCIKBDAFbSASPcnZKSotwuRUdHCxsiCAIg4DMBWMlnZEpC/fr1w8LCFi1aRMxHGgiAgA4BWEkHjLfdTz75pNVq9dYKcRAAAZ8JwEo+I1MSjudfGD1n6/H8C8R8pIEACOgQgJV0wAh3F128PGnRrkUZxyYt2lV08bKwLYIgAAK+EYCVfOPFOS8vL5+16uOVW07mFZSu3HJy1qqPy8vLfe4FCSAAAjoEYCUdMPq7l2QeWZRxLK+gVPm3KOPYkswj+s0RAQEQ8I0ArOQbr3d3HJ/79qeqkpSNuW9/+u6O4751hNYgAAI6BGAlHTCedu84lD/1jX05p39wsVLO6R+mvrFvx6F8T0nYBwIg4BsBWKmyvA6fKBw3f8euYxddlKS83HXs4rj5Ow6fKKxsd2gHAiCgQwBW0gFz9e78b0qemb8968D/eVSSsjPrwP89M397/jclV6fiFQiAgG8EYCXvvL7/4X/Jb+xbu+O0QElKaO2O08lv7Pv+h/957xQtQAAEdAjASjpgNLsXrD30RtYXXpWkNHgj64sFaw9psrEJAiDgGwFYyQuvlZty5//7cCWVpDSb/+/DKzfleukXYRAAAR0CsJIOmF92Z+/7csaKj31SktJ4xoqPs/d9KeoaMRAAAR0CsJIOGM4/Onpu0qLdB45fIljpwPFLkxbt/ujoOd3eEQABENAhACt5BqMU327LOU9QkpKyLec8ync9w8VeEBASgJU84FGKbzP2nCErSUnM2HMG5bse+GIXCAgJwEqueLTFtwathPJdV7h4DQKVIAAruUJyKb41LiaU77oixmsQEBKAla7C47H41riYUL57FWW8AAEhAVjpCh694lvjVkL57hXK2AIBbwRgpV8JiYtvjYsJ5bveliLiIPArAVipAkRlim+Niwnlu7jsQKAyBGAlXvniW+NiQvluZRYl2gQ4AViJ+1R8a1xMKN8N8EsOp++VQKBbiVB8a1xMKN/1ui7RIJAJBLSVyMW3xsWE8t1Avupw7mICgWslI8W3xq2E8l3xukQ0kAkEqJWMF98aFxPKdwP5wsO5CwgEopWqqvjWuJhQvitYmggFLIGAs1LVFt8aFxO+fTdgrz2cuB6BgLNSlRffGhcTynf1Vif2ByaBwLJSNRXfGhcTyncD8/LDWXskEEBWqr7iW+NWQvmux9WJnYFJIFCsVN3Ft8bFhPLdwLwCcdbuBALCSuYU3xoXE8p33Rco9gQgAf+3kpnFt8bFhPLdALwIccouBPzfSiYX3xoXE8p3XdYoXgYaAT+30jUpvjUuJpTvBtp1iPPVEvBnK13D4lvjYkL5rnaZYjugCPitla5t8a1xK6F8N6CuQ5ysloB/WqkmFN8aFxPKd7UrFduBQ8APrVRzim+Niwnlu4FzKeJMVQL+ZqWaVnxrXEwo31UXKzYChIC/WakGFt8aFxPKdwPkasRpKgT8yko1tvjWuJhQvosrNnAI+I+VanLxrXEroXw3cK5JnKmfWKnmF98aFxPKd3G5BggBf7CSLMW3xsWE8t0AuSwD/DSlt5JcxbfGxYTy3QC/YgPh9KW3knTFt8bFhPLdQLgyA/kc5baSpMW3xsWE8t1Avmj9/twltpLUxbfGxYTyXb+/OAP2BGW1kuzFt8athPLdgL1o/f7EpbSSfxTfGhcTynf9/voMzBOUz0r+VHxrXEwo3w3M69a/z1oyK/lf8a1xMaF8178v0QA8O8ms5JfFt8bFhPLdALx0/fiUZbKSHxffGhcTynf9+CoNtFOTxkr+XXxr3Eoo3w20S9ePz1cOKwVC8a1xMaF8148v1IA6NQmsVPOLb9vFd45rG69oJa5tfLv4zh4VIwh5bE/YifLdgLp6/fVka7qVaMW32Ts/G/zo4zc1bR4ebq1rj4ht0/7ZKdMP5BURrvPKpOhZ6Z2Nu6y22moPJlgpr6AU5bv+eq0GznnVdCsRim9nLVgWGhrWK+GPq97976ETF3ceOv3S3NcckfWbtYjdcfBL1RFVuKG1krbbpOdnaq2kDVXrNsp3A+cC9sszrdFWIhTfrt+0PzgkpP/AB3LP/k975a/ftD8sLLxXwh/Vna8sXdu+Qxer1RYebo1rGz/7lbfUUJv2HXv2+f2y9E1tb+0UHm5t0Cj6wb+OzPmyRGlw7MxPj49NatAwKjQ0rFXrtgteT9daSb0huq1nAvvtp2ef3+cVlKohpR/yANRxCjZQvuuXl2uAnFTNtRKt+Laf875awcE7D512v2IfHjr6j3ffe+jExbyC0pSFKxljI8ZM+PCTr/YcOTv+uRmMsekpi5WsDl26R19/w60du/5700eHTlyckbqEMTZu8ktKdOz45y0Wy4uzXj2QV7Rxe07X7r0jHPU8vq/0/x54RHuvpLWSkQG4n5rHPSjfDZBr2P9Os4ZaiVx8a7c72nfo4vEq1e688aabVY8o+zt06f67xk2U7c639WKMbdyeo6Y0iWnWtUefvILSY2d+iqzXoFuvvmooe9dRxpjam1Y9AiuRB6Ae1+sGynf973INkDOqoVYaPWdr+g4P9zviS/HQiYuMsbvuGSRutu3ACeVGSdts1NOTGWNb9x/PKyjtfFuv+g0aaaMdu/Zo1iI2r6D0g715jLFRT0/WRqOiG/tkJSMD0B7X63b6jtO/PUTiv5UiEBYW1rhx44SEhMmTJ+/bty9ALFDTTrOGWol2r3ToZDFjrP+A+8WX65rMDxljE6fO1jabMi2FMbYm80PFSs1bVjhI/df5tl4xN7fMKyhdnbHDPbd1m1t9spKRAahD8rqBeyXCxVZWVpafn5+dnZ2UlBQTEzNgwIDDhw8T+kGKEQI11Eqcc9r7SvXqN4xt0158xb793k7GWNILs7TNJr84lzH2zsZdXqy0YTtjbFLyHG1ubJv2PlnJyAC0xxVv430lIxeGkjt79myr1ZqRkWG8K/RQeQI110qcc8Lv4O554GGLxbIue5/7FZuycGWvhD/sysnffvAUY+yxkeO0bR4fm8QY237wlNhKWTuPuD/B1avf0CcrGRmAdsyCbfwOrvLXgLhlZmamzWbLyckRN0O0CgnUaCtxzn39e6X3/vtpaGhYhy7dPzt9WXvR7jj4ZVR04zbtOx4781NeQWnTZq1uiWunbdD21k7KM5rYSke//qGuPaJH7zvV3Mxth/Te7b73z49arTa1pfaNcPIA1N4EG/h7pSq8Qjjns2fPHjBgQHl5edV2i970CNR0KxH+tjv1tdVhYeHxnbstS9/0yfEL+46em7d4TeMbY7R/RfnK0rUWi2XkU5P2HDm758hZ5Zf9C15PVy71zrf10ntfKa+gdOjIZywWy/Mz5n/8+fnMrZ/Ed+6md6/0xN8nKr/LU/4cQWslIwMQ+Ah/26230A3ub9q0Kd78Nsiw8uk13Uqcc0Id3OY9uQ8++oRScWK3O9q075j0wqxPjl/QXs8L33q3XXzn8HCr1WqL79zttRUZalRspSOnv390+NjIeg1CQkJbtGo9b/Ga2/v2a3FLnJKuVc+2AydatW4bHBLS9tZO7n9FSR6AOk73DdTBVX7p+9QyKSlp8uTJPqWgMZmABFbinOMzA9wF5L4HnxlAvgy8JmZnZyckJOAhziuoKmkgh5U45/h8JXcNaffg85Wq5HrQ6yQ/P/+GG26AlfT4VO1+aazEOcdnUWo15LKNz6Ks2gvDpbeysrLw8HBYyQVLNb2UyUqcc3xut4uMlJf43O5qujy03VosFlhJC6T6tiWzEr7jxN1K+I6T6rs8tD3DSloa1botmZU45/g+OK2Y8H1w1Xp5aDuHlbQ0qnVbPitxzvHduYqY8N251XptuHQOK7kAqb6XUlqJc04r39XeZci+jeLb6rsqPPYMK3nEUh07ZbUSuXxXdhmp40fxbXVcD4I+YSUBnKoNSWwlWvmuelVLvYHi26q9DCrTG6xUGUpV0kZuKxHKd6WWkTJ4FN9WydL3tRNYyVdi5PbSW4lQviu1mPDFSuS1bjARVjIIsPLp0luJVr4rqZhQfFv5lV3lLWGlKkeq16E/WClAyndRfKu3iM3ZDyuZw5lz7idW8vvyXRTfmnZJ6B0IVtIjU+X7/cdK/l2+i+LbKl/6vnYIK/lKjNzer6zkr+W7KL4lr+8qTISVqhCmuCt/s5L/le+i+Fa8gk2LwkqmofY3K/lZ+S6Kb027ErweCFbyiqiqGvihlfymfBfFt1W1yqukH1ipSjBWphP/tJIflO+i+LYyy9fMNrCSabT91kqyl++i+Na0a6CSB4KVKgnKeDN/tpK85bsovjW+squ8B1ipypHqdejnVpKxfBfFt3qL9druh5VM4+//VpKrfBfFt6YtfV8PVEkr9e7dmzHWt29f9asHZs6cedNNN4WGhkZFRf3www++HrfK299xxx3aEboP2OWIXhu4tDf+0v+tJFH5LopvjS/o6uuBZqVDhw79/P3v7Lef77//vvpGWMmexVYqLy9v1qxZkyZNVKvCSpUE63Ozmv/tuyi+9XlSzU2opJVcBpWZmalYKSsr68cff3SJXpOXLlZyGcMHH3xgsVi0VnJpYMLLgLhXUjjW5G/fRfGtCWvd4CEqaSXtncU999zz203Sr//1eK+0f//+AQMGOByO2rVrt23b9uWXX758+bI62ry8vEceeSQ6OjokJKRhw4b33XffwYMH1Wjnzp0ZYyNHjjx8+HBCQoLNZouKipo1a5Z6p8M5nzdvXtOmTcPCwtq1a7dx48Y777xT7wmua9eu2gHfe++95eXl2jNSjluZIT3xxBM5OTl6Q1LH73EjgKxUk8t3UXzrcXXWqJ3VZKXt27eHh4drXcAYu+uuuxStHDx4MCIiwiVqtVr/+9//KnBuv/12xpjT6YyKitI2W7FihdJg4cKF2kfIsLCwZs2aGbGSkSFpXSmY3MCyUs0s30XxrWCB1pwQwUqc84yMDEUKn332mcdzadeuHWMsOjr6o48+unTp0syZM0NDQx0Ox969eznnt912G2PMbrdnZGR899132dnZDoeDMRYXF6dc4cqNDGNsxIgR33zzTVZWluK4fv36KQ2aNGnCGGvQoMHu3bsvXLjwzDPPKONR3493uRUaPXq0yxOcS4PKD2n48OEeh+SRg3ZnwFmpppXvovhWuxxr8nZ1WOnEiROKI1544QX3c//qq6+U6Pjx49W7jIkTJyo7v/jiC865ogyHw6E+G951112MsVatWpWXl+fn5yuNJ02apPTw008/XX/99Xr3SpxzsZWMD8n9NN33BJyValT5Lopv3Vdkjd1THVbavHmzYo3Vq1e7n7gaVR/HKv4weOVKJWXTpk2qlbp166Zq64knnlBvdvbu3as0fuutt9T+f//735OtpB2SesRVq1ZVfkjqMAQbgWilGlK+i+JbwbqsgaHqsNKmTZuU63nlypXup6wqYPny5Wp0+fLlSsoHH3ygWkl9HHO52dmzZ4+7lfr27WvcSsuXL1ettGLFisoPST0RwUaAWumal++i+FawKGtmqDqs9PnnnyvX85QpU9SLXD39U6dOKdFx48ap0fHjxys7v/rqK69W+vLLL5XGEydOVHq4fPly/fr1vVrpxhtvVI+ofV/J+JDUsxNsBK6Vrm35LopvBYuyZoaqw0qc89jYWMZYw4YNd+/eff78+YULF4aEhNStWzczM5Nz3qVLF8ZY3bp133///ZKSkszMTLvdzhhTH9m0ylC4ad8YKi8vv/nmm7XvditRgZXGjh1rsVhCQ0Nzc3OV96pcDmFwSJWZ3IC20rUq30XxbWWWZk1rU01W2rx5c2hoqPaX+oyx7t27K7UpBw4cUDSkbWC329U/WXJRhssTHOc8JSVFuV1SerBarbfccgtjrHfv3srdkEsPaWlpavsuXbq4/72S8SF5ndlAt5L55bsovvW6KGtmg2qyEud89+7d/fr1s9vtNpstLi7u+eef/+6771QIubm5Dz74YKNGjUJCQqKjox966KHc3Fw16uIUdyuVl5cnJydHR0eHh4d37Nhx06ZNgwcPZowpxnF/BiwpKbnnnntsNpvdbh8xYoS7lTjnBoekDl5vA1biZpbvovhWbyHW/P2VtFLNP5GaP0JYqWKO8r8peWb+9qwD/1et36mL4tuafz0IRggrCeBUbQhW+pVndZfvovi2aheu+b3BSqYxh5WuoK6+8l0U316hLO0WrGTa1MFKV6F+d8fxuW9/WuXPcSi+vYqynC9gJdPmDVZyRb0k88iijGNVKCYU37oilvM1rGTavMFKrqirtnwXxbeufKV9DSuZNnWwkgfURRcvT1q0K2PPGYN3TCi+9QBX2l2wkmlTByt5Rn08/8LoOVu35ZwniwnFt57JSru3Oqzk/jeQ0uKpyoHDSro0Pzp6btKi3QeOXyKICcW3ulilDdQ0K7l/7L+0aF0HDiu5EtG+zt735YwVHxOshOJbLUb/2K4OKxkhUxM+9t/I+AW5sJIATkVo5abc+f8+7JOYUHzrhamc4eqwkssTXFlZWVpaWnx8fERERJ06dTp27LhkyRKPtDx+7L/6zQIrV65s1KiR0+ksLy9v3LgxY2z48OHqJ5O4f8fJjh07lEI8q9XatWvX999/3+NBTdsJK3lHvWDtoTeyvqikmFB86x2onC1MsFJSUpL2swGU7enTp6tCUcl5tJL6zQLXXXed+lklXq2UlZUVHBysPW6tWrWys7PVY5m/ASt5Z1758l0U33qnKW0LE6wUGRnJGJs2bdrly5cvXbr04osvRkZG3nHHHe5WUj4bgDGm/eI25c6rVq1aTz755LfffltcXMw592qlli1bMsZat26dm5t7/vz5IUOGWCyWNm3aeDyoObMHK1WKc2XKd1F8WymU0jYywUrR0dGMsY4dO65Zs+bs2bNiVKNHj/ZoJbvdrn6zgFcr5ebmKp+m9OqrryoaOnPmjLLnxIkT4gFUXxRWqixbcfkuim8ry1HadiZYyeW721q1ajVt2rSSkhKPzPSs1KlTJ+1tjvheSf1ocO0TnLK9ZcsWj8c1YSes5ANkvfJdFN/6AFHapiZYiXO+d+/exx57LCYmRtVEnz59ysrK3LHpWUn7zQLqvdKwYcNUVSlf6KY0U7/OQD2cuqH9YhX3o1frHljJN7wey3dRfOsbRDlbm2Mllc3XX3+dlJSkPEzt379f3a9uKFbS+9h/tZnyTbn9+/dXrHTp0iXly3gVK+Xl5SmHWLZsmZpyzTdgJZ+nwKV8F8W3PhOUM6G6rZSbm9u5c+dGjRpt3br1p19+tm3bJrDS2LFjGWOCj/1XMCckJCjNsrKyioqKhg8frvSpWKm8vLx58+aMsXbt2h05cuTbb799+eWX69atGxsbW1RUdK0mClbymby2fBfFtz7jkzahuq1UXl6u/MGR+gylbHTt2tXjE9y8efMUv6gfwu3y108K6aVLl6rNlK8OHzBgAGOsT58+yt1TRkaGy18GMMaee+459YnP/BmDlSjMlfLdRRnHJi3aVXTxMqUL5MhGoLqtxDm/ePHiuHHjmjdvbrPZ6tSp07p16wkTJly4cMEjqsp87L+SOH369EaNGlmt1t69ex8+fHjUqFEWi6Vr166qd7Zs2ZKQkHDdddeFhoa2adPmzTff9HhE03bCSkTUx/MvdP7DkOP5nlcMsVOk1WAC1WGlGny613JosBKdPmOgR6cnXSasZNqU4bqio4aV6OwkzISVTJs0WImOGlais5MwE1YybdJgJTpqWInOTsJMWMm0SYOV6KhhJTo7CTNhJdMmDVaio4aV6OwkzISVTJs0WImOGlais5MwE1YybdJgJTpqWInOTsJMWMm0SYOV6KhhJTo7CTNhJdMmDVaio4aV6OwkzISVTJs0WImOGlais5MwE1YybdJgJTpqWInOTsJMWMm0SYOV6KhhJTo7CTNhJdMmDVaio4aV6OwkzISVTJs0WImOGlais5MwE1YybdJgJTpqWInOTsJMWMm0SYOV6KhhJTo7CTNhJdMmDUptud4AAB+wSURBVFaio4aV6OwkzISVTJs0WImOGlais5MwE1YybdJgJTpqWInOTsJMWMm0SYOV6KhhJTo7CTNhJdMmDVaio4aV6OwkzISVTJs0WImOGlais5MwE1YybdJgJTpqWInOTsJMWMm0SYOV6KhhJTo7CTNhJdMmDVaio4aV6OwkzISVTJs0WImOGlais5MwE1YybdJgJTpqWInOTsJMWMm0SYOV6KhhJTo7CTNhJdMmDVaio4aV6OwkzISVTJs0WImOGlais5MwE1YybdJgJTpqWInOTpLMYcOGhYeHp6SkcM4VK6WkpISHhw8bNkySM5BymLASfdpgJTo7STKLi4tDQ0OtVmtkZCRjLDIy0mq1hoSEXLx4UZIzkHKYsBJ92mAlOjt5MhMTE0NDQ9lvP6GhoYmJifIMX8qRwkr0aYOV6OzkySwuLg4PD/9NSiwsLAw3StU9e7ASnTCsRGcnVaZ6u4QbJXPmDVaic4aV6OykylRvl3CjZM68wUp0zrASnZ1smYmJiSEhIXhHyZx5g5XonGElOjvZMouLi2vXro13lMyZN1iJzhlWErAbPWcr/tV8AoIZvIYhWIkOH1YSsBs9Z2teQSn+1WQCY+ZsFczgNQzBSnT4sJKAHaxUk32kjA1WEixgWUOwkmDmYCVYSbA8xCHcK4n5iKKwkoAOrAQrCZaHOAQrifmIorCSgA6sBCsJloc4BCuJ+YiisJKADqwEKwmWhzgEK4n5iKKwkoAOrAQrCZaHOAQrifmIorCSgA6sBCsJloc4BCuJ+YiisJKADqwEKwmWhzgEK4n5iKKwkoAOrAQrCZaHOAQrifmIorCSgA6sBCsJloc4BCuJ+YiisJKADqwEKwmWhzgEK4n5iKKwkoAOrAQrCZaHOAQrifmIorCSgA6sBCsJloc4BCuJ+YiisJKADqwEKwmWhzgEK4n5iKKwkoAOrAQrCZaHOAQrifmIorCSgA6sBCsJloc4BCuJ+YiisJKADqwEKwmWhzgEK4n5iKKwkoAOrAQrCZaHOAQrifmIorCSgA6sBCsJloc4dMVKt99+O2Osb9++asLMmTNvuumm0NDQqKioH3/8Ud1/rTb69u2rHaH7gF0G5rWBS3tfX8JKAmKwEqwkWB7ikK6VDh06pH6LMWPs8uXL4o5MiIqtVF5efvPNNzdp0kQdCaykojB/A1aClcir7oqVXLrIzMxUrJSdnV0TbpQ45y5WchnwBx98wBjTWsmlQZW/xL2SACmsBCsJloc4dMVK2juLgQMHam+U9O6V9u/fP2DAAIfDUbt27bZt27788svaW6q8vLyHH344Ojo6JCSkYcOG99133yeffKKOplOnToyxkSNHHj58uE+fPjabLSoqavbs2WoDznlqampMTExYWFi7du3+85//3HHHHXpPcF26dNEO+N577+Wca89I6db4kLTDg5W0NFy2yVZqF985rm283iUtjuplueyvkk7yCkoPf3Wp/8AH6tS1h4dbc74scTlKFb5s36FLXNv43LP/q8I+8wpKJfiOE+01XBkrbd++PSwsTOsCxthdd92lrM6DBw/a7XaXqNVq3b59u9KgV69ejDGn0xkVFaVttnLlSqXBq6++qt0fFhbWrFkzI1YyPiSXCw9WcgGifRkIVkpb/LbFYkme+cqR099XrS9ceoOVfn23OyMjQ5HC0aNHtatN3W7bti1jLDo6ev/+/ZcuXZo5c2ZISIjD4di3bx/nvGvXrowxu92emZn53XffZWdnR0REMMbi4uKUHhQJMsZGjBhRWFiYlZWlOK5fv35KgxtvvJEx1qBBgz179ly4cOHpp59WxqO+H6/VKOd81KhRLk9wLg2MD0k9d2UDVnIBon0ZCFaa+s9XGLNkbP3ERSJV/hJWqpSVTpw4oThi6tSp2rWobH/11VdKdMKECWo0KSlJ2Xn8+HH18crhcKgPff3792eMtWrVinOen5+vNJ48ebLSw08//RQdHa13r+TVSsaHpJ6IugErqSjcN4xYqU37jvOXvNPilrjQ0LB69Rv+dcTfPzt9WbnUXR6+Xlm6tn2HLlarLTzcGtc2fvYrb2mN8NqKjFs7drVabQ2jrr/n/oc+/OQrj508O2U6Y2x6ymJtrrqtd4jO3Sp+Z63+fHrqOzVF3XAbwJdqSK/bvILSY2d+enzsxAYNo0JDw1q1brtgyTvt4q96gluWvqlzt9utttpWq61dfOe0xWvUbn3akOwJjnMuvlfavHmzMh9r1qxxX5FqVH0c45yvXLlSSdm8ebNqpW7duqnpjz/+uHqzs3fvXqXx8uXL1QZ33nkn2UrGh6QOQ92AlVQU7htGrOSIrB/fuduGDz4+kFc0PWWxxWIZNupZ5XrTWillYcWKGjFmwoeffLXnyNnxz83QymXR8g0Wi+W5l1L3HT33/oeHW8a2ad4yVnn3R9uJ8hT2VOJUj9ez+BAvvLxAcK+0aPmGoKCgKwNo3bZ5y1hFXikLV1oslqtHbnlp7mvKGMaOf/6XB8N/Hcgr2rg957YefSIc9dT3lV5f/Z9atWr9dcTfdx/O35WT//jYJMYssxYs8zh+8U5/s9KmTZsUa6xatcp9RaoKWLFihRpdvny5krJlyxbVSurjmMvNzp49e9ytlJCQYNxK5CGpJ6JuwEoqCvcNI1ZijGVuO6ReUb0S/mC3O47m/5hXUKoVyo03NXN5X7xDl+6/a9wkr6DiXeGWsW279eqrdrJo+QZb7esWr8zUdpL+n93h4dYHH31Cbeay0SSm4hDat5k7dO3xu8ZNlD1iK7VqXTEANXfR8g21r6vz2oqMvIJS9247/tbtsTM/1avfUJuYveuoxWJRh9HylrgOXbqr3eYVlN7asevvbrhJu8flLPRe+puVPv/8c8UaU6ZMcV+Rp06dUqLPPvusGn322WeVnadPn/ZqpS+//FJpPGnSJKWHy5cv16tXz6uVbrzxRvWI2veVjA9J7VbdgJVUFO4bRqxUr35D7YU0ZtxzjLHsXUe1Qtl24AT75XZD23LU05MZY1v3f7H78BlmsYx+Zoo2qm4ratv60Rf1GzT6w91/OnbmJzWk3dh24IRyR6PdqRxiy0df5BWUCqy0+/AZi84ANN1e+Z3aqKenMMa2fPTFB3vzLBbLqKcnaw8aff0NipV2HjptsVieHPdcnub3cU88NYkxy54jZ7Upldn2Nytxzm+55RbGWMOGDffs2XP+/PmFCxcGBwfXrVv3vffe45x37tyZMVa3bt2srKySkpLMzMy6dev+vLbURzatMpQ1rX27ury8vGnTptp3u5WowEpPPvkkYyw0NDQvL+/77793F5/BIblfeLCSOxN1jxErtYxto72onnsp9ec3HFdn7NBaaU3mh4yxiVNna1tOmZbCGFuT+eG7mw8wZpmUPEcbVbfbxXe+6eYWzVrEMsY2fHBA3e+yUXEIi8XzIX4ZjMBK724+YLF4HsCazA8tFsvEF2ZpD1cxcotldcaO1Rk73KNxbeMVK63L2muxWJT/w3b533c3656I9kDabT+00ubNm0NCQlzQdO/eXfmTywMHDiga0jaw2+3qnyyJrcQ5nzt3rjbXarUqHuzdu7ey9F16mDdvntq+S5cu7lYyPiT1klM2YCUXINqXRqzUqnVb7cWjukZrpbff28kYS7r62p78YsWaeWfjrowtBxmzTHjuZW0/6na7+Ir/y2zTvmNkvQat29yqvpWuNlA2Kg5hsXg8xNvv7RTfK2VsOWixeB7A2+/ttFgsSc/P1B6uYuQWy9vv7Vy9YXuFzq62beu2t2qt9MykacpTqrYHwrYfWolzvnv37n79+tntdpvNFhcX9/zzz3/33Xfq0szNzR08eHCjRo1CQkKio6MfeuihvLw8NeriFJf3lTjn5eXlU6dOjYqKCg8P79ix4+bNmwcPHswYU4zjLp2SkpKBAwfabDa73T5ixAj3Bpxzg0NSB69swEouQLQvjVipYdT12mts9DMVTzcf7M3TWmn7wVPMYnls5Dhty1/e+mXbPz75Ue43zGIZOvIZbVTdbhffufGNMYdOXlz41ruMMfWtdLWBsrH94CmLziH++/FJsZU+yv3GojMATbdXnuAeHzuRMfbfj09m7Tzi/gRXv0EjxUq7cvItFsvgRx8nvIvkcnZy/BWldklhuzIEYCUBJSNWqngXaedn6lXUo/ed9eo3VN790b7b3bTZLbfEtdPeNbS9tVPMzS2VPTc3j/3lSfDXK/+djbusVpvyuyptJ39+ZHhQUNCytZvVw2k3bm5ecQitAtrFd465uaWyR/AEl1dQ2qxFxQDU3Hc27rLZas+c/2ZeQamg26Nf/2CPcPTofaeamLnt0FXvdse2aRh1vfb+7v7Bf/vzI8PV9trxi7cluFcSrDCEPBKAlTxiUXaSraQ8WHXt3nvj9pyPPz//jxlpFotl7PjnlQtMK5RXlq61WCwjn5q058jZPUfOKr9QX/B6utJywevpFe9VP5n4yfELm3Yfq/hFVeMmH+V+o73hyisoPXSyOObmllHRjT86ds79Gv7lEEFuh3hHaSm20oLX04OCgq4MoNNtv2vcZN+x/8srKH1l6dqgINdu5y/5tduhI8f9/ObR89PTPv78fObWTzp06V6vfkPlXimvoHTR8g21atXqP+D+nZ9+vT+3cPxzM4KCgmakLnEfvNc9sJJgAcsagpUEM0e2Uotb4rr16rvg9fQWrVqHhITWb9BoxJgJ6q/JtFbKKyhd+Na77eI7h4dbrVZbfOduyu/d1avxlaVr49p1CAsLb9Awqv/AB7b+8oszFyvlFZSuy94XHBLyh7v/pCZqNwSHEFtJsc/VA/hc7VnQ7ZHT3z86/O+R9RqEhIS2aNV63murb+/br8Utcerd0NI173fq2stqqx0aGta6za3zFq9Wu/VpA1YSLGBZQ7CSYObIVvLpukJjIwRgJcECljUEKwlmDlYy4gtzcmElwQKWNQQrCWYOVjLHLEaOAisJFrCsIVhJMHOwkhFfmJMLKwkWsKwhWEkwc7CSOWYxchTpreT+R4+CFeke8umLCQwey/3o1bQHVhKAhZWM+MKc3IC2kq9fTAArCa52WUKwkjlmMXIU6a1k5GLw9YsJYCUjtGtILqxkxBfm5EpvJRdTlJWVpaWlxcfHR0RE1KlTp2PHjkuWLPF4Peh9BPgbb7zRpUuXyMjIiIiI7t27K580oPTg67F27Njxxz/+0W63W63Wrl27ZmVleRxJle/EE5wAKaxkjlmMHMXfrJSYmKgW6KsbM2bMcF+mHq00a9YsNUvZCAoK2rp1q5LuYiXxsbKysmrVqqXtrVatWps2bXIfSZXvgZUESGElI74wJ9ffrORwOH7+MKOXXnrp8uXLly5dSk5OjoyMvOOOOzwuU/cP223fvv111113++23X7x48eTJk40aNWKMDRw4UEl3sZL4WC1atPj5wytat26dl5d3/vz5Rx55pOJDKtq08TiSqt0JKwl4wkrmmMXIUfzNSsrXJXXs2HHNmjVnz54VrE6vHwH+v//97+6772aMderUSenHxUqCY+Xm5ip3SQsXLlRyz5w5o+w5efKkeFTGo7CSgCGsZMQX5uT6m5UWLlyofWhq1arVtGnTSkpKPC5T93ulTz/99P7777/++uu1H6zXoUMHJd3FSoJjqR8Qrh2Msq0+D3ocUpXshJUEGGElc8xi5Cj+ZiXO+d69ex977LGYmBjVCH369CkvL3dfqS5WOnv2bIMGDdQsdUPPSoJjqV9qoHaibmi/XsV9SFWyB1YSYISVjPjCnFw/tJK6Ir/++mv1u94OHDig7lc3XKyk3vukpaUpt1fKVyoJrKR25XKsvLw8RUNvvfWW2sa0DVhJgBpWMscsRo7iV1bKzc3t1KlTo0aNtm3b9tMvP9u2bVPs4JOVVq1aVVxcvGTJEuWXaDfccENZWZnLJ9uKj1VeXq58zXe7du0+++yzb7/9dsaMGXXq1ImNjT1//rzgmqmSEKwkwAgrGfGFObl+ZaXy8vJOnTqpz0rqRteuXSvzBHfs2LHg4GA1S/lSb+Vlo0aNTp8+rX1fyeuxMjIyXP4y4GdZ/OMf/xBcMFUVgpUEJGElc8xi5Ch+ZSXO+cWLF8eNG9e8eXObzVanTp3WrVtPmDDh4sWLHpepyxPcz9/atGbNmpYtW4aHh8fGxq5ataq0tPQvf/lLgwYN4uLizp07p7VSZY61ZcuWPn36XHfddaGhoW3atFm2bJnHYVT5TlhJgBRWMuILc3Klt5Jg/QVsCFYSTD2sZI5ZjBwFVhIsYFlDsJJg5mAlI74wJxdWEixgWUOwkmDmYCVzzGLkKLCSYAHLGoKVBDMHKxnxhTm5sJJgAcsagpUEMwcrmWMWI0eBlQQLWNYQrCSYudFztvrZP8Yso+ds8bOTEszgNQyxa3hs2Q8NK8k+gz6N32KxePxzPJ86QePKEICVKkPJcxtYyTMXP90LK5k2sbASHTWsRGcnYSasZNqkwUp01LASnZ2EmbCSaZMGK9FRw0p0dhJmwkqmTRqsREcNK9HZSZgJK5k2abASHTWsRGcnYSasZNqkwUp01LASnZ2EmbCSaZMGK9FRw0p0dhJmwkqmTRqsREcNK9HZSZgJK5k2abASHTWsRGcnYSasZNqkwUp01LASnZ2EmbCSaZMGK9FRw0p0dhJmwkqmTRqsREcNK9HZSZgJK5k2abASHTWsRGcnYSasZNqkwUp01LASnZ2EmbCSaZMGK9FRw0p0dhJmwkqmTRqsREcNK9HZSZgJK5k2abASHTWsRGcnYSasZNqkwUp01LASnZ2EmbCSaZMGK9FRw0p0dhJmwkqmTRqsREcNK9HZSZgJK5k2abASHTWsRGcnYSasZNqkwUp01LASnZ2EmbCSaZMGK9FRw0p0dhJmwkqmTRqsREcNK9HZSZgJK5k2abASHTWsRGcnYSasZNqkwUp01LASnZ2EmbCSaZMGK9FRw0p0dhJmwkqmTRqsREcNK9HZSZgJK5k2abASHTWsRGcnYSasZNqkwUp01LASnZ2EmbCSaZMGK9FRw0p0dhJmwkqmTRqsREcNK9HZSZgJK5k2abASHTWsRGcnYSasZNqkwUp01LASnZ2EmbCSaZMGK9FRw0p0dhJmwkqmTRqsREcNK9HZSZgJK5k2abASHTWsRGcnYSasZNqkwUp01LASnZ2EmbCSaZMGK9FRw0p0dhJmwkqmTRqsREcNK9HZSZgJK5k2abASHTWsRGcnYSasZNqkwUp01LASnZ2EmbCSaZMGK9FRw0p0dhJmwkqmTRqsREcNK9HZSZgJK5k2abASHTWsRGcnYSasZNqkwUp01LASnZ2EmbCSaZMGK9FRw0p0dhJmwkqmTRqsREcNK9HZSZgJK5k2abASHTWsRGcnYSasZNqkwUp01LASnZ2EmbCSaZMGK9FRw0p0dhJmwkqmTRqsREcNK9HZSZgJK5k2abASHTWsRGcnYSasZNqkwUp01LASnZ2EmbCSaZMGK9FRw0p0dhJmwkqmTRqsREcNK9HZSZgJK5k2abASHTWsRGcnYSasZNqkwUp01LASnZ2EmbCSaZMGK9FRw0p0dhJmwkqmTRqsREcNK9HZSZgJK5k2abASHTWsRGcnYSasZNqkwUp01LASnZ2EmbCSaZMGK9FRw0p0dhJmwkqmTRqsREcNK9HZSZgJK5k2abASHTWsRGcnYSasZNqkwUp01LASnZ2EmbCSaZMGK9FRw0p0dhJmwkqmTRqsREcNK9HZSZgJK5k2abASHTWsRGcnYSasZNqkwUp01LASnZ2EmbCSaZMGK9FRw0p0dhJmwkqmTRqsREcNK9HZSZgJK5k2abASHTWsRGcnYSasZNqkwUp01LASnZ2EmbCSaZMGK9FRw0p0dhJmwkqmTRqsREcNK9HZSZgJK5k2abASHTWsRGcnYSasZNqkwUp01LASnZ2EmbCSaZMGK9FRw0p0dhJmwkqmTRqsREcNK9HZSZgJK5k2abASHTWsRGcnYSasZNqkwUp01LASnZ2EmbCSaZMGK9FRw0p0dhJmwkqmTRqsREcNK9HZSZgJK5k2abASHTWsRGcnYSasZNqkwUp01LASnZ2EmbCSaZMGK9FRw0p0dhJmwkqmTRqsREcNK9HZSZgJK5k2abASHTWsRGcnW2ZZWVl4eHh5eblsA5dyvLASfdpgJTo72TLz8/NvuOEGWMmceYOV6JxhJTo72TKzs7MTEhJgJXPmDVaic4aV6Oxky0xKSpo8ebJso5Z1vLASfeZgJTo72TKbNm26b98+2UYt63hhJfrMebRScXHxsGHD6J0is+YRmD179oABA/D4ZtrMwEp01C5WKi4uTkxMDAkJCQ8Pp3eKzBpGIDMz02az5eTk1LBx+fNwYCX67KpWUnwUFhYWGhpqtVpTUlLonSKzJhGYPXu21WrNyMioSYPy/7HASvQ5ZoxpfcR++YmMjKT3iMxrTaCsrCw/Pz87OzspKSkmJmbAgAGHDx++1oMKuOPDSvQpZ4zZbLaQkBDFR/hfPyAQFhbWuHHjhISEyZMn4+1t+rVhLBNWovPDvRKdXY3M/PHHH2vkuAJuULASfcrxvhKdHTJBQJ8ArKTPxltEtZLSEL+D8wYMcRCoFAFYqVKYPDZysZLSBn+v5JEVdoJA5QnASpVn5drSo5VcG+E1CICAjwRgJR+BaZrDShoY2ASBKiMAK9FRwkp0dsgEAX0CsJI+G28RWMkbIcRBgEIAVqJQU3JgJTo7ZIKAPgFYSZ+Ntwis5I0Q4iBAIQArUagpObASnR0yQUCfAKykz8ZbBFbyRghxEKAQgJUo1JQcWInODpkgoE8AVtJn4y0CK3kjhDgIUAjAShRqSg6sRGeHTBDQJwAr6bPxFoGVvBFCHAQoBGAlCjUlB1ais0MmCOgTgJX02XiLwEreCCEOAhQCsBKFmpIDK9HZIRME9AnASvpsvEVgJW+EEAcBCgFYiUJNyYGV6OyQCQL6BGAlfTbeIrCSN0KIgwCFAKxEoabkwEp0dsgEAX0CsJI+G28RWMkbIcRBgEIAVqJQU3JgJTo7ZIKAPgFYSZ+Ntwis5I0Q4iBAIQArUagpObASnR0yQUCfAKykz8ZbBFbyRghxEKAQgJUo1JQcWInODpkgoE8AVtJn4y0CK3kjhDgIUAjAShRqSg6sRGeHTBDQJwAr6bPxFoGVvBFCHAQoBGAlCjUlB1ais0MmCOgTgJX02XiLwEreCCEOAhQCsBKFmpIDK9HZIRME9AnASvpsvEVgJW+EEAcBCgFYiUJNyYGV6OyQCQL6BGAlfTbeIrCSN0KIgwCFAKxEoabkwEp0dsgEAX0CsJI+G28RWMkbIcRBgEIAVqJQU3JgJTo7ZIKAPgFYSZ+Np8iwYcPCw8NTUlI454qVUlJSwsPDhw0b5qk59oEACPhMAFbyDVlxcXFISIjVao2MjGSMRUZGWq3WkJCQ4uJi3zpCaxAAAR0CsJIOGP3diYmJoaGh7Lef0NDQxMRE/eaIgAAI+EYAVvKNF+e8uLg4LCzsNymxsLAw3Cj5DBEJIKBPAFbSZ6MfUW+XcKOkDwkRECASgJUo4NTbJdwoUfAhBwSEBGAlIR79YGJiYkhICN5R0ieECAgQCcBKRHDFxcU2mw3vKBHxIQ0E9AnASvpsNJGCgoL09PTExESn0xkbG+twOIJ++3E4HLGxsU6nMzExMT09vaCgQJOHTRAAAZ8JwEoiZIWFhampqT179rTb7U6nMzk5ef369Tk5OUVFRaWlpZzz0tLSoqKinJyc9evXJycnO51Ou93es2fP1NTUwsJCUdeIgQAI6BCAlTyDOXXq1JgxY4KCgoYMGbJx40bPjXT2bty4cciQIUFBQWPGjDl16pROK+wGARDwTABW8sAlOTk5ODg4KSnp3LlzHsKV23Xu3LmkpKTg4ODk5OTKZaAVCIBABQFY6ap1cOTIkR49egwaNOjkyZNXBagvTp48OWjQoB49ehw5coTaB/JAILAIwEpX5jsrK8tut8+bN+/Kriramjdvnt1uz8rKqqL+0A0I+DMBWOnX2c3KygoODt6wYUM1zfaGDRuCg4MhpmrCi279iQCsVDGbR48ejYiIqD4lKStmw4YNERERR48e9acFhHMBgSonACtVIE1ISJg7d26Vw3XvcO7cuQkJCe77sQcEQEAlACvxBQsW9O/fXyVS3Rv9+/dfsGBBdR8F/YOAvARgJR4TE7Nz507TpnDnzp0xMTGmHQ4HAgHpCAS6ldatW9e3b1+Tp61v377r1q0z+aA4HAjIQiDQrTR06NC0tDSTZystLW3o0KEmHxSHAwFZCAS6leLi4g4ePGjybB08eDAuLs7kg+JwICALgUC3ks1mKykpMXm2SkpKbDabyQfF4UBAFgIBbaWysjL147fN35BliWCcIGAygYC2Eucc90omLzgcDgS8Egh0K+F9Ja9LBA1AwGQCgW4l/A7O5AWHw4GAVwKBbiX8vZLXJYIGIGAygUC3Euf4226TlxwOBwJeCMBKqIPzskQQBgGTCcBKFcDxmQEmLzscDgQEBGClCjj4fCXBEkEIBEwmACv9ChyfRWnyysPhQECPAKx0hQw+t/sKC2yBwLUjACtdxR7fcXIVDrwAgWtBAFbyQB3fB+cBCnaBgFkEYCXPpPHduZ65YC8IVD8BWEnEuLCwMDU1tWfPnna73el0Jicnr1+/Picnp6ioqLS0lHNeWlpaVFSUk5Ozfv365ORkp9Npt9t79uyZmppaWFgo6hoxEAABHQKwkg6Yq3cXFBSkp6cnJiY6nc7Y2FiHwxH024/D4YiNjXU6nYmJienp6QUFBVen4hUIgIBvBP4//I6F7HOz7rgAAAAASUVORK5CYII=)"
      ],
      "metadata": {
        "id": "koB06vJYddwM"
      }
    },
    {
      "cell_type": "code",
      "source": [
        "# Simple Python program to understand the if statement\n",
        "num = int(input(\"enter the number:\"))\n",
        "# Here, we are taking an integer num and taking input dynamically\n",
        "if num%2 == 0:\n",
        "# Here, we are checking the condition. If the condition is true, we will enter the block\n",
        "    print(\"The Given number is an even number\")\n",
        "else:\n",
        "    print(\"The Given number is an odd number\")\n"
      ],
      "metadata": {
        "colab": {
          "base_uri": "https://localhost:8080/"
        },
        "id": "ei3NfdGDW9AZ",
        "outputId": "e497a62e-5b47-463b-9860-827749125c0a"
      },
      "execution_count": null,
      "outputs": [
        {
          "output_type": "stream",
          "name": "stdout",
          "text": [
            "enter the number:3\n",
            "The Given number is an odd number\n"
          ]
        }
      ]
    },
    {
      "cell_type": "markdown",
      "source": [
        "Program to print the largest of the three numbers.\n"
      ],
      "metadata": {
        "id": "rsKtLpg3dg_M"
      }
    },
    {
      "cell_type": "code",
      "source": [
        "# Simple Python Program to print the largest of the three numbers.\n",
        "a = int (input(\"Enter a: \"));\n",
        "b = int (input(\"Enter b: \"));\n",
        "c = int (input(\"Enter c: \"));\n",
        "if a>b and a>c:\n",
        "# Here, we are checking the condition. If the condition is true, we will enter the block\n",
        "    print (\"From the above three numbers given a is largest\");\n",
        "if b>a and b>c:\n",
        "# Here, we are checking the condition. If the condition is true, we will enter the block\n",
        "    print (\"From the above three numbers given b is largest\");\n",
        "if c>a and c>b:\n",
        "# Here, we are checking the condition. If the condition is true, we will enter the block\n",
        "    print (\"From the above three numbers given c is largest\");"
      ],
      "metadata": {
        "id": "JAw-0ZAjdrEE"
      },
      "execution_count": null,
      "outputs": []
    },
    {
      "cell_type": "markdown",
      "source": [
        "The if-else statement\n",
        "\n",
        "\n",
        "\n",
        "![image.png](data:image/png;base64,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)"
      ],
      "metadata": {
        "id": "EN15Ygc_d0Ol"
      }
    },
    {
      "cell_type": "code",
      "source": [
        "# Simple Python Program to check whether a number is even or not.\n",
        "num = int(input(\"enter the number:\"))\n",
        "# Here, we are taking an integer num and taking input dynamically\n",
        "if num%2 == 0:\n",
        "# Here, we are checking the condition. If the condition is true, we will enter the block\n",
        "    print(\"The Given number is an even number\")\n",
        "else:\n",
        "    print(\"The Given Number is an odd number\")"
      ],
      "metadata": {
        "id": "16ic-4Yed0xH"
      },
      "execution_count": null,
      "outputs": []
    },
    {
      "cell_type": "markdown",
      "source": [
        "The elif statement\n",
        "\n",
        "The elif statement enables us to check multiple conditions and execute the specific block of statements depending upon the true condition among them. We can have any number of elif statements in our program depending upon our need. However, using elif is optional.\n",
        "\n",
        "\n",
        "![image.png](data:image/png;base64,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)"
      ],
      "metadata": {
        "id": "TykldJMOeQyJ"
      }
    },
    {
      "cell_type": "code",
      "source": [
        "# Simple Python program to understand elif statement\n",
        "marks = int(input(\"Enter the marks? \"))\n",
        "# Here, we are taking an integer marks and taking input dynamically\n",
        "if marks > 85 and marks <= 100:\n",
        "# Here, we are checking the condition. If the condition is true, we will enter the block\n",
        "   print(\"Congrats ! you scored grade A ...\")\n",
        "elif marks > 60 and marks <= 85:\n",
        "# Here, we are checking the condition. If the condition is true, we will enter the block\n",
        "   print(\"You scored grade B + ...\")\n",
        "elif marks > 40 and marks <= 60:\n",
        "# Here, we are checking the condition. If the condition is true, we will enter the block\n",
        "   print(\"You scored grade B ...\")\n",
        "elif (marks > 30 and marks <= 40):\n",
        "# Here, we are checking the condition. If the condition is true, we will enter the block\n",
        "   print(\"You scored grade C ...\")\n",
        "else:\n",
        "   print(\"Sorry you are fail ?\")"
      ],
      "metadata": {
        "id": "uhulgSG_edOK",
        "colab": {
          "base_uri": "https://localhost:8080/"
        },
        "outputId": "784739eb-6bd5-48a8-f865-2a58ed9f1d7d"
      },
      "execution_count": null,
      "outputs": [
        {
          "output_type": "stream",
          "name": "stdout",
          "text": [
            "Enter the marks? 61\n",
            "You scored grade B + ...\n"
          ]
        }
      ]
    },
    {
      "cell_type": "markdown",
      "source": [
        "#Python Loops\n"
      ],
      "metadata": {
        "id": "ZVvflRGkeo1b"
      }
    },
    {
      "cell_type": "markdown",
      "source": [
        "Python's for loop is designed to repeatedly execute a code block while iterating through a list, tuple, dictionary, or other iterable objects of Python"
      ],
      "metadata": {
        "id": "tOFnStN6fzzg"
      }
    },
    {
      "cell_type": "code",
      "source": [
        "# Python program to show how the for loop works\n",
        "\n",
        "# Creating a sequence which is a tuple of numbers\n",
        "numbers = [4, 2, 6, 7, 3, 5, 8, 10, 6, 1, 9, 2]\n",
        "\n",
        "# variable to store the square of the number\n",
        "square = 0\n",
        "\n",
        "# Creating an empty list\n",
        "squares = []\n",
        "\n",
        "# Creating a for loop\n",
        "for value in numbers:\n",
        "    square = value ** 2\n",
        "    squares.append(square)\n",
        "print(\"The list of squares is\", squares)"
      ],
      "metadata": {
        "id": "eLPiu26Pepe8"
      },
      "execution_count": null,
      "outputs": []
    },
    {
      "cell_type": "markdown",
      "source": [
        "While loops are used in Python to iterate until a specified condition is met. However, the statement in the program that follows the while loop is executed once the condition changes to false."
      ],
      "metadata": {
        "id": "l2XccHdsgEDd"
      }
    },
    {
      "cell_type": "code",
      "source": [
        "# Python program to show how to use a while loop\n",
        "counter = 0\n",
        "# Initiating the loop\n",
        "while counter < 10: # giving the condition\n",
        "    counter = counter + 3\n",
        "    print(\"Python Loops\")"
      ],
      "metadata": {
        "id": "N1-jZO0MgEdW"
      },
      "execution_count": null,
      "outputs": []
    },
    {
      "cell_type": "markdown",
      "source": [
        "loop control statements\n",
        "\n",
        "\n",
        "![image.png](data:image/png;base64,iVBORw0KGgoAAAANSUhEUgAABDAAAAGhCAYAAACXlkRXAAAAAXNSR0IArs4c6QAAAARnQU1BAACxjwv8YQUAAAAJcEhZcwAAEnQAABJ0Ad5mH3gAANe2SURBVHhe7N0LWBVl4j/w766Jq38oFUvFwlg1WgqDBCm8rBCFaKImkKmZ4g21kDSUlHS9ppE3SsVUNEU0xBLaBFaF1gurQgvJRlEaiitqiVawmpA//+9czpUDnMNFj/b9PM/RmTnDzDvvvLd5z8w7f7gpgIiIiIiIiIjIiv1R/Z+IiIiIiIiIyGqxA4OIiIiIiIiIrB47MIiIiIiIiIjI6rEDg4iIiIiIiIisnslBPI99kaVOERERERERERHdOl49fNQpQ7wDg4iIiIiIiIisHjswiIiIiIiIiMjqsQODiIiIiIiIiKweOzCIiIiIiIiIyOqxA4OIiIiIiIiIrB47MIiIiIiIiIjI6rEDg4iIiIiIiIisHjswiIiIiIiIiMjqsQODiIiIiIiIiKweOzCIiIiIiIiIyOqxA4OIiIiIiIiIrB47MIiIiIiIiIjI6rEDg4iIiIiIiIisHjswiIiIiIiIiMjqsQODiIiIiIiIiKweOzCIiIiIiIiIyOqxA4OIiIiIiIiIrB47MIiIiIiIiIjI6rEDg4iIiIiIiIisHjswiIiIiIiIiMjqsQODiIiIiIiIiKweOzCIiIiIiIiIyOqxA4OIiIiIiIiIrB47MIiIiIiIiIjI6rEDg4iIiIiIiIisHjswiIiIiIiIiMjq/eGmoE5rHfsiS51qqAqcztqDxK1pSC04DzzkgsCBLyIoqA8eLtyDrK5D4P+AuqqFCjb6YkKcOqNyDXsfa8a7wEadBy4jIyoI8/arsxK/Ofhs6TOwV2fvKAUJeGpsvDqjcg3FhjWj4NpKnRfKMuZh4JxD6pykD+bvnV/vuL5j3LiM3O3x2PLZUeSeugz7Ll4Inj4HY7xs1RVMOLsXqT8NQKCrOm8Ux/0WJ2Opf1t1jqyVqfJApy0e9uiM7i7PoN/QvvB+qJb0YEUqRVqc/kY8SnvNx4a5fRpYZlUi95NjcBpquJ3S/e/i1aijcAh/GytGd9MrO4mIiIiIbh+vHj7qlKEmvAOjUlxURGF45FG0nfAejuZm4mjyUgQ99BViX/RF3/A8db36cR0vtndwM2b7qQuEgri5WJxxXp2TtIX/UrHe/uUY4xeGDfvF9J3aeSFxHYWjx9KxU1zMaBXEI2rpAZSqsxJ7//livVS8P74Pwjemirj/HXRe4DskT52IV2P3wnbke/h4QR+UnTqGuLl78K26RnXnkbEhHpfVOZmI44/145fuCHJ5cGwz3vBSF0jC3lfKnYPvieU2OLL1XUwfOgavrjiE0hvqOlarEiey4pFbBpSm7kfuD+rieqosSML6Y5XqnMZ55KbuFWXHZeTGHkORupSIiIiIyFo1XQfGt3sQE1cIjB6HUG/1F+xmtnjEPwwr3g2F5gfvBmnVGU5dXeCq3dhlZMxZjC0FRg311tJ69nBorc7fyZrZ4GGnbuKYXdQFQNnexZi3sVBc8ugRce0k1rN3uDN+bW6oymMH8G6u2hXRogXaPfwYPOwBh16da+iwkjrYRLztNei+kIk/pztRMzvY2anT+lp1hMfYt7FyupRnxMV64jxMmH8IZcq3VsoG3X1ClTQc6AePhnRAlh7A4jfiUaDO6oh4CRwAB7SFR7gXnNWlRERERETWqsk6MMqKv1J++T6ah6Kr8iItG9cQTBrdWDcrP4XwxXPgr71KLUTciiQUGO3zbtNr2hzMH6B7tKEgbi0SjTtufkfKf9K/80akMZcQvJ+RKd9NUb0DoxKnP4lBlNTBRr8bjwSNwwh1umzvamyvdkeCdbFxHVVLGjbTT3mIm7MYGTX01jj4vYGPc5PxPh8fISIiIqI7QNPdgdFMbQ5/m4Co6CR8W67MKmzQ3ctdnVZIz7A/5aH5zEOGdMt06THEho/EU/4zkFzzcwCiFf4M5ujf1WHisYqalOUmYclYsQ9pv0NfxZKteSiz+tvLhWYd4R+1AGHagy5E3BsxyKjzoKVxSRKwJGwsBspxPRITFuwxOj/G58MXW3LPI3vjYgz3V/5meuwBnL4KlJ86gNjpyrYGvrhYnCdTF4UVKNj6LiYMNfxbs5SfQUbsm+p+gzB8ehwyTlWoX0qkcU7EvvXG/Ph8ThCeijpQwy/slfh265uYulj3fdxY5RijMqrfjYEb5TidEYfpmrBvzINRVMkqTxvGQ2K+fhjJKth0g0hCqstI/MT4Loy602n5sQRMf1GkL1EmxR48j7Ksd7HF+NaGq2fw+UbNdnzxwth39dJDIbaIZdq8pabT0oNKGhsYJj3ypKRp7Tqa8rDa8gRkFyQp4RHzL4THIrVQL939cEiUbTN04du/WM3zCSgwDoe8zFCdZaM0XozeNqJSC5FrEH/HzCqDiYiIiIjM1WQdGPYefghSfzYsE43z0UGiwZ/xHcrVBrCN1wCDcRlcx6djxYvqjOSn8yi1c4Rzq/NiA3nILTZxcalH+rVy/mLd+BYmH6swUpqxGKPD4nDkoVB8nJuJfXOexDexMzB6ahJMXodbm1YuGKN/90nZAcybIy5EauwcuIzP547B8MjL6BezGZ9JYwZ4n0dBaixGh4tjVteSGJ+PuK2H0O7FOdi6IETE8Xlkb12MudPfxHtFLghfsQSTvMXuTx3Au38zHnPiPDLEPifEHoVrZCqOHnwDD3+2GFPN6WC6Ki6ywsdi3tZy9H83HUePvYcRNkmY9+IkLMnSpAdlnJPPFuvGrZAG3qx5rBMbPDJ6ObbqrR+2OVMeK8HUYJ2fr07BaY8wLI1SjztuBt7LMuyckAZbnBq0GIm/DcaaY5nYMLwCseOjqj/KRLeZLdo5dlOnhf3foVh7isxIp2f3Yt7UeFS+sBxHM5ZjbJtDWLx0r/qlqvI7bJk6FlFx36HHPJFmk8PhULBXTg/Jp6QVRJ49+Da0/ShCWel52HXtBpuzYjo3D8U/SGnaaDwPmVi+eDnGqHPAHiTmPo75HyVjX2wIrmfvwZLRUUjUZMAH+mD2J+8jTJ2VBzCWxgTJHQVXE+HQZ1bZaDRezOf7/4N7h76BNZq8svVNbDHKK0REREREDdF0d2C09kL4u8oz3LKyPCTOmYRng95FqsEv6Bo2sGujTqIC2SWVcLDrCJ/RoXC1d4eHU91vgnDwj8TSMN3YENUH9dTz0zEkrlB+/fTx84KD+N/Oow98RXjLcuMQl17D31kbS+4++SEP6fKYDweRcUz836wznLsrX6HgK3HhpE7L9M8HMCY0BI/YiaXS+Bvqsm/t/DBmQEcx1RFOmu18a7id8qzt6jgTA+DjbQu06gYPHxHHe9chNbf2C/xv96xFnPSz8CN94e1qI9910svvGbHgPFKX7kEdf94o+k0LRj+RJvSPO/VUiTol+Q7JbyvjC/Tr74WHm4lT8pg7HpHuiNmwn79AWxl7+w7qlOQ8yn5SpsxJp2WFx5At/v/l4gX5Lhw71xDMiZTSo07pZ/FKmvUajEA3kWYffgz9vEUesdcbWKWVHdqpkyg/itJrHWHn0AehU11g7+EOJ7ljt4bxPJq1wJ/USUDkv5EuYk2xtndfBMtlbSFiPz5m8i6havTDoc+CslF/vJh+A/2qlRGGeYWIiIiIqGGargNDkJ/h/uh9vDHUXfdr+Nm9WPLiGExP/K6WuyPyYG8nXRiLbbiMwoaM5Qh6RJ6tgw1cx+uPDaEZ1LN6c74sdz+S1fvH27XRDHRpj47qky3ZGXl3zMVnTXefVDvq1o7w8JMupjqjY2v1EZ/flP/q8idxYV6NWFZ9vMtDOH9RnRTx/0WW+gu1X2f5Qkj6FdxOvmq6jE8LzshLTPsO2R+qY1Q42muPzb59Z2WiLAHZebegB0NcMFZTUqZ79EBc1G5Xf/F+9CElzaK1vXKs2Xn4VrsiWS/z0qlda+X8So8gDZ+eIL8hxN5vDsZoew+/w+e7jimTdi3UvNENQbHb5Ts2grrICwwds4ftQ9KEDR4Z+z4+ixsCs4o6mS1aaAeu6KAtu5Cch6IGZI1GLRtPnjd6TIeIiIiIqP6atAND1toFQXOW45O9y/U6Mi4je8WbNd8dIdzbStsyt5DpsSGSL6mzqtLTB9SpGhy7fEc1vE3efbJT85iFykZcTC1VLqZCHb9D4oJ3sV07jqV+x0NjuYDTmjvstc/f+2JCnLKorPhCzXH8Qwm+qeMElP50m25Pr9RdHZad/U57DJqxNJ4asBify0vycLrR45Qa4rrB+Db2sGsp/W9eOrXxGqztHC07GI9X/V/Fu1l6ZZhIsydqG6vHJP1OiMaiu7OkPu62spGIiIiI7h5N1oFRlpGgDjynsHnAXe7I2Lk1DN5yL8ZlZHx4yGi8hEZSbWyIQhQ0oEF/Z6h+90lBgYnLjBvn8fmKGRg6YBMqh4ZjpObRjyYXig3y8/d6nwUNeLuCFZLH3jA4xmSM0fUpkRUoK9EN9gq/x+Bc7TGN2tJpR/jPew9LR2g6YguRHPka5u036iiUlF/HdXWSiIiIiIgaRxPegfEdMo5Wv8PCziUE86MGKDPfVjZdI994bAgjDg8bPruuEKHR/EL7iI2JxyOsnfHdJ8bOI2P+a4hKzAPGjsMIaVyJJtUGHX3USZxBmSU/2z7giEdN9W7c0N390K5lU4e/btpHWoSCUv4ubd2+Q8FBdRJtMWKopmPCgnTarCP6TV+OrbGj1PF9LiPjk6PKIxUPdMTD0v+SYydx2qyBKJpCZzjoDZBsqbuzbCQiIiKiu0GTPkKSvSbe5Gs9W7RSnqu2f7GbrsFfq/PIXjEDAz2C8OqKY2bfvmw8NoQ+e4++CFSnf7mquSi+gvNZypTr89JAjJJKfPvRPLzg4YsXovZY/9tJjO8+0VN+cJc6UKE4vq6dYSMuvkpPyrNNpCOc3DVvfTiA7BP6j3x8h8/31zZQajd4j1T/Vu/X7LKL6rgZ9kPg3V3zfP5t1OUx7ZscyvblGdxRVJ59ALnmvi6Wmlz5wTTteCX2A6ZhpJemA8y8dFqWEYu4fKUAsPcOxYp5Q+Rpna7wGKu5A2oPPs/V306FZR14ZtEvjMpQphkvM+gxM8tV08wvG4mIiIiIbq2mHQNDeq3n2BmIyzqDcrUdXPnDMcTHJYlW8BDMGeklj6CvqET5FXVSuHRFr/H/QyFSE/NEE/0ychP3IlfzaErleRSf/ApFp2ruVTAeG0KrdR9xoa90bmR8dkj+BbU89ygype9cQxE+RHNBcxLZMcr3pftjkV2kLL19KlFa/B1OFJ2peRDUGu4+qazU/SRcWlqGcnFBZe+ie63krwbjAxiej181PQhXy8WlmOqGpmOhwvS6wiNDpmnvCElduhoZZ6VQV6Dgo+/gIA0oWotHgtS/PbYX/5BeSXrjPI5kSY8AtIX/9GB4t5ZXk13X22fFT3X/9G1n31nbsfXN2fOozN+DjNPKvMltlZs6bsHOCyM0nWTfxiFmY57yquDSA8iAFzxaSV/QLXGjXDpNOpoTeaMCp7Pi8ebiPaIMaQuPEW9jg9HjS+akU3uHttgyax625CqdgNfVAXD7BT6lDvxpA4/gadrOQ/3tnE7diwJNohF5SDckz2XDMGsZHotmX4b2Yv1mJb1V5h9Cutw544LwF/TL1TZo661O7j+DUpGHMpKPKWWHQTgqdeODmF02WphXiIiIiIgaqNnfBHVa69x59UquAa6dKsC9L6/C+xPdReP6Y6xdEoN5y+KQevQy7u83GfMjQ+Cq9w6/go3P4tUP1RmhMGMHTnYeBL+uLYH/1xKtKoqRKy5iHxsxBiP9HsS1jHnwHbkSh74/h+zkBGz8oBm8JnZHe/XvdZqh/ZPueOjsz3Bw7wz960m7rn3R/8mW+GH/TixYtAbbvvwNvUa8ivlRg+CsXfE+tLrvDI5ll8DOLxxjgx+Fvak3ctwKPxxA1F8nYdk/S3D2cAo2f/Ah7nn6FbhVP2g0a98dHp3P4eeO3fHw/1OWterQEa3PfoHs7+3g+rQHnur5Z3Tt9ACuFuWhoLQ1WrVuDWfXP6N18+rnI//v3+Ohp/8PG0e+K79KUnY6Gx/90RNe/365+rpDfNBV2m/z++HWzxOtfjqNs/nH8en+Qyi8Yo++L/mji9hPraS/faYfHrpZgOQ1y/Bu7Oc4+6A/xr81H1N7ay4/LyMjaiAmb9a9rrE0O6WW9KBo5vAYPO87j7yiYuQXnMP1J4dh5BPisq8gAc9OT1HXUrZ18o/NsD8qrtpxj3/yfnnWrutT6NW5EqVnzuOLfSk4cOxH3HAdghc9reAOkd+Jgo2+GByWguxz6gJJ/j9EOvgQGzfuQPaF++Aa+DJenzcdY/06613gq8xJpz98g1aDxqFP6Q4siJyJJUf/iMBJi/DG4Ad1j1T8v87wGWS0nXM26DJkGLzlxFiILU/PwFZ5Zck3yPhQL7/IpDQ9Eku0w3WU4NAOTXr+Efkf7EWuvPwlvDHrHuz921uYviYbLbxD8Ma70zG0m/6jVXZwfuJRXD1TiIKz34iPPV4Y54cHmhuH4wT2nn4QQ/3+LJeRZpWN9cgrRERERETmeNDBSZ0y9IebgjqtdewL9V5hIiKyIoXY4vEqlBekSAOOjqpxnB8iIiIiojuVVw/tIHUGmv41qkREREREREREDcQODCKiO8WN6/hVnZTHz+AgsURERET0O8IODCKiO8JlZMyZgS3qnPSmk+l9fRGVoQwqSkRERER0t+MYGERERERERERkNTgGBhERERERERHdsdiBQURERERERERWjx0YRERERERERGT12IFBRERERERERFaPHRhEREREREREZPXYgUFEREREREREVo8dGERERERERERk9diBQURERERERERWjx0YRERERERERGT12IFBRERERERERFaPHRhEREREREREZPXYgUFEREREREREVo8dGERERERERERk9diBQURERERERERWjx0YRERERERERGT12IFBRERERERERFaPHRhEREREREREZPXYgUH1czUPqfsvqzONryxjHp7y8NV+ojIaa1+VyP3kEMrUuXpr4uO/3Uo/2YsCdZqIiIiIiMgasAOD6qESBYmbkH1DnW0C9v7zsTPKXZ1rPJUFSVh/rFKdq6+mP/7bqvQA1sfdvZ0zRERERER0Z2IHBlmsNCMGUXGF6lzTsbOzVacaibgwX/xGfIPvLLhVx39bXC3EljmLkdHgW1SIiIiIiIgaFzswyCLlx+Ixb86Bhj+Ccav9lIe4Rrgwv2OP3xxXzyB16VzE8dkRIiIiIiKyQuzAuEOV5+/Bu9PHYqA0RoT/WEyPPYDTV9UvNcrPICP2TQz3l8aRCMLw6XHIOFWhfim5jIwo3TgTT3nEI/vUAcSq2x344mIkf6t73KIs6128MjVBewfD53OClL/bqNyNULBRf1vzkPGDWFh6DLHhI0UYZ4htyavJynKTsGSsWC6tO/RVLNmah7KGPJIhX3y/ihfE9l6I2oNvy79D4lK1o+GHQ2JfM7BFE/D9i5V489AdC1CB01kJWBKmxqnHSExYIG1H/Vqo6/gVFSjY+i4mDFW2YXxeqo3tsfcMvk2NxXR5fXGO5iSh4CdpxTwkLlCO56mhbyL24HllA0bK83Xx+EK4OL+n9R6PKUgw3FdqIXINwnYMpeqqqBTxNX0GluzVPDoSjwny36nnkYiIiIiI6DZjB8YdqExcgA8fH4tkm1HYkJuOFX5nkL11MaauOQbt9bb0KED4WMzbWo7+76bj6LH3MMImCfNenIQlWZqL1LbwX7wcY9Q54Biyi10QvmIJJnmL/Zw6gHf/Ji7i1W/tfd7Ax5tD1Tmg3+JkHM3NxNHxLvK863gRlhflScVP51Fq5wjnVuLiW1yQ5xYr+y3NWIzRYXE48lAoPhZ/v2/Ok/gmdgZGT02CXn+JBSqRu1lcfCc/gjeyMvHxAi+Uxq1GrNQRIHmgD2Z/8j7C1Fn4zcFnUrhzR8FVXnAZn88dg+GRl9EvZjM+O7YZb3ifR0FqLEaHizDJ69R9/MB5ZIjtTIg9CtfIVBw9+AYe/kycl6UHtB0FxmN7fJ6QglKPcKyIfQPeIhynM+Iw4fUZmJfaAoPmrsDs0W2Bs8eQOH07Ptccj0qKx+HjRTy6h2OfSAezu+7HvEkxyNDszHUUPp7bR50R+9r/H9w79A2siQqBvQhr9tY3sSVL7dCy6YYRcR9gvp8yC4SKtCXF0Xz4P6AuIiIiIiIiuo3YgXGnuZqH7THKnQUjhvaBA2zg2isED9sDLZopq0i+3bNWeRTgkb7wdrUBmnVEL79nxILzSF26B7majoJmLfAndRLoA3+/juL/jnDqrizBt1+h2Oxf4G1g10adRAWySyrhYNcRPqND4WrvDg8ncTH+k7gYX6GE38fPS4QfsPPoA18R/rLcOMSlm77ToHYn8Z/NUudIGUrLxIHZdES/adMQJrZplh/ykC7feXAQGcfE/806w1lz/AXmH3951nbMk7czAD7etkCrbvDwEaHauw6p2gg3HNuj36hg9JMi4aGHodklCh5D0FgX2In4dHJ+TF24F6fPqpOSnw5hi/ooy6C+XvK6zm59xc4OIPaTPGj21qKFOiH0G+iHR+xE9Dh1UztugNRTJeoUERERERGRdWMHxh2mPPcQEuXnIoB7W9nI/9t5h2FnRiY+ni5dyEq+Q/aH6mMNjvbQXMfbt++sTJQlIDvP3FsdDuH8RXXSInmwt5M6Q8QFs8sobMhYjqBHpE6K/UhWw9+ujeZC3h4d1ZsSsjPydI81mK0N2npJ/x/Cu0HT8W7GGZTbdMOYyGe0x16r1o7wkDpu7DujY2slTvGb8p/5LuOLrL3KpF9nuWMGsIVdO+n/y/i04Iy8pJpmej0MWmoYjHxTqtzBIinLPYhUeaoPnJSdwa5NW/n/stSvcFqeMsPJ88pjNkRERERERFaOHRh3mNPf7lGnavFDCb6p46q09Cf9sTCahqaDRV/p6QPqVA2OXa7HBXVH9A8LVe8qKETynLEYPj3JYPyKWtl0Q9DS7TiasRyhjt8hccG72K4d1sLcDpwLOK32X+jG2PDFhDhlUVnxhUbtKNDF4yHMG6COczE2XllUdgal7JUgIiIiIqK7DDsw7mC/XDX3Loq7n43rKKzYGo5+DynzZQfjMDo8wfwxNW6cx+crZmDogE2oHBqOkdrnOepDM36E3mdBH/PuBqmHsM1G+8qdg35NtTMiIiIiIqLbhB0Ydxh7B92gjLmnangs4QFHPGrqAvaG7mq+XUvTjyk0NYeHpXE4jF0XYVMnH7GBqYcqzGHnMgRLt27G7EDl0RUUxCPdrEdlziNj/muISswDxo7DCGnMEIu1QUcfdRJnUNbEd0Dop4Pii7pHS4iIiIiIiO5W7MC4wzi4esFbnf7273naN2RIKn+6rL6FpBu8R3aTp1B+XeoekJVdVDs87IfAu7tuIMlbyd6jLwLVad0dJFdwPkuZcn3eHY8okxYoxJYo9U0fdp0ROHcJ3pDHxDBP+cFd6uCbYv9dO8MGl1F6Up61QEc4uatxjgPIPqH/iM53+Hx/fQYnrZlD18e08ZSR/ZXu7TPCt/sP1WMcESIiIiIiIuvGDow7zUN+CJuqvrbz2zjEbMxDuXT3QtkxJGdc0N698EjQNIRJg0Ic24t/FFTKj0gcyTokFrSF//RgeLeWVxPLr+NXdVIabLJcvhKuQPkVeYHsV00PiKR1W20HyufFF4DSA0jO1nREVBr83aUrJsbZaN0HYxYrg2tmfKZcaJfnHkWm9J1rKMKHaDoBxPJyvb+/rh8IYx3QEYsxL+YATkvh197NEQofd83dFG3QVhPw/WdQKuIjI/mY/LaOykrd5X9paRnKywB7F104ftVsT1LL8T8yRI1zIXXpamSclZZXoOCj7+Agv91FYfK4rpbjkjIlVOK6us9y/bFK9OPgkSGIDFPTQepqvLv3vHws5fl78I2j9HYahf6fVPykHqc4ydqtivOvW8UW9g8pA4FKnS6lpZUi7CJO1SVERERERES3U7O/Ceq01rnzvGSxXs1g7+4Hv86VKD1zHl/sS8GBYz/iWgcvDHm+G1qpa6H5/XB7ph8eulmA5DXL8G7s5zj7oD/GvzUfU3trni+5jIzZ47Hqe3UW3yDjw2a4548zsfhDdZGQ//fv8dAQH3T9f2Lmvm5wffQazhZ+hbMF4mP/PCYEPCBCBRRsfBav6v1dYcYOnOw8CH5dW6pLFHZd+6L/ky3xw/6dWLBoDbZ9+Rt6jXgV86MGwVk9gLKMeXhhwTFlRjj9z49xz9OvwK29usDANZwqfQyjRzyAz9+ZiaioT3GqyyBE/S0UXpqOGtjB+YlHcfVMIQrOfiM+9nhhnB8eaA606tARrc9+gezv7eD6tAee6vlndO30AK4W5aGgtDVatW4NZ9c/o7VYt7bjl+O8nyda/XQaZ/OP49P9h1B4xR59X/JHF+lvBdPH5Yn8ITOwVV0GnMDe0w/C68aHeGVhTXHQDO2f7AuvP/2M06UnkJ3yObK+uYx2fw3BwC7q+3QLEvDs9BRlWijNTsHJPzbD/qg4ZKvLcDobH/3RE+OfvF/MNIPD4+5oXVqAolMnkH+mEh4jQ+CqvNqGiIiIiIjolnjQwUmdMvSHm4I6rXXsC/V+fiIiIiIiIiKiW8irh3aAQQN8hISIiIiIiIiIrB47MIiIiIiIiIjI6rEDg4iIiIiIiIisHjswiIiIiIiIiMjqsQODiIiIiIiIiKweOzCIiIiIiIiIyOqxA4OIiIiIiIiIrB47MIiIiIiIiIjI6rEDg4iIiIiIiIisHjswiIiIiIiIiMjqsQODiIiIiIiIiKweOzCIiIiIiIiIyOqxA4OIiIiIiIiIrB47MIiIiIiIiIjI6rEDg4iIiIiIiIisHjswiIiIiIiIiMjqsQODiIiIiIiIiKweOzCIiIiIiIiIyOqxA4OIiIiIiIiIrB47MIiIiIiIiIjI6rEDg4iIiIiIiIisHjswiIiIiIiIiMjqsQODiIiIiIiIiKweOzCIiIiIiIiIyOqxA4OIiIiIiIiIrB47MIiIiIiIiIjI6v3hpqBOax37IgtePXzUOWpMjFui6pgviIiIiIhIUtu1Ae/AICIiIiIiIiKrxw4MIiIiIiIiIrJ67MAgIiIiIiIiIqvHDgwiIiIiIiIisnrswCAiIiIiIiIiq8cODCIiIiIiIiKyeuzAICIiIiIiIiKrxw4MIiIiIiIiIrJ67MAgIiIiIiIiIqvHDgwiIiIiIiIisnrswCAiIiIiIiIiq8cODCIiIiIiIiKyeuzAICIiIiIiIiKrxw4MIiIiIiIiIrJ67MAgIiIiIiIiIqvHDgwiIiIiIiIisnrswCAiIiIiIiIiq8cODCIiIiIiIiKyeuzAICIiIiIiIiKrxw4MahQnYj3g4aF8pqWWqUuJbrcypISLdBl7Qp2vXXnWQvj0HYn4gkp1CVkLpYxZBfPOpJW7UYSEEd7wiUoXKfR3Kn+VOJ/TkPKDOt+kTmAV66a7x+82/yjp2Nz67I5ztRgpS0PhIx1j37XWXdbf0vKLqKndeXVk03Rg3ChF+oJgNhYaQVnqNG3HgOHHB8FTo7E2owjlN9SViX4PfkjBNJN5wvCzKl9d3wKVleXqFFETunEd7CIjHaXxWJ8y63eJ+ecuVI7MxSOxcC8QvHgdVoc/Cjv1GyKLyR1Md8kPHmRS43Zg3KhE6bF4TPYPRHRqsbqQmkY5io+lI37OSATO+R39ClFZJo47BWvnTkbwxoYVTZVni5Ce/A5mjohG+t3eiy7yZtnpHKTERWNyUPydXai39sS4NeuwTvNZPArOYrHvdL1l4jP4YWV1S9j7v4Osg9sR6mqjLqE7TzlOJEYjdLMVp3Kb7ghNzEbW0v6wVxc1nVJkLp2J6IzbU0uU5ycgevwdXubQbVJD2r2l+edOdXvzvcXKjiAloxK93ojBFH9P9AryhZP61e3E8otuP2tr01hH2dJoHRjlx9Yi1N8bgVO3AT795QsKamSj45Gbm4vcY9nYNacXNJdY5fvXIuVbdeYuV5a+AMFTFyJ+bw6Kr6oL6+UE1g4dieilScj8thzX1aV3rbI0LAiajIUb05Fz+hd14R3KxgHdvTzhqfm4O6GdWOzgordMfJxaK6vT700lio+m4wRvplFdwonkTJTfpkKusiQH6fl3eJlDt8ntTbt3tjss7spKIf3s6eRoXV1SLL/o9rO2No11lC2N1oFRefE04B2BdXuzsG6Cp3xBQU2kmQ2cho5DiDor9Yb90qCLeSIiIiKi2+DqL6IlS0RknkbrwLAPfAfxC0bB8wF1ATWtG/pdX93hoOm0NhgfYBVOXC1G0hx/eBs9X1v+bTpWRY6Ef19lXZ+gyXgn+QTK9MfTuFGO4oNJeEesN3KAt7LNvv4YGbkK6afMeAL1htj3WE1YPBAce6L251bLi5AuP+Lgo/0bKVzRGaJaU4/Lf8ERdWVha6iyXniK8giNmeFVBgMMRYI6DxzBwgHK/gyeQZbCEztTty2/YExemoQT+ndNGcV3TlkOEuaGqvHqDf/p8WKZWE9sSxqcSrt8/DvINFVb3yhDzla9OJDDH48jZ/VjTh2YUt3vqtxynEiORqgaTu8BoXgntViNa3XdAQvFUWokIFT+29/ZAFQG58AHwSJe5XOjz9TAXCbOSejcdPMaWyJNFmWswswRSh5Uzn000s+q30tMrTNiJlZlaM6hjjImjsjXUpg2zkSwn3IsoUtFeKS8a7BcL/3p0x5jJYpT31HTjbRugtrDr79c5MGx7yDFVH43kT9mbswxLEM06U8adK5a/Gv2Z0TdrnIM0v6jkVRg3l1SSvz4Y2G2mNGUD+JjkK/V86mfX6K3GodbM6BVKcpy4zFNXleTLnSDXVWeSsE745Xz5j1gGhJEOCX6yz389POjhqnBZfUG0fohB/GRwepgdiK9ac6vkbJjCYieqq6nliv650q/rDuywF8+3mrpW9QRBvEdZCrtiTRhkEaV/FPrL0IGZbamzBEfEwMQlh2Lx0w1fxmWX4bKcqXbudUwyPkwoXr6tpBxXeg9YCRmxqabvsPPuCyQ4mFqNBJyjQOhd34N4lfJ/9XX746I3FxEuKmzsnrEuUadabwcmXPEd33fwRGD46zEibhgsTwamT+piyRmpRGFYZpU1o3PVwOtpglTY31oyzZ1vva0ayr/KMw+n3plfbX0J7U5zFS9LSWO1/j81mNfynY18SjK+Lmi7WHmT57mxp1cTo1VwqI9J8ZpXC5/UqrFn64uEvWXfn0hjl9TDurUlpaVcs9jvNIiSxgvfa+ET8us9FdbmS2VySbOkyZdmmJV5Zel5UntcWFJm0NWQ52cU21g7cZOW2L9+rZz3CKQmxshSlY9cvt8svY45HLR3Lxu3N6Rz59RO9D4+MypH+poF9XVptHGlUgX2gFw9dOoaEvoH7N8HdOAetOsNkUj77MmTTOIJzUtqfBJTkCSPGOD7uGzMOQhecZIJTI3ThMVpGhoq0skpXtnInCEyFRZRShTC47y0zlIEol/UGSKrqFclolV099BklivSFzsyK6WoShLFMIvjkR8HY+tFCcvxDsF6szDU7BoanftYy/VXBUF7tiRiJYfcdDlXilc6UWX1Lk6NDC8BkrTMVN6xGRrpm5bPxUjJ1lU1ENFZjVZ5qVg5ouTsWrvCTVeK1F2cC0mT5qMyeLYFkodRJrl+UmYGR6PIv2LEhEHa18ehMmisaWNAzn8azFNhGVVvsmqBUfEeZMK9hNqOCt/OIGkBWL9Y6bX/136SaSNSQtwous4LIpZh9VRvoCI18lvJKHYxIWhjmjozxXnZGsZPCe8I4+tsfqNANjlfo86U+WNUqRE+mPknBSUPzUFMfLYHDGY0r0cpZqLA2nA4zmBRuvMxctO55A0JxgjpYaAuqqOCNOaSMTDFzMXr8OisEdFXotG2JojOLImDO+UeiBCLJfGBumUK6U/o3QmEw3KndFYWPAwxs1bLeIjAO1yVyFUhCMnNRKhqbYIEcvXrZgJ3/IkLBy7wPCCRqqA54zEgqM2CJgm1hPhXhRkh8NxkxG2wUSYTca/2F94kmEDQFMOpJajV7i63aHtkPW6aBQeVNephZ3HOPE3izDKRcz4Rch/bzAeinxOxPncWIruYTHydzGhTijeOBmD5maKmDVUeWwtorOcMffTbNEYWo3Beh30lSe3IXrRCTw8ehFWi3gKaJ0jwh6NlNwURE5KgW2wWL5mNWb2LZfz44L9tTSW9UjbnTYmXoR/Jt6Rjn9EJ3wjzm/QihzDeBUXRf5TN6HMeRQWSce5IgK9f5LOVaR2TB+ngdLxR4iUAjiPWKTGxzh4ah6vkuJ7dDCiRdwOjlTialb/cnFuRdrbXKSuBBRtHongxTmwe2GuOCax3uJxcL70DYqvqSuYoo5Vs2iEPEINIuR9i89A/SfbpXQ4DSO2ijUipfwlzp3DN0r5lW2YikpFQ21Q2FqUuqj5ZNE4OJ0U6Xuo0cW2BTR1YcpVT0xZpIRv7nAnnBPxHTxaahSqK0o05fPGYtgHzlKORcR5LxzBqrBB8sVCNb+JRmV0mKgZeil5csUsBEDkhbCwGstzjXrFucSsNG4H32lzRaiSsOoj3XnG6T1YtfEc+s+dBV8L04h0Lk/EBos0uRbFrQdjlhRmad1AG1y6WPuxmlJn2jXBovMpqyH9zQnCO+bUn+IiN3rEAuTYBOB1Ua5Jfx/c+jDWivO7ttqbrMzfV6XI26HycYh0s0LZ7uB2WZg29h29HyJqZlbclSZh2YbrGBybJT+arOk8O7HGX67vnEW5Jv3d6vDeKBdtuZHRpsZak+qiMCxQ6xG5vpDS99hpSNLrpK89LTthsLRsuhRavbGsNOWE2elPYbLM/jYeI18U50mky7nqeRrncgnflNRyjq2x/LKwPDEZF5a2OepTJzda2mpoO0ePaINED52MTWXivEp/J+rmWf3tkFNsxvVFaQqmDVTiwFMtU9ctmoLuFaW6dmB96gcz2kV1tmlkpUh6dx2uv7AaWdIwA+FKt01l/lqMDJqMtSfttXlndXgvIHuVSHc1XcfUrq6ypSn2WaObJhzNzVSn6uninpvhPXrcDE+5pC4gDUvj9lJK+M0eIi5NfoZF3tx25Jy6pkqNe1Prr8wT35d8dHOsZtmwlTePXxHLfrt+8/uPw28+LS9/+uayo9flTd28mHZz2dsf3fyy5Jeb139TFv1ydOXNIM3fv334prrmzS9Xq8vERz7v5/TC0Sf85h6jYBq79Jnecc4/cPMXzf6KD9/clPKlMiMYxMdq3XKZBeEVIb65UrO8hwjfRXWx7NzNj8Zovgu6ufLoL/LS68XimPooy59+57iyLYP4fvpm+MfKgUr7HaRdLtZ/fc/Nc1KYSnTbkNZfc0JeXbh+8/g7T2uXh3/8vXIMV47fXDlMXX/MRyJkkks397ym2Yb4vLbt5jdSEH/75ebh5YN0y/WP1yCcK8XRW5cGlTnqscnpuxpNXInzmKc7+5Lvd44Vywfd3FSkLpDkrRTL9NLDpTR522HqedVS01dtvokPMrlffUp6Nr3OOfHd01L4vlIXCJr0P3bn9+oSyXWR/5Tzrk1nql/SI8VyU8co1jXID7ptS+XCl/9TF0q+2iSn5Tn7lHyguHTzwK7DNy8ZxMP1m4fnK+nruHa5JfGvHoep8kKchzlyvjEn7ar7NC4fBOUYq2//eo6UX/XDopYPgzbd/KbauVa/67Ps5mH9eNLmMaNj/e2bm5sGieWzRbmmLjIdRs12jcMn4vVtqWyYc/OA/ik4kXbzo5NG6ebktpsjxDYM06uy3er1sRrfg8T50j8O4ZyoD3T7+/LmGinulx+Xv9OS4qVa3FSnxLmJ86ZJh0Zp9ub/Dt9cJu1PP77UuNWUr1r/E+WjiNtB8d+oC2piIg7UbQaJc1At90n1lwjDoA2a7daSNuXvpLweeTNNqk9lmnQ/6ObKHKOt//a9Ur9IaUtdVF3949z8NK4pY8S6cnmnhPlpg3RqbhoRZc2+OWJbou5KqRZBOrWU1abTSU1p10T+seh8Cpakv5pcPHDzoyNGYRN/v0Bs1+DcWbKv6+KYRZqutq5wKV2KY6PjrlEdcWeQXnW+/Oyjm98bnevvt48Q64cZpClNfVEtvouVNqYuT5qZltU4Mkwb5qc/zfGaKrO/XCeVn/r1ksp43gTrKL8sLU9qjgvleMxtc9RS7ql5yjBuGjdtNaidY0S5xjDcj6yuNCDV31Ib3LhdZKCWeJK/q6l+MKddJDFR3qk0cRWZblRa1VKO3Pyf+E46pllpemVcTeWFKTWsa/E+61bbtQHvwLiTnc7EqvCRCI09YnT7s47Ti6uRcUwZ+HOKK1C0P0F7u1fI9ClKr5k0pobfYLlHTepRTjrypTyFB/pjZlQIuj9kBxuxvPyncpTbtdONDJ1dJA+6VN05pL+7TP2lwAYhS2Mw2EGeqdlv6v+SE0eQWVSGSnFMdg/3QmigwU1gNat3eI18m44EzZ0jQRGY4qW8zMvmYV8M7iNPovKjI/iyWpyHYFSgcqB2Xr5qfEocMD5sMByaicmHAhAyQFkqxXXpRfVX2fLDSPlI7fd2iUDEUCfYSOu39kTAQDXyCrKQY6L3ctToUXCWgtjMDr2e7a+7y6X0UrVflH+3PEYhxM3w/h8nL2mw4TrGj7GzR6dWwJeHcgxv4ZfOTW1unEDa5mI4hC1ChNF+dYpxIFnkEr9xGGdiHYeB4xDSqhQbD+rdDijzFOlQ/1cgGzzq0VueGhIUoKQzlZ1rL7F2Kb4vqZ4SQvx0AwFL7Lv3kgdfdg4ejO7imLWcXeW0fOKsfuKzh29QL9gbxIMIh1sv8X8xSo1/TjEV/+69Rc4Q8a8ZH+3Gl8jcWgqH0VOqlxf2/TF4iDpdb2p8B4UgwGj7Nu69xDGW4stvjALezxXONZ3rIT7opR9PD3RHL+lXEpdgDNY/1mbOcO0n/i84LfZghiGjjI7fBt09pDNQhnL90+jaHyFdjNJNl+7ifAM5Z834VakyB+kivp1HDoan/nEIDqL88kQ6TpyS5tqhXRfxX/YR5OjvX4qXuvKBGUJGqGWjRitP9JLKSHGwml8Ci7OSRH0SghBNWaghrSvitjTvGxO/4NVO2aYvxo02cWegw2CMC7JB6dYDSn2pxpXJtCmdn+Gj0AuZSMs2CoWLOJceRltv5oSAkf1FoHPwTY0Jor5xblkadxg4C7O8j2BZ/BGU7l+JZfn9sSjSV/f6SrPTSBkyU9NR6TcXi9Q68Faz6HzqqZ7+usNDqufLRPtBWVKzB3wR4m006GSrR9HdW/x/urRamjRrXycykVAq2gzjjdYV7EU7TTf2WQN59EJ3E3ezdB8QAiejc+3kIpcqKNa/TVzmiVFBRvH98BPoLZJA6RVNwd6A8sPs9KfHRJndrt2j4t8jOJJndEbr2r8Zbmn5ZWl5Ui0uLGxz3PgGmck1lHsiT42qqU5upLTVGO0cDTv7TmILoo1xzCiS6koDBWnYeNoBUxZEGLaL9NW3fjCnXWQWkY5cDV86XJkrrmNqKEekcufl0aKttj8NR8xKeOa51ftkB8adRPMWEvHJTl2NEPkWonKc2DoNYVur30onilZETOulXGQ0sxEXxGUoLtBl3qRw9Vku6eMzU1QFKk3Fqz7PJT/b6OUNHz8fBI5eJbKhqvQXk8+lF29diAUHlaLb/sXViPCuXlAas38qQHcxcDoFC0f7w9vHH9NqehbZlHqG11jZyS91FxrJ09RnBKWPD2ZmqMtNXaQJLUwWhk6w1xbmNrDTKwTLr6pV3GlRUShTQOE7CNbu0wMj12hCY6qQF+5R/5e07ySKMqrmEQdRKRhp1UIebLi4pJbS1EY00OYOhlPuQgTK6TEFJ0o1zZJalBXL6ba3i34FbKwcpYWAs7uz6ffdN+sEJzdRKXxr3BB2hpPRwdi0UvKY5n8tkTakJdp0ptULTo7qpIYaH+1a3qvMazRrIf9Xavz89Q3pVc4pSIhbheipIzFyhD8G6Y9Ro0/EQ7X4b20vdy4WazKSOgp9TXHWQj+d14sS34Z5Wv14TVae6Tx9Tl5Tw9OpkzpVXa+uf1anNO5FCymft24hpgzJYTez/Km+XdH4aiedmer5v7K0COnJa7F26UyMHD0SwX76Y/vU4adLkI62KCbYMC6kT+BCsTdN3nDAkMgIeP6UgMk+0rP4CSKe6ry0M5NntbSsLSOzi+XwScovSvVbEqZ5G4VTfCYniq/01jWXvE0XDzibaGhLOj0sStKrRUo5r8ZVjfn5ASc5LeeUGIXCTVlurKbzqVPfOLcwjTdzwODpM/FociSCFmTCV//REYnZaeQcirNrKctuAYvOp5aJclAcQbv24r/c4rofE5RIj5amJmDtimhMFnlw5IBByvPq1Zi3r7JSuRSEc1dl3oBaFjcKU3Wi5EalSEPpSIpbq4wnNjoYPur4FNVVr4ukDgt7qW2q7cBpQPlhdvrTMVVmOwyYhQivS0gI85HHb0g4WIzy2h43MNstLr8sLE+qx4WFbY462jE11slNlLYsb+fo2HiMwqKhTshZHAhpvKpVqSdgVlOuRBoXpIb8qFHf+sGcdpFZnOEglSN6yi/JIaox3PaOcojwvXGnVwPc6n2yA+MOZePQCxHTdX3xxZ8cQfUuDFGQGuXz6/p3OtSqEic2hMnjMchjK7Syh7OLJ/qP6G84KI4JnTw8IfV3S8o+zUKOOR0QD/TH6k+kgZC6w15zgX+1DEe2Ss+ursWJOgua+oe3GrPjqBGJgr3OQ6T6u6f+DT8Hv7ewfX8q1oU/A6QvQ2hgP4yMMzU2RXU2NkYZ8G4hjRHj74PgOQk48ZMNHHxeRsS0RVg0vuHdZ00dZ04vap7bNPExeL5ZhKUxLxgalTTY4kj0CxyLlemlqGzdHSHjIzDz3ZkYrK5hLl/1uWZTn3EeSjPXxmUU1mVkYfviYDic3YRpQeJCIMr0wKKWEefa3I6pLiHKWB8mP4NNNuxvu1rLHQfcq9eZbawhcW5JGkere8UFl6h/rrZDu9amw2tOGpHca2Ot+aVpSGNu+EiDF289gYpWDvAZGYGIeYsQ6qGuUG/SD07qZFMxlTbl5/j7ITBsJdLF1Z2tawimTJ2J1VGWliqGGlp+mJv+JCbL7FbOGLUmC1lbFyH4oVJsmi4unP1nimNUv6+3W1x+WVieNFb9ZXGdfAvTltmaOcB3znZ8nroOEX2BtHdDEeg3EmvrGItIcQvyYwOZ/vH07sYOjN8Vezi56AqikFhpYB/ljg6DT+xg2Eu3c29UH7hwicD2rAxs37oOi6YNrrNDQKqsZk1Vi+OrSYg0OUCPCfaiER4Vj4ysbKRunKJ3R0YCDlfvnTHUgPAas3dylqolRdBqZJuKI6MB/RrsoUch3Xwvc5mJXSb3aTxKPd0yNg7wDBKV7aciXU33RNHGMFHxqd+Z0tJO/oUjs6C2hGsHBxegKK8IJn+PunEOxWIfDq5OIudalxPJC5DZSjRKU3fhnagpmBLUH55ennjU6FcAi6hxlnPK1INelSg3906sGrXAvQ5A8Q07PCHCKoW32qeLYWPYav2Qhk0bi+A5JxkZGxchImwUBvcV4RdpxewjUOP7XAuRtk3Fhfh0d9BruDazg7P/FCzanIWMmBDY7Y/Gss8s+ZWo/lrYiRN3SuQYd9Ph9PSy4LhVdu2dgcJcFNUwgN650zki8z0BJynztW4H6bfMw4Wm0qbwQ7F895BvV6PLkJPFJuu+4iLpt+PueLijMl8ji+PcwjQuDfi5dAFy+izC6qktkLBgreEPDmanEWW/ObnfmC7LjJj6dVGO7waw6Hw2hhsnkLQ0E3Yj1iEj+R3MDJuCEH8pTh6V00p92bSSYjwHxfpvqtKo1D2W0BTK9m9C/LeeeGtnBuIXRGDK6MHoJZ3jhy3NXSbUp/ywtIyqg51Lf0xZEI+sve8gpFUmopeqb7BrYo1WfjW0PBF7sajNoXaANEad3KRpywI2Dp7iOmM1Mj7bLtrTRYgPX4sTtXSkKfkxEwXGjyrpq2/90ITs2skhQtFJZd6YdGeJCBEeNRgMtGFu9T7ZgXGHqiw9glUrlPeQSBwClefX6/LoUyHaW5aSVqwyeD1n5VlRIS9Wx8i4Wq67ffKnS8o4AQZvP6lNCziPfAuhaiKtPLgAC0yNwKunLGMV4g+KwlkKTjMbODzsCmdtIm+HP6kdukphoso7oXuDhMXhVRpcihwUfaNXnDv3Rojmu+RVWHWwVB6PQ3a1VFy8LdSNkdFY7D3hKz03KykU+/yoSIkLSWUZig/GY1VGA6patSGgOFH9uVEyTTrv+pWb1AjrJz17W4lLl2ppqtv1RoD0zPXmtbWMuuyE3tL4LqJi32TiV4DSzzYh6aoThvQyJ2ffSmUoPS3C6+Akjw+idaMYh1MbcBFi9wQ8RR4o2p5S/a6tU0nYlKxOm6vaM+jO6CU9n5+chLRGvG3ytrh4TpRaIgU9pC3EZJXHsmosn3NKjW5ftfNEb78a4tuYUQPPvq+PaIaIhnOZWTfZC6YfuTOXs9cQUW8lIemzxjtxTt5S53YmNm01cTdVaYpIb5VwGqrWqzae8HlRGkPBVH6uxImdCTjSqj98jX4NRnYK0ozL2qtHsGtNEWz8RTlSW9u9XnFuWRov/WwZluV6Yu60/uj14kyMQgIWxum97cbsNOIMn5GiLMtYZ7Is01Ib+jknvjGMcxEn6SK+a1It7Zpg0flsDD+VyrfXd3KSnq3Xc/owUnLV6Xqw6+6JXihCwsdGbx0SipNFnaBOm8ucuNM4VyqXKka3o1fiyH5L92qkvuWHJWVUbYz2L41d4iONS3S6zLzHhKyl/GpIeSKzsM1h3x29pLHzGqFObrK0ZS7jNGDnDF8f6bGyS7hUS9qy8w5QxgWJ03tDo7H61g+WMjGuTk1sPHyUcG80Ee6rJ7Bt6xEz00zNjMuWW7FPfezAuJPovQPYO3Aakk6ryx8epb7qqW42blOwaLTaC3g6CdOG6sbB8B4ainc+UYtzUXH4+qvVcqn07KJYx8sHI3eVmvfrgk13jJ8Xqt4WJwqpBdG68JpyvRhrpwfDX/OMoN9kxEvP8gp2flMw+BF12sMX/TUXTQWrEOwl1g1PQZnF4RUNvaGa3tBKJE3Xe1+1CPuUBaPUsBeL7wLhLe1HClffQPm91ZdqKsjqzR6Do95S7zoR8RUzUhcX3v4Inr4Wxea9At40/fjBCax6Udq20bubqbqyFEwbJD0veQQ5x3LEJx3xi1chp1UIArxrK4Vt0Cs8DqMeOIKFw6XX8aZr/z5p6TTEqx1gDkMX4a2+55Aw3h+TY1NwRF0nYc5IBC3Igefc1QhV0771sEd3b9EIyl2G6BVqmA8mYeHL0Tjh0JBHSOwRMEGUGVL+HT0TCRlSXEiDY0Vj5FuX0D1QXa1O9nDqKtL6QdFIS5XCFo90Nb6l136Netj4nIh9JK9C9Nj4agP8WS1nTwwRZUXCUr14kl6T+dkvUIY509dJXNyJUiVxE+IPinVTk5Ap53s79A8XZY70bHrgZL00fgQpW9/BtDmaO+dEeeEfqhdfR0QaXiWa490xyqfuekd67tUGR7ApXjSCxd/G761HLLuIOk7UW0cWB2HknASkq+ctJyMJq+aGIr62u6Fq8lAIFs3thXOiXvWfugopUtxI8Silt+ELkePxFlaP1hyfDTynmsjPB1Owaqo/QrcCo2LnGo4fIRFlRM4k6RXaatxmxIu4FnW3uESdNVVvsMxq6h/nZqdxcVG/bMEReL4+C/2luwlbeWJKVAguJS7E2lzNxY25aURcmgSZKsvEenHR8qvcZaKh33+8EyqTIzF2cZKyTkYCZo7eBAwwVXbUlHZNsOh8NgL14i5nZbQ2Xo5Ir4ScfQIODXmE5IEAjBNxVJo4GSMjNWldqROiL3W34BExC+JO9aj7EJHSE/BOlG6/8VMHIa28eqlivoaUH+anv9qcWKOMvaEpN6TztGoP0H2kT50dWlZVftW7PNGxrM3hgCHTG6NObqq0Zb6yz6bBf7quXJDibuGaHNgEBaB3bRHXqhciYkeh08GFCBJtHE0cSOfunema8rSe9YPZam7T1EiUtabCfSR1lUgz0lhZoxA3x7w0U10NZUuT7rM6dmDcsWxg/4gvQqLWIeOjWkbHrcYG3cN3IWNNBPrr37YmjRnh1R8RK0LU8Svs5OfF3grqrq5jh+4DIrBu/Uzdow51sHEdj5kjNL8QnsA7b9Q8loWNo2jYeDnrxr8Q+5PeEhG6eDtSF/cX2VfV2hdzN7+FEDd7cST6LA+v8+g4rAvzhZOJQsXGLQK79q5DhGhU6b6X4lyEM3w1QpriotJhMFZ/tl1UdL5wfkB3dHYPO8N39FsY16sh977q4kcXx1Sn1o+il0cljsROw+SpkzF5zibkPDQZ8Z+IdFVXPLbqjojN4nwGdULxzgXav8+66gmPh9R1pEH0Yj5FfFSAqJxWYZq0ztRlSKn0xKzNn2L1bRrRvy4OQ2NE3umN8r0L5TDP3HwCzm/GYYqXYa60lI3rFGz/SFyAORVj0xwRF5HRSDr5KCLei7Co8u8+fjMi+v6CPQvENhYcxi+ac6V3TopEI0w+J2If27Iu4dGx/bVj91g9qaEglYOtv8RaNZ7Sro7C5gW6O+x0pM7RdxDS5QTWTp+MaXGn0aKl+pVU5iSLcs77OtLe1aRxcXFRYAPf4Z5qudsJnoHtdGk4cgFSfnoGMZ/EqQNJ18FtCjaH98Ivny4Ufx+Nw+X1ab6IemtqPLYvDkGnok2IlvPJNER/mIVLXcehfz3LY4fA1fh080wEiAuUVSJupONblloJzzfi8WlM9TdGRGxNFRfBevk5WtRp9uOw+hPpdmQTaV+EbfXmKbDLXqDk7cUf4bq3qJc+WW1itHp9DYhzc9L4jWIkzVmII64zEaFXxth4j8PcvpcMHyUxK40Ialm2Tnrnv6YsE+FOOtUOHvJrsiTiPE6Q6t3eqMwSF6BinZk7S9FrWRzG6T3eqlNL2jXBovPZYA4IeXedKPPKkbJAipeZ2HTCGbPWT4Fng4pBEUdh27Fr8Sg4FStpfdr8JHzjHIFYMy9SFZbFncTGKwLb54bA7qu16n7T8MuLm7EouCH1UAPLD3PTXy06eQxGu5PbsED6W1FuLPi4HM8sSkXci2bc0m9N5Ve9yxM9FrY5GqtObpq0ZT67R3vB87quXJi5IQdOYaJciDR8G5sp0vVAfOIihHQqxrbFmr/Pwi9uHuoPnUJ96gcL1NimqYUU7u0ibYzXC3dk3AnYj16N1K2WXDcaq7lsabp9VvcH6V2q6rTWsS+y4NXDR52jxsS4JaqO+YKI7h5lSAn3x8Ku8cgNt3QUJiIifdZZnuSs8MDkPaGIPzgFLOWoKdR2bcA7MIiIiIiIiKhuN4pQ8Ln4v8+jursQiG4hdmAQERERERFRnUo/W4uNpTbo7+NpwWNNRI2HHRhERERERESkVZYRjZlL1yJJM3jlwRSslQf8PIJOgYvwuh+7L+j2YAcGERERERERadk59Ua7siPYFaMMyDh5+ipk/eSEKSt2IX6Or1mDqBI1BQ7ieYsxbomqY74gIiIiIiIJB/EkIiIiIiIiojsaOzCIiIiIiIiIyOqxA4OIiIiIiIiIrB47MIiIiIiIiIjI6rEDg4iIiIiIiIisHjswiIiIiIiIiMjqsQODiIiIiIiIiKweOzCIiIiIiIiIyOqxA4OIiIiIiIiIrB47MIiIiIiIiIjI6rEDg4iIiIiIiIisHjswiIiIiIiIiMjqsQODiIiIiIiIiKweOzCI6O6SvwoeHtOQ8oM6T/R7dUvzwgms8vDAtNQydZ6IiIio8bEDg4iIiIiIiIisHjswiOiOVJ6fgOjx8TihzluvUmQunYnojAb8Mn02E+9ERiP9rr2rpBHi6JYpx4nEaIRuNj/lNXVavXPyAhEREVHDsAODiO5IlSU5SM//RZ2zZpdwIjkT5dfV2fooO4GkrHI0ZBPWrRHi6JapRPHRdJwoV2fN0NRp9c7JC0REREQNww4MIiIiIiIiIrJ67MAgojvLDymY5uEB/wVHxEwCQsW0h/SJrX4DfdmxeMwM8pG/9x4QindSi1GpfqevLFe6Bd8f3tJ2+vojdG4Ccsx8mqHyVDpWRY6Ef18lHD5BMxGfr/w8fyJWWhYqQgkcWeCvhFN/UMUbZcjZGo3JahjlfS9NQfFV9Xt1YESP8fIWsHCAsg+P8BToB08JQzB85O37IDhyFdJPGR5pWeo08d0qnJD2uXEmgv2UdUOXpqP0hljBYLk3/KfHm44DNcyhA7zlsEjxGr01B2XSNrTKkBIutiOdk/IipCwNVeNHCluCwd0LdcaRKXqDU1Y7xxml6kqG6oqj8v3R4vx7451sw3irLFiLYLE8en+5Gof+WJgtvtgaKu9T+qzKV9atxpy0eqMcRRmrMHOEmv6kuB8xE6syTKdVA02QF8xJS5Yq/9Ywj3gPGImZsel66VyP2fGhl8auFiM9Vi/tjo9GQu6d8DgSERERWarZ3wR1Wuvc+dN40MFJnaPGxLglqs6ifNH8XnR6si88W59EZsETiFgzE68MfB7Pu3VDp7YtgAtH8UHqD3Bstg/LMjtgxJRRCB74NNp9txsJH32M8sdfRq+HmqkbA0rFRenQyBS08H0ds8JewuC/OqHsH+9h+YZidB3qC6c/qSua8m08hr+0Ehfdx+CNsFEYLPbj+FMOvvp/z+BZ51Zo1c4dT/l0w7W9R2EzYhEWhQXj+YGeeNSpPexEEE683xcTk9rAd2IEJocMxnN/qcTBDz7AllOOGOLfFWILaP/EU/B99Bo++5cNRi1ehMnDxLE+9Sgc29tBOopKcTE/cvQqnHUag9ciXxHH+iTuzd2EZavScU+/ELjbK0G9VpSOhH/eA7vKJOxv/jxefSkYTzuexd+3JmBf5WNwzInG8h+fRcREcRy92qHoow8Qn3UP/jrMHe00Xd03SpESORQz/94Cz4bPksP8TJcy7Fu3HGu/74qQZ5wgzoBwDUVpCTj4Rztc3bIDZ3tNwsQgcXzdb+Bowof48N+t8fyQx2An1qwrjkyq7RwnJuGnJ8Q5flD3x+bEUYs/P4FO3+zAe+l6x3yjGLvfnI197m8jbsKjaGXXCR69PdHmdCZOPBGBdTNeEWF9Hk927YQ2ptJJXWlVxGf6nGC8urEI7Qa+hjcmivQ3sCc6/XAYWz5Yh32/PoUhXu3l82xSI+cFc9OSaRdx9IMU/PTXlxEg0r5G6d6ZCH51E4raB+C18Ml4KfB59Ox4EYcTPsC6f1zFU88/hfbN1ZUtig81jd3bHe33zMNnrYdh4mixvt8TaPFlAj7YeBBXew7BUx1qjD0iIiKyUrVeG9w04WhupjpFjY1xS1RdffLFpZTwmz16rLz5pTqvlbdSLO9x8+nX99w895u6TPK/wzeX9elxs8fsAzd/URfdvLjnZrhYN/zjc+oC1f+O31w5qMfNQfHfqAtM+3Ld03IYjuvvR2Iw/+XNldI+Ui6p8zpffvbRze//p86ovt8+Qmwz7OYe/SDJxxR+c89FdV7juti2FM7lx29eVxfJfjt3c89rhseqxFePm2N3fq8ukVy/+eXqQSbj65f0SLF80M1NReoCQdmGCIdRdF3PWXlzkMG6l5T99wi6uTLPIGQ3v985ttp2a4sjkyw5xxbE0c1zIj2Iv9eEQz7ePnNuHrgiz6rUY1tdLeXVqKa0qiyvHkeSc+K7p6V4+kpdUIuatt9k8WSSiXOo5q8gEVfVjlCN60EbdHnMsvjQpLFBN1fmGK3/2/c3Pxojvhu06WbtOZiIiIisUW3XBnyEhIjuSiEjBsNB/8fXVp7oNUD8X16uvRW9OCsJRxCCkIEO6hKVtG4/oDTvG4NHNYy1a/eo+PcIjuQZjeho5o++3QeEwEn3Y7XMycVT/JuDYjPeOFKZm46EUmeMesETNuoyWTMHePqI7WScQLG6SOGJwX30e7Nt8KhHb3lqSFCAQXzZufYSa5fi+xLNsRXjQPIRICgEAUbRZePeC75i3S+/MYotj1EIcTMIGZzce8NBrPtLI4w5Wf0cd4dHH/F/WTk0obYojhwGY9brvXDk3U04cjYTK9/NQf+5s+DbWv2+Uanx6TcO44ziSOIwcBxCWpVi48Hqj4NYypy8YHlaqpuSv3wxbnR3w21KRFyPC7JB6dYD6ttT6hkfLqMw2MNo/WZOCBjZX2TgHHxj+okiIiIiukOxA4OI7kKecDK6yJYu1u2kzoLsYpxTFqD8YpH4NwnTvJVn8/U/kxPFV3rrmuIwYBYivC4hIcwHPmOjkXCwGOUGY0HU4UYlSgvTkRS3Fu9EjsTI0cHwkce7ME/5JSl0RXgnqHr4AxfniO+KjTpCnKvFi00r5eJP87/WPVKMiX1c1Vzilouwiv+Sp6ljE+h9vCYrY1icNootFydUOw2t7SF1oRSXNnSMgl5wclQntezQrr34L7cYl5QFFseRQ2AEZnZJQuTIaGT2WYRZftKDLk1BiU9nd2f5UZpqmnWCkxtQ+W1prZ1odTMzL1icluom5y8XDzjX0AHU6WFP4GoRlKRQz/hwc5LTkzG7du3Ev+Z1BBIREdGdgx0YRHQXEpfe4gLcLF1CsGjNOqwz+Rls8uJIq5UzRq3JQtbWRQh+qBSbpgfDx38m0s351ffqCax9uR8Cw1aK9Sth6xqCKVNnYnXUYHUFc/kiItZU2KXPOHg28t0DTi8uMrEf9TOw1ti6jSyIo2b34t42Nqi8Wol29nbqmB53Mgvywi1OS43intrOkAPuNbrDiYiIiO5s7MAgot+tFnYOwCnAzt0Tnl6mPk6mfw02YufSH1MWxCNr7zsIaZWJ6KWGbwkxpWz/JsR/64m3dmYgfkEEpowejF5in90fNv8Xf5tW0rrnYONgKuzSpzscjG6sqL8WuFdEV/ENOzxhcl/i08X8sN8qlsZRaeoCLMj1xaIVU9AicSHW5jbsDRw1s4ODC1CUV6R93MXAjXMozheX4K5OqHXszEbSFGnJrr0zUJiLop/UBUbOnc4RB/gEnOQDrGd8nCw2mdeKi6S7Rrrj4Y7KPBEREd0d2IFBRHewYvX28/px9hoCByQh6bN6Pihv/LjIA77w6Sf+P12mfYRBI6fU8PGKc6XSBZYTHKRHHrQqcWR/kjptLAfnLqqTKjuP3vBFERI+zjH5SszG5YxegQ5AchLSmmhcAeM4agwWxVFpCpa9mwPPqNfRv+8ozBwBJCxYixxTr/s8bemjHcZp1Qm9A7sD+zdhU371kJV+tglJV50wpJezuqQuDcsLTZGWnLwHozsysWnrierbFHG9KbkSTkN7iZQlqWd8ZKcg7ZQ6rXH1CHatKYKNvy88ra9PjYiIiBqAHRhEdEeyd3SCDY5gU3wKco4dQfzeegx26DIKi0Y74cjiIIyck4D0YzliW+KTkYRVc0MRn6+uV4MTa3wQOlf3d0eSF2LVHqD7SB/1okzSSVzIAZWJmxB/UKyXmoTMH4BH3YeI8CfgnSjN36cjfuogpJUrg2oacHBCL3EJmLA5HkfEuinJmcrFc+v+iJjbC5cSJ8N/6iqkSNuXtnUwBQlLpyF6bwOuaE1wHrEIox4+goXDRyJ6a7qyL/FJT16F6LHx6mCM9WE6jhqFuXEkvSJ26UIccZuFWf7Sb/w28AybhZCfErAwTv+i3h5OXW2Ag+JCO1XaTjzSC9SvalBTWnUYughv9T2HhPH+mBybIp9bKR0kzBmJoAU58Jy7GqGPyKvWqlHyQlOkpYdCsEhs89zWUINtpm+NxsjhC5Hj8RZWj9bllHrFh7cdciaNxMLkI0p4M+IxOXAakkSOmTXVV3sHVWXBWgR7+GBmRuPmCSIiIrq12IFBRHcmtynYHN4Lv3y6EJOnRuNweX1+arVB96nx2L44BJ2KNiF66mSxLXGx9mEWLnUdh/51XDx28hiMdie3YYH6dws+Lsczi1IR96L+WBD2GBz1DkK6nMDa6ZMxLe40WrQUe/aKwPa5IbD7aq2832nz0/DLi5uxKLjaiIvAA4Mxa2kIHj2xFtPEftaebCFCrnAIXI1P10Sg1/U0LBPbnyy2NTM2CSda+SLEq5EfPmjVHRGbt2NRUCcUiYtQaV+TI6OxLesSHh3bH9I7WerHdBw1FnPiqDg5Gguzu2PmdL03drTqhXFR0kW94aMk3cdvRkTfX7BngdjWgsP4pa5xFmpKq80cMDjmU8RHBQAHV4lzK4VtGVIqPTFr86dYLd3xYo5GyQtNk5bkbW6eiQAcwSp1m8tSK+H5Rjw+jTF6O0p94kPk09Wbp8Aue4Gy/uKPcN07Aus+WY3BZkYfERER3Tn+IL1LVZ3WOvZFFrx6+Khz1JgYt0TVMV8QkWXKkBLuj4Vd45Eb3l1dRkRERHeD2q4NeAcGEREREREREVk9dmAQERERERERkdVjBwYRERERERERWT12YBARERERERGR1WMHBhEREd1h7DE4NpcDeBIREf3OsAODiIiIiIiIiKweOzCIiIiIiIiIyOqxA4OIiIiIiIiIrB47MIiIiIiIiIjI6rEDg4iIiIiIiIisHjswiIiIiIiIiMjqsQODiIiIiIiIiKweOzCIiIiIiIiIyOqxA4OIiIiIiIiIrB47MIiIiIiIiIjI6rEDg4iIiIiIiIisHjswiIiIiIiIiMjqsQODiIiIiIiIiKzeH24K6rTWsS+y1CkiIiIiIiIiolvHq4ePOmWoxg4M526u6hw1pqLvChi3REaYL4iIiIiISCJdG9TUgcFHSIiIiIiIiIjI6rEDg4iIiIiIiIisHjswiIiIiIiIiMjqsQODiIiIiIiIiKweOzCIiIiIiIiIyOqxA4OIiIiIiIiIrB47MIiIiIiIiIjI6rEDg4iIiIiIiIisHjswiIiIiIiIiMjqsQODiIiIiIiIiKweOzCIiIiIiIiIyOqxA4OIiIiIiIiIrB47MIiIiIiIiIjI6rEDg4iIiIiIiIisHjswiIiIiIiIiMjqsQODiIiIiIiIiKweOzCIiIiIiIiIyOqxA4OIiIiIiIiIrB47MIiIiIiIiIjI6rEDgxrXhcNYPmEQ/HyDEJl8ClXqYqLb4wrSovrD74NCdb52FYdWYsjAqUgsZMq1VoUfiPPpuwHmnVFzmJlGbpzCLlG2DZmfJf7CChVsEPHyFtIuqfN0W92pZcndUAZeyd+J2SFSO6Q/Zu9rWG69kvZWI5c3Zvjd5mXL6mv6nbmcj8TolxAg8rVfdH3q4UKsl8qENP2/NLXsFvlZXC8NHYSwbYVWfq1knfmy8TowLhciZVUUQodKjcv+CAiZivnb8nHlhvo9NVhFSY6I40UIGxMkx7H8GfgSwiYvQmJBhbrW7XUlLwNpp6SsWIG8tZn4TllM1HguZWC2Jv3X8llfoK5vgaqq/6lTREZuXGeHLJntTi1L7vgy8NROzJi+BRc8J2BJzCz4tVWX022hdACZrqN1n1vcQUR3nhunkDg9CvH/7YmwRUsx+69t1C/uYFVV4kqJ6quROjAKEf/ydGw+2QYBry1FTMxSRL7QEWc2R2HEvAxcYCdGw9y4guNrpyJ4zFt4L/UwTpboJflrV3Cy6DD+899b2LSuvIKSLzIQ/3YUQrcZVjttPP0R0KW5mLKF+xRfdFMWEzWee90wSpQxUjkjf6KHoatY3GeK3jLxCXBUVrdEG99o7PlsDUa4SGmYSI+NC0Zs+BR75vngdjadKgp2Y8m0nWzw3yrnDuO9ecuQaeGv4abLkos4tGoRlmTe7nt4KlCYvAzhidVT0Z1eBhYe3I6SlsPwxvRA9OzhA98e5uTWmuODGsbW/SWDenl2UBextDcm6S2LifFHParrW6oxyt27vuyuZ1lplqJD2FbSHMEzXsdgbzf4Put2W+vhRtHOB/M++RRxL7vAOkpba6mfzNNIHRi26DbjQ+x5fxaCfd3g3kMkruHRiBUNPWS/jxTWCfV34yLS5o3GbM3jGI7+eG31h0jbl479meLz2Q7ELxqDzi3ktW+JKwdWIDRyJRL35aPkmrpQo11vzBCN/P2ZyYgRFRUvA6nR2bSHiyhjpHJG/nR3hPQjWwdnvWXi43ifsjrR3aTqv/nILChX56jJXf4aKYcqcF2dbZgyFKYeRkXjbKwBqnAmNwuFd93PfxUoOydaSq6O6NhMXWSWuzU+br/mHVwM6mV3J6m2bo/H9Jf1cBRXEdatMcrdu77sbtSy0lDFjxdFLhXtuo7qAmoC1lI/maeROjAc0ce3vTqtY/uYKJikiuG/d0ZvjjW6kvk+YrPVuyschyF23esY7NoezTWVc8s2cPQejkm+d8HtVERERET1UoUKdkIQ3XWqrjJjk6FbM4jnPer/ZJkbp5C2OUdUyZLmGDxlDFxayjN1ulKQgfXzpiJ4oPqMoTRWxrwNyDxlVAgYjCewAXkVhUh5e7r6d4MQPG0t0orVDhR13eCYHGVesnO68rdRGcqAOgXS4FPq9jTLBGXgPeUzO+0iLmRvwHzNWB5DJxqNl6IOGKOubzCWQQ3b17jyxW4siZyIIfI6IvwTFiExW+q5pd+9CpGfVmnSdhBC5+1E3mX1Ow05fRkNnnbjCvJ2LkOkJr2KvBT+dhYuqF+b5UYFTmaKND9BHYBKzlvLkHlO/V5iah2RftdnllRLv9qB5aSwbVukjj0UhPBVIlxSPjJYLrYTXduxVqEkbS3C5UHvpHV3q79E6i/vjyGv6pUF+kS8Zn6wCGHqetXzs0RvEKhq50GzPyPqdjXjKg15dRlSxIqW/zggjsMgXpVzX9evrRdEHAeI+AhP1AxGbGogK70BwC7nY5e27JT2IcrbavFVv7DIDMrf3QiX/944PIorX+zUlq8BIdPxXlr1NCS5ki/d0qyGRU7Xu6unE3Ncko5dNwaWnAYSC9Xne2sZJM1EftOm7WslcjqRy3L1GGv7TiaWG6SZMabyj154RLgT56n1hXT8mvwjU9bzm7ZbTOdgeYiyTVP1jklGx6bUgdOxS0wfj3lJ2ZbRsVcVZ4l6W1N/1ZCGNNu9IOXxt5T0phemilPSNnR1vxQHifm6ECtx+BKWHxczmvpbfLT1rKkyUGJcDkrhi1yGXXrbVtQjr9fB+JjkMdY+yDK4A9TguI6vRLAcRhPHYaTO+NCQymf98tAoXrXUeNKsJ+W/JTsbaTw4C+oImYl8GWkyj1tajt0C5tTXErPyfB1qq+PNKHfrynNmld1mpRu9vCUNaKkpK4ZOx3uZF5VV9JeL45hd01iEt7isVMo2ozgyZ+w+g7jTbdugPjE7nVvArLxWgUOLxHeTU1GiLtEo/EA6j8twyOgQ89bqr68Xvxp65W+1elxzjo3I1z169fjsD3Jw4ZwSbwbbroU59ZPsVubLOjT7m6BOa507fxrt7KvfUWGpiqM7sfygLV6YNASP3qsu/J0ru/yD+XH738NYk5ADJW08j1feeAqd6rwtsgqFm8MxadleFJRcwa+/qYt/+xWXS77GoU8/QW5zL/i5toW8qauncGDXUSjXUf9D0ZEk7Mv7Uf27/8OvPxThX/v+B9dgT3S8rr+ukU5PI8SvK1r+8G9sTf/acJmY/PGLBKT9R1l847//xo5PjqL450plwfWfUZK/H1/ZP4sAZ+lGwl9xcv9u/Evd0WMBo+ChibIatq897nf349T5n6FsWYT/SgnyMvfg0PUnMaDH/coxk9WxKF8YU9Nwa/10oqWmpT/a4lriJzj31MsYPdgfPo/dQG7SbiT/517083fGfZquXDl9/QzvYF90ayUtEBXUklGYs88OAyZOwYhBfuJvW+D7tHJ0C3bD/fIf1UF+DOwVzNl+Gvb+4zD1lSHo/1wfdPutAJfa+8JV2ohYJ3PRRMzadkpvHXd0/PE4dny4FZ8bpd9fT2ZhV3Yz2FZ9in8298P4YYPg+WAp/vHRbnxe5YwH85ZhbVkfhL0yDP292uLkxwlIPHwPvAc9jrYGx3oJDzbLQcq5bhg1aiieeewPKPp7ErYX3Q/Xqm2ISm+PV6aOQOBfH8H//SsBW5MvwOn53uj8J3UbUoNqbihWnuyCYWMnYLiIH8/WXyPpwx3IhgizuybMtZ2HJOz88l48N8BZdxvxNVGxT52G9f9pi+cmTsXYof7o1ekK0mM24/Mff8bPP7sg4JUeZsX/ycTJmLD+Rzw2YrKIJ38859UJl//9LVr27queYzVsbfwxWsSx5MrxtZi14DDsX16GVaOd1Ufhqq8nSjZ88WEGfnZzxMm4Hfjvk0MRGjRI3sfFgwnYnnwS9z8j0pJ6YHWHpRb32KHjE0/B/b5iHCp8DJNipmD4c3547nEndGxjo3c+/4nVBx/AsHEvIPC5Hmj7/WdI/mQvKv4SDC+9CkTqoBk9Lx0t+k7EtLEivXk74kpWPNZuPWt0jmtXJRpcE8a9h0N/+AtCxoXJaeC5J9ri++//D08+5STKZzWOegXhmW5GPfDV8psmbf+K61e+hP2QN/G310O18V3bd3Kamfwq1p91xHCRV6VwPGH3b2yP3YADzZ/GYFHnKZTwXHIAPl9zCA8EjUWQlG7tv8enu/YgpeJxvOjVQaTblnjg8SfRu9uv2JfTHMHRszBWOjaPbnjwftu66xKjY2vZ9nH06OOEX/f9GzZBs/DmWJFOnnNDN8f7YSs2JsXjpMkbcK5zCCa8FiLOnSvuzduB2Lgs3NN7ELTBV89zyytHcLFHJN6NmoDRmnpQNPb/Nno1irsOxZiJ0jZ64L6iZGzddhS/efaH+/3NRDLqALen3NC65AgKH5+AmFdDRDj80N2pA+6TzrmJcyLFbfzUqVhxBHAZNgZThouw/9UZf/jmU2zdkoxvHnhGnFtN7rUwr9fhwj7RCJ65Ayfv98WEia/ghQA/PNn+Eo4lJWBz1jV4+ItyQGRQg+NqNwyzo14Rx6+L35rUFR+6sjYJH597Eq+IcrK/VB6Ki4ZdSV/jPh9/PKp5XFEu68difkYL9Jv0qlxu9XW6jM/j1yP+9MMY0tcRIqfWzdQ5sLCOqCrYgqmvrsLnv+nypc+j4kIlVSrHiwzKJUvLsYZQ4vO+GspvC+trs/N8beqo4+sqd83Ic3WW3WanG7342XMILQKksqsHHirdj50f/RPXuj2IL5asx+VnJmCsqF+kMm23VBe3MIqLW11WntqJCeM/wI+uIXh1rGiTiDh68OcvUdSqN/oZ1wnGDOKurXbbTz7yIO4XGbte6dygLjKxzOy8ZgP7305j5ycl6DpQL6/iFPYt/xR5FafR+okX9erdU8hauRflgRMw8i9SoWFi32r5brIeT07Fz4+LetxBV6DJ9fjf0vGHx0dg4hSR/nweQ4svE/F28n9w7eefcZ+peteE2uun25EvFdK1wYMOTuqcIc3uGt+FDCxZfhiOw8djQCd1GVnm54s4qU7C+UF0MKPmqzq+ATNEppN7uRwDsSRJGSsjLXEhBsujJIkL/Y3LsOuUNG2sBB2eX4M90vganyxEcAd18bVUHM4XW2znjyViW7siPdUvhOErlLE4lvqbPaDOhUo3zJbCte9TxEfotlWYdqxaL6a5qr7QHXdz79cRny5tPxkxw5WhoUp2bsRekz0v9LuQlgOEr8KMQE/5mduega/jb6+5iES3G4dPq+uYcjkHaZlVcB//Okao4/v0DJiAJTvGQPy1WU5+9BaWZ3dE8OodiJnoj57yM7+eCJi4ECPUjVz5x/tY8k9RORus4yMq6zXYLPLb+Z0izxYp6+pk4Kv7IxDzso8cLt+XF2LJ8Pa4sPMtzCsZhiXyIHZiO75jsGRGb5EJ0nC82rHmY89Vfyyfoawrxcvbr4o8eXwlIj9yxJKlY+ArbcM7EDPeHIMO17JwKN/wJwVb74VIjNMb/2jsMswPELvbdgT/Mf7lp5bzkKktk0QZtU0c74+emLFuKSYFqOuKeI/Z9BK6/qiuZpZCHNwuSpWBE7T7dPcVFzeroxFQQ4ElXUjOiEoVZdsyvDfWvMG1jq8Vdd3CNZg9XDkX0j7mrRNlrvSL0cbD2jsRLA2LARt17BfjZ8id9K8qxPks6Y33lg5XzptIQ6FL52Jwyyqk/OOYGg5BNLpjY3LgPmMjYqeo6U06x7Gi3L8vC+s/M1lBVPfzYcRE7cZ5UeZu1ksD8nFFNGSw08Oo6hGBwV1MXTGZ+k5NM5XDELMuWpcWX16KuBmeKNmYXP2XsM9K0Cd2qTZfy+k2sDmqPsnAUXldWzhKx+Is9Yq2hWN39dhc2tdrbCdbJ+nv/wKpWm0rT0sfF6VeryxE/Nu7URm0FOvnD9OeuxFL12BGzxLE79CkIY18FHaegNe8jWP4/8Fr6VbEReu2IZ3/AFGzJn7+lbyGZkwCeYygjn9Rw1HbmEFK3CaWumHGJr007u0vLsR2IHZ4RxyP2YDMn9XVNczK63WQ0unbh9FWtDN2xUxAgLcSVt/hsxC36XX0/HE3liQrGzM4rvsclTBq4rcW5sVHBo5hKt5Ty0k5ryyYIuqAQuw6rDsYqRxfni3F0wpduSWO+73Fw2CfuQGp5h63CRbVEXJ62okz7ob5Ui5DE1cg+H5RLq3PMkpT5pZjt4BZ9bXled6kuur4OsvduvNcXduwON2kfY0OMzVllygnFi8Q7fWL2BW9AGdeXKiNN9+xCxD5V1EX/z1Hdy1xG8pKeWBdBGJShJp/pHT75grMe86MGsIg7nTbdukgtlzPdF4XS/KabXdP9BT5I+8rvb2cysHen33gK+J+b77euxhLvsLBC+3Rt3tdQ9bWUo+L6yTtntR6vKPUVtFLf8HRq7DEW1xrqauZo9b6SeNW5kszNEkHRsWpVMwetxKFPWdhyThrGV3196ACR/+RKpKPYvCUCejZTplu3sETo17UdBaUYNsBvVvXtIYheGgX5deK+zzR51ndmTtf1kgpTnAfOQx9pHA1aw7H3r4i86uKLtazghTHnaY57i4IEwWOo5TpmtnC/RlfOUNKFw+H803ffkW/A27DMNjVsCRy7NEPXXER5VfVBabYtkHHlsB//pVv+DYlXQd47W4U4oC4aO0wdhYmGe1fpwQHU0XF8NeXMNLEOh2eewlDWl7EtmzjPOuGgKf1K8Lm6ObmJU8NCBTpXi+Mti6iwhHHevq/1XPYkH6eBmV0m8c85be6dB3sb/jIWtdH0Uf8V3hOPx+1QR9RmbUxiA8RjselsqYEF4zvXjR1Hrr3FHlUnAfN2GY3vsKhnRfRYfgYBCiZV6etDwIGqtNmsYe91Hl/XDQw9A9dCq+Jc1hVnIp54oIcw5ci1pK6KzAQfsZhbemJgJGiQZf5Nb6T045lYamvIUH+BuceLd3g9az4v+J/2rqh5FAqjosG5ZBnjW5ZEuv27C0aPidOam/9rc2V7AxkXuuNyEijfTaYCIeLqc4LiYnvKvNxQKSZrsH+cDf6salDj94i7WehsFhdoDFwmFH6ag4Xd3Hw4shv9TgKVfmfY9eFLgh+3s0wzTVrD/c+bnIaMu7c7+Mqvc3BSLveGNzT6KKgZVe4SJVsyUWzzmk1atyazI9SnL0wTNThh7H/uNHWzcnrdVDSaW/RdjGRFzv4Y9Tg5riw85Co3ZuaG4IDjcLg6IZnnEVe0Y54p5bjJsqC5q6iPSWO+z/f1usMCJbVEUp6ao+XXzaRL1u6IERqC/4zE8eNb/02qxy7Bcypr+uT501paB3f4DxXj3Tj5g8v/arfphvc5YZ0AIY8o1+m28LFQ5QfF87gvKZMuw1lZVt76X2EOThu/MhIA+uMeqfzWlnYHmsn6ldxDZ+Z97Wufj1xCBee9cWonp6o+vyEtvPoylc5ONkhAD0fVhfUono9/he4PS3+v/w/7XXSlZzDNZSP4vwEDhPnspHdynxphsbtwLhRgcKdURg1YStaTFqDhGifRm7U/I6Ji/uyOiuPEnz3L3US4iLkz4YJrc2DuhKv6vuzJgvWFnrnq2MHUfA1geZ/1OvSa9sendXJ+tM/7lN4b4zyzJX8mbBF2wuZd65MnaLfna7t1Y4sPa1ayG8vqXWQYRvRcJ3pj855KzEqUHq2MAOFFzTVlBmunMWZa4CXc2097hW4UCSC2L2L6duqm3WEo6vIs6eMG0Nd0Nm4wdNSyfM26v9a90hVmtjTVeOwe8LxQXVSQ42Xtn+yU+Y1min5VtdgV4lyX3qt8q7NG7AkcirCJryEEfLzqiY8+lD183BfG/kVemfOq0d35SLOiP9qirMWFo2p1B4DXpsA9593IzIwSB7j4bj+a6j1fb8D815di5KnpY53t1pvOzfm3s3RqAGhsG8jHYOmI8eCsNSbGxyrRXBz2Eq3th4vwXllASp+lH7SS8Xs/nplpfqJTBZf6a1bm/NnxXl27o6uNf56X19d0KH6/eUqE9/9clkO78n3JlY7Hr8RK5EnvjPO5z2dqtc8tm2llJ+PEovu8mm4ijIp9EZ1l/oZtTxffFeCMwbPIps6z6qfS5CXthvxa5chcrLIjyGjlfEd6kuN2xrLsHYPyXV43n+NUow5eb0OcjqtJX11fEi0Ua6dwoWGPOtuFlPp0Q42Uri0bSmlHEeqNHaO0Xl8Nkp5tvysObnKFMvqCCU9eaGr6Tuv1bZgPk4b/URrXjl2C5hTX9cjz5vU0Dpe0qA8V490Uy1vqWW89L/RHUct/ijX/Kj4VZm/HWVlh2enYlKPy9g1PUgey2pXdgkqGqEzrL7pvHaWtsfaw/2ZLsC+fLWDT6SFf5ySX/XqKP0YdOEQvpJ7nyvwny9y0LyfKM/qbFuYaJeJ0Ng/IP7LL1GHFaij/lXbfI3qVuZLMzReB4b0DNeiMQhPb49Jm0RDMFD9JZ/qz+kv8FUnpcam/BhHHaqMX2v6O/F7PW4y0z1GtboFOvz1dcR98iFiJvUB9r+P8BEvIGxzoba33Rw2No1elViHC1mYHxSE0EW7Ufhzc3ToE4RJYbMw++WGd342Vpw1dx6GmORkxEU/jw7ndmD2GNGImq8/AJnK/jE83rU5LpwUDRELL2ANOmWrsYWtOp6E2WGpNxFn5nbwOAVidsxSxJj8+MsXmmZp2cK85/otpN+Zbqym7/pMXGjiWJTPKPea7uiwFr0xaanpsMfEvAR3g3HETJ9nabyIIdIAqh99jf+1bI/ewRMwadYsjGia3yJ+V2pLj/och84ycf7Uz7Nm56rbwtxyrMlZUF83Rp5vSB3fWHnuVqebW1pWtuyC4Jhk7Fk3C4GdLmJ79EQMCVqETIs6FqyXY/c+6HDtMPKlxygufY1jRT5wcxFltONj6NvhFI59JS7Yb5xEYSYwwE26G6URNVH9a9Itzpd1aaQOjAocens8Yi8HIW7d6whwuksb67earRv6+Grisgopm1NRUmtDtyO6eauTyMfJM4bF75X/6m5C7dC9awOeT76NTB6//nF3wWtblHE/qn0myk80ElnOpj3cA6dgyY4diJvihpPbZiHeeJR6U/70/+Re/EOFtT38bIsOzsDJE6dESWrCjfMoEfvq4OJodXm2MHUFDrUUF+WJH2BexBiEBirPTneTfimoLzXO8oqNb5qXVKGitkd+atLMFl19x2D2+8nYNT8Qtv9chth/GP0KcF93jFi6DMHIwPwo6Y1M6nIz5Jn8ZbUK3xXliBPXGR3162tzwtLEbGzbA8Ui5blqnnU1/jjK56Au8nby8/GdGXGVd6F6HOnXSQ2ippnzLUQ+NXk86jPTVqp5Kzn0sOlgOuzmjOUgPa6WsuowbIOWYteWaLw2dgwGy88fdxM1ZAPc21b++2NFNZyrS2flO6b6/LnxL7Js7+8CFJ3ASePxNVTnz+aL/PUYHKWfAG+7FrDrANFGs8XjJs+h+BiMV2MJy+oIW3v5jOFkDbdqK/muN7oZnTKLyrHbrbHzfH3q+EbJc02Zbky4jWWlrbMPQt9cgT1J0Rjc8jCWrDLzjU41qG86r1092mNdPDGgw0UcPFGiPNbh2wvKNXoX9Hy+PY5/8RUqTn+DQwiEl1sjxm1zsa38UyhR34dg4Op17Z0at9QtTF+N04FR9Hesz3REaMRwdDV65oUawhZ9xr+Knpo4LdyASdO34HjJFVRpLuSvXcTJzJ0i/qVioA16Puuj3jZUhZT3tiBPrfirSrKwbpuohGQuCO5t4vlZMymNLdWJr+voVKmPNuigV+AcOpSj3G5WWYK05FRloYE2cO+lGd/jFOI+SMXJy2rnzY0qXCnJQeIHWQ0qKOl3Skp3+ulbuvjsLT3HV4Wyy2Zctdl6wS+wOS5s34K0Gn9tcIRXgAvwzx3YXlD9N58L/9iBPdccMcCr/nm2aVzBhRIRXpFZpWeItW6U4FiadNt7Pdk+Jj/Pe3JXBvKM76wqTkWCqSKgNkblUxtvb3ksj5IrJqr3li6YtHQW+kiPebwqva5TXV6HqpTPcdw4OZSkyWF1fF4ZU0RmSVhqVdKg2+a79ghAB6Riz76GjQvUtfcwUZtkYXNibb9WKg3Cqi9OGtYVIp0c/ExTJzWQrRue+msNaaZR5OP8D+pkIzDuzLF16ynSwSns+nt+LfFYh58vyo+rdezc0fDW4ZJjqDE7mvOMvo0beg8VZdhOU2VYFQo/3o3jLX3Qx60RL7JUjj39Rfo6jISPTKSvCxlISKkyzF8NVd9xQmTiYiWgPZCaiv2N/suyZXVEczdvcYF4Edu2ZVS/u+taIZI+ykFz7UWWjtnlmDVorDwvxY9+HNVaxxuVu/XJc9XK7qZMNybcjrLSOA226w0RxSIqrqAhD3bXN53Xrj7tsS5w69ccJ7/IwX7x6ePtJl/ES7q69kbzzK+RlncIF3y7w6URb5fo1j1ApDsT9fiNChz/eIPewK2WMfVjg9maPH3pNEoHhnTL7QWpv/FyPvK+MPUpMd2TRXXr4I/5709BH/UZp6qCnZg95iUEPKs+UzTwFYQt2oIz6mPptn+djuXqmzdQIhrh6jt4A8Ysg3K7li36vDlLfSNJ/di69YKvXqdKqBQWc9+Nb6bH+w3X3sJ8IfktDJH20X8iYqUHqExo89yrmOGtdt1kr0VYkPIubb9nByF4zFuI/95UFyVRHa5kYPZLb2F9Wo5almUhcfkG5LUMhF9Pc2rF5ug5aZkyGva4qViyM0u7nZRVb0Fc98k6DJwl0u957Jr2EiI/yMBxdZ1di6ZibEw+3CMXYoS19V+gDVx6ioo+/30sWauGOTsVy8OW4asGjZ/TBn6jRf6/IMqvyYuwK1OKi3xk7lyGsCWX8ViAuppZCrE+SHqfvibec0S8b8Ce2jpxO/hg3jrlDQfhk83rxOjqfh5xL0chUQ3r8dSVCJu8FoWOw/DGUM1+6hEWE6TnepsjBwnbRQNBbCNxXz2GMHQehtminji+fLyoP3YjUw6P+GSmYv3b05FY1y+PGo6BmC2Pyj4dwZEbkJatHn/aFixZpek0dkTfFzzRvHAtwqN2KvvKzsD66dNR0tVfXqPhbOE7SZwzqeNpRJRefs1B2s61mL2oAR3YHR3RU1zM7ErcKafxtNTDDajrOoqLclFHJe9AohRXaak4JI1tcZ8PJol4LEuOMohHKZ52iXJiyT4z9tjWRR5MLm/tMu3xy+lw4deonh3boLM0Rlb2DiSIK628bHFeakxGzeE+3kQZJp3DyJcQvhMIXjpd20ZpVJ1Mpy+5LBi3Ennur2PJi41RMFoSHzXrGjQLwY7GZb0Ib+oGLHl1Z4MGG7WojrBxQ9jSYeiYvRJjRXmsKUOPp20Q+WM6dmEYls/orb3I0jCvHKtC4eaJ8Bu6CJkG47Lcao2U582s402WuxbluZrL7qZMN9Xd+rKycJMy5pOmnpHiaP1ngEuwd8M6xeqZzutSn/aYy9OBaJ69AeszPdGzu94end0wAIeR8vEp9OzxmMVhqU3zHiJ84rpHqsfDtW0wUS5HTcCeVoH1GMSzhvrJIk2Yvow0SgfG5XNSV+NhUZlFIdLkJwONdKPo71Jzp0DMEwkqNlJ6pY7hrb22jl3g/uxwBDymWdocLhM/wK6YKRjcpwvaaDoapNeKPTsBS7ZswTzjkectdV9vRL7/Oga7thF7axrNXcZg+Yox6OOoHtd9LvCduBSJiwOVeWPN2iNg/g75VVZ9uuiFSxx31z7DMGN0T9FEIbLQvV3h5V6FYx+8pZRli3Ygr9NoxG6borszqi7Sr/rvr8HswR1R8vEK7XYOX3ODm+YV03L63YrYCF/RiN4gGu1SubkGaVVuCH9/K5ZIv9BYoQ4D30LMWC9U7Fsph3l+4tfo+voyhPZoWMkg5f/1m0SjrnMJti8ScTF3GfYUd8WkZRMsvFDqCPeAtrp4n7sCab/0wfxty2rvxJU6jpcOR9cfd2NG+JY6OzHa9noVsYu9cfrjRfJ+Zm/+Gh0Hz0L8ugl6b3KpZ1iMuY7BexM9UZ6+UmxnGY5W1KdJJOqJcStEeRmIjid3YImc3sSF8o5slDm9BF8LWpUdAhYiMWaC/Cq59dHKdmI+/i/s3XWDoLV5dq5oHwTC8cx2eV+zVx2G3dgNeO2Z+oS9BuKcLflwKSb1rMT+9zX5dQNSvm6OPi+41b/8b+eP8HmB6PbVFpHGpc7wFg2o99ogICIag52+RryIq9mb/4sW6rgC2niszESsHI8iP32QisJWvTGkhzmhb4/BC5Yi1KMCaTHS8S9CwlddEL5yDNxN/Orn8vIqTPIux94Ysa+Y4yivrTyTyrB1H2LJcL0ybPEWfNX2JSzZtqaWNyw1nBwv70/BM9r0FYXY9Cq4v7oCifMb7+03FsVHTfTK+pMfLVPiSZRdSYcuo9sIHzTo6XcL64jmrhOwfttCvOxQgqTlSrzNE+VSmxcXIsGgXNIxrxyzIo2R582t402Wu5bluRrL7qZMN6bc4rKyo5s/7L9PRoy0H6l++PR/6DvnQywf2oBfUlX1Sed1qk97TO6oEHr2xlPq2x9lNn+Bm+9FXLjgiT6ejX0V0ga+IpwxE3sDn7+vtME+yAEClmH+C6YH5K1dzfWTRZoqfRn5w01BndY69kUWnLu5qnPUmIq+K2DcEhlhvqA7UyHW+07HmcgdolHT2I0TIqJbgeUY0V3lQgYiR6xE8zdFnn72zs3T0rWBVw8fdc5Q472FhIiIiIiIiIhui4rCHOShPR7/893bIckODCIiIiIiIqI72bVCbN96GHAMQM+H1WV3IXZgEBEREREREd0RCpE4bRnW79QMNCoN/LpWGcD0RxdMemsYujbSGEHWiB0YRERERERERHeEjujqBpw8sAXz5IFGoxCT8BVsA15H7IcrENyl6QZXtgYcxPMW42CFRNUxXxARERERkYSDeBIRERERERHRHY0dGERERERERERk9diBQURERERERERWjx0YRERERERERGT12IFBRERERERERFaPHRhEREREREREZPXYgUFEREREREREVo8dGERERERERERk9diBQURERERERERWjx0YRERERERERGT12IFBRERERERERFaPHRhEREREREREZPXYgUFEREREREREVo8dGEREjennw1g+dBDCthWiSl1ERHRnK8R63/7w+6BQnSfLXEFa1O8z/q6kvQU/3w0iBd15Kg6txJCBU5FYyNqcLHW35HnrPA52YBARNaaqKlSok0RERNZFvSCROqT0PkPGLML6tEJcuaGuRqI6/586RUTWhB0Yd4PKKyj5IgPxb0chdFvDesiqzp1CZupazJ+wDJmX1IV3qxtVuFKSj7TNyxA5Zucd+esA3UbnDuO9eSbySTsfzPvkU8S97ILm6qK7Wk3xYInG2IZVu4hDqxZhSeYVdZ7qrwKFycsQnsgS21hFwW4smca67Pa6g/K68zDMjlmKGPGZHTEczzz4FfbETMeIeRm4YHEnxt2ZL9v4RmPPZ2swwqX+tfndmS9Zp9197qxzyg6Mu8CVAysQGrkSifvyUXJNXVgvhYh/eSqWrErFoVMVuK4uvWtdyUTMmCgs35aFvJJydSGRmS5/jZRDv4N8UpfGiIe7Pi7LUJh6GBW/+8TSGKpwJjcLhbzNqZqq/+Yjs4B12e11B+X1+xzh3sNN/vgGjsFri3Zgc6QnkP0+duVb+sgE82VN7s58yTrt7nNnnVN2YBARERER/c51eG4YhqAKx4pK1CVERNbnDzcFdVrr2BdZcO7mqs5RYyr6rsCyuK04hcxdyUj7Zw7ySpSubVtHN/Qc/Tpmd8/H7JCVOC4vNdLzdexa6o82NypQciwTKRkZ+OrrEpy8VAW0bIOuHr4IGTMGvk7KbXGFH/RH+E55sprg1emYpAmyFJ7EHUjaf0zZltSD/9fnMXZ0IFzaqutcytAL1zDEJHvi5PqtSDpciCvXmqON90jMnj4c7jankLZxDeL3qctdAxD+5hT06SD/oc6NK8jb9QES09U4kMM/GKETh6FnJ81tfdIznS9huRoZwSuS0adkDeISDqNQhLN5OxcMGBuBsABHNDda15AnZiQtREA7dZZuCYvzhcalfOzasBNpx/NR8rOYF+mxT3AEZoxwga2yhkiyWdi+NRn7c0+JdAaRFrrgKb8gjH3ZB44t1ZUkBRvgN61EPv9PndmJ2PeScUikNznthM3Ca77t1RWlweymY5c6p6XJc+r3ZyJ3YElAG+U7s7ctqPmns36+U0mDoQXHOCI2cwJc1GWyayXI3LYVCWmH5XiwdeyNgNGjEeorpfeGqEJJ5hZs3pGJo6euiDlbOPYJwhuRw+FiW1c8CCbKiz4vTEH4CDe0aSatYMY2hCv5u7Fus4izAhEGkf9deovzN2kY3DVljqCNm31BuJ64Bu99LMWFLVwCp2L2az7oIPJ9nna5Xjmktw2ZWt5sFutpyo4+L4zG5GBNmCV659jzDBLfW4ukQyWokML27ERlf+q6psvWBpYzdcarRC3n/rwCac+eRdzyDUgprDAoz6uKsxC/ZQfSpLDL59Yfo/TqhfrSnYuXYPOPrYjdnCbHpZQuR86MQLCLJnfqmJNPle3mKDN6DOqoeqgzHk7tROiELbB97QPEDnVUlkkuZWH2K8twYaSox0Z0UReal15lon4++c8d2K7NX1I92BuTZ86Cbye9eDTO73rndv9E8Y1BnatnuPq9xKx0rVDOhS4+XJ4djbDXHHEoMAq79LdZX6aOu4sX/F6qXmbVJy2ZUy80RdqvPa/rnbMRLfTaPkqZ+to0E2VRk5XralhgWM4qlLJtz8ui3HjuJMJfXovL49cgQS99K6qQ994LiPzXSLwz8ivMXF5zvqztHIZETMUIN8MQSBq/3q4nve1ry2tz99lo+bK2slwvXb1sq5delLIkZOxEBBvEr6bu+hCRHbMQs2Q7jl9yMzi+usovc+o0c/KXNl185o8z61dhfWohKhpQvtS5PXPzk1n1q6rWsqbp8rwSv7r8IeelGREY4WqiPDSDtZZd0rWBVw8fdc5Qs78J6rTWufOn0c6+gZmeTCq7/IP5cXtNFDRTp2H9odO48HOluhCo/PkCih36YvRffsGBXUdxTl1uoNPTCPHripaXs7Bs8nvILLmCy1f/T/nut19xueRrHEo9gnt6D4KrSHg/fpGAtP8oXxt7LGAUPKQgX8jC/HGzsf2LEt22rv+MC0U5SPu0CPc/44tuUt65ekovXGfxr4y9+Ffhj/j1N2n+//Dr2XzsO/ofFOyNx8fH9Zb/UIR/5twD70GPo63m3iARB/FTp2LF/lO6OJDDn48DnxzBtSf7i7BJJcqvOLl/N/6lRkbF10exM+NL/KiG8/+u/oii7HRUPB4ML4dKg3UNdYJ3sDiOVuos3RIW5QtVlWhETBj3Hg794S8IGReG4YP88NwTbfH99/+HJ59ygtTGubBvEUJn7sDJ+30xYeIreCHAD0+2v4RjSQnYnHUNHv49cL+mNP3h39iafgkPNvsnVh98AMPGvYDA53qg7fefITk5FT/LaUdKay3xwONPone3X7EvpzmCo2dhrLRvj2548H5bNMOP+OLDDPzcKwjPdFNbWmZvW1DzT2tNvtPz68ks7Mq+DwGviHCry+RyYvKrWH/WEcMnTpHj4Qm7f2N77AYcaP40BksZvJ5OJk7GhPU/4rERkzF+mD+e8+qEy//+Fi179xV5pK54EJXe3FCsPNkFw8ZOkMPl2fprJH24A9l4EgPc7xfr1LUNcQ5Fo2T0vHS06DsR08YOQX9vR1zJisfarWfh9HxvdP6TElYlbprBtupT/LO5nwjvIHg+WIp/fLQbn1c548G8ZVhb1gdhrwxDf6+2OPlxAhIPG5U3Ny4ibd5YzM9ogX6TXsXYof7o63QZn8evR/zphzGkryNs5BWVc3zJAfh8zSE8EDQWQdLx2X+PT3ftQUrF43jRq4Mc/pZtH0ePPk74dd+/YRM0C2+OHYTnnnNDN8f7YauecsuYE68StUz8tRKXv2yD5+e+hYgJujQl5Z9JkzfgXOcQTHgtRKRHV9ybtwOxcVnaeqG+dOciCR+fexKvjBqK/n99BP/3xW7s3PEf3Ofnj0fvVVcWzM2n99h1gNtTbmhdcgSFj09AzKshIi790N2pA+5T04GlzIqHts7o9n9HsDXhnF6aq8LxDyKwtXw0ls3uq01D5qZXJa29gjnbT8PefxymviLWfa4Puv1WgEvtfeEqMrjJ/C5Tz20bf4zuIb65xw4dn3gK7vcV41DhY5gUI8oBES/PPe6Ejm1EijU7XSvxMXXKBhTc74dJU6Vz8TQ6/vQPvLP+IC7//LMoq9R91pcIS+aiiZi17ZTecbuj44/HsePDrfj8ukjDYvuarGFpWjKnXmiqtF97XlfP2R9tcS3xE5x76mWMHuwPn8duIDdpN5L/cy/6+TvjPr22T1OV69r0A7WdqC6VFR3Aqs/y4TF0Avq4OqHF6SSk/esBeA8T5aS6iqziX9g873O0HP86XvbsUmu+rO0c7kr6Gvf5iHN4n7pdoWnq7XqSt/+zYbvQ3H02Wr6srSxXv7Nzwf1738W++wbileEiT/31MbT4Khlbtx3VaydL1LrrTz/j0MUeiFr2BiaN1R2bOeVXXXWauflLSRe/4vqVL2E/5E387fXQBpUttW7P7Pxkbv1qTlnTRHn+1E5MGP8BfnQNwatjRXtGpL0Hf/4SRa16o5+mzWkhay27pGuDBx2c1DlDmt2RFbpyeAd2ae7iC4jGnn3p2J+Zjj1bFiL0IbGsnT+WiPld0jOLGlJvo1i2X9urboOOgVMQuy0ZaZq/jxkG5TekEsR/miOaYYDLROm7FQiWl0uknjdlfeWXrYtIWbQMh6QeRvHXwTHJ8ndpW15HTym/XMtB7K58eVuGrsNl/Ifa/XZQl6IkH/958HUkSGHapm5DXr4dB4vUaamHf+MsJJ6SttocPWd8oBzDJ0sRLB9ACXatT8MFadJISQd/xKWKdfclY0mQ5iqwCimHpDC2QcBS8V2S2K/6jXSnSKwUb5l6vexkvX4+jJio3Tjv/To2x81CsK/yHK+77zDMjvBR0v6lDMS+fRhtRZ7YFTMBAd7qs77DZyFukzj3P+7GkuRT8uZ08rGnpDfeWzocvvKzwT4IXToXg1uKtJN2DOo9UHCUvnOW0lVbOHZX9+3Svo6eZXO2bakqFG5bhl2VwxCzLlobD74vL0XcDE+UbEzGoXo/k1yIg9tFATRwAmYEeirHKMXv6mgoN5bUHQ+23guRqHd+fMcuw/wAkT+3HcF/5EHi6tiGdA5jcuA+YyNip/ijp/SddyBmxC5E8H1ZWP+Z8fnLwFf3RyDmZR81HhZiyfD2uLDzLcwrGYYl0wOVbfiOwZIZvUVA0nD8tPqnwpV/vI/l2W6YsWkFJgUox9wz8HW8t3gY7DM3INVod3mflaBP7FKM0D++wOao+iQDR9V4t3WSvvuLXPa1laeljws6aK4Y66HueNXzzyq4RwSiq/4PM5WFiH97NyqDlmL9/GHa9Dhi6RrM6CnqhR2H65ke9WXgGKbivRlqnEvnbcEUuIh0teufehFpQT5t3sFF/s5Rutjp+Bd5WjtfH2bHQ3O4DI9A8P0izX2kvB65qmALYlM7IvSt4eiqadFakF5PfvSWSGsdEbx6B2Imquv28ETAxIUYYekPkDbt4SL9vZPUMGyPx+RtSfPKSTc7XavxIZWrcUs150IK01JsHt0F59XVGkIKy5J/tjU6bh8ER6+Rx184v1OUZ9o2gIaZacmceqEJ075ZeT0tBwhfpS1TpfPwt9fECS/cjcPasqgpy/Ua3KjChYLdmB+1BRccxyCkt5R2bNHn+UA0vyDKSaNzUnH8c2SiN4b8VZTVZuXLWs7h4fqVBzpNUbfWxYx9Nla+1DBVlmskJ6IkaKsuT3n7Y9KKNXjNRbSTRXo/qa6mkVfYGZOmeBreUWBm+VVrOrc4fx1GVY8IDO5i6qDqw9T2LMtPZtWv5pQ1Go2c5wsPbhdXP4GYJNKCtvx8cwXmPWewV4vciWUXOzCsmXxnguqrHBw6eQVVIvPYOnpiRICZLZx2PnhNJHKXTraiCVaFip8rUGHbFp3Vr3H8FM6ok7U6lYVdmiGUAycgtIdSODR37IWAp+VJ0WjPqd54FpksuL/SgWDboxf6yFOS9nh5rL9ym3UnXwx5VlkqJf4LP6qpu+IY0j5Ru0ScJyBsoCOaS+vf54ZnnlM7JQqzkWeiByN4+DClkG9mi579fHQXlhcuN1FlRrfSlewMZF7rjchINQ2ZUHIoFcdFA2vUiybeBtLBH6MGNxcXtodE88nQkCCjbbb8C9ykNH75fw1OO42+7cp8HNh5EV2D/eFu1PHeoUdvuCMLhcXqAovZw17q+D6egzz9wEnhryHODbVBH1HRGd5y2RzdHpc6XEtwwYyBrpVzGCjKBzW/a7QUlWdvkZ1PnIThZtxEeaR3i7+0PzcveWpAoK9B3Nu6iEoYF3H6v5qDK8HBVFFBBwbCT6rF9TR39RRl10X851ujQA8chgCDdcWFrrsImAhVRZMVNBbGq5snXIwu8KvyP8euC10Q/LybYd5o1h7ufdyAzK/FlhrKDcGBRnnP8TE8JeLrwk+6Ae3qm08bg0Xx0NIFoRHDgJ0bsbf4FHYt3w2b8bOgf2e92en1RiEObC9Bh7GzMMm12lE3MgvSdeERER+ibn65erna5q/+GKJO158alr++hJEmjrvDcy9hSMuL2JZtfLbNS0vm1Au3Ju3Xwm0YBhsdu2OPfugqzkP5VXVBk5breo6vFBcY6mtUnx2EUdM2IK/rBMS+r+uUa+7WTz4ne0VbUecKDv3jMJoPfR59zO48NHUORVvOWZxDvVEDrbHerknD9lmP+sZEWa7lLOoiN6MYa+aIZ4J9RATn4zvjdnLvR3UdryrL69vqLM9fYtumHgOrNxPbsyg/mVe/mlPWaDVynm9r3038m4PjBUaprK5wNJQ1lV0COzCsWBtPX707EzKwfPJLCAh8CbM/yDL/bSPS83U7lyE8ZJBcQQ0ZGoRRkzfgkPo1LpRD93BKza58/5XuTofUtxCgfXd4EOZnqsv1Mre+FiYzlSPaaAvi5rDVe2Sj4qraaVFyUhfOorUI1e6zP8I2XlS/yEfJj+qkPv19PtBRZBq6m5w/Kyp+5+7oWkvjqeJH0eCqZZ2OD4nK9NopqU9LjyccH1QntWxh/4D4L78EBqtarAm2/ctl+VfRk+9N1OYN7WfESuSJ7878t64mR03aY8BrE+D+825EBgYh/O3dOC6NQWMJaQyeLzKwa/MGLImcirAJL2GEiTEMaiKfQ6Ridn+jYxOfyGTx1fESo1+Fu6CzcWOwpVLh2qj/a90jlTx65Y1ocl6QfmU0KN/Uz7NR8jgdx88a7q2nk7YrWMu2rfRrWw3lUmOxJF67ttfd+aaqKJOO4xTeG2N0nOIzanm++K4EZxr8Stvq50I0vdBG6l8quahtCNcvnzYOS+OhudsYhAd+h7hXIxCPMZj9ouG4AGan1ytncUbU4V7O+p1tTcX8dH3lvHRp4YWupu7YbdaAW4a0lLB07d5FlHwmNOsIR1dxEXRKlz4U5qUls+qFW5L2a2EiP6JVC3E0emV1k5brevReoyp94hI/le+UNbj+a+aCZ+S72DJRqPmB6twhpB1vjiH9jC5Sa9UFHao9HWAHG+lcfX+2geVBU9bbNWnoPi2vb0ymHQ1XR/XOakM11UfunTuqUzqW17fVWZ6/TKWLhjCxPUvzkxn1qzlljVYj5/kOz07FpB6XsWt6EIa8ugy7sktQUe3H4yZgTWWXwA4Ma9bOB0u2rcBrgS5oo+nIuHYFx3cuQ+jkLSiss+ehCoVbZyHygyx5cCB58EtnN/gG+cDSO1QN7ga5VW5UiSMgqkHLFtrntn/v+kxcqG2EGn9Gudf/143mooEbk5yMuOjn0eHcDsweIyrM+Vm4YE5lKY2ZExSE0EW7Ufhzc3ToE4RJYbMw+2XRALWEU6BBI9vw42+y0dYQjkNnmdiP+nn2Vlxw1sHSeL2nplzSG5OWmjhG+fMS3PXGFbi7WRYPtvd1RNU1UTN1aGP6ItyC9GpjY/7lX0OZn66bK3c63qnMqhduY9qvMT9W11TlutZ9uteoSp+uHUynx66+w+ByLRUH1FerlhzPQGGHkXjGwoak6R+zft8sqm9qSzu1pqv2sDMa1635H2tYv1HqW8vyV2Oni5q2Z1Z+sqR+NbcN2th5vmUX+TH+PetmIbDTRWyPnoghQYuQaep5+sZkTWWXwA4Ma9fWBYMjVmBX6qdIWD1G746M3Thq/FCbsRtf4dA29WYt5wmIS92BuHVLMXuSPx5TlpqtTecuup72wIVIk8eLMP408vgRnbrqxqhwnoJ4k/ts2OjzdGeysW0P5Ofju1puCLC9vwtQdAIn5XFbqjt/Nl9chDwGR6n72AqdMXE7kxxmfX/6f/JF1PkW7Q0aovoflxoapWZrZisasGMw+/1k7JofCNt/LkPsP+ruQS9MXYFDLYchJvEDzIsYg9BAZVyKbtIvVGaSz3OxOJeupo/NvYej6YvIemkBuw6iaL1hi8dN7kt81GeXb6fGiNfmreRUA5sOJo5R/jRsjA5L3M58amk8SONevLsNonE7C74FKxGbrrkTUGF2elXz7aFC6RfPupRUv/vkxnmUFKjTdTI/XSvxkY8SUwNcV/7PrLs1a2eLDs7AyROnYLLoVo+rg4uj4TPkZjKnXrCmtF+jW1GuW0J6zPevVdib/RWqbpzC4V2n4DLcp9ojCI3hTq+3zdfI9Y3eXSz6Sk5KbQYXPGT0VIgpjVHfWmX+siA/mVu/mlPWWKQeed7W2Qehb67AnqRoDG55GEtWZZhMA7fULSy72IFhxa5kbkBidgmuSK2GZs3RwfFRdNV2f7bFn1ooU0qBoTrxtSgQ1elrFShTJ/HzZZRLj51Iry9L3Y09ylIjSoGqyMfJb/VyZteeGKL5LnUD4rIvyuNxyK5dFJl+pW6MjMbS1g19ND0YRWKfn5xS4kJSeQUl2TuxPrMB2VXNaIqv8VUjPZdFTa9r72GiSs7C5kRlQD1THHv6i3UOI0EddM/AhQwkpFTB8XlPdFUX1U8+zv+gTjaWe9tCurkz76uThuG+loMDIswGbN3w1F/FBcGuDOSZ+1iZJYzutGjj7S2PY1NyxfiKyjgeruBCiQhrB0d01H8O8kYJjqUZdcJoVY/Lrj0C0AGp2LPP8EKxaXRBzwDRKElNxf4m+iUj70JdN+DWpT7xWp2tW09xHk9h199NDbx8a9U7n+o9OlBfFsXDtULEL98NvByBYG/RcJziiePL30eaXloxO73aesEvsDkubN9i8PfGbO2lkiAfX500DF3VF59jT4353bjDw/x0bfuYG3rWEB8lqTuQok7XnyO8pPG7pFeoFlSP8Qv/2CGOyxEDvAwfzTGXOfXCrUr7DcrrTV2uW8wWPfv0RtUn2cj7IhPbLiiDd5rUwHx5a+rt26H++dIsxzOw37gNK9oMKRtPoblvL5jzo3d96lvjdG5NdYuW2fnJ/PrVnLLGIpbkeeM7YNv1Rm9p6K2SK7prvga4U8oudmBYs+sliI+eiGDN82hDo5CojgRt+9cxCFDreFu3XvDVZLbCDQh9VqwblYErIiH18VV7ui5Iz7GL5c8GISzlonyBVJ0oUJ/X9JBUISU6SN7veumXHhsXhL6pe3tJSvQrCJD2I4Vr4CsIX5WBy+bcVm6RNgiI0LyhpArH35uqi4v+LyE0egvO6MZ+spx+/KAQ68dJ234LaU35/Cs1DsdAzJZHrJ+O4MgNSMvOFw2rfBxP24Ilq7KUBlQn0+tk7lyGsHErkef+OpYYPcNukY6OorFfhV2JO3FcbDct9XCDL6hkNm545mVHVKUuwGvLU+Vt52XuxvzJO4BnjW9jtIXvJJFHpHEqRkRhfVqOfIx5X+QgbedazF6kxkW9iDwRNB1LdmZpt5myagP2iGo7uLdevJmMhzZw6SkuVPLfx5K1GcoxZKdiedgyfNXBxK2YNcWl9Iz2cEdxoTgeYYt2I1MOhxQfqVj/9nQkmv0rtHm6Bs1CsGMOlo+bqnfcIs2kbsCSV3c2YCDJjqJhLkqx5B1IlNJhWioO1aucsTBea3KfDyaJvFGWHGWQN/KyM7Br1VtYsq9RUrJ5LM6nbdD5z6Lczt6BBNGozMveicz6nhiz46EKeZuVkdVfG64MLtih/wS85iLSiqj7tI9UmZ1em6PnpGUIvt84rWWJPPYWRJtYWcutH0Y4irp4fgSWpyp5O3PnIkzaCgwwcbrbPCi9Yz8HCdtF41Hk18R9yobMTtftfDFKlD0XRHxMmqcJfxZ2LRJ/d/kvCFBXa4gOA2dhhvd57Jr2EiI/UNOwuo+xMflwj1xoMDCqRcypF5o87TdGXm/Kcr1+bHs/j8Et0xC39jBgcvDORsqXTV1v3wYNzpfm6Pn/kDd9qracyMvcKdLOW0iBJ8LH99b7sa4WFtW3NaRza6pbtMzNTxbUr+aUNRYxP88XblLGJNOcn+OpK7H+M8Al2LuBHXt3VtnFDgwr1vxBN/j26KIb/0IkDEfpdUTRa5AQrfeanvt6I/L91zHYtY3uMQ+ZLfrMWIMZgS5iSpl3eXYCYlZMgTIuf3VdX1yGmLG9Tb6WrrnrBMQnLcUkcRGl+7452nQR4Zy4EIOboku8gz+WfLRGFKq90bWd7uhsHbugz/DXMcqr/q8N0o8fXRzTnaJDwEIkxkwQF745WB8dhcjItxDz8X9h764bIE5e5/0peEa7ThRi06vg/uoKJM43Y/To2rTzR/i8QHT7aouoyN5C/PctjPJffTWHy2gpH3qh8rAo8EWY5398ET3nLcMoZxN7kPLIhyJf9qzE/vffko8xctEGpHzdHH1ecNOVExbrCPeAtij5eIWyzbkrkPZLH8zftgyD9R+ErSEeOgwU50McQ8W+lcoxJH6Nrq8vQ2gPE8dQY1yKuBi3AnHRgeh4cgeWSOEQ3y/ZkY0yp5fg29hlTksXTHpflDeDO+LkR8vU416GpEOX0W2ED6Sxv+tH6oyNxmCnrxEv0uHszf9Fiz+pX1nIonithTb/VGYiVs0b8z9IRWGr3hjSoyHlquUszacuL6/CJO9y7I0R68YcR3kDym9z4qHq+AbMTr6MwRFjdCOrN3PEgCnD4Xhc/1ESC9KrXlrT5rFFO3D4mhvcOqnrSD8crFiKUI8qHBKN/8jIRdhzwRN/i3kJXU3dhu06Bu9N9ER5+kqx7jIcrVBLQrPTtQj/2DUijQ5D5zNK+Gcv+xTfdZ2At8f10parDdKsPQLmb0VshK+42BXxKsfRGqRVuSH8/a1YIv0q3QBm1wtNlvYbKa83WbleTzZuCBgu6oOSyxjg/ZhaPhtqrHxpaXlg9RqcL83w55ew5P0xsD2+QslTy1Nwvado729baPSmrNpYUt/WnM6bNn/Vk5n5yZL61ZyyxiJmhrGjmz/sv09GjHp+Yj79H/rO+RDLh5o3QknN7qyy6w83BXVa69gXWXDuxoEFmkLRdwWMWyIjzBdERETW6+S2VxCWFoC4bbrXrNLtdgVpUS9h+Z9XYP9EC0dVJbJy0rWBVw8fdc4Q78AgIiIiIiLTKvORtvNikw3eSURkCXZgEBERERGRSRWH/46Ua7UM3klEdAuxA4OIiIiIiPQUIjMxRx4k8I3lh9FzxgT4mhgfjYjoVmMHBhERERERGTi9/S3MXn8cbV9eg/kDefcFEVkHDuJ5i3GwQqLqmC+IiIiIiEjCQTyJiIiIiIiI6I7GDgwiIiIiIiIisnrswCAiIiIiIiIiq8cODCIiIiIiIiKyeuzAICIiIiIiIiKrxw4MIiIiIiIiIrJ67MAgIiIiIiIiIqvHDgwiIiIiIiIisnrswCAiIiIiIiIiq8cODCIiIiIiIiKyeuzAICIiIiIiIiKrxw4MIiIiIiIiIrJ67MAgIiIiIiIiIqvHDgwiosb082EsHzoIYdsKUaUuIiIiIiKihmMHBhFRY6qqQoU6SUREREREjYcdGERE9XHuMN6btwyZl9R5jXY+mPfJp4h72QXN1UV3tgoUJi9DeGKhOl8fjbEN61ZRsBtLpu3E3XuERERERLcfOzCIiOrj8tdIOVSB6+rs3asKZ3KzUNig20oaYxvWreq/+cgsKFfniIiIiKgpsAODiIiIiIiIiKzeH24K6rTWsS+y4NzNVZ2jxlT0XQHjlshIvfPFpXzs2rATacfzUfKzmL/PEX2CIzBjhAtslTVQcSoL27cmY3/uKVy5BjRv1wVP+QVh7Ms+cGypriQp2AC/aSWYkbQQT53Zidj3knGopEKs74IBYbPwmm97dcVCrPedjl3qnFbP17FrqT/aqN+fidyBJQFtlO/M3rZwKQOzQ1ai8+p0TDKKkitpbyE4xhGxmRPgoi6TXStB5ratSEg7LMeDrWNvBIwejVBfx7ofY7ks4nC9Lg6lMPURYZotwqTsL0ddUSdYL2xXvtiNdTszcPyLEogjQhvXAIRGTECAk7Jnc7ZhXvh18Tr/0eOIW7UFewuuAO08Efq3WQh2sUVVcYZ2edV9Lhg8MQJhAdXjoKo4C/FbdiDtkBRmWzj28ceoMWPgq4ZZZu45U8/XcWVOZ/gK7J9ocJaIiIiIyAzStYFXDx91zlCzvwnqtNa586fRzl6vQU2NpuzyD4xbIiP1yRdV4gJzwrj3cOgPf0HIuDAMH+SH555oi++//z88+ZQTpL6JC/sWIXTmDpy83xcTJr6CFwL88GT7SziWlIDNWdfg4d8D92uuWX/4N7amX8KDzf6J1QcfwLBxLyDwuR5o+/1nSE5Oxc+PB8PLoZlYsSUeePz/t3c3YFGdB97w/31txg2bSWyx0Y6tlY0N1jwSXZmYgLGB+BQ0K5gG0BXirmgSwAaILehGtE8VW4WNooloN4ItojVIEyEbga0Ou9bxihnyqOMVV7qacc0yiVnYuE5r1kl85r3Pxwwzwwxzhg8zmv/vug7MnDlzPu7Pc+45933+EjO/+z/4neUOZJatxBJp2/Hfxbe+cRdG4D/x7q/b8N+JGXj8u2oLieZ1C9cu4MiBtzFqTg7i/YLkf86348DxezDnb8R+q/Pwqbiwz/8RfvnBeCx8tkAOhwf1/xd7t72KI3c8gvQpX1cXDOC/j+HnOWvRelcqnilYKPbp+3jgThtaHPcha9o38FX9WEx9eCpGXTLj7P96BpU/ysIPfjAbcTFjcc+fie+LOJi34iBGfT8HeX8zH6nfn4jPjtejrvE8vpWSjJgohF6H5v1XwrXbAJxo7kLsX+fgh8n34yv/egj7917ANx78DL9+sQ1jFy9HzrzvY9Lnb6Pu16/hwwlpeHSCTl2Hkm6ey38VXd/JwjPPZ4ljnoK7T/4G23a246sz58GzOa1x9lU9vvngw5h2jw2/P/sAnqsUxyCO7wf/Kwbf/FrvdomIiIhIG+na4FuGGPWdL3YhIaJbj7jwrlz1W3yY8AJ271yJzOSpmDZdTMlP4cXiJMj3PXS3YdsvjuHrCzfjQOUzmJOgLJO8cCV21ryAh/7zt/h54wV5db1O4eClmXh540IkS+ubnoTcjWuRfudnaGo5oT5d5C6Mlz6LlVoXvo7xceq2J48JcbeDlnWH6zOc3bMJB5xPoXJHmScckp/eiJ0/NuLSrkb8vp8Vf/JOG0yfTsVzP3bvkxFznl2PA4uVOwfuGDtZXt/4e8Sbb35POU73e8mIiXi+5jeofDYFD0mfJaThxz99BhM/taDlxGV5kf7XEf7+n3zrM8ypfAHpUnxK2/vFj/AQLHhpxW/xnXWbkCuvw4j0FSuRO/YzmH5/qjdsnWdR+4vfwpmxEb/82VOeeFi0cTt+/NAl1P7mmF88aIgz3RhMlj6LkVo+xuABeTnpvfseICIiIiIaKmzAIKJbzifHpQvvmSgpScFY9cYFf5d+34x3MBM5CwI8DWRsCnLS78BH+3/f56kR8zP81nnn9zD1EfH/v/40wEaGXkO+bucpHNl/GRMzUzDNuzuMMHb6TExDO87a1BkB3PX1b4qweQ+/f1dpbPAIEqZ9TE5Cune3C0nM98R2gZNdPcr7/gxk/59IwEPey47+HmbEiv+xf4U5U7z2ZcR9+N5M8f/sf+AjZQ4+O/XPOPDRfcj8q6m+aWLEGEx7dCpg+ldcUme5DWd6ICIiIqLwsAGDiG45H35gERescZjovhMggD/+54V+l/nmt8UF66cX8NF/qTNkRoz/lvrS4y5E3yv+nboEn0XDNgzrvvpf+FD8O//ys5idnOo7LdqCk+Kzf/+PT+RFA7lj6lN48YnxOPnS32BO1hr8suUsPnKqH2r02UcXYGr+FWqrypGXvxy5TwYYHySYAez/QzHfUV+56aGT4viekeKVr5FfFX8+csB9SH/skbZ2AS//rd+2xJTz0inx2SX8u89jcYczPRARERFRuNiAQUS3pjtHgiMMKB59dj0qKzcGnHKm9dOVYcQYPPrj7WjetxF5CcDhV1Yg58nlqD3zmbpAfz7D2d3LkbaoGDuOXMZn93wP6U8/g+fXFWCOuoRWA97/AZmJ5zYG3lZl5V9j2t3qYkREREQUcdiAQUS3HN1dY4BTp/Bv/dzDf9c37gM6rTgvPZ0kgA8/OAWMfQDj+xnj8ov07x/1vXNC3mdvf/bnkC7vPxw5Rhl3IcA0eWz/I3NI7hg7FenF63Hgte14bsoF7Fv1K5y9oX4YTLcJ9XsuYNqPd+HA1pV4bslTyjgjk8fL+6TJEO2/VndEyVuDThxvoG1Nmz4ZY9kqRkRERBSx2IBBRLeciTOfwmS0Y/e+swh2r8D4h1LEMsdQ/1qAZT5qQ33TZxj/V0ZMVGcNzCl8+LH6cqjc/XV8U/w7+d553/3+1IIjYp993DUVD38fOH+gDSc/VeeFw7+R4q778Kg0FsSn/4Ue//VdugyfJpWPP5S7eHxnnO+jUj579zgOqq/78F/HYPc/THdNfQiP4gIO/OOpoOlmcC75dUkiIiIioqHEBgwiuvWMT8OLJUZ8uH8FMkteRcvxUzj57im80/Ir/LyqXblIHhd4GdP+TchbugUnp72Any+4T17dgHxzPB4Sl8EH9u3HO2K9Lc3HfC/OB0o3FY8/PR6fNa/D8y81y+s+afotfpb/G+B/T1UXcrsLyc+9gIf++7coWbQKv2yxyMd48l0LWvZX48VyNSyC+OSf1iCzrDdsTpr246Vdp3BHWjIe9txG8TV85y/uAI7/BvUtYpnj+2GSRj6dOBVz7wQOVJXjgEn5vmnPKiz6JwceVr7oJcg6Brn/YbsnCc+JNNHTuMonTZw83iaOYw1+/ruBb+1r3xqPO2BB/d42ef/3/U46QKmbzbOY/WQ5TD5jaxARERHRQLABg4huSWPnrMe+ymfkR2j+smwVSkrWoPL1/0D0tPs8XRjkZV4pwOOeZVZhW+tnmPajzdj3s+BPMNFkdAoKf5qG7773K7wotl37/sgQj1HV6g5MXrwJlUtmwHlMXMSLff7Z65fx0E83ISc2wBbGpuDnv96I5x5y4vAra+RjLCl/FU3/egce/eFU5ZGyQdx1vxHTrveGzc/qTmH8EhE2zxt9jmXy01V4LsGBQ5Viucp34JCeAqKbirxXXkD6Pe+htlzMX7sJhz99Ci//3TyMVb7mI+A6JIPY/4HwpBunCdvcx/0PzTgbNRPzpw9ia1P+Fi8/a4SjdYtY5ya8/UfNHWmIiIiISKOvuAT1tceJd9sR+90p6jsaSp3/doZhS+SH+YKIiIiIiCTStcGM6UnqO1+8A4OIiIiIiIiIIh4bMIiIiIiIiIgo4rEBg4iIiIiIiIgiHhswiIiIiIiIiCjisQGDiIiIiIiIiCIeGzCIiIiIiIiIKOKxAYOIiIiIiIiIIh4bMIiIiIiIiIgo4rEBg4iIiIiIiIgiHhswiIiIiIiIiCjisQGDiIiIiIiIiCIeGzCIiIiIiIiIKOKxAYOIiIiIiIiIIh4bMIiIiIiIiIgo4rEBg4iIiIiIiIgiHhswiIiIiIiIiCjisQGDiIiIiIiIiCIeGzCIiIiIiIiIKOJ9xSWorz1OvNuuviIiIiIiIiIiunlmTE9SX/kK2oAR7As0OAxbor6YL4iIiIiISNLftQG7kBARERERERFRxGMDBhERERERERFFPDZgEBEREREREVHEYwMGEREREREREUU8NmAQERERERERUcRjAwYRERERERERRTw2YBARERERERFRxGMDBhERERERERFFPDZgEBEREREREVHEYwMGEREREREREUU8NmAQERERERERUcRjAwYRERERERERRTw2YBARERERERFRxGMDBhERERERERFFPDZgEBEREREREVHEYwMGEREREREREUU8NmAQERERERERUcRjAwYRERERERERRTw2YBARERERERFRxGMDBhHdxnrQVBiP+G1W9T1R5HG0r0fSrGzUnnGqc25HVlTF34y8qGynqLlHfU80hG50on5RApJWtYrahQZj+Mu9AGXBqSrExxeh6WP1Pd0WepqLRLxWiRinm0kJ9y8mPw1RA4YDnc1VKF2UggTpBEVMSRmlqGrrhOOGuggNiJI4lDD1mWalIHt5GeqP2hjG9OXycROKAuUJv6nqlLo8UYRzOh3qKyKKaDeu43ZuZryZWO4R0UANUQOGDeY3ujFh4Vps3b4DO7aXY2lsFxpWZyP3VSsL++FwrQedJ1pRtSITaatbYb8VGzGu2dHZ1oCKkmyUHRrEbxk3nOi5aEHTzjLkZ9Te/i2wzh7YTjShem0+Mnd9CdubRxmxVC5n1GlDDmLF7OQVXvPElD5BWZyGjuNUPcqWDS6PDcU6ItoHJlGmlaE1jF8kolMq0H50L3Kn6NQ5RINlh2ljKcraBlG3DiAt31oGEEa6OOTuO472jamIVmfdmhyw7itD7u7hL4mDlfks9+jWMARlKQ25IWrAEAX67nIUpCXCOMMoplTkbNiNygwdbLtaYWELxtBYXIuOjg50nDiO5s1ZiFFnOw6vQ33HrRfI1l1pyF5dgYb2Tjg+V2cORE8L1mXkY72U1i5eVWfevnpa1yFz+XrUHrLAdk2d+WWiMyBOLmfUaVoMRovZhsle88QUM0pZnIaO85IFracGl8eGYh0RrccqyjQHrqtvib4Y3bA2muAYTEK87dPyEITRLcsJ29utsN6EmyBu+zKfbnNf5nIicg3jGBg6TBIXFEAXuq8oc2iIjNDBMKsYxRnqe1ERHTx5Tn1NREREREREdPsZ1kE8uz+2AYYHMeledQYNIR30UepLwanegNFzSulakJ2RpI4FkIRMaayMjr63PvWcULpvpMxSxw2QxtUoqe1tkb/RA0tjhc/YJglzs1G624pQjfaOP7QqXRxmq+tW96P1A/GhPIhSPHLrlGUl5nUpynLuAd4cNpilbS/u3T9529tave46UAdonLseZnUOUI9ceXu+g8pI+1PldaxJGfmoaLSix7vrjbpf8lTYBNsF6TuZSJLnJSF3o5gnbftjC2q95meW1KMzwJ0QmrbpM55DFSwOKxrW5qrfSUDKsgo0XVAjV102ZV3v0aIuV/mu2F/e3BaCoxNNG91hK8VbLSyBAk1K93VlyJ2bIIdtwtxclNVZfOOtX14Dh/VYUO+JT2mbVWh1x6eXvmmlFLV98qwTtjbvsYaUY/D5BU3eXm++k/e9za5+GIJ63PnuskOUB7lrWyF/2yftufOYmLwGZAx5DBrWoS3svQZmFcfryYuzc1HhPlbv+eI4inYFib9rNrRuK/WElzJ2k82v26NXfHrnfSl8Nnp331MHqVxWL16bsX6usk5NeTPQwHL9xUcIwQc0CzKorZZ0E0a+UNKCV9m5tkGkU+0/X3XuThPfq4DZL6sox5WG2j+oM1T2N/IDLt83vtQy3N+QpgMNRFkkbS9bDcv42ZkoDZZGg3DK9ZNffjulFAbWbdK8XJHLvOpW7/QVKG35hI22tKzsQ288ByrfPGlR2uYudxhL9akaZj7zRZ23YjDlslf67lPe1/uUlSHDKKjAeai/+AgpaP5zwlIpHW8ZTIFW9UGDXI6Wtikf9oa1NC5dhSespH2pP9O7AmW5FKw/Lt64zyHE5D1uVM+JepQtd8et37mIH99lvY49VJkfbEBNaf996jpp++r5o0pbnRmKHQ1LxPfTatGpzvHmPFEhti/Km7PqjKDCLxu05B23oOHrpadD6qajhpdcV9T3zUeB8r1fnaIlHWtKG+64tUv5u0hZX+FvcSSM9Dww6nmSeoyBywmv+PLnlyYHXk4MoL4Qy3mXA1K9kB8oHjXQkmb881DfaywvfcrfIlQdtQe/O09TnTo4w9OAcc0Oa+N6kWj0yF2n9E+noeaEwyuRxY7Ri79W7FmmdC3ovOhOqA7YpLEy8uah7HBv4rWLCmzecqX7Ro97PdK4Gu2nYftUvL5hR1PJPORvbIDpDz2eROf8uBOmk/0nQqcoAHIXlSldHDx33yj7cU5jRuxpr0KRtO2zvfsnb1tkoMzForIJlPmDsB8qRZrYn3qvY3VctKBBnNzMK2kKXJBIx7BE+o5NbaxxyGk6uzAfuRn5qPaabxP7umSDSX2vGNA2xYlixRJxEXbIqn7HiZ5TDVi/pIrdsAbriglVz62DdeJSlFfuwNZVyUB7NfJ/0gCbd1y40/0uO+LyKuWxNCpzY2DblY95a33jOKQ/HkPV81U4NzFL3uaODUsRYxOVypISUamry0jESV7ZonWw6ObgBWm57eXIHHUM1Xl5qPYanb1zdzYyN1ig/6E61pBYX2z3OSW/SsQxlj2Zj5oeI5ZukNazFStT9bDYutUF+uOAaa047roeGJ+pkI9760/mQN/xPuRvq+OOlC+SRxtBsbR9aXpC7cim5RhCrSPcsJfi9Ce1wOxSVIjtFcTa0LA6T1SqZhHXFeiaUSzmS9sbB8vOfOTV+Z2iXhMnGIszUXYUSC9R9mVlqgNNqzORvbvv6azz/B4U/a17e8p6zzWWIWOzRS0PY5AuHc8KkbZErZcjx4GYnjFCKp3DEyI+hpKWdBNG3LjL/6ZriSjeLK2vHOmj21G0pMKrobl/sTPmw4CDsPhcODhw+oS0BjuOiDqolwPnOixARiKMXl3pA8eXKMO3mX3rryFPB6GIC+DV2Vj3tg5zirbK2yvP0OOYlEa1jhn2h1pkLxD5bVQ61qr5benkbpy7pKbEJ6R5xSKXibBcVC5vY8f2pTCq3eqs21PktBW7WPlsa+FMOKSwKXM/WSN0WpbiOXtBmYjTdKyU178Sc66JcmBBdp8GJjk9by9BrdijUrGu8rxJsIkwy9tuhnl7Hirs8SiWtrEhB+M6RLn8nF8dP5CyoU95L9JlYYPnYi1UGIUlRHz0q9/8p4PxiWUiL7TCdKJv7dN5uB7WqCxkJnmXMFJY52HdmQlY+lORvjaXimMU4bGkCA1qA4A+fqm8jzmTxZvZxeqxe40bJeI2ZXkNemJzUC59trkYM69I5yIlfuOhOMUFXqZYtho2cexKOhD5J02H7svi2EOV+YHIcZ2C7NVNcDxcgEr5O5UoiHPA7j6f1FhnhmbAnIUiBdgPwhwgzR5rboBzSg5SpXDSQGvZoD3vhAhflXw+n1cN+2Q1vMrFucZ5kY+eLIPJ6xw8ZJ2iJR1rThsSJyzby9B+/1q0He1Ax7an8HjY6Tk8tuYS5DUDiYXSMYq8NBswbRNl6/aBjcc42HJCe5qoRrZ0bXE+2lMPbS1MBI5XiXiUGoLUBUPSmGbUa5Sma0YUlCvLrF0Ygy6xb5mLq2B1XxdKPOWvDYaFa5V9KzKie2c2iuq862JVmHXqgLkCeLvDpL4Kx2nXlunTXdPd09Ltrncuqx+RR7hh291U2BumW08rMz+/7ur6l02uDE94F7oOymF92lXzQo3rmK3bdf1zeUnXddtBV+Gj6nJPv+Z6X5572rXdPW/6Itee967Lc13Xu1ynD+xxHesWr63bXY+41//0Htc5zyKnXa/tPeaSFgms29Xygnvd013rfndVmf35Vdf7/1LjOmhV3kpOb+1drrDJd43drZtcmw6cdnVdVTcsvv/O1gzP8pvM6nzJZXGM6vzp07eIo/Ny6TXXEvdnT21xvfOJmCfC7/3XC9Xje8S16W11XSe3qOuQpgzXFouy710HvOJATBlb33FdFeF71bLFJw5a3IcQzjZ99l2Ew95z8rpdnxxzbZnXO9/7eAOmiVvcwMoclRqGW06q7310uw4+L4WViM+TXmlGeH//EjF/nqumU50hKGEr8lOXOkN1XcT1PL9lg3OXhX3X4/rTMdcmKe+9eMSl5gyx/0dcr5n9cpRYbp20jpfeUWeoedbzXiWlFTWvd78l7Xte322qn/eru0UOw7zX/b7s910lfPzymETTMSiCrUN72LvjdInrNZs6S3JdhLucZx4R5Yn3Sq66WlaK+fNqXOfUOWJhUf7ME/NE/vyTOkvVJfLp9OmrXUc8EaTG56P++3bddewXj/gtK8jliLtM1sj/OxrjI5ig8eQOO69yQ0u60Rw3ahw88sJBV5d/2mldrZR/Wsqsz8V6RHqfV9sbY66rR1yrxT6sflHE2/MHe+ug6yJPifWudtc1YcXXMKaDoLpdRw6IOtQnfMQ6fibWLeLsHQ1xfHqHtL0Ay/q8V/bXv26VnH5LnAv4He/7exeJdfqlg2BpWY3neSJv+5Sqn3cp6curfFPSznTXkv3K2YdCDXcx3z+tXG0tEfMHWi6HV973F0bB9c1D2uIjsND5r8v12t+K7a1s6a0zJJ+fc9VIcfBqbx5xh3WG2Defo7cp5yQ++SnAcXhYW1yvnfcNP9f5Pa5FYh3eZdLV30l52r+87StoeRQgfZ2rlc7z+safD831TYD49d/m9XfkOtk7HGWftLhKxHdLWrVk6jDKhjDyjqbwVc9/Cv3rij+9o2zHHeca6hRN6Vhj2lDCOUC4hpGew+FO+33CVVDyfoZrz3l1Rn/5PmCZN5ByIvw0EajedP1JfPZUgPAKIpw006eckHSJz/zygxK2AfKkFGfSvvmEVzh1amj9XRsM4R0Yaou9NG0oRc4YM4rmJqG0cWhvGflSc9/qNyMBaSsaoLR7iXDfuBLpcjedOORuzkXihGjoRgDOKw44oEeMu1X9rBU2tdHT6Wlds8F09DTs0ntpcMSMHCRKQ2vfcPbG20UTjpy0w3lDWiQOWYsS+x19+7rXgJzW4yZ09og1jRD7MSsX6VPUD0KITilFaUYcDHqd2FlxHA4H7h7d22p/rDNAq18Acouu+jprRYHSajpCh5jZ6XKLqtRa2WA+Lb/yEZ+DrHilFdgwKxmJ8itJKvKXGKEX4auPT0emp2XeBrt6d8mAt4kc5CyIldeNUYlIntv7c2JXd9/WagqDFJ9TfUc6j5mRiljYcdUrLxxpNAMZWZhjUGepdNNEfIhlT2u9hUgSYD2ISkT6EjGzzYpz7l8Y701GVoJfjoqahLgE8f+iXf1FdDRG3yf+HTfD4p0UpLQiTYI+ehx0OA3TCb+mevXzfumjMS4KOP17i+/dQVq+K9F0DP0ZQNiL/DfT+0kzukkwStvDfGSleq9ELw/6Cvv76HKHndOC1jo7YrPTYfTqiicxzEiGEa2wXlBnuM3PQbrPvukQFy/l6B5RPilzhsxg4yMModNNGHFjNaHebsCyZekw+O1rtCj/stTXIY2YhMR5OtilOwLVWc4zHWidnIilmcnQHbfgtDvMz1pwUOzFTLW89ggQX8ZZ88V/UZ+471r6QtJBNJIzRB3qEz46TJoq1TK99Uh/Ro+eJP6aYT7pt0GN6SNubhZi/I43Rh6zzAJbyFujRbB1tIp4jkXOD41iz72MMMCYJNYjyjffGtqI9Ee9f3UXxxs/U341P2OOT1rRT0kUS9vx/iX3sQ2kbAhQ3k+bCYNY9uowjCU5mPgInf8MePxJkTYOm2D2Hk/uTAt22eOQk+J/j7MROeLcyefoJzyImSLs7J9oPPgpqci6zzf8cF+cWLNIIR+4f6/vgam5Fc7Za1Ge5hcxA3XDipbdNhjyylHsF38+Bl3feNEZkZohyppms89dPz1HW2AK924ADWWD9ryjLXxt7Q0i5WUh6wm/ZaKMSHxMxPnJc0p4aKhTNKVjTWmjV/JU//QZbnoOR4BwFWLm5ogzdxvMVs23MQwdzWkicL2JqDg8vVgKrxaYQybscNJMMpYu9isnJIZ0LJXyQ90R9TrGjmOHRPk7eymW+ufJEbFIzZZi3stA6tQBGsIGDHGB6n4CQEoWijfsRePaOBzbWITqU2zCGGq6e2ORvHgNag8dwJrZ7oTq1/drdhJSMkpR77kN133iNgnJy9wnE05Yd+UjbVY8kqQuE+4+hJOTkeu+OLhmRe3yNCTMkPoyh+qPFY2ZqYmeTGFrXo/slASlv1Q4/Z/kPqFq/9WEJCTNTkP2ZpP6ochSmvpT98B2prfAaihU+m7JU1KpyEaqQBWeOICR6ktf4kLSU5/djZGe28jcF8KD2KYw0qvwGmfwKxho4O43iGrTT9RI+ekltkvumHDALuWVxiLPmC+eaUa+0gfyYpe8pBbG2Ji+lYMwOlrKe34XKldssDTXo3pzGfIXZyN77jylf7KHAfNLimG8Uo/8JCUfmj3dxBQ6cdJe/mQMLBtEXpXyW7MVdq0ZTpzE5axNR0zHeqQlpaBoWxOsmr+sCnkM/RlA2E+O8YtT97hA4r9fwI8cIc3wunC90g1pbZ2Vmb7bkqa09eIyzjtdKBIn/oX6qpd+tJSCtF30hWUo4kOj0OlGe9z02KVT75mInSi/9TUicIkamA4PJs4HzpphlcPWCcvRBsQ+YZQvtOeLkrRDvVW886QJzgRx0et3S68xZpz6qpcuSkoHZtjcRfQXlQ5uSF0qm1C/swply0VeWZSCed5jG4VgmLsSxTO6UZ8n6kap3j5qg8P7oiSUG04Rp61o2Fktj4OVvTgTSfJ4F9o4uuVQQ0WGX5iJKW2DHGp+YRGLGL8CWImL3v8eX5ViX2zjmjsRDkXZIIyKlp/cZtPSQhSmwcSHlnI7etYccblhQstR976L/PC7BpHu0/H4t9VZHn3DWjpviZbO58K4uHfaO9HaWI3qjaUifWQjc7YyDkCvLthE+R47LXYAXeSC6BHpRpxHzRTxF9Kg6htfcbOXwWDfhZYz6gxxPnfkDTN0Gak+3dJC0VI2aM872sLXcVm6Jb8BRQl915e/T3x03CaXcVrqFK3pOHTacBPldZ+0GG56DofYXqDv68V5u/gXqIFluGlPE0HqTSF6vJQfLHg/ZPtLGGlmcjxig3SDGTdBXHtc61TPUbth6wi+TuXcyssA6tSBGtZBPA1P5CBLFAQNb/MJGUPC/RhVMR0/tBcVhemI8xogtedQCbJX18MkX9joxYleLJIzspDYpwDRIS5vL5o3FyB5Qm+SdJxRxsooOiQSly4OBXXN2JqX7PU4Sgesh5T+WP09Fz567la8ubsUWVOj5RMRifNjM+ql/k87NfRDc1pR/Vw+qtSxIKTGmljp0bxz49QFtPO+G+Rm+SK2SSF8VfvFU8wCdz/HAFN/fXf96Pq9YNNDf6fySuqLmCQN4ldnxR+jDEjKLkbxT8uRG6987qabnIMdbe3YuyEThg9qUJQhTjJWeQ0GNcKA5NV78c/NO1A8C2j5+1ykzc7W3IBsmL0Gew83Y0fh40DrJuSmPaYtvwpajyGUoQp7rZILlTEIAk1L/X/Rv8kGEx9h0ZhutMeNTr4DcLB0U+KRCjMs0siLN87BcsiAx6eJ7Yi6KT4FONghnVfYce6EHbGJcX3uCuw///m6qenA3orSlCRkirraekUHQ9LTKC4qR/myMBqso2KRs70d7XXlyPy2HTUrMpGUUopWLT8wXhP169OPIS1vi1jeibumZKFgeSm2rkpXF9AqGcXbAofZgMeS6MfNLhvCMpj40JL/RiUjc4EO5jeOiBQvOC1of82J5CeS+70bdmCcsO7MxmNpS7BFHIBzVByylhWj9O9LESiF3K0Lp2FSG52u/1aDoapvPCaL88spTjT8Th2X4OIxNJ0xYNns8M85tdGedzSF731ZyngUAad0ueFOErJOCZmOw0sbUl0gNUj2MYzp2ftHQH8G/dCn1Ug0HHky3HXejDp1WBsw3EaP/HIkmi+WHcea3YOTpaOivR0H6vaiYlUOkgO0gEoFi2FWLioa29Fx+ADKF7iLOCfMhy1KK72oGBKXVeDA4Q60N5Yjy3NHhhktIUZ7jhYnRaW72nD8eDNql3vdkbHvGEI2Z1lNqL2ovIwt3Cs31uzdXo7itHArk2jETO6tCLO2Hfc0APlM29KH8CTgi9gmDY2RuFvkFdsNPR50303mP92nveC1BLxbw4lzZ82iJv0LjJNWdcOKho0m6BftQJv01J28AmSlSNuahL6/Hwsj9IhNKUD57na0VWZBf7gMm97yzYs6gxFZq7ai7a29KJ7aidrCali1/jqrM8CYIS5m3mzD3hVGdO7KEyfS6mfBhHsMAQ1t2Id0p17+NaFrpDjeQNsSU5yh/5Pom2Ig8eERoDvCjS7Ygnw/eLrRHje6KOm/BTavpwV4OB29J8pa6I1IThHn2R3iBPuMCQ2j5iPxfvkDGJNS4RT1UqfjHCwdsUifMcAL2C8gHVgb18EUlYMdzQdE/VyAAulXXrGdSWPUBcKgFxdeBetq0X6oAllRJpRtDP3Em57DNaj9gxFr9rehdl0xChanI1E6Tq8fM0JR4rlLTjP+4aVMcRi6YLvJZcMgDCQ+3Povt9XBPM+04pjIW472JjQMcrDDoD5uQc2uThhXN6JtlzjvystB+iwRxlNi5LzSS4kXS8c5+HU4GDg1P5rO9DPQ35DUN/6UwTydb7bjtCikpG7AnWEM3hkO7XlHW/iO1IuFLoi0Ny3QuqTJL9401ClB07HmtBHKcKVn/zu/VBdFPSH+xX1bhJUXi73vOVrPJW3d04eSfrSUco+h87zy3p+yT8mY5N1lNiBtaUY/JhY4K+pP7y48XrouitAyPIgY+SJFXWdn4Dvor37qd1fLTaxTh7UBw/5WPRqkW59nDKZPE2njQI+nlbQb3WrC7Dlaj/oO5XUvK+o3NMD6gZoc9eMQ94DXCeCdOujO1GN9o1UZG0PQG+IQ53V7kz5oC3kPWrfVwnyxRx4zQyosY6bEelqAMerPRHZQyAWvynJWZDi1snZc6c0Qju6rynxHJxr2NSgz/akZRmH16V816eEsz62kDZurYHYfs+D8QFSEG3rHqxgqw71NpQJUnbT6PkWDBiEWiVK/wcYGtGj55SwEZ2MrzP61yMWDqGkEYp5MFFsTrtjlW2bHxUj9oL1IvwD551u/eI6elSSqNFFl96j5xT8d6GORLPWpvSbKAzUfByV91/v7UkPJY1J/RSe6+4y/4t/9JYxj8PC/uB7asA9JXBzPnC1OVPc2wRIqbAbEgq7L6suBCCs++lJOiCywdvqecjhPtKLB/3hDphvtcaOPMyIRnah/ve8TOWyNNeJ8IBzSBWsicOg0Gk6aMDpNzTPSJ9J27BZY3uxAq+FxPBjyxC6IYU8H/npgvyhCxhAj90f3uGHDsWbpFFsj/zi7NxlJj4n/ot71v0na/yS9S4SbKIFg8GkwkX64CBY7fdOyPn6mKHsCx/PQG/6yIdCFTFjCiI8+QuY/VWwi5husaDpuhuktEwyL08Pq3hCUf7eSy13yxV6M38We80S7X/6NRVJ2HNC2AzWa7vLTML6LfibmSP3vd1cHf+rCgOqb0PQzkpF8rQHtb5vRUmdH8sI5fbshDQHteUdb+CpPbGpAw1shMoeUzrzTWqA6JVQ61pw2NBiW9GxG02H/BghRtu2vQmdUKpI9v/zrYZgs7fc53/NnUQ5LXYeCGXQ5EYQuPglZUXbs2hXgCYXXrNhTZ4YuRcRVyPYdbWkmJiEdcTChpi7AHZ32JnGO6uw9RxV/42eLiAlU/jrMOLDdr7HxJtapQ9KA0XOoDEUb69F0VJxQnBDT0SZUr85GxjoLYpapj2qiYSYq+SfdzQRmVDyp9DlKKZNa0tTZXrrfqEDuk+r4DNKgoGvV8SWiYlGwcCb0N7rlZ6hLY2PIyySkoeywsoju/gJkzQqek66fr0ZRRgoSZijfTcpzP2Nbj+Tl6WqmkMqv+Z6GDWdjEZKk5bdZRQGfjFT15M6+L1+Zn5SNA5eCtK/Lv9S5Sz4rqhZI21We06ybWoDyxepWLjagyH3MYkp4MhcVb4Q8vQjbcG/TO3xwpgqZUvj4PZ+fBkZ6TFbOBDPWL8xGWV2rUp6JqbWxCmVLasNqeIqN70LVk/mobVPWYZYeU7i4AtYJOVizQM0F0XFInCIqxi1lqGo29y73ohUGn9thRbpOkZ5n7t4nMxo2VomThjjkJCnr6nmrCCkrqnrL4bZarN9ugS5jDmaGqvh6mlA0T+p/reyDRVzo1m6ogiUqC3MSer8s9cXUifKlplZUTmIfag+JENF8DIqA6xCGMuxD0yO1cA0SpTFF0vK9jlucANVVoGi1+3GSAyAuThPFaUH97lqYxTqbGk3hr0tjfASji09F7gQnGlYtwfpGZR2tdaXIfhWY7xcnWtKN5ri5dw6WLouRy+3sknq0qvteL84HyrrjgtxmHFz0w8lIvFaLqu3d4uTTXXMI94o0N9mChv3HoJsd76lTwjeM6SCgaMQliBPMjk0o29wkpw9pbI/1T5fBatDehcS6XRkHRwlfJb9VHQTispO8wmKcOFEVdeu+GtRKcdvcAJOoEydNmy/yXz0qVvXGT+3yeWhxKINq+giWlkelonhtIrpFPKcs90o74tyvfmMRyqRuqENo+MqGwGEULm3xEZjmclsaMG9xHDoPVKH++GAHO5REI2aiOG86WoOaZrHdo7VolcaAiDVivji/qN9Yinq17mqVHlf71lX4p5CYjHKsmdWF+mUpyN+mpmcp7+wsQ0VbbxoIVub3pUNi4U7k3Osf162ivitCrbR/YdY3mqndGg5uqxKXdsN0d4skjLyjKXwn58jnm+YNGXIXcncatLQ1oGptLmrdd1doqFNCpuMw0kZIodKzw4Qycc5ccVxL45hbIvQducje0KCGlVS2paCoUXzykwIke7rmxODxhYnQnRHXQYUi3UvLivCvei4XF2MD1VJDU04EpTOieFsOxh1djwxRF7jD1txcJeolaXyRHOxcnSxqq9A0pZlvZ6FcpMGuulyfNNhaV4bshethiV+DrYt74yNu4VokRkl5Mrc3z0n7tqABuvn+9dbNq1OHpAFDPzkZMT0tqC7LR/5yMYnCuN1pxMpdb2JvXoBRTmlYxC7eiR15iYiWL251iJ4lCrbdFaLilz/2MhpxGcmI9bplVB4UNKMUOxr3IneKiDFRSWSJC6Pe8S/E+u5PRtaqHXhzTy7igkaqDjEPp8J4f+/4FxgVA+PcXJTva0ZFilfHiftzsXOn7zgcMlGRrN29BllT1Pmj4kSG2IGdq6RR2gPRy31I12TEqcfuTYe4wgNo216MVO9b6aKi5XE1ijdnQRp3eWgN8zbd4eM1xggNkag4FO/ei/KMcegUhblcnpWUYU97NyYtSQ0r3kY/thK1W5Lw/v5SeT1FO60YJyqXA3XFiPOkUwOy/n4HCmY40LSuSCxXihprLFb+ssDv14hxMKaNhm3/OnWf1qHpyuOofGOnp2uXflIijNfNqFqhlMOlr1oQk1eLN0t6u3AFNWoSEuOdMG+T9kF8f3UNLN/OR+0bpaLiUpeRTC3A7sJEXH1zvViuDMccUurWegyqgOsQhjDsNTGkY2vjDhQnXEfL37uPuwoNZ3RIXmgceBeve9OxcqPI49ZqFC0vQvX5keHnU63xEYw0htEvpThxwiROiqU4abAnomL7UsT67YymdKM5bpTxlQ5syEGMrQZlYrminzXgXGwxti3XdgLmQ26oEP/FSXayuGjpFYMHkwyw27uRNSvcroV+hisdBGF4slLU0zPhOLRepA8R3rutiP27nSKutKeScfHpGH1+D9ZJ+yrS2LrXHXi8vBk7PV1BJdFIX1WBrPusqBZxW7TzIkbeKWJoRjH2rs2C/r1qNX5acHXBbpRnBvilo5+0bEjbijdFHZd4vQWb3GlnWwOsUeI8YcYQh9qwlQ2Bwyhc2uIjsHDKbcNskQ8u2mCbkoqZgxrsUBG3bDeKZ13FwXVi2+uO4apUtkgXU9L5xajTqF6thHPLtRzsXtd7Z6nHCAPSK9/EDlGe42iVnJ6luqnhwmjEx3rl9mBlfiBece2p70T5137NiHj5mMOsbzRTujWMFuHbPS8JDw5qXf3TnHc0ha8oc5fXYu+GLIzrVMpcKQ2W/bod3ROXIlXudidoqFNCpuNw0oYG/abnC1aYkIp46XpEsxgsrdyLAr0Z60qkY1iH164nonjnm9jq91SO6LmVcjkYY9ullIMbTbg7rxGlqYHS5tCUE/3RTRXl8htbsWycDXs2SPuejxJxzhi9eCuafc4ZQ9CYJ+U0uLsUc9Bb9mxqdsL4E1H2VPo9DeXeVGx9Q9SRj0lj9Ch5rur3QPrLlXhaagT1d5Pq1K9Iz1JVX3uceLcdM6Ynqe9oKDFsifq6vfKFFVXxubCtbROV5lBf/hAR0ZfSlVaUzi4DNrSjIqWfRgAamLO1SFt8EPPrmpHLO8eHXz/p2fZaNjKtS9G+YQAN33Tb6O/a4KYM4klERERERANjP9wA05AMdkh9OWF5axfswzR4J/UVPD07YLN2InHGg2y8oKDYgEFEREREFKludKK1zjp0g3eSrysmHJAe5TlMg3eSn/7S841zsLYlIvlh3sFKwbEBg4iIiIgowvS0N6BJGoywMA/VyMGaRYMdvJO8WQ/VwiwNpFuwDqaENSiezd/8h5Om9DzCiOKOrUi/V31PFAAbMIiIiIiIIs2nZqxfXoY91+agYmcxjFoH8yNtLu1C0YoqHBtbgL0b/QYvpKHH9ExDhIN43mQMW6K+mC+IiIiIiEjCQTyJiIiIiIiI6JbGBgwiIiIiIiIiinhswCAiIiIiIiKiiMcGDCIiIiIiIiKKeGzAICIiIiIiIqKIxwYMIiIiIiIiIop4bMAgIiIiIiIioojHBgwiIiIiIiIiinhswCAiIiIiIiKiiMcGDCIiIiIiIiKKeGzAICIiIiIiIqKIxwYMIiIiIiIiIop4bMAgIiIiIiIioojHBgwiuvVcMWH97ARk77LCqc6KWKeqEB9fhKaP1fcUIayoio9H/Dar+p6IiIiIIh0bMIjo1uN0wqG+JCIiIiKiLwc2YBDRrefeVFQcPo69y+KgU2cNnAPWfWXI3c1f4iON41Q9ypbVgjFDRERERBI2YBDRl5wTtrdbYeUtHRHHecmC1lNX1XdERERE9GXHBgwiIiIiIiIiinhswCCiW5AyAGNRc4/6XuKEra0KpYtSkCANzhifhMyS2n7vrOhpLhLLpWD9cfGmLle8lr4Xj6pTyueyGz2w1JUhPyNJ/Vysd3kZ6ju8t61NT4fUJULdv9mZKN3WCts19UNv12xo3VaKzNnK/iRllKKqzaZ5wFLnhVZUlWQiyb2/JVVoveD17T/UIlN8lvuaTZ2h+rgVRbPikbm7U52h8NnvWSnIXVsPS6DDv+FAp08cJCBlWRlaP1A+VsK7KkCXkB40FYrl3QNqftyEIvH9lHVm8aYeufK6vD6XqPGSOzdB/ixhbi7K6izouaF+7sXxB9/wyF3bINLFdfVTIiIiIrpVsAGDiG4LnbuzkbnBAv0P12Lr9h3YsWEpYrvPwfapukAA+vil2LG9HDmTxZvZxeK1+J6Y0icon+OaFdVPz0P+Lhui01Yqn28uRiLMqMqbh6Jmu7pgaI63q1C4+RwmZZbL+1e+OAY2cQGeXdYEu/dFt9hm1eJMlB0F0kuU/VmZ6kDT6kxk+zUsBOI8VYXsBWViD9OxUj6elZhzrQllC7JR+wd1oftzsGZZDKzba2C6os6DE+badTDfWyD2LVadB9ibizAvrxr2yQWolNZXvhQx56uR/2SZ13eFG3Y0laQge3UTHA+ry26vREGcA3bv5bQYZcRSKYwWSfuRjGJ5XWJ6Ikb5XN6WFC92xOVVyp9V5orw3JWPeWtNPgO8SuGRu6gMTdcSUbxZWk850ke3o2hJhQgjIiIiIrqluAJ4u8OkvqKhxrAl6iv8fHHatWX6dFdhU7fn/fZHp7umv/SO+l71uTr1q9t18Hnx3a2n1fdu112nt85zTX+00HWwS53lIX2W4Zo+vcTV8ok6K5iTW8RyYv3PH3R1+e3LdfMm1yPTH3GtM111z1G2OW+L650/qbNUXa8XivWsdh1xLxrIdREu86a75olwuK7Okn3epRzji0dcnq//SSz7lFhWHLe07HWxn/OmZ7hqOpWPZZcPugqlcH7dLwD+9I6yndpz6gyX61ytFB4Zri0nfbbso7tJOoYtIrb8BY6DYMsr8/vGy3WLdAzzeo9BDY9HXugb9t2tq0XYB4p3IiIiIvoi9XdtwDswiOg2MBqj7xP/jpth8f75fYQ6DYTTgtY6OwyLC5BuUOd56BC3MAeJMKHluLauJFkL58Dgty+6hHQsMzjRdPKcMkPdZmx2OoxRyiw3w4xkGNEK6wV1RgDOjlbU22OR80Oj79NZRhhgTDICbVZ4Oo1ExaFgVQ5QV4WDFzpRX16PkcvLkXu/+rlga2+AGVnIesIvAKKMSHwMsIv9lo/+hhUtu20w5JWjeOrgnwvTPxuONJqBjCzM8dst3bREJMOO0+fUOLGaRHgYsGxZep+wj56dLo6MiIiIiG4lbMAgotuAAfNLimG8Uo/8JGmMg3qYLw7ysSJXutEl/s2crHZb8HdvDKRPLJekpUIxInZCoAv70YiWuqtctCsNAeo2OyszlTEfvKe09bCIz2yXgjeYOLrlb6Miw++7YkrbIH8bto/lRWW6+AKszDiHqiVLUA3friMSx2Wpy0oDihL6ri9/n/jouE3eX/SI9V7rJ6yGlAP2s+JfY5E6zobXNCMf9eIj80UlTnrsUnPNTMROlN/6GjFSfUFEREREtwo2YBDRbUE3OQc72tqxd0MmDB/UoCgjCUmrWn3Hl/jC6ICvqi8D0et97phILtyqjPkQYFoar1eXCiYZxdsCf3fH9qUwjlIXU+lHjYPzmhMwRCPgmu/LQnnAdUlTutyI46bTDffdF71iFpQH2B91co+VIdNBN9C7cIiIiIgoorABg4huHyP0iE0pQPnudrRVZkF/uAyb3tLWxaOPUaMxTvw7dtbvSR1uH9vk7hjJE7XcdWCBLdB4n85z6DwOGCaOUxoP7tTL/7tGGmCcYQw4xRmCNxLoouRvQ2cI/F3jjDh4f915qhrrdwEFm8uRemo9NvkNSjpSbwAuAPppgdYlTTE++206E3qQUekuELt/lNzogs37yS/9Gom7xW7ZbujxYMB9EtN98l6p4SHCXn0Kig+nQ/NTXYiIiIgoMrABg4huD353WkTPSkKy+G/r6VZmhOLuxuGmMyJpgQ72umo09Wl8cMK6vx7mqFQkh7wjQuJEQ6sZDr99tL1RgwbEYH6i2nVDb8TM2UDn3iZYAj1eNQR9/ExxzJ2of90S+uJcesJKeT2wbA1yZqWi4IVEmDds8jnW2BnzYRB72PBWiKet6GdiToYIq92BwqqXfrTUJGSBtdN375wnWtEQ9Hj9GzxikZhmABob0BJqt+KMSAwSHrZGKeyJiIiI6FYy4v8I6muPrg8v4luGm9GX+cuHYUvUV/j54jLe/ocmXPn+05gTK412aUXVD/4O/4iR0P/PJ7B3XYS57mXUnBuHZ1cuxQN+3SZ8RcH5b79CU/N5OMfGQHe5DWeuTsPEMSMwbpoR1/7pFbzy63/BpRF/rqz7/Q4cqPgR1h+KQs6ObfjrCSH6J3z0Nv6h+ToeHm1G1T/+EWNHf45PpP379d+htOYsxi/ejJ/NHaOONToSEyePwXv1r2BHw0lcG/U1jLhyWT6eDtN+Mc+Bhx6fKPY4iD+biAfGvodfvbIDvzl9DV/Tj4DjI7u8z+2/2YGGqw8h+bvSt52wvJyHX1xIxy/Wp2P8HeJi//5JGHXiJfzCMgZ/9YNJ0EvN2994AA/8jwmvvFKDf/n3kfjzu66LfRfre8+MA3Uv4ezX0jFtrLThERj/lwHCqusMzPUv48Q9czBtjFhqjB6fH3kd9U3HcFk/FlGOyzhj2oqy30bh8fHv4b1vpOPZGWJBVdSnnfhV81s4/9kYxHy1B23WK5j23TEYPekBXGv335YdZ94+gF9VnsXo+dMgr+XP/wLj/p8J9b+uh+nfonD3PdL+n0H7jp/iH/6/v8TM01Z0Pti7TeeZaix8ohQd35mH/z0xaCgTERER0TDq79rgK9KjSNTXHifebceM6UnqOxpKDFuivsLPF1ZUxefCtrYNW9OixfsemLdtQnXrMXR+7BRXvtGInbEABYU5SPy2hnEZrnWivqwQ1Ud74BwVh9Jf1iJLeqqJ/Jkd5n1VqH69d91xjz2Npc9kaVv3qSrEL7NhTXM5Yo5vQtXOVojrcOgnJCP9mXwUpMT4PjFE8rEF9a/swJ5/tqJHujNhVAxipyUia/HTSJ8iHW//ek7UY8ure2A6JY5HvNdPiIVxVhZystMRJ77uPF6BxwoPYv62f0ZpQu/WpQv47CW1MKxuxtYn1Ud83HCg83ANal5tgkkeGFWH6PsfhDE1BwUZiTB4X+c7OtG6uwZ73PEg9tuYkI78FTmIczci9VhQu7ECe9ptcECPuIxirCmcCeuqFKyfWIuOwjh1QYkTnXUlKNxlFuEgli2pRe0CtTJTt1XTbIJNhKcc51OMmLOgAFmzDF5h6oStrRo71P3X3RuH5IX5eCF7JPbMyEX94t5tKsd/ADEbGlGREjqciYiIiGjo9XdtwAaMm4xhS9QX8wUREREREUn6uzbgGBhEREREREREFPHYgEFEREREREREEY8NGEREREREREQU8diAQUREREREREQRjw0YRERERERERBTx2IBBRERERERERBGPDRhEREREREREFPHYgEFEREREREREEY8NGEREREREREQU8diAQUREREREREQRjw0YRERERERERBTx2IBBRERERERERBGPDRhEREREREREFPHYgEFEREREREREEY8NGEREREREREQU8diAQUREREREREQRjw0YRERERERERBTx2IBBRERERERERBHvKy5Bfe1x4t129RURERERERER0c0zY3qS+spXwAYMIiIiIiIiIqJIwi4kRERERERERBTx2IBBRERERERERBGPDRhEREREREREFPHYgEFEREREREREEY8NGEREREREREQU8diAQUREREREREQRDvj/AWeUBZ7brWmYAAAAAElFTkSuQmCC)"
      ],
      "metadata": {
        "id": "LVvZ_WMGgX__"
      }
    },
    {
      "cell_type": "markdown",
      "source": [
        "Continue Statement\n"
      ],
      "metadata": {
        "id": "2JUbyazpgwzU"
      }
    },
    {
      "cell_type": "code",
      "source": [
        "# Python program to show how the continue statement works\n",
        "\n",
        "# Initiating the loop\n",
        "for string in \"Python Loops\":\n",
        "    if string == \"o\" or string == \"p\" or string == \"t\":\n",
        "         continue\n",
        "    print('Current Letter:', string)"
      ],
      "metadata": {
        "id": "YAYlyKCMgd_U"
      },
      "execution_count": null,
      "outputs": []
    },
    {
      "cell_type": "markdown",
      "source": [
        "Break Statement\n",
        "\n",
        "It stops the execution of the loop when the break statement is reached."
      ],
      "metadata": {
        "id": "pnRtrC7Dg13V"
      }
    },
    {
      "cell_type": "code",
      "source": [
        "# Python program to show how the break statement works\n",
        "\n",
        "# Initiating the loop\n",
        "for string in \"Python Loops\":\n",
        "    if string == 'L':\n",
        "         break\n",
        "    print('Current Letter: ', string)"
      ],
      "metadata": {
        "id": "9LeJFPA-g2YK"
      },
      "execution_count": null,
      "outputs": []
    },
    {
      "cell_type": "markdown",
      "source": [
        "Pass Statement\n",
        "\n",
        "Pass statements are used to create empty loops. Pass statement is also employed for classes, functions, and empty control statements."
      ],
      "metadata": {
        "id": "uzZFV0FAg7XT"
      }
    },
    {
      "cell_type": "code",
      "source": [
        "for string in \"Python Loops\":\n",
        "    print(string)"
      ],
      "metadata": {
        "colab": {
          "base_uri": "https://localhost:8080/"
        },
        "id": "9WGu7-J0RQ7Z",
        "outputId": "5e362bac-8550-4ebc-fdc0-c322f5f760a8"
      },
      "execution_count": null,
      "outputs": [
        {
          "output_type": "stream",
          "name": "stdout",
          "text": [
            "P\n",
            "y\n",
            "t\n",
            "h\n",
            "o\n",
            "n\n",
            " \n",
            "L\n",
            "o\n",
            "o\n",
            "p\n",
            "s\n"
          ]
        }
      ]
    },
    {
      "cell_type": "code",
      "source": [
        "# Python program to show how the pass statement works\n",
        "for string in \"Python Loops\":\n",
        "    pass #write a logic to find compostie number\n",
        "print( 'Last Letter:', string)"
      ],
      "metadata": {
        "colab": {
          "base_uri": "https://localhost:8080/"
        },
        "id": "bQ-JZ1sZg_T8",
        "outputId": "a26dd022-632d-45e9-f790-6d6533fce094"
      },
      "execution_count": null,
      "outputs": [
        {
          "output_type": "stream",
          "name": "stdout",
          "text": [
            "Last Letter: s\n"
          ]
        }
      ]
    },
    {
      "cell_type": "markdown",
      "source": [
        "List Comprehension"
      ],
      "metadata": {
        "id": "XfruDIw7774-"
      }
    },
    {
      "cell_type": "code",
      "source": [
        "#using for loop to iterate through items in list\n",
        "numbers = [3, 5, 1, 7, 3, 9]\n",
        "num = []\n",
        "for n in numbers:\n",
        "    num.append(n**2)\n",
        "print(num)"
      ],
      "metadata": {
        "id": "2O2pQReV8LU0",
        "colab": {
          "base_uri": "https://localhost:8080/"
        },
        "outputId": "c1dcddb7-e731-4099-fba1-d5010ba8ba86"
      },
      "execution_count": null,
      "outputs": [
        {
          "output_type": "stream",
          "name": "stdout",
          "text": [
            "[9, 25, 1, 49, 9, 81]\n"
          ]
        }
      ]
    },
    {
      "cell_type": "code",
      "source": [
        "#using list comprehension to iterate through list items\n",
        "numbers = [3, 5, 1, 7, 3, 9]\n",
        "num = [n**2 for n in numbers]\n",
        "print(num)"
      ],
      "metadata": {
        "id": "vQCM-VZ68L8G",
        "colab": {
          "base_uri": "https://localhost:8080/"
        },
        "outputId": "85398471-82a3-499f-e828-3e715dc9dbcb"
      },
      "execution_count": null,
      "outputs": [
        {
          "output_type": "stream",
          "name": "stdout",
          "text": [
            "[9, 25, 1, 49, 9, 81]\n"
          ]
        }
      ]
    },
    {
      "cell_type": "code",
      "source": [
        "number_list = [ num for num in range(30) if num % 2 != 0]\n",
        "print(number_list)"
      ],
      "metadata": {
        "id": "mbgoctMd8dTx",
        "colab": {
          "base_uri": "https://localhost:8080/"
        },
        "outputId": "2a8b664f-c423-4870-8d66-cbe707311a10"
      },
      "execution_count": null,
      "outputs": [
        {
          "output_type": "stream",
          "name": "stdout",
          "text": [
            "[1, 3, 5, 7, 9, 11, 13, 15, 17, 19, 21, 23, 25, 27, 29]\n"
          ]
        }
      ]
    },
    {
      "cell_type": "code",
      "source": [
        "nested_list = [[_ for _ in range(5)] for __ in range(3)]\n",
        "\n",
        "print(nested_list)"
      ],
      "metadata": {
        "colab": {
          "base_uri": "https://localhost:8080/"
        },
        "id": "_185FPc18qTr",
        "outputId": "19efeb2a-8e95-4b92-8236-a3c8e6d3be92"
      },
      "execution_count": null,
      "outputs": [
        {
          "output_type": "stream",
          "name": "stdout",
          "text": [
            "[[0, 1, 2, 3, 4], [0, 1, 2, 3, 4], [0, 1, 2, 3, 4]]\n"
          ]
        }
      ]
    },
    {
      "cell_type": "markdown",
      "source": [
        "Python Generators\n"
      ],
      "metadata": {
        "id": "blKnImmZ8D93"
      }
    },
    {
      "cell_type": "markdown",
      "source": [
        "A generator function in Python is defined like a normal function, but whenever it needs to generate a value, it does so with the yield keyword rather than return. If the body of a def contains yield, the function automatically becomes a Python generator function.\n",
        "\n",
        "\n",
        "![image.png](data:image/png;base64,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)"
      ],
      "metadata": {
        "id": "LZkFMgd6GUvW"
      }
    },
    {
      "cell_type": "code",
      "source": [
        "# A Python program to demonstrate use of\n",
        "# generator object with next()\n",
        "\n",
        "# A generator function\n",
        "def simpleGeneratorFun():\n",
        "\tyield 1\n",
        "\tyield 2\n",
        "\tyield 3\n",
        "\n",
        "# x is a generator object\n",
        "x = simpleGeneratorFun()\n",
        "\n",
        "# Iterating over the generator object using next\n",
        "\n",
        "# In Python 3, __next__()\n",
        "print(next(x))\n",
        "print(next(x))\n",
        "print(next(x))\n"
      ],
      "metadata": {
        "colab": {
          "base_uri": "https://localhost:8080/",
          "height": 228
        },
        "id": "l3qECxz8HXNw",
        "outputId": "82050b24-c151-4004-90fa-4c1f8ebfd385"
      },
      "execution_count": null,
      "outputs": [
        {
          "output_type": "stream",
          "name": "stdout",
          "text": [
            "1\n",
            "2\n",
            "3\n"
          ]
        },
        {
          "output_type": "error",
          "ename": "StopIteration",
          "evalue": "",
          "traceback": [
            "\u001b[0;31m---------------------------------------------------------------------------\u001b[0m",
            "\u001b[0;31mStopIteration\u001b[0m                             Traceback (most recent call last)",
            "\u001b[0;32m<ipython-input-21-cad9c165fc4c>\u001b[0m in \u001b[0;36m<cell line: 19>\u001b[0;34m()\u001b[0m\n\u001b[1;32m     17\u001b[0m \u001b[0mprint\u001b[0m\u001b[0;34m(\u001b[0m\u001b[0mnext\u001b[0m\u001b[0;34m(\u001b[0m\u001b[0mx\u001b[0m\u001b[0;34m)\u001b[0m\u001b[0;34m)\u001b[0m\u001b[0;34m\u001b[0m\u001b[0;34m\u001b[0m\u001b[0m\n\u001b[1;32m     18\u001b[0m \u001b[0mprint\u001b[0m\u001b[0;34m(\u001b[0m\u001b[0mnext\u001b[0m\u001b[0;34m(\u001b[0m\u001b[0mx\u001b[0m\u001b[0;34m)\u001b[0m\u001b[0;34m)\u001b[0m\u001b[0;34m\u001b[0m\u001b[0;34m\u001b[0m\u001b[0m\n\u001b[0;32m---> 19\u001b[0;31m \u001b[0mprint\u001b[0m\u001b[0;34m(\u001b[0m\u001b[0mnext\u001b[0m\u001b[0;34m(\u001b[0m\u001b[0mx\u001b[0m\u001b[0;34m)\u001b[0m\u001b[0;34m)\u001b[0m\u001b[0;34m\u001b[0m\u001b[0;34m\u001b[0m\u001b[0m\n\u001b[0m",
            "\u001b[0;31mStopIteration\u001b[0m: "
          ]
        }
      ]
    },
    {
      "cell_type": "markdown",
      "source": [
        "The generator expression in Python has the following Syntax:\n",
        "\n",
        "![image.png](data:image/png;base64,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)"
      ],
      "metadata": {
        "id": "ULR_ihYlHw1c"
      }
    },
    {
      "cell_type": "code",
      "source": [
        "# generator expression\n",
        "generator_exp = (i * 5 for i in range(5) if i%2==0)\n",
        "\n",
        "for i in generator_exp:\n",
        "\tprint(i)\n"
      ],
      "metadata": {
        "colab": {
          "base_uri": "https://localhost:8080/"
        },
        "id": "HA0UczP_H272",
        "outputId": "a5d8979e-4ace-4be6-92d4-072a4a79bd81"
      },
      "execution_count": null,
      "outputs": [
        {
          "output_type": "stream",
          "name": "stdout",
          "text": [
            "0\n",
            "10\n",
            "20\n"
          ]
        }
      ]
    },
    {
      "cell_type": "code",
      "source": [
        "list = [1,2,3,4,5,6,7]\n",
        "\n",
        "# List Comprehension\n",
        "z = [x**3 for x in list]\n",
        "\n",
        "# Generator expression\n",
        "a = (x**3 for x in list)\n",
        "\n",
        "print(a)\n",
        "print(z)"
      ],
      "metadata": {
        "id": "GAurLlUxIaoK",
        "colab": {
          "base_uri": "https://localhost:8080/"
        },
        "outputId": "8d79d360-ae55-4444-efe5-6e0f68d6044d"
      },
      "execution_count": null,
      "outputs": [
        {
          "output_type": "stream",
          "name": "stdout",
          "text": [
            "<generator object <genexpr> at 0x7f92b4695930>\n",
            "[1, 8, 27, 64, 125, 216, 343]\n"
          ]
        }
      ]
    },
    {
      "cell_type": "markdown",
      "source": [
        "generators utilize memory efficiently. The generator function, calculates the value and suspends their execution, whereas the normal function returns a sequence from the list, which first creates the entire sequence in memory before returning the result."
      ],
      "metadata": {
        "id": "4iW0CI67I3KY"
      }
    },
    {
      "cell_type": "code",
      "source": [
        "# Generator function\n",
        "def generate_numbers(n):\n",
        "    for i in range(n):\n",
        "        yield i\n",
        "\n",
        "# For Loop Example\n",
        "def generate_numbers_list(n):\n",
        "    numbers = []\n",
        "    for i in range(n):\n",
        "        numbers.append(i)\n",
        "    return numbers\n",
        "\n",
        "# comparing memory usage\n",
        "import sys\n",
        "\n",
        "n = 1000000  # generating 1 million numbers\n",
        "\n",
        "# memory usage for Generator\n",
        "generator_memory = sys.getsizeof(generate_numbers(n))\n",
        "\n",
        "# memory usage for For Loop\n",
        "for_loop_memory = sys.getsizeof(generate_numbers_list(n))\n",
        "\n",
        "print(\"generator_memory\", generator_memory)\n",
        "print(\"for_loop_memory\", for_loop_memory)"
      ],
      "metadata": {
        "colab": {
          "base_uri": "https://localhost:8080/"
        },
        "id": "joTv8Ps_JJrc",
        "outputId": "6f6285c5-59aa-4787-d5cd-7ee856506daf"
      },
      "execution_count": null,
      "outputs": [
        {
          "output_type": "stream",
          "name": "stdout",
          "text": [
            "generator_memory 104\n",
            "for_loop_memory 8448728\n"
          ]
        }
      ]
    },
    {
      "cell_type": "markdown",
      "source": [
        "Python Lambda Functions"
      ],
      "metadata": {
        "id": "S1rQRMwEOIiW"
      }
    },
    {
      "cell_type": "markdown",
      "source": [
        "Lambda Functions in Python are anonymous functions, implying they don't have a name. The def keyword is needed to create a typical function in Python, as we already know. We can also use the lambda keyword in Python to define an unnamed function.\n",
        "\n",
        "\n",
        "![image.png](data:image/png;base64,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)"
      ],
      "metadata": {
        "id": "KmQ09HUQORDE"
      }
    },
    {
      "cell_type": "code",
      "source": [
        "def add( num ):\n",
        "   return num + 4\n",
        "print( add(6) )"
      ],
      "metadata": {
        "id": "ww2sYtFoOhxs",
        "colab": {
          "base_uri": "https://localhost:8080/"
        },
        "outputId": "46ad0d84-7130-414b-eb14-0d3122608e50"
      },
      "execution_count": null,
      "outputs": [
        {
          "output_type": "stream",
          "name": "stdout",
          "text": [
            "10\n"
          ]
        }
      ]
    },
    {
      "cell_type": "code",
      "source": [
        "# Code to demonstrate how we can use a lambda function for adding 4 numbers\n",
        "add = lambda num: num + 4\n",
        "print( add(6) )"
      ],
      "metadata": {
        "id": "nfHKOA8kOibm",
        "colab": {
          "base_uri": "https://localhost:8080/"
        },
        "outputId": "3dbb3031-06b8-4de5-f75e-c1d85c13fd2b"
      },
      "execution_count": null,
      "outputs": [
        {
          "output_type": "stream",
          "name": "stdout",
          "text": [
            "10\n"
          ]
        }
      ]
    },
    {
      "cell_type": "code",
      "source": [
        "a = lambda x, y, z : (x + y + z)\n",
        "print(a(4, 5, 5))"
      ],
      "metadata": {
        "colab": {
          "base_uri": "https://localhost:8080/"
        },
        "id": "yNKFbdvjOoxp",
        "outputId": "1fbafa56-072f-4073-f3b9-bffe43d61357"
      },
      "execution_count": null,
      "outputs": [
        {
          "output_type": "stream",
          "name": "stdout",
          "text": [
            "14\n"
          ]
        }
      ]
    },
    {
      "cell_type": "markdown",
      "source": [
        "The beauty of lambda functions is their convenience. We need not allocate a lambda expression to a variable because we can put it at any place a function is requested."
      ],
      "metadata": {
        "id": "v3yZK2INO9W5"
      }
    },
    {
      "cell_type": "markdown",
      "source": [
        "The filter() method accepts two arguments in Python: a function and an iterable such as a list.\n",
        "\n",
        "The function is called for every item of the list, and a new iterable or list is returned that holds just those elements that returned True when supplied to the function."
      ],
      "metadata": {
        "id": "I1-3uy35PRX2"
      }
    },
    {
      "cell_type": "code",
      "source": [
        "# This code used to filter the odd numbers from the given list\n",
        "list1 = [35, 12, 69, 55, 75, 14, 73]\n",
        "odd_list = list(filter( lambda num: num % 2 = 0 , list1 ))\n",
        "print('The list of odd number is:', odd_list)"
      ],
      "metadata": {
        "colab": {
          "base_uri": "https://localhost:8080/",
          "height": 211
        },
        "id": "Qmi9fCR8PFKE",
        "outputId": "e4a470f4-ea39-4843-a05e-29474481f3c8"
      },
      "execution_count": null,
      "outputs": [
        {
          "output_type": "error",
          "ename": "TypeError",
          "evalue": "'list' object is not callable",
          "traceback": [
            "\u001b[0;31m---------------------------------------------------------------------------\u001b[0m",
            "\u001b[0;31mTypeError\u001b[0m                                 Traceback (most recent call last)",
            "\u001b[0;32m<ipython-input-38-7d5c36537bd1>\u001b[0m in \u001b[0;36m<cell line: 3>\u001b[0;34m()\u001b[0m\n\u001b[1;32m      1\u001b[0m \u001b[0;31m# This code used to filter the odd numbers from the given list\u001b[0m\u001b[0;34m\u001b[0m\u001b[0;34m\u001b[0m\u001b[0m\n\u001b[1;32m      2\u001b[0m \u001b[0mlist1\u001b[0m \u001b[0;34m=\u001b[0m \u001b[0;34m[\u001b[0m\u001b[0;36m35\u001b[0m\u001b[0;34m,\u001b[0m \u001b[0;36m12\u001b[0m\u001b[0;34m,\u001b[0m \u001b[0;36m69\u001b[0m\u001b[0;34m,\u001b[0m \u001b[0;36m55\u001b[0m\u001b[0;34m,\u001b[0m \u001b[0;36m75\u001b[0m\u001b[0;34m,\u001b[0m \u001b[0;36m14\u001b[0m\u001b[0;34m,\u001b[0m \u001b[0;36m73\u001b[0m\u001b[0;34m]\u001b[0m\u001b[0;34m\u001b[0m\u001b[0;34m\u001b[0m\u001b[0m\n\u001b[0;32m----> 3\u001b[0;31m \u001b[0modd_list\u001b[0m \u001b[0;34m=\u001b[0m \u001b[0mlist\u001b[0m\u001b[0;34m(\u001b[0m\u001b[0mfilter\u001b[0m\u001b[0;34m(\u001b[0m \u001b[0;32mlambda\u001b[0m \u001b[0mnum\u001b[0m\u001b[0;34m:\u001b[0m \u001b[0mnum\u001b[0m \u001b[0;34m%\u001b[0m \u001b[0;36m2\u001b[0m \u001b[0;34m!=\u001b[0m \u001b[0;36m0\u001b[0m \u001b[0;34m,\u001b[0m \u001b[0mlist1\u001b[0m \u001b[0;34m)\u001b[0m\u001b[0;34m)\u001b[0m\u001b[0;34m\u001b[0m\u001b[0;34m\u001b[0m\u001b[0m\n\u001b[0m\u001b[1;32m      4\u001b[0m \u001b[0;31m#odd_list = list(filter(lambda x: x % 2 == 0, numbers))\u001b[0m\u001b[0;34m\u001b[0m\u001b[0;34m\u001b[0m\u001b[0m\n\u001b[1;32m      5\u001b[0m \u001b[0mprint\u001b[0m\u001b[0;34m(\u001b[0m\u001b[0;34m'The list of odd number is:'\u001b[0m\u001b[0;34m,\u001b[0m \u001b[0modd_list\u001b[0m\u001b[0;34m)\u001b[0m\u001b[0;34m\u001b[0m\u001b[0;34m\u001b[0m\u001b[0m\n",
            "\u001b[0;31mTypeError\u001b[0m: 'list' object is not callable"
          ]
        }
      ]
    },
    {
      "cell_type": "markdown",
      "source": [
        "Map method accepts two arguments in Python: a function and an iterable such as a list.\n",
        "\n",
        "The function is executed for all of the elements within the list, and a new list is produced with elements generated by the given function for every item."
      ],
      "metadata": {
        "id": "Y0GhlQm4PcSu"
      }
    },
    {
      "cell_type": "code",
      "source": [
        "#Code to calculate the square of each number of a list using the map() function\n",
        "numbers_list = [2, 4, 5, 1, 3, 7, 8, 9, 10]\n",
        "squared_list = list(map( lambda num: num ** 2 , numbers_list ))\n",
        "print( 'Square of each number in the given list:' ,squared_list )"
      ],
      "metadata": {
        "colab": {
          "base_uri": "https://localhost:8080/",
          "height": 193
        },
        "id": "ALQNZvSBPrSP",
        "outputId": "cb1fbb0f-a8d3-4aee-d921-560696158a8c"
      },
      "execution_count": null,
      "outputs": [
        {
          "output_type": "error",
          "ename": "TypeError",
          "evalue": "'list' object is not callable",
          "traceback": [
            "\u001b[0;31m---------------------------------------------------------------------------\u001b[0m",
            "\u001b[0;31mTypeError\u001b[0m                                 Traceback (most recent call last)",
            "\u001b[0;32m<ipython-input-39-6dc28686a6a7>\u001b[0m in \u001b[0;36m<cell line: 3>\u001b[0;34m()\u001b[0m\n\u001b[1;32m      1\u001b[0m \u001b[0;31m#Code to calculate the square of each number of a list using the map() function\u001b[0m\u001b[0;34m\u001b[0m\u001b[0;34m\u001b[0m\u001b[0m\n\u001b[1;32m      2\u001b[0m \u001b[0mnumbers_list\u001b[0m \u001b[0;34m=\u001b[0m \u001b[0;34m[\u001b[0m\u001b[0;36m2\u001b[0m\u001b[0;34m,\u001b[0m \u001b[0;36m4\u001b[0m\u001b[0;34m,\u001b[0m \u001b[0;36m5\u001b[0m\u001b[0;34m,\u001b[0m \u001b[0;36m1\u001b[0m\u001b[0;34m,\u001b[0m \u001b[0;36m3\u001b[0m\u001b[0;34m,\u001b[0m \u001b[0;36m7\u001b[0m\u001b[0;34m,\u001b[0m \u001b[0;36m8\u001b[0m\u001b[0;34m,\u001b[0m \u001b[0;36m9\u001b[0m\u001b[0;34m,\u001b[0m \u001b[0;36m10\u001b[0m\u001b[0;34m]\u001b[0m\u001b[0;34m\u001b[0m\u001b[0;34m\u001b[0m\u001b[0m\n\u001b[0;32m----> 3\u001b[0;31m \u001b[0msquared_list\u001b[0m \u001b[0;34m=\u001b[0m \u001b[0mlist\u001b[0m\u001b[0;34m(\u001b[0m\u001b[0mmap\u001b[0m\u001b[0;34m(\u001b[0m \u001b[0;32mlambda\u001b[0m \u001b[0mnum\u001b[0m\u001b[0;34m:\u001b[0m \u001b[0mnum\u001b[0m \u001b[0;34m**\u001b[0m \u001b[0;36m2\u001b[0m \u001b[0;34m,\u001b[0m \u001b[0mnumbers_list\u001b[0m \u001b[0;34m)\u001b[0m\u001b[0;34m)\u001b[0m\u001b[0;34m\u001b[0m\u001b[0;34m\u001b[0m\u001b[0m\n\u001b[0m\u001b[1;32m      4\u001b[0m \u001b[0mprint\u001b[0m\u001b[0;34m(\u001b[0m \u001b[0;34m'Square of each number in the given list:'\u001b[0m \u001b[0;34m,\u001b[0m\u001b[0msquared_list\u001b[0m \u001b[0;34m)\u001b[0m\u001b[0;34m\u001b[0m\u001b[0;34m\u001b[0m\u001b[0m\n",
            "\u001b[0;31mTypeError\u001b[0m: 'list' object is not callable"
          ]
        }
      ]
    },
    {
      "cell_type": "markdown",
      "source": [
        "Using Lambda Function with List Comprehension"
      ],
      "metadata": {
        "id": "6SK2N-kNPzew"
      }
    },
    {
      "cell_type": "code",
      "source": [
        "#Code to calculate square of each number of lists using list comprehension\n",
        "# Using lambda function with list comprehension to print squares of numbers from 1 to 10\n",
        "squares = [(lambda x: x**2)(x) for x in range(1, 11)]\n",
        "print(squares)"
      ],
      "metadata": {
        "colab": {
          "base_uri": "https://localhost:8080/"
        },
        "id": "AnN0UXOnP0dC",
        "outputId": "58b930c9-480b-467f-a24f-48ecea5450ad"
      },
      "execution_count": null,
      "outputs": [
        {
          "output_type": "stream",
          "name": "stdout",
          "text": [
            "[1, 4, 9, 16, 25, 36, 49, 64, 81, 100]\n"
          ]
        }
      ]
    },
    {
      "cell_type": "markdown",
      "source": [
        "[(lambda x: x**2)(x) for x in range(1, 11)] is a list comprehension that iterates through numbers from 1 to 10 (range(1, 11)), applies the lambda function to each number, and collects the results in a list squares."
      ],
      "metadata": {
        "id": "8EI2uZODTjR4"
      }
    },
    {
      "cell_type": "markdown",
      "source": [
        "squares = [(lambda x: x**2) for x in range(1, 11)]\n",
        "\n",
        "[(lambda x: x**2) for x in range(1, 11)] is a list comprehension that iterates through numbers from 1 to 10 (range(1, 11)).\n",
        "\n",
        "\n",
        "For each x in the range, it creates a lambda function lambda x: x**2, which squares its input x.\n",
        "\n",
        "\n",
        "However, it only creates a list of these lambda functions without calling them with any arguments.\n",
        "\n",
        "\n",
        "So, squares ends up being a list of 10 lambda functions:"
      ],
      "metadata": {
        "id": "hhzqvK4mTpE_"
      }
    },
    {
      "cell_type": "code",
      "source": [
        "# Code to use lambda function with if-else\n",
        "Minimum = lambda x, y : x if (x < y) else y\n",
        "print('The smaller number is:', Minimum( 35, 74 ))"
      ],
      "metadata": {
        "colab": {
          "base_uri": "https://localhost:8080/"
        },
        "id": "4yrUPb0mT3lW",
        "outputId": "b21f9ab0-07e1-49a9-9a57-dfefca0796c6"
      },
      "execution_count": null,
      "outputs": [
        {
          "output_type": "stream",
          "name": "stdout",
          "text": [
            "The smaller number is: 35\n"
          ]
        }
      ]
    },
    {
      "cell_type": "markdown",
      "source": [
        "# File Handling"
      ],
      "metadata": {
        "id": "dwIeYtpYXfVy"
      }
    },
    {
      "cell_type": "markdown",
      "source": [
        "w: It will overwrite the file if any file exists. The file pointer is at the beginning of the file.\n",
        "\n",
        "a: It will append the existing file. The file pointer is at the end of the file. It creates a new file if no file exists."
      ],
      "metadata": {
        "id": "yu7Hx7xXXwVS"
      }
    },
    {
      "cell_type": "code",
      "source": [
        "with open(\"OmanTrainig.txt\", \"w\") as f:\n",
        "    f.write(\"Hello Coders\")"
      ],
      "metadata": {
        "id": "djEW_AhBXOR_"
      },
      "execution_count": null,
      "outputs": []
    },
    {
      "cell_type": "code",
      "source": [
        "with open(\"OmanTrainig.txt\",'r') as f:\n",
        "    content = f.read();\n",
        "    print(content)"
      ],
      "metadata": {
        "colab": {
          "base_uri": "https://localhost:8080/"
        },
        "id": "Gr5nNXT7Xj4U",
        "outputId": "1000698a-805f-417b-e8bc-682664fb782b"
      },
      "execution_count": null,
      "outputs": [
        {
          "output_type": "stream",
          "name": "stdout",
          "text": [
            "Hello Coders\n"
          ]
        }
      ]
    },
    {
      "cell_type": "markdown",
      "source": [
        "#OOP"
      ],
      "metadata": {
        "id": "B5dfzkS2BGYA"
      }
    },
    {
      "cell_type": "markdown",
      "source": [
        "Python is also an object-oriented language since its beginning."
      ],
      "metadata": {
        "id": "DhDnCWhg9S3Z"
      }
    },
    {
      "cell_type": "markdown",
      "source": [
        "An object-oriented paradigm is to design the program using classes and objects. The object is related to real-word entities such as book, house, pencil, etc. The oops concept focuses on writing the reusable code. It is a widespread technique to solve the problem by creating objects."
      ],
      "metadata": {
        "id": "S2ejfTQU9aod"
      }
    },
    {
      "cell_type": "markdown",
      "source": [
        "Major principles of object-oriented programming system are given below.\n",
        "\n",
        "Class\n",
        "\n",
        "\n",
        "Object\n",
        "\n",
        "Method\n",
        "\n",
        "Inheritance\n",
        "\n",
        "Polymorphism\n",
        "\n",
        "Data Abstraction\n",
        "\n",
        "Encapsulation"
      ],
      "metadata": {
        "id": "fdn0sdCL9eTC"
      }
    },
    {
      "cell_type": "markdown",
      "source": [
        "Class\n",
        "\n",
        "The class can be defined as a collection of objects. It is a logical entity that has some specific attributes and methods. For example: if you have an employee class, then it should contain an attribute and method, i.e. an email id, name, age, salary, etc.\n",
        "\n",
        "A class contains the blueprints or the prototype from which the objects are being created.\n",
        "\n",
        "Classes are created by keyword class.\n",
        "\n",
        "Attributes are the variables that belong to a class.\n",
        "\n",
        "Attributes are always public and can be accessed using the dot (.)"
      ],
      "metadata": {
        "id": "UYOpraXM9lBf"
      }
    },
    {
      "cell_type": "code",
      "source": [
        "class Person:\n",
        "    def __init__(self, name, age):\n",
        "        self.name = name\n",
        "        self.age = age\n",
        "    def greet(self):\n",
        "        print(\"Hello, my name is \" + self.name)\n",
        "\n",
        "# Create a new instance of the Person class and assign it to the variable person1\n",
        "person1 = Person(\"Khalil\", 22)\n",
        "person1.greet()"
      ],
      "metadata": {
        "id": "V9oVtr2TBHTm",
        "colab": {
          "base_uri": "https://localhost:8080/"
        },
        "outputId": "fd54f34d-9bf3-4955-a478-88b9b8ae6f89"
      },
      "execution_count": null,
      "outputs": [
        {
          "output_type": "stream",
          "name": "stdout",
          "text": [
            "Hello, my name is Khalil\n"
          ]
        }
      ]
    },
    {
      "cell_type": "code",
      "source": [
        "person2 = Person(\"Vinay\", 30)\n",
        "person2.greet()"
      ],
      "metadata": {
        "colab": {
          "base_uri": "https://localhost:8080/"
        },
        "id": "-XcA8JKpJhtC",
        "outputId": "80c53659-6ec2-4199-ff65-96dd6d6eee64"
      },
      "execution_count": null,
      "outputs": [
        {
          "output_type": "stream",
          "name": "stdout",
          "text": [
            "Hello, my name is Vinay\n"
          ]
        }
      ]
    },
    {
      "cell_type": "code",
      "source": [
        "class Employee:\n",
        "    def __init__(self, name, id):\n",
        "        self.id = id\n",
        "        self.name = name\n",
        "\n",
        "    def display(self):\n",
        "        print(\"ID: %d \\nName: %s\" % (self.id, self.name))\n",
        "\n",
        "\n",
        "emp1 = Employee(\"John\", 101)\n",
        "emp2 = Employee(\"David\", 102)\n",
        "\n",
        "# accessing display() method to print employee 1 information\n",
        "\n",
        "emp1.display()\n",
        "\n",
        "# accessing display() method to print employee 2 information\n",
        "emp2.display()"
      ],
      "metadata": {
        "colab": {
          "base_uri": "https://localhost:8080/"
        },
        "id": "dLVxtQrbJzYp",
        "outputId": "d11c4591-4506-4ebe-d275-d403448447a8"
      },
      "execution_count": null,
      "outputs": [
        {
          "output_type": "stream",
          "name": "stdout",
          "text": [
            "ID: 101 \n",
            "Name: John\n",
            "ID: 102 \n",
            "Name: David\n"
          ]
        }
      ]
    },
    {
      "cell_type": "markdown",
      "source": [
        "The __init__ method is similar to constructors in C++ and Java. It is run as soon as an object of a class is instantiated. The method is useful to do any initialization you want to do with your object. Now let us define a class and create some objects using the self and __init__ method."
      ],
      "metadata": {
        "id": "i-J8xmQ9-Yn7"
      }
    },
    {
      "cell_type": "markdown",
      "source": [
        "The self-argument is the only one required by the __init__ method. This argument refers to the newly generated instance of the class."
      ],
      "metadata": {
        "id": "U0HDZLYRJKgJ"
      }
    },
    {
      "cell_type": "markdown",
      "source": [
        "Method\n",
        "\n",
        "\n",
        "The method is a function that is associated with an object. In Python, a method is not unique to class instances. Any object type can have methods."
      ],
      "metadata": {
        "id": "CmDXI2-2AGgq"
      }
    },
    {
      "cell_type": "markdown",
      "source": [
        "Inheritance\n",
        "\n",
        "\n",
        "Inheritance is the most important aspect of object-oriented programming, which simulates the real-world concept of inheritance. It specifies that the child object acquires all the properties and behaviors of the parent object.\n",
        "\n",
        "By using inheritance, we can create a class which uses all the properties and behavior of another class. The new class is known as a derived class or child class, and the one whose properties are acquired is known as a base class or parent class.\n",
        "\n",
        "It provides the re-usability of the code."
      ],
      "metadata": {
        "id": "pEWAYqhOANgX"
      }
    },
    {
      "cell_type": "markdown",
      "source": [
        "![image.png](data:image/png;base64,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)"
      ],
      "metadata": {
        "id": "DY6PDw7yKPx_"
      }
    },
    {
      "cell_type": "markdown",
      "source": [
        "![image.png](data:image/png;base64,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)"
      ],
      "metadata": {
        "id": "NcD7IVo7KYs0"
      }
    },
    {
      "cell_type": "markdown",
      "source": [
        "![image.png](data:image/png;base64,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)"
      ],
      "metadata": {
        "id": "SXwFua89KaAG"
      }
    },
    {
      "cell_type": "code",
      "source": [
        "class Animal:\n",
        "    def speak(self):\n",
        "        print(\"Animal Speaking\")\n",
        "#child class Dog inherits the base class Animal\n",
        "class Dog(Animal):\n",
        "    def bark(self):\n",
        "        print(\"dog barking\")\n",
        "d = Dog()\n",
        "d.bark()\n",
        "d.speak()"
      ],
      "metadata": {
        "colab": {
          "base_uri": "https://localhost:8080/"
        },
        "id": "Om3DEzrcKKmn",
        "outputId": "9c9be449-5c84-4713-c892-c2b8c996e47e"
      },
      "execution_count": null,
      "outputs": [
        {
          "output_type": "stream",
          "name": "stdout",
          "text": [
            "dog barking\n",
            "Animal Speaking\n"
          ]
        }
      ]
    },
    {
      "cell_type": "markdown",
      "source": [
        "Python Multi-Level inheritance\n"
      ],
      "metadata": {
        "id": "Qoiavv5hKqxi"
      }
    },
    {
      "cell_type": "markdown",
      "source": [
        "![image.png](data:image/png;base64,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)"
      ],
      "metadata": {
        "id": "K22KT4vkKtjf"
      }
    },
    {
      "cell_type": "markdown",
      "source": [
        "![image.png](data:image/png;base64,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)"
      ],
      "metadata": {
        "id": "ariwo8N8KuiK"
      }
    },
    {
      "cell_type": "code",
      "source": [
        "class Animal:\n",
        "    def speak(self):\n",
        "        print(\"Animal Speaking\")\n",
        "#The child class Dog inherits the base class Animal\n",
        "class Dog(Animal):\n",
        "    def bark(self):\n",
        "        print(\"dog barking\")\n",
        "#The child class Dogchild inherits another child class Dog\n",
        "class DogChild(Dog):\n",
        "    def eat(self):\n",
        "        print(\"Eating bread...\")\n",
        "d = DogChild()\n",
        "d.bark()\n",
        "d.speak()\n",
        "d.eat()"
      ],
      "metadata": {
        "colab": {
          "base_uri": "https://localhost:8080/"
        },
        "id": "xXDqIyMUK1Cp",
        "outputId": "edd86ba9-114e-4f14-ba31-ae0720bb402a"
      },
      "execution_count": null,
      "outputs": [
        {
          "output_type": "stream",
          "name": "stdout",
          "text": [
            "dog barking\n",
            "Animal Speaking\n",
            "Eating bread...\n"
          ]
        }
      ]
    },
    {
      "cell_type": "markdown",
      "source": [
        "Python Multiple inheritance\n"
      ],
      "metadata": {
        "id": "KY5pmQRhK4DM"
      }
    },
    {
      "cell_type": "markdown",
      "source": [
        "![image.png](data:image/png;base64,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)"
      ],
      "metadata": {
        "id": "nE6wIJEyK5GI"
      }
    },
    {
      "cell_type": "markdown",
      "source": [
        "![image.png](data:image/png;base64,iVBORw0KGgoAAAANSUhEUgAAAZIAAAJkCAYAAAA7oadjAAAAAXNSR0IArs4c6QAAAARnQU1BAACxjwv8YQUAAAAJcEhZcwAAEnQAABJ0Ad5mH3gAAGPdSURBVHhe7d0LXFTloj/833aLspUa9uYgGa9CF4bOBtGDimWCmoKGjikGRZInApVUzNLMvKSEtxLvSKS49bh145FEc9Cj4CVAMUH9K2KFlAG+auCLfziSgrrd77NmnoFhAMUWqdjv+/ksWetZz6wZBli/9VzW+Id/CSAiIvqVWsmvREREvwqDhIiIVGGQEBGRKgwSIiJShUFCRESqMEiIiEgVBgkREanCICEiIlUYJEREpAqDhIiIVGGQEBGRKgwSIiJShUFCRESqMEiIiEgVBgkREanCICEiIlXu4T+2uoELuV/j661f4/CJ0yjPKJPlNmj3kiscX/KDn39/eGltYCX3POzKv9VjddZTmBnuLkuIiOheNSlIbhal4rN3FuBMxg1Z0jirEWMxdvlbeNFOFjyUyvD1vClYs+gsMGsN/jGdQUJE9GvdPUiK9Jjx0kIUlshtpQUyojfcuj+JNobtq7iQ+jUKa1oowtP9EKRfgOFOcvthc0GPD1wX4oKyziAhIlLlLkFyEZsDXsWuVGW9DeznLsGsyd1h39qws46bZWexdfpY7EqUrZbguVi81g+Oxq2HC4OEiKjZ3HmwPTcVBw0hIkxeiIVTGw4RhZWdFqPWrkE/L1mQuAa7cuU6ERE9su4YJOX/byGuyXWX3l3QTq43Tougyf3k+kWcPF4o14mI6FF1xyCx/XPtiHl5xf/KtTuz7f4CHNEGVj5aoLpSlirOYk3v3njDRiy9N+CkLG3MzYwlxro2/fCZaZBf6ZIylPXGsmxj0eVsPZa98xb+8xl5bI838MFk0Rr61vy5JdPjTd1ainlj5fPUHtNc+bnj2LF8Lj4Y9gb+U9ZTlv986S3j8+RW4qasW+sGcha9UVP3jVlHagLZUvnuubX1xuhrXxcRUQtx564trSuc5erlWUuwtUhu3ImjDosrv8Z/7d6AuAjzsQctXnzjSeNqbgqy79jtdQPZB/TGVY+34OdjHNav458XkTr1Dbz70kLk/P0sbpomA5wrxIWEDdjsNRTjY/IaPYHfnTj+9Lcw3iMSW2el4sKBwjqBcTP7rPF5evvhnalfWwRAG/ScPre2m2/5R4g90MCMtyI9PouUfYcOIzF2ue7hHFMiIrqDOweJXT8EzZVRUnIEO9z8MF5che/IKMTlX4zF98LNPxj2hrWL+Hp3nmGtQRVZSI0xnnjbBfVGN8NaXWdmTsWG+EJYjQhG0O5/YMWFVMT9+A+MjfGDrYNS4wbK587FF9lmJ3DHQYhS6mVPka9DmLoEcUqZWMZ5yjLx2MPzJmFD7FnDVp3nEMuKE2swquZ5gGvxc7Fmt2ULSIuxCabnuYGTY1bh6zrv2UXsmLdEzoZzRs/ESPRrb9hBRNSi3DlIxJV1t6mrMHa6Vm5XolxchW/1Fy0Bh954w+stzJiViB2pZ1FY0cAVt6Wn+6H/CLm+di8OV8l1C+XpqSgwrLmj/zDTc9d1LbsQ7Watwoq/R2K4jzPsNTbixO6MfhFzEbMpWI7nXETOzuNmLYk2aKfU07QRa5L1Y2JbKbNBO9NEgnN6bF100bgeLo5n/hxisde6Y4h4nhXbx8rnuYGC1GMoN6ybeXokpq1/wbhesg1rFtZ2cRWsn4utcoZbu0Vz8Z5XA60uIqIW4C5BorBDv1kbxFX8XPQMtLjL8FsRIMtXYWuACBTHfiJYxmJO/HFcviX31yOOFSgH48WJ9XBWQ+FThq+TvjaujtCh39PG1XocRiJ0cnfYyk1z7V4YBC8PuVH0/6FUrjZV+f9bhjYvadHuaS2GTPKrbb1YsPIQwfiS3Ci7ioYaaY6BUxAULENi+RJ8ceQGbooWzaeRskUW/BGiJjYclkRELUETgsTI9q9+eG+9Hv9VokfU7o/gN7mfKLO4iv42DwVTI/GuZyQ2nGhgsFuw9dPVdFWd3JlV/yr+3Nc4uN246hzYv/ExA113uFnL9Xrs0OEZubq9ULRL7o2tz1gs3rkBCbkbMKqxIDN4DO01crVRT2L43BlwNnSDiRbSzCmYMXWDsWXi8AKCZnFchIhatiYHiYlVezu4+Ojw1rwFopXytTFYDszFkMkvwEqOGeDccaSKk/Ey8/EJE+vueHGqDKCEVBw2uyFeUZCux2VlRbQ4hvjZGMoa9MS/Ndga+W3dwLWKMhRkH8euv6/CnKC3sFWG3h05+mHW2pHGdfHYC4bZYU+i56aFD+/d/0RETXTPQWLJECxefhg1bwn+K1+PCXNNM7UKkTP9Hzgjt2q1wYsBb8mxha9x+HDdKcIH1xoHuPFmP3g12uK4P26WFeJrJTDefAvhHsoU3X4Id9RhzkuR2PxOIgp2W6TgHbQTj5kw1axrMHwiQl/guAgRtXyqg6SO1naitRGLsZPlCTI7BYcbmuYrTsqmMYzCDXtF5Ei5WXJa8JPoF9D9AX6K8A0U/H0Gwp3ewBolMLafxbVzcpfir1o4hgdjSPIS+A2TZXdTtFe0YsyCJ2EN1jfUYiMiamEaD5Kz2/DBMOONfuPX38sd6m3g0rW7XL+IXxqcmaWF3zuy5ZK6F4flSTpntxw7eCkY/U2D5Q/AtQOiFfLO18bZXg52cJw8BaPEa1twIRUJ5Vn4R/YGLF4eiVF+Wtj+0fCQuzCf6vsk2hm+N6XF9gVyfsU0aiKih0njQSJOoO0OGG/0K9cfl9Nxm+jW3a+0nV8yDTLn4XC6ElR5OLTW+Dj7wBfgYlh7EC5ie+w2uf4Chh/QY/G8kRjio4Wz+RRhg0u4kCVX7+BC4pKaqb6Oa1ciRhzPIDsRXyw7ruKmSSKiB6/xINH0gNebcj11FdYnXmzgo0Aa8Esetq49blx3GFk7DdeSY3/0k8cv3y6CKvsgcgxX7P3g5y/vgH8grqDU9EGVw/rhxTsNhucew/8xvGah4kbDgZC7AXPGHDGuj/gIk4OfhO1LkTXdf9cWTcGn9W5mJCJqOe4wRmKDIe/U3nBXOOYNvDt9G3IuNN7aKD+XimWBE5EjP7Oq3Xs6vNjogLkN/ALllfmBLGz6R7pxPdzvt/9PsWweu+MHULYxzT7beQQnGxlPv1lyBJ9NXlMbHgcu1p/KXJWH1TV1ROtmnqkV1gb9PlqIbvIO/ILIOdjBD9kiohbqzoPtHm8h6u/95KD3DZTHLsEyV+XGQ+UDC1dh9fI1hmXZ5EiM9+qH8R5zkWP6gMUm3Ghn1bufPJkeQUGCcrdHG3QL6P3bT+vVmE0dTt2LXWfLUF5RiWuGGynd0e890yeMfY3NgTOwYady536loU5h7hHsWBSJ8Gem4GQDH/JY6wZyli/AYVnHce0UBJm3btq/gImmKcEilLbO5Qc2ElHLdOcgERxHLMCKjEg4mt98+K3ygYWJODxrg2HJSTiO8m9NLRUbOM5bhRVrm3CjnXV3+EWadWM19gGNzU4LL9O9LNnbsNlTh/GOfpinNzY/3ELnop+/af/XSH1DuXPfz1BnRu8p2DrvOG46aOH2jy+xYK1pYkEhLpglwbUjX+CLeXKSguzSsqRMCa6Z4Za4EMsT7/XWSSKiB++uQaKw9QzG4uxULM6aiyHT/eD4krb25kOFgx1sR/ih5+dLEFUk6in/i6LcdTfdXhpa083U2Ac0Nr82eHHWNkyY1w/tzO5cL/zxknGlvRZjt6Zg5j/egssI59ppyPL7fHH9Giw+swEzhz0JZ7fu8vUfweEs2Q/2yxHEhiQ20KVlybyLC7gwZi42m08zJiJqAe7+f7b/1nI3ILy3Mo7gjiG5a+7ykSRERPSwaVKL5LdzA4eT5b0jb76KIQwRIqIW54EGyc0iPXYY/t+RNugW3O8BfHYWERGpdZ+7tvKwefJBlDu3xY3CYziZkGe8N8VvCqKSRz7AmxCJiOjXus9BchFb33gVO3bKTYXyUeoHlvBTcImIWqj73LX1ODpoTTO+bNDuzbGYkMUQISJqyR78rC0iImrRHvCsLSIiaukYJEREpAqDhIiIVGGQEBGRKgwSIiJShUFCRESqMEiIiEgVBgkREanCICEiIlUYJEREpAqDhIiIVGGQEBGRKgwSIiJShUFCRESqMEiIiEgVBgkREanCICEiIlUYJEREpAqDhIiIVGGQEBGRKgwSIiJShUFCRESqMEiIiEgVBgkREanCICEiIlUYJEREpAqDhIiIVGGQEBGRKgwSIiJShUFCRESqMEiIiEgVBgkREanCICEiIlUYJEREpMof/iXI9RrfnTsi14iIiO6s0SBxfNxFbhERETWOXVtERKQKg4SIiFRhkBARkSoMEiIiUoVBQkREqjBIiIhIFQYJERGpwiAhIiJVGCRERKQKg4SIiFRhkBARkSoMEiIiUoVBQkREqjBIiIhIFQYJERGpwiAhIiJVGCRERKQKg4SIiFRhkBARkSoMEiIiUoVBQkREqjBIiIhIFQYJERGpwiAhIiJVGCRERKQKg4SIiFRhkBARkSoMEiIiUoVBQkREqjBIiIhIFQYJERGpwiAhIiJVGCRERKQKg4SIiFRhkBARkSoMEiIiUuXBBMnlU5g5Kxl9DEsm8mQxERG1PGyRNOTiNoTY20Njvri9CN2kOGSUyjoPlQrkxgdDuyRHbhMR3T8MkjvwmbIe+u3J0G+JR8yb3rD+Zg50/SOgvygrPAQq8rZh1oje8J69DyWyjIjofmKQ3IFG6wWfPt7wGTASY6YvQtK2eOhKt+GznadljQfop20I93FD5/4f45S7DjpZTER0vzFI7kWnzugmvuT+UmXcfpDKipH77+HYlJEFffRIw+siInoQfpsguVWOvIOZ+HTRDrxiGlSfuwMzt/6ISlmlQZWXcWRvOj5drEfIx8bHvfKJHp9uOYPC67KOSeUFpH95ADMXmAbtkxG4YDeWZl6WFYSm1LkXV0pQJL6Mcdcat01ulSIjYTpCXu5eM54SGLUN+b/I/SZXcrB2Wih8vYzjLlqfYEzdWSx3mlQgWxwrULQ2auok5IhSCz3eQ/YX70H37xpZ0LCqk8vga98dkbseysEdInoENH+QXC/ExpgDiNh/GfrK2yiTxbh1G+mXKlEtNxtSlnMcH2SWQV9xE4W3ZdmNm9Dn5SNk2VEUyDLDc6w8ipkny5F+TZYJl65VIfmCPHs3pc49qLooQmD2h9gbFI/IQXVP3tkr3KBbU4JuYz41jKkkzfJGeWwEdNNSasctruzDVG9/rCrriUlLk0W9RMx/RYOMc+YjG8VImtAbvsuK4DF5heFYse9okb/MHz2n7asfJkRED4E//EuQ6zW+O3cEjo+7yK17IU7aq0UL4JJxy/3pZzBlZBe4aEReVVxAWkYlPHWusFOm/674EemGWvaIn+cNd7FWlpmOLdecEODtiI7trET4XMOJL/djUt5NQ83gAB0meFqhLH0PXkmT6fC0K/aMdoNN69uoPF8A/dl2CB7QqUl1GqXM2uoaAb3cNPEJjcf8OSPh0V4WSLk7N6PtgFFwNSvPXx8Ar2kaJJxYj0DxVCU7I6ANq67ZrnFLLK2NqyXJodCOQ706VUcXwHfoPgQdPIBI5Y2qJwcx9v6Inr4bFVN6yjIiovujeVsk589hmwwR/MkRU97qagwRhcYRvkqIGLcaZOfdFxMGORtD5EYVKquu4zEba7kXOFYsu2dMLRPFzyU4UngV1bdbwaaTa21ANKXOXdTM2hKth4SF78G1eAG8vQIQfahu28BjWN0QUbh28Rb/pqBINjg0f+kMB2Rj7xGLriwZIkprZG9iCjDxbegsXp51L1/44TSOnmX3FBE9fJo1SMrOleKEXMczDnC516OX/4jktbuN4yOf7MbgRekI/eaq3AkUVBlbJnbuIpRMx75WjqgNaRgwdweizMZSmlLnbmpmbfUZiMDwGYjZkoW0N8sRM24hUutkSTVK8lKwMTYOsyYFQBfoD4+XF8h9RtZ9QhAb4YqMCd2h9YlATHIOSur085Wg9GvxJTYADqZ7V2oWf8SIXfqflBEaIqKHS7MGSZ1WwL26cR4b405haVGVYXzEro0VPO1tMdqptkVSw74L5rzfEx9qreFs+g5u30aaYSwlCwU3xHZT6tyztvAaqANK1yG3QBb9koOYEZ7QvrYQ+uJyOHiMQuS7HyFhZZisYNIZftHJyD2VjFkDgK2z/aH1DEDMsbqjRl6T42UrqIFlmMUgPxHRQ6BZg8Su4+O1XVc/ltQOjjfF94VYI4c0PHv1wlcf67Dy3ZcwttdjxkJLtp2gG+2PTXN1+OoN89bHzzhyTq43pY5KJXvjEH3ICwl7DiPpsxmIDB8JP9GK8Xr6cVmjLusnvTF6Tjyysw4j5vlMRP9nHLKNe9DWHci+1QFehlZQA4vLnWdoERE9CM0aJNA64fV2cv36BSz5Rz4uXTemSXVJIZKTz9TO4rJQea323oyrV6tQqTys8gL0DUzVLcvMROKxn1GptCpaWcHO0QHamrxpBavWTatz7yqQuisB6BAGDzkXoaRYiQEXONUZ16hGxp7Ncl1SBtXNabTwGzRUtG5KUG7oJuuCviO7ALF/g/68oQYRUYvQzLO2hJJTiFr9I9Iaao3YP4Ov3u3a8KytijNYuiQfyRaPc29nhbxrxrERuHvi0OvOKDu4B6/sN5vTa6ajoyvi33EDmlCn0YF/OWurYsp6fNBHaQVUo+T7bGTs2oyNh6wxet12rBrW2VC16tACeIxYBqfgRZgUpIVGhM2p9QtRZNcTa9dvxuz/uYypPZQZWRHQ7XXFB0E94NBWPLDiNNZEzUH2kGTkzvEW7RFB6SZ71R/RxaLV8t7bCHzO2AKpOJ+J9K9sEbRlPLwMJZYan7Wl3Eei892E5zb8D1YN6SBLiYiaT/O2SBQOXTFnWi/Md38Mnm1kmeBsY42Av/4bbOR2PRo3TAh7BsGm3pvWon6vrogZaisLarXtaIcAe6vasQ/B3d4WE/x7Yf04Y0A0pc7dZCwJhW5EgFiCEf7RNnzfSbmT/EBNiCis+0yB/ovxsD25FCGibviMFFS/kYiYICdZw0ij9YbPrTREv64cLwATY3Pg/N4B5JhCRNG+J6ZuOYxNb3fG92vkc4+bjjX7/heuY4bCQ1YjInqYNH+LhIiIfleav0VCRES/KwwSIiJShUFCRESqMEiIiEgVBgkREanCICEiIlUYJEREpAqDhIiIVGGQEBGRKgwSIiJShUFCRESqMEiIiEgVBgkREanCICEiIlUYJEREpAqDhIiIVGGQEBGRKgwSIiJShUFCRESqMEiIiEgVBomQtyUZfWYZl5kHy2Xpo69i/3R4uAVg1clqWUJEdO8YJL9jVVVVco2I6NdjkPyOOQxZjtwzyYjs1laWKIqRGjUZU3eVym0iojtjkJCFEuTGbsbP7O0ioiZ6dIKkNBOrlqSI0yA9FE6uw6zks6iQm0T06Gr5QXKrFBmxoYZB47Xl1rCWxXVcKUTaljRM+qR2UD1wwW5szL0mKzRCedyXBzBz8Q4Emj1uqf5HVN6WdaTKc2eQuHY3IubWPkfEigNIvyAr4DbKTp7A6s/1CPlY1vl4ByZ9fhR5lbLKXVUjf9cyRI54EVp7e2jsu8N3Uhyya87WOYgR5SHJDXRLHVsm6oci6aLcVliUZS9RjumPaLGuH+cm1pXtuo+pKkhBzCR/eNQ8/zLoCxpovmhsUbjoRfQcMQdJ3zFOiB5lLTpISg7FIaS3G8K3tsWY7WeQGz0QGrnPpPrbLExafgJReVdx4oYsFC5dq0J+mVlBA/JSxeNOliO94jYuyTLlcclHT2HUujMwnf+rv83E1L/lY3VRFfJuyUIh73I5iuQ59NLBVLz9ZSESL9xEoSmEbt/GiQv/F5euy+27yI0fAa9pmdAERSFhezL0G8aja+lZFP0iK6jkOkwcc/sijBbrPlPWi3Vl+3342Bn3V4ng0fUOxV6MxHzDvigM+2WT+BmMwKo8Y50aT43EpqwzSBhQjGif3tDN3oxsDrsQPZJaZpAo3Vhh3aEdtw/O0w8jJyMekX06yJ1mLp/Goi0/44ThxG2FgAG9sGduAA7NG449bz2D7u0MtRrV1rodJgzvja9mDhePEY/72BtzOhr3lRWdw8HzytpVfHPwMkzn0QD/wca6cwdj0/An0LG1UnoeaQevocxQwwrvv6WTx+uLeG872PzRsOMuTiN1VQ7w5keYFzwQPn284TMkDDFbliPwSVlFJY2LOGYfDzgp61ov43P06QIHZSy+OgexHyxA1ZTd0K8Mg86wbygi121HwrAczNq4r343VusO8Jm4Hrln4uF3cSl83bojJDYTJWZhS0QtX8sKkppurAikPjkD2VnJmBegrdcKMbmUU4g0efXv4tkN7/d3hI3hxN4KNs92RUAvW8O+xrgMH4zgHk/A7k/ibbp+DZWV/4TNn63k3psouKB0jf0TN8xOjGe/L0BB+U1xEm0H5x694atVSv+p9GxJN3HkZLFohYiCNnZwH9QTL/xF7rojDTp0EV/SD5l1Zd0/VUdSEJ3njTGv9bToPuwMr0FDgfWnkS9L6ungLQLnOM5uH48/74+AVrRqVh1i84ToUdGigqTim81Y/HkKitx1GP3aQLg2liAGV3H2J3FCl/o/10muNV110Rls/FyOj8zfg8FLs/DBt7XHLLuudI3ZwrNbO8jeH+Sd+xGhMXq88skebMz6GcbRA0e80M0UQBBBcgqB88VxFx9Acu5VWQqUJIfKcQmzJWybnEDQGUGzFkFXtgC+z3ZH4LR1SC24f4lScaVY/JuJSC+L1ycWjwkpYl8uiszHXxrg8PyrGBOsg8dPKVi1RN948BBRi9KigkTT5z3os44jaWQJovs/C4+wZdA3OpBbt6Vwz5RusXX5WHPBOD7SsZ0VPB3tMLpj/bfMru9gbA5xRrBtq5pAKbtxDWt2Z+HdL8+LMLGCy6u+SBr+BHRm3WmXKsqxdGsaotKNd9Mr93UU//BD3WXpUDgY9gLW7mHYlPUDMjeEwak4DoG9xXswSQSr3P/bG4UYw9hIQ0vtWEp9FYZJAiHi9b6aWIXR28+I1kkYXOVeImrZWlbXlkLTGX5Kv/sPhzG7czZm+iiBEoeMi5Yzh2zh7ChXhYPfGwY0muxS7vmabrGAoYORNEOHle/0he65NsZCCzbPeWLC1OH4Shn36GXWQhHHUa7lRQygY4/e+HBGAA590Bvzn6ttoaTlnTeOn7TVQKOxXMxvFhRaa+AxZDxithzH2U3joUkMxUyLWVrZxfUnQZcU58q1X8e6vRJnxWjrqIyNNLTIsZQ6ZIB4PQuvqFz0WngcOduXY0xD41lE1GK1vCAx0WgROCfReGe2Zh/Cu3pCtySzzoCvSzdHuMv1ghMnseZYGaqVVsrtmyj7NgeJmY1/rlbl1doZXWVX5bSoK/nQH7X8WJFypG/JwpHzV1GtBE+bP8P5qccNA9YGbZWR9PNI3nACeZfkYx+zg3sns5GGNq1Q7xzcEIsWlsOgofATX4tKTcHhgA79RGh8k2vRSinG3q1K91PTWYaRpmcfjEYm1v53Dpr0wSo/bTMGyLRMOE8/gOKs9Ygc0LnR8Swiarn+8C9Brtf47twROD7uIrdahoqf9mFjchWCptR2BSkuHdyDiP2mGVN19R3wEub3tzV8aGOEnHZlKsMPRxGx4ULNbCwT93atkHfN2FQx1hUtihUHEHXZUFSPbtBL+NC7HBtnncAaWVZHKytMeGMwgs1aKA3LQYzXUvw8dhSGPaecjqtRuDcO8+LbYlZ2IkY/ZaxVsjMC3mHbYD0sCvNDu0BTXYr09QtQ7eKLVbElSDi1vnaWl3Ifycu5dctQiqQwN4R/MxIxK0fBtaIYVc+Pgp/YX5QcAd9xyrFnYPYbPeRsrlLkH0pD7n98glXDzFoaJ+MQfqgL5kd4w8EwwYGIHlUtt0ViQfPUQERahIiiY//B2Py2K8Y6WsHZ9N22agVPe1s836m9LGjAs70QE/QEfGVPll2bdhjr3xvTX7C85bENOj5ji742teMjaN0KfZ2ewPy3B4sQUWaGtYeL9jF4mo2P2LWxgk7rjJWThzQhRBRO8HrNAfkbP4RuRAB04+YgqWIgYk9sqAkRhcOwFdB/MR6uBasRIuqFR6XBNvIA5g2xfGca0wGBcxMR2SUHU18Xj19+Vnn5Bk4B8cjcvgh+1V9iptinvI6JMZuRa+Nbv7uq23gkTGSIEP0ePDItEiIiejAemRYJERE9GAwSIiJShUFCRESqMEiIiEgVBgkREanCICEiIlUYJEREpAqDhIiIVGGQEBGRKgwSIiJShUFCRESqMEiIiEgVBgkREanCICEiIlUYJEREpAqDhIiIVGGQEBGRKgwSIiJShUFCRESqMEiIiEgVBgkREanCICEiIlUYJEREpAqDhIiIVGGQEBGRKgwSIiJShUFCRESqMEiIiEgVBgkREanCICEiIlUYJEREpAqDhIiIVGGQEBGRKgwSIiJShUFCRESqMEiIiEgVBgkREanCICEiIlUYJEREpAqDhIiIVGGQEBGRKgwSIiJShUFCRESqMEiIiEgVBgkREanCICEiIlUYJEREpAqDhIiIVGGQEBGRKgwSIiJShUFCRESqMEiIiEgVBgkREanCICEiIlUYJEREpAqDhIiIVGGQEBGRKg8mSC6fwsxZyehjWDKRJ4uJiKjlYYukIRe3IcTeHhrzxe1F6CbFIaNU1nnQfilGauxk6HzcjK/Pyx8hUduQXyH3ExHdJwySO/CZsh767cnQb4lHzJvesP5mDnT9I6C/KCs8MKXQT+uOiVur0HfyCsNrTJreB9VbI+D1+jJk/yKrERHdBwySO9BoveDTxxs+A0ZizPRFSNoWD13pNny287Ss8eBohh1ATkY8pgYMNLxGv4AZSPrvKHgdW4CVex+WZhMR/R4wSO5Fp87oJr7k/lJl3H5gOsBnUBdo5FYN954YJL7ofyoybhMR3Qe/TZDcKkfewUx8umgHXjENqs/dgZlbf0SlrNKgyss4sjcdny7WI+Rj4+Ne+USPT7ecQeF1Wcek8gLSvzyAmQtMg/bJCFywG0szL8sKQlPq3IsrJVBO0WPctcZtk1ulyEiYjpCXu9eMpwQq4xWWXUxXcrB2Wih8vYzjLlqfYEzdWSx3mlQgWxwrUI59GOok5IjSpnP4o7VcA6pOLoOvfXdE7mIrhYh+G80fJNcLsTHmACL2X4a+8jbKZDFu3Ub6pUpUy82GlOUcxweZZdBX3EThbVl24yb0efkIWXYUBbLM8Bwrj2LmyXKkX5NlwqVrVUi+IM/eTalzD6ouihCY/SH2BsUjclDdtkD2Cjfo1pSg25hPjeMVs7xRHhsB3bQUlMg6uLIPU739saqsJyYtTRb1EjH/FQ0yztXUEIqRNKE3fJcVwUOOfcS+o0X+Mn/0nLbv7mGSl4OvRGvlzR4WQUdE9Bv6w78EuV7ju3NH4Pi4i9y6F+KkvVq0AC4Zt9yffgZTRnaBi0bkVcUFpGVUwlPnCjtl+u+KH5FuqGWP+HnecBdrZZnp2HLNCQHejujYzkqEzzWc+HI/JuXdNNQMDtBhgqcVytL34JU0mQ5Pu2LPaDfYtL6NyvMF0J9th+ABnZpUp1HKrK2uEdDLTROf0HjMnzMSHu1lgZS7czPaDhgFV7Py/PUB8JqmQcKJ9QgUT1WyMwLasOqa7Rq3xNLauFqSHArtONSrU3V0AXyH7kPQwQOIVN6ohvySg5hX/bHm6XikrR4JJ1lMRPRba94Wyflz2CZDBH9yxJS3uhpDRKFxhK8SIsatBtl598WEQc7GELlRhcqq63jMprab5lix7J4xtUwUP5fgSOFVVN9uBZtOrrUB0ZQ6d1Eza0u0HhIWvgfX4gXw9gpA9KG6bQOPYXVDROHaxVv8m4Ii2eDQ/KUzHJCNvUcsurJkiCitkb2JKcDEt6GzeHnWvXzhh9M4eraR7qnSfYhWQsR6BjZ9xhAhovurWYOk7FwpTsh1POMAl3s9evmPSF672zg+8sluDF6UjtBvrsqdQEGVsWVi5y5CyXTsa+WI2pCGAXN3IMpsLKUpde6mZtZWn4EIDJ+BmC1ZSHuzHDHjFiK1TpZUoyQvBRtj4zBrUgB0gf7weHmB3Gdk3ScEsRGuyJjQHVqfCMQk56CkTj9fCUq/Fl9iA+CgjLPUWfwRI3Y1NIhetEuZkvwusvsmIjPpPXhZBBoR0W+tWYOkTivgXt04j41xp7C0qMowPmLXxgqe9rYY7VTbIqlh3wVz3u+JD7XWcDZ9B7dvI80wlpKFghtiuyl17llbeA3UiRbAOuQWyCKlS2mEJ7SvLYS+uBwOHqMQ+e5HSFgZJiuYdIZfdDJyTyVj1gBg62x/aD0DEHOs7qiR1+R42QpqYBlmPvZRgezlAfCddhZ9/5YF/fSBcKhp3RAR3T/NGiR2HR+v7br6saR2cLwpvi/EGjmk4dmrF776WIeV776Esb0eMxZasu0E3Wh/bJqrw1dvmLc+fsaRc3K9KXVUKtkbh+hDXkjYcxhJn81AZPhI+IlWjNfTj8sadVk/6Y3Rc+KRnXUYMc9nIvo/45Bt3IO27kD2rQ7wMrSCGlhcagf5c+OD4btXi9g9iZjaq95EYCKi+6ZZgwRaJ7zeTq5fv4Al/8jHpevGNKkuKURy8pnaWVwWKq/V3ptx9WoVKpWHVV6AvoGpumWZmUg89jMqlVZFKyvYOTpAW5M3rWAlrsybUufeVSB1VwLQIQweci5CSbESAy5wqjOuUY2MPZvluqQMqpvTaOE3aKho3ZSg3NBN1gV9R3YBYv8G/XlDjcZdScHa2TkYMzUKfk0b7iEi+s0086wtoeQUolb/iLSGWiP2z+Crd7s2PGur4gyWLslHssXj3NtZIe+acWwE7p449Lozyg7uwSv7zeb0muno6Ir4d9yAJtRpdOBfztqqmLIeH/RRrvarUfJ9NjJ2bcbGQ9YYvW47Vg3rbKhadWgBPEYsg1PwIkwK0kIjwubU+oUosuuJtes3Y/b/XMbUHsqMrAjo9rrig6AecGgrHlhxGmui5iB7SDJy53iL9oggZ15FF4tWy3tvI/A5Y0uj4nwm0r+yRdCW8fBSCo4ugGboMUxd9x76/sVQxYItXHt2MTyPch+JzncTntvwP1g1pIPcT0TUfJq3RaJw6Io503phvvtj8GwjywRnG2sE/PXfYCO369G4YULYMwg29dK0FvV7dUXMUFtZUKttRzsE2FvVjn0I7va2mODfC+vHGQOiKXXuJmNJKHQjAsQSjPCPtuH7TuHYlHGgJkQU1n2mQP/FeNieXIoQUTd8Rgqq30hETFDduVMarTd8bqUh+nXleAGYGJsD5/cOIMcUIor2PTF1y2Fserszvl8jn3vcdKzZ979wHTMUHrJayQVlgCYTMWHGY9VfliKjsaYfEVEza/4WCRER/a40f4uEiIh+VxgkRESkCoOEiIhUYZAQEZEqDBIiIlKFQUJERKowSIiISBUGCRERqcIgISIiVRgkRESkCoOEiIhUYZAQEZEqDBIiIlKFQUJERKowSIiISBUGCRERqcIgISIiVRgkRESkCoOEiIhUYZAQEZEqDBIhb0sy+swyLjMPlsvSR1/F/unwcAvAqpPVsoSI6N4xSH7Hqqqq5BoR0a/HIPkdcxiyHLlnkhHZra0sURQjNWoypu4qldtERHfGICELJciN3Yyf2dtFRE306ARJaSZWLUkRp0F6KJxch1nJZ1EhN4no0dXyg+RWKTJiQw2DxmvLrWEti+u4Uoi0LWmY9EntoHrggt3YmHtNVmiE8rgvD2Dm4h0INHvcUv2PqLwt60iV584gce1uRMytfY6IFQeQfkFWwG2UnTyB1Z/rEfKxrPPxDkz6/CjyKmWVu6pG/q5liBzxIrT29tDYd4fvpDhk15ytcxAjykOSG+iWOrZM1A9F0kW5rbAoy16iHNMf0WJdP85NrCvbdR9TVZCCmEn+8Kh5/mXQFzTQfNHYonDRi+g5Yg6SvmOcED3KWnSQlByKQ0hvN4RvbYsx288gN3ogNHKfSfW3WZi0/ASi8q7ixA1ZKFy6VoX8MrOCBuSlisedLEd6xW1ckmXK45KPnsKodWdgOv9Xf5uJqX/Lx+qiKuTdkoVC3uVyFMlz6KWDqXj7y0IkXriJQlMI3b6NExf+Ly5dl9t3kRs/Al7TMqEJikLC9mToN4xH19KzKPpFVlDJdZg45vZFGC3WfaasF+vK9vvwsTPurxLBo+sdir0YifmGfVEY9ssm8TMYgVV5xjo1nhqJTVlnkDCgGNE+vaGbvRnZHHYheiS1zCBRurHCukM7bh+cpx9GTkY8Ivt0kDvNXD6NRVt+xgnDidsKAQN6Yc/cAByaNxx73noG3dsZajWqrXU7TBjeG1/NHC4eIx73sTfmdDTuKys6h4PnlbWr+ObgZZjOowH+g4115w7GpuFPoGNrpfQ80g5eQ5mhhhXef0snj9cX8d52sPmjYcddnEbqqhzgzY8wL3ggfPp4w2dIGGK2LEfgk7KKShoXccw+HnBS1rVexufo0wUOylh8dQ5iP1iAqim7oV8ZBp1h31BErtuOhGE5mLVxX/1urNYd4DNxPXLPxMPv4lL4unVHSGwmSszClohavpYVJDXdWBFIfXIGsrOSMS9AW68VYnIppxBp8urfxbMb3u/vCBvDib0VbJ7tioBetoZ9jXEZPhjBPZ6A3Z/E23T9Gior/wmbP1vJvTdRcEHpGvsnbpidGM9+X4CC8pviJNoOzj16w1erlP5T6dmSbuLIyWLRChEFbezgPqgnXviL3HVHGnToIr6kHzLryrp/qo6kIDrPG2Ne62nRfdgZXoOGAutPI1+W1NPBWwTOcZzdPh5/3h8BrWjVrDrE5gnRo6JFBUnFN5ux+PMUFLnrMPq1gXBtLEEMruLsT+KELvV/rpNca7rqojPY+LkcH5m/B4OXZuGDb2uPWXZd6RqzhWe3dpC9P8g79yNCY/R45ZM92Jj1M4yjB454oZspgCCC5BQC54vjLj6A5NyrshQoSQ6V4xJmS9g2OYGgM4JmLYKubAF8n+2OwGnrkFpw/xKl4kqx+DcTkV4Wr08sHhNSxL5cFJmPvzTA4flXMSZYB4+fUrBqib7x4CGiFqVFBYmmz3vQZx1H0sgSRPd/Fh5hy6BvdCC3bkvhnindYuvyseaCcXykYzsreDraYXTH+m+ZXd/B2BzijGDbVjWBUnbjGtbszsK7X54XYWIFl1d9kTT8CejMutMuVZRj6dY0RKUb76ZX7uso/uGHusvSoXAw7AWs3cOwKesHZG4Ig1NxHAJ7i/dgkghWuf+3NwoxhrGRhpbasZT6KgyTBELE6301sQqjt58RrZMwuMq9RNSytayuLYWmM/yUfvcfDmN252zM9FECJQ4ZFy1nDtnC2VGuCge/NwxoNNml3PM13WIBQwcjaYYOK9/pC91zbYyFFmye88SEqcPxlTLu0cushSKOo1zLixhAxx698eGMABz6oDfmP1fbQknLO28cP2mrgUZjuZjfLCi01sBjyHjEbDmOs5vGQ5MYipkWs7Syi+tPgi4pzpVrv451eyXOitHWURkbaWiRYyl1yADxehZeUbnotfA4crYvx5iGxrOIqMVqeUFiotEicE6i8c5szT6Ed/WEbklmnQFfl26OcJfrBSdOYs2xMlQrrZTbN1H2bQ4SMxv/XK3Kq7UzusquymlRV/KhP2r5sSLlSN+ShSPnr6JaCZ42f4bzU48bBqwN2ioj6eeRvOEE8i7Jxz5mB/dOZiMNbVqh3jm4IRYtLIdBQ+EnvhaVmoLDAR36idD4JteilVKMvVuV7qemswwjTc8+GI1MrP3vHDTpg1V+2mYMkGmZcJ5+AMVZ6xE5oHOj41lE1HL94V+CXK/x3bkjcHzcRW61DBU/7cPG5CoETantClJcOrgHEftNM6bq6jvgJczvb2v40MYIOe3KVIYfjiJiw4Wa2Vgm7u1aIe+asalirCtaFCsOIOqyoage3aCX8KF3OTbOOoE1sqyOVlaY8MZgBJu1UBqWgxivpfh57CgMe045HVejcG8c5sW3xazsRIx+ylirZGcEvMO2wXpYFOaHdoGmuhTp6xeg2sUXq2JLkHBqfe0sL+U+kpdz65ahFElhbgj/ZiRiVo6Ca0Uxqp4fBT+xvyg5Ar7jlGPPwOw3esjZXKXIP5SG3P/4BKuGmbU0TsYh/FAXzI/whoNhggMRPapabovEguapgYi0CBFFx/6DsfltV4x1tIKz6btt1Qqe9rZ4vlN7WdCAZ3shJugJ+MqeLLs27TDWvzemv2B5y2MbdHzGFn1tasdH0LoV+jo9gflvDxYhoswMaw8X7WPwNBsfsWtjBZ3WGSsnD2lCiCic4PWaA/I3fgjdiADoxs1BUsVAxJ7YUBMiCodhK6D/YjxcC1YjRNQLj0qDbeQBzBti+c40pgMC5yYisksOpr4uHr/8rPLyDZwC4pG5fRH8qr/ETLFPeR0TYzYj18a3fndVt/FImMgQIfo9eGRaJERE9GA8Mi0SIiJ6MBgkRESkCoOEiIhUYZAQEZEqDBIiIlKFQUJERKowSIiISBUGCRERqcIgISIiVRgkRESkCoOEiIhUYZAQEZEqDBIiIlKFQUJERKowSIiISBUGCRERqcIgISIiVRgkRESkCoOEiIhUYZAQEZEqDBIiIlKFQUJERKowSIiISBUGCRERqcIgISIiVRgkRESkCoOEiIhUYZAQEZEqDBIiIlKFQUJERKowSIiISBUGCRERqcIgISIiVZo5SEqhn+AG7Yg45FbLIiIieqSxRUJERKr84V+CXK/x3bkjcHzcRW4RERE1ji0SIiJShUFCRESqMEiIiEgVBgkREanCICEiIlUYJEREpAqDhIiIVGGQEBGRKgwSIiJShUFCRESqMEiIiEgVBgkREanCICEiIlUYJEREpAqDhIiIVGGQEBGRKgwSIiJShUFCRESqMEiIiEgVBgkREanCICEiIlUYJEREpAqDhIiIVGGQEBGRKgwSIiJShUFCRESqMEiIiEgVBgkREanCICEiIlUYJEREpAqDhIiIVGGQEBGRKgwSIiJSpZmDpBT6CW7QjohDbrUsIiKiRxpbJEREpMof/iXI9RrfnTsCx8dd5BYREVHj2CIhIiJVGCRERKQKg4SIiFRhkBARkSoMEiIiUoVBQkREqjBIiIhIFQYJERGpwiAhIiJVGCRERKQKg4SIiFRhkBARkSoMEiIiUoVBQkREqjBIiIhIFQYJERGpwiAhIiJVGCRERKQKg4SIiFRhkBARkSoMEiIiUoVBQkREqjBIiIhIFQYJERGpwiAhIiJVGCRERKQKg4SIiFRhkBARkSoMEiIiUoVBQkREqjBIiIhIFQYJERGpwiAhIiJVGCRERKRKMwdJKfQT3KAdEYfcallERESPNLZIiIhIlT/8S5DrNb47dwSOj7vILSIiosaxRUJERKowSIiISBUGCRERqcIgISIiVRgkRESkCoOEiIhUYZAQEZEqDBIiIlKFQUJERKowSIiISBUGCRERqcIgISIiVRgkRESkCoOEiIhUYZAQEZEqDBIiIlKFQUJERKowSIiISBUGCRERqcIgISIiVR5MkFw+hZmzktHHsGQiTxYTEVHLwxZJQy5uQ4i9PTTmi9uL0E2KQ0aprPOAZS8xvi7thBSUyLL6chCjvPYlOXKbiKj5MUjuwGfKeui3J0O/JR4xb3rD+ps50PWPgP6irPAQKNn6IRbvrZBbRET3H4PkDjRaL/j08YbPgJEYM30RkrbFQ1e6DZ/tPC1rPGijMCYUWPv+UmT8IouIiO4zBsm96NQZ3cSX3F+qjNsPnBOCJn+KQMQhPCYTD8urIqLfl98mSG6VI+9gJj5dtAOvmAbV5+7AzK0/olJWaVDlZRzZm45PF+sR8rHxca98osenW86g8LqsY1J5AelfHsDMBaZB+2QELtiNpZmXZQWhKXXuxZUSFIkvY9y1xm2TW6XISJiOkJe714ynBEZtQ75lK+FKDtZOC4Wvlxzf8AnG1J3FcqdJBbLFsQJ93GrrJOSI0kY8ORSzo0cCsXOw+Gi1LLyDiykId3ODLvY0g4eImkXzB8n1QmyMOYCI/Zehr7yNMlmMW7eRfqkSdzrVleUcxweZZdBX3EThbVl24yb0efkIWXYUBbLM8Bwrj2LmyXKkX5NlwqVrVUi+IM/eTalzD6ouihCY/SH2BsUjcpBGlhplrxAn5jUl6DbmU8OYStIsb5THRkA3zWwg/Mo+TPX2x6qynpi0NFnUS8T8VzTIOGc+VF6MpAm94busCB6TVxiOFfuOFvnL/NFz2r5Gw8QpYAbmDzuNmOlLkM0uLiK6z/7wL0Gu1/ju3BE4Pu4it+6FOGmvFi2AS8Yt96efwZSRXeCiEXlVcQFpGZXw1LnCTpn+u+JHpBtq2SN+njfcxVpZZjq2XHNCgLcjOrazEuFzDSe+3I9JeTcNNYMDdJjgaYWy9D14JU2mw9Ou2DPaDTatb6PyfAH0Z9sheECnJtVplDJrq2sE9HLTxCc0HvPnjIRHe1kg5e7cjLYDRsHVrDx/fQC8pmmQcGI9AsVTleyMgDasuma7xi2xtDauliSHQjsO9epUHV0A36H7EHTwACKVN0pQZm35LpqBtMvvwUspOC9es2cESmYegH5yF1gbaimztvwRPX03Kqb0NJQQETW35m2RnD+HbTJE8CdHTHmrqzFEFBpH+CohYtxqkJ13X0wY5GwMkRtVqKy6jsdsjKdExbFiOffW1DJR/FyCI4VXUX27FWw6udYGRFPq3EXNrC3RekhY+B5cixfA2ysA0Yfqtg08htUNEYVrF2/xbwqKZIND85fOcEA29h6x6MqSIaK0RvYmpgAT34bO4uVZ9/KFH07j6Nk7zD3uNBLzVw9F9vwPEXuyCV1cRETNpFmDpOxcKU7IdTzjAJd7PXr5j0heu9s4PvLJbgxelI7Qb67KnUBBlbFlYucuQsl07GvliNqQhgFzdyDKbCylKXXupmbWVp+BCAyfgZgtWUh7sxwx4xYitU6WVKMkLwUbY+Mwa1IAdIH+8Hh5gdxnZN0nBLERrsiY0B1anwjEJOegpM75vgSlX4svsQFwUMZZ6iz+iBG79D8pIzSNcwqKwqoBOYj+aB1yZRkR0W+tWYOkTivgXt04j41xp7C0qMowPmLXxgqe9rYY7VTbIqlh3wVz3u+JD7XWcDZ9B7dvI80wlpKFghtiuyl17llbeA3UAaXiRF0gi37JQcwIT2hfWwh9cTkcPEYh8t2PkLAyTFYw6Qy/6GTknkrGrAHA1tn+0HoGIOZY3daD1+R42QpqYBlmMchfT2eMXrgcfsfmYEr8wzJFmYgedc0aJHYdH6/tuvqxpHZwvCm+L8QaOaTh2asXvvpYh5XvvoSxvR4zFlqy7QTdaH9smqvDV2+Ytz5+xpFzcr0pdVQq2RuH6ENeSNhzGEmfzUBk+Ej4iVaM19OPyxp1WT/pjdFz4pGddRgxz2ci+j/jkG3cg7buQPatDvAytIIaWFzqDvI36KlRmB3dE9mzF2DjT7KMiOg31KxBAq0TXm8n169fwJJ/5OPSdWOaVJcUIjn5TO0sLguV12ono169WoVK5WGVF6BvYKpuWWYmEo/9jEqlVdHKCnaODtDW5E0rWLVuWp17V4HUXQlAhzB4yLkIJcVKDLjAqc64RjUy9myW65IyqG5Oo4XfoKGidVOCckM3WRf0HdkFiP0b9OcNNX41j4hPMa/HPkTOS8P1IbKQiOg30syztoSSU4ha/SPSGmqN2D+Dr97t2vCsrYozWLokH8kWj3NvZ4W8a8axEbh74tDrzig7uAev7Deb02umo6Mr4t9xA5pQp9GBfzlrq2LKenzQR2kFVKPk+2xk7NqMjYesMXrddqwa1tlQterQAniMWAan4EWYFKSFRoTNqfULUWTXE2vXb8bs/7mMqT2UGVkR0O11xQdBPeDQVjyw4jTWRM1B9pBk5M7xNs6yUrrJXvVHdLFotbz3NgKfM7ZAKs5nIv0rWwRtGW+coSXUm7VloerkMuh8FxhbO+aztpT7SHw/RMk7W5A00TS7i4jo12veFonCoSvmTOuF+e6PwbONLBOcbawR8Nd/g43crkfjhglhzyDY1HvTWtTv1RUxQ21lQa22He0QYG9VO/YhuNvbYoJ/L6wfZwyIptS5m4wlodCNCBBLMMI/2obvO4VjU8aBmhBRWPeZAv0X42F7cilCRN3wGSmofiMRMUFOsoaRRusNn1tpiH5dOV4AJsbmwPm9A8gxhYiifU9M3XIYm97ujO/XyOceNx1r9v0vXMcMhYes1hTW3cZjyUxO+SWi317zt0iIiOh3pflbJERE9LvCICEiIlUYJEREpAqDhIiIVGGQEBGRKgwSIiJShUFCRESqMEiIiEgVBgkREanCICEiIlUYJEREpAqDhIiIVGGQEBGRKgwSIiJShUFCRESqMEiIiEgVBgkREanCICEiIlUYJEREpAqDhIiIVGGQCHlbktFnlnGZebBclj76KvZPh4dbAFadrJYlRET3jkHyO1ZVVSXXiIh+PQbJ75jDkOXIPZOMyG5tZYmiGKlRkzF1V6ncJiK6MwYJWShBbuxm/MzeLiJqokcnSEozsWpJijgN0kPh5DrMSj6LCrlJRI+ulh8kt0qRERtqGDReW24Na1lcx5VCpG1Jw6RPagfVAxfsxsbca7JCI5THfXkAMxfvQKDZ45bqf0TlbVlHqjx3BolrdyNibu1zRKw4gPQLsgJuo+zkCaz+XI+Qj2Wdj3dg0udHkVcpq9xVNfJ3LUPkiBehtbeHxr47fCfFIbvmbJ2DGFEektxAt9SxZaJ+KJIuym2FRVn2EuWY/ogW6/pxbmJd2a77mKqCFMRM8odHzfMvg76ggeaLxhaFi15EzxFzkPQd44ToUdaig6TkUBxCershfGtbjNl+BrnRA6GR+0yqv83CpOUnEJV3FSduyELh0rUq5JeZFTQgL1U87mQ50itu45IsUx6XfPQURq07A9P5v/rbTEz9Wz5WF1Uh75YsFPIul6NInkMvHUzF218WIvHCTRSaQuj2bZy48H9x6brcvovc+BHwmpYJTVAUErYnQ79hPLqWnkXRL7KCSq7DxDG3L8Jose4zZb1YV7bfh4+dcX+VCB5d71DsxUjMN+yLwrBfNomfwQisyjPWqfHUSGzKOoOEAcWI9ukN3ezNyOawC9EjqWUGidKNFdYd2nH74Dz9MHIy4hHZp4PcaebyaSza8jNOGE7cVggY0At75gbg0Lzh2PPWM+jezlCrUW2t22HC8N74auZw8RjxuI+9MaejcV9Z0TkcPK+sXcU3By/DdB4N8B9srDt3MDYNfwIdWyul55F28BrKDDWs8P5bOnm8voj3toPNHw077uI0UlflAG9+hHnBA+HTxxs+Q8IQs2U5Ap+UVVTSuIhj9vGAk7Ku9TI+R58ucFDG4qtzEPvBAlRN2Q39yjDoDPuGInLddiQMy8Gsjfvqd2O17gCfieuReyYefheXwtetO0JiM1FiFrZE1PK1rCCp6caKQOqTM5CdlYx5Adp6rRCTSzmFSJNX/y6e3fB+f0fYGE7srWDzbFcE9LI17GuMy/DBCO7xBOz+JN6m69dQWflP2PzZSu69iYILStfYP3HD7MR49vsCFJTfFCfRdnDu0Ru+WqX0n0rPlnQTR04Wi1aIKGhjB/dBPfHCX+SuO9KgQxfxJf2QWVfW/VN1JAXRed4Y81pPi+7DzvAaNBRYfxr5sqSeDt4icI7j7Pbx+PP+CGhFq2bVITZPiB4VLSpIKr7ZjMWfp6DIXYfRrw2Ea2MJYnAVZ38SJ3Sp/3Od5FrTVRedwcbP5fjI/D0YvDQLH3xbe8yy60rXmC08u7WD7P1B3rkfERqjxyuf7MHGrJ9hHD1wxAvdTAEEESSnEDhfHHfxASTnXpWlQElyqByXMFvCtskJBJ0RNGsRdGUL4PtsdwROW4fUgvuXKBVXisW/mYj0snh9YvGYkCL25aLIfPylAQ7Pv4oxwTp4/JSCVUv0jQcPEbUoLSpINH3egz7rOJJGliC6/7PwCFsGfaMDuXVbCvdM6RZbl481F4zjIx3bWcHT0Q6jO9Z/y+z6DsbmEGcE27aqCZSyG9ewZncW3v3yvAgTK7i86ouk4U9AZ9addqmiHEu3piEq3Xg3vXJfR/EPP9Rdlg6Fg2EvYO0ehk1ZPyBzQxiciuMQ2Fu8B5NEsMr9v71RiDGMjTS01I6l1FdhmCQQIl7vq4lVGL39jGidhMFV7iWilq1ldW0pNJ3hp/S7/3AYsztnY6aPEihxyLhoOXPIFs6OclU4+L1hQKPJLuWer+kWCxg6GEkzdFj5Tl/onmtjLLRg85wnJkwdjq+UcY9eZi0UcRzlWl7EADr26I0PZwTg0Ae9Mf+52hZKWt554/hJWw00GsvF/GZBobUGHkPGI2bLcZzdNB6axFDMtJillV1cfxJ0SXGuXPt1rNsrcVaMto7K2EhDixxLqUMGiNez8IrKRa+Fx5GzfTnGNDSeRUQtVssLEhONFoFzEo13Zmv2IbyrJ3RLMusM+Lp0c4S7XC84cRJrjpWhWmml3L6Jsm9zkJjZ+OdqVV6tndFVdlVOi7qSD/1Ry48VKUf6liwcOX8V1UrwtPkznJ963DBgbdBWGUk/j+QNJ5B3ST72MTu4dzIbaWjTCvXOwQ2xaGE5DBoKP/G1qNQUHA7o0E+Exje5Fq2UYuzdqnQ/NZ1lGGl69sFoZGLtf+egSR+s8tM2Y4BMy4Tz9AMozlqPyAGdGx3PIqKW6w//EuR6je/OHYHj4y5yq2Wo+GkfNiZXIWhKbVeQ4tLBPYjYb5oxVVffAS9hfn9bw4c2RshpV6Yy/HAUERsu1MzGMnFv1wp514xNFWNd0aJYcQBRlw1F9egGvYQPvcuxcdYJrJFldbSywoQ3BiPYrIXSsBzEeC3Fz2NHYdhzyum4GoV74zAvvi1mZSdi9FPGWiU7I+Adtg3Ww6IwP7QLNNWlSF+/ANUuvlgVW4KEU+trZ3kp95G8nFu3DKVICnND+DcjEbNyFFwrilH1/Cj4if1FyRHwHaccewZmv9FDzuYqRf6hNOT+xydYNcyspXEyDuGHumB+hDccDBMciOhR1XJbJBY0Tw1EpEWIKDr2H4zNb7tirKMVnE3fbatW8LS3xfOd2suCBjzbCzFBT8BX9mTZtWmHsf69Mf0Fy1se26DjM7boa1M7PoLWrdDX6QnMf3uwCBFlZlh7uGgfg6fZ+IhdGyvotM5YOXlIE0JE4QSv1xyQv/FD6EYEQDduDpIqBiL2xIaaEFE4DFsB/Rfj4VqwGiGiXnhUGmwjD2DeEMt3pjEdEDg3EZFdcjD1dfH45WeVl2/gFBCPzO2L4Ff9JWaKfcrrmBizGbk2vvW7q7qNR8JEhgjR78Ej0yIhIqIH45FpkRAR0YPBICEiIlUYJEREpAqDhIiIVGGQEBGRKgwSIiJShUFCRESqMEiIiEgVBgkREanCICEiIlUYJEREpAqDhIiIVGGQEBGRKgwSIiJShUFCRESqMEiIiEgVBgkREanCICEiIlUYJEREpAqDhIiIVGGQEBGRKgwSIiJShUFCRESqMEiIiEgVBgkREanCICEiIlUYJEREpAqDhIiIVGGQEBGRKgwSIiJShUFCRESqMEiIiEgVBgkREanCICEiIlUYJEREpAqDhIiIVGGQEBGRKgwSIiJShUFCRESqMEiIiEgVBgkREanCICEiIlUYJEREpAqDhIiIVGGQEBGRKgwSIiJShUFCRESqMEiIiEgVBgkREanCICEiIlUYJEREpAqDhIiIVGGQEBGRKgwSIiJShUFCRESqMEiIiEgVBgkREanyYILk8inMnJWMPoYlE3mymBSnsXaEGzwmpaBEltxXF7chxN4eIcmlsoCI6M7YImmIPJlqLBaPlwMQMi0OScd+w5NsNVAlVx86v+Qg5mU3hCcXG7cbep/cXoRuUhwyHtIcqjgZh0C3ZciW2/euFElhFt+zvRu8RkzGqkMPyzddjaL9cYgc8SK0htfXHb5hc5D0XYXc38K0gN+z7CXG16WdcKcLQPH3o7z2JTlyuxhJE9zgu/z0w/s330QMkjvwmbIe+u3JYklEwsIojHm+Myq+WY1wcTLVhsQh97f4u2zbBZHbzyB35VA4yKKHQzWyV32INV1WYElAZ1lmVPM+bYlHzJvesP5mDnT9I6C/KCs8DK6cRtLsAPT0nYPU5jj59HsPm2p+N0bBp20mZo3oj/CdD/7MVrLzXdGi3Yzrfd5HrOHnMgM+1V8i3CcYMcfElUoL1RJ+z0q2fojFe5t6YuiMwJmfwmnth4g92XJ/LgoGyR1otF7w6eMtloEIDB+PyDnLoc84gbNb3oPT3jnwHrcZRbLuIy9vHWYuccCsdwZCI4tMat6nASMxZvoiJG2Lh650Gz7beVrWeJDEVd84cWXu+hJm5nXBsGGyWK3HXeFV87sxAzFbtiNhmGitLPsSubLKA/OXV5GZdRgJU0bCT/5cZm/agnk9chD9+QPqMm0GD/fvmWIUxoQCa99fioxfZNHdPDkUs6drEL3oyxZ9LmGQ3LO2cBgwA19uCoPD/smI2dVCuwvuSTUyvlqNosnjEfSULLqTTp3RTXzJ/eVhaLCXoOi7Lhi74TBytkch6K+yuNl1hpNy7LzqB95N4SDCzcMy7dEFvQaKLzuLH52Ln4fq90zhhKDJnyIQcQiPyWzy74HTkFEYvX8ddrbgweLfJkhulSPvYCY+XbQDr5gG1efuwMytP6JSVmlQ5WUc2ZuOTxfrEfKx8XGvfKLHp1vOoPC6rGNSeQHpXx7AzAWmQftkBC7YjaWZl2UFoSl1fiXNoFGIdAc2puegbpRUIDthOgJ93Ix9pj7BmJpgWUf2sy/JQVXBNsx6vbuhbsyxuvsUVYcWQGvvhuhDDTR9qzMR7WYP71izK7JfzkK/ZDJ8vYx9th4vK2F3tsFf6pJD6zA1RPaju72I8CX7UPRPudNcdTZSl5ci6EUvWMuiO7oiTt7iyxh3rXHb5FYpMsR7E/Ky8ftVnjMwahvy6129Gd/DOvWmpdQ7AVYcrfv6A6etQ/YVubNGT0zNiMfUIdp6LanmVYES5QWGdoGrsaCG4X0O84eH8jqV8ZSQOUgqsPx5ViN/17K64xqT4pBtcZ1SVZCCmEmmYyl1lkFf71h30AFN+xm2BGp/z67kYO200Jq/FcPfqgjaupry92xGaWFEjwRi52Dx0Sb+XP7iDV3oaazaaxo7ES6mINzNDTrxt/2wxOSdNH+QXC/ExpgDiNh/GfrK2yiTxbh1G+mXKpWx5EaV5RzHB5ll0FfcROFtWXbjJvR5+QhZdhQFsszwHCuPYubJcqRfk2XCpWtVSL4gf1uaUkcVcYU3VHxZfxr5xgJBGTzrDd9lRfCYvMLQnxv7jhb5y/zRc9q++r98RSJEVlXhzS+Oo+LyZUztIcvNWPfRicAqRcz+7Hq/UFVH9iGmdCDGDOliLFAGw199ESH7gKA5Sv99MuYPqcDGt16ELr5u878oOQLeI5Yiv8PbWKL0O3/xEXpdiINu7Lr6V6zfHcNWhMHnP9rKgsZVXRR/nLM/xN6geEQOqnvqzl4h/jDWlKDbmE8Nry1pljfKYyOgEyFR291SgdRp4j0U9XpNXG6sF/0qNN8U1OmSUV5/z6FLUfTvchxg5Xi4FiyFr/d0pNYLk99Ydak42XyIKftHIiHSouvv2DJoR8Th57+GIUZ5ncp4RZm4Yh3+bp2+/dz4EfCalglNUBQSlHobxqNr6VkUmf2qVolj6XqHYi9GYr5SR7Swhv2yCSG9R2DVXa9mT+NoimitvNEDFqfdFkn179mVfZjq7Y9VZT0xaanyXiZi/isaZJwz/y27x79nySlgBuYPO42Y6UuQ3aRTjQZdnx+KkpScB98t+iv94V+CXK/x3bkjcHzcRW7dC3HSXi1aAJeMW+5PP4MpI7vARSPyquIC0jIq4alzhZ0y/XfFj0g31LJH/DxviIt7lGWmY8s1JwR4O6JjOysRPtdw4sv9mJR301AzOECHCZ5WKEvfg1fSZDo87Yo9o91g0/o2Ks8XQH+2HYIHdGpSnUYps0S6RgBfnMGmAHEJ14iiraHwmOCBtMvvwUtslySHQjsOSDixHoFmh686ugC+Q/ch6OABQyvG2OpwQ/jOUdiUvxy6vxiqSXLfX3ejYkpPQ0lu/Evwnu2FpB8Wwa/mb0Y54T6LwLJ4nF03Eg7KYPiSl+GbMhBpKTPg1V5WE4yv06H28fL7K5m+G3rxHOZXqLmx/vCOyoHO7Hs3fF+reiLz4Hh4GEokeRy93DTxCY3H/Dkj4WH2GhS5Ozej7YBRcDUrz18fIE6gmtr3rFS5EgtF1erj2BRkNqh/Syytjas1Px/LOiJIo4f6I/W1A8iMkOFqQZld47toRs3P7N6ZfnZy06RPGBKioxDobhG2J1Owsb0vRruYlResE4EwHZqa1y9OOm4vIfpN8TOfbvyZ11MtLhIG++OrQbuRJurU/szEyS6sO8LtElH8Wf3xKyPld2MEfP/WGQl74uv8brYIv8HvWcnOCGjDquv9rZr/njX977mB36vz4jV7ir+xmQegn9xF/ryUWVv+iBZ/d6a/7RriIkHzcj42nYmHrvFTzkOreVsk589hmwwR/MkRU97qagwRhcYRvkqIGLcaZOfdFxMGORtD5EYVKquu4zGb2j+ZY8VyRoypZaL4uQRHCq+i+nYr2HRyrQ2IptRRqeKK+bV7MfYmiku+iW9DZ3F4616+8FOuCM9azOgZ4g2POiHSMI9BYeLx66A/ZHYNdCUT+vXA6ICBxtld1dnYueg0fN4OqRMiCqcXhkInHp9bYNwuOpQi/ihHYVJo3RBReLwSJurWVVIqvs+nHRqdRVZ3dtt7cC1eAG+vAESbv17BY1jdP26Faxdv8W8KikwXghoNnMQfUnZ6DoqUP2oTU4gIRfs3i9c/HmNfqTt7DO17YtAgcSLJOfvbDyjXzNoSV7xfLMJUlyJE9/eEblFm3SvVbkPrhojCxQN9xRf9+ZpvGh2U3Es/VK8ry6TqSAqi87wx5jXLn1lneA0STeM6LWMzt0qROl8JEWvM/q8VLS9EzDTn75nmL53F73M29h6x6Mqq+T37FX/P5jqJVuPqocie38QZWU92Fn931agy/51vQZo1SMrOleKEXMczDnC516OX/4jktbuN4yOf7MbgRekI/eaq3Cku5KqMLRM7dxFKpmNfK0fUhjQMmLsDUWZjKU2po041yktOixNKB3mCLUHp1+JLbAAcDP3X5os/YsQu/U8WnUbPdYaTXL2jp3wRNAzYuLf2JFXy9TZs7PAeAgfKa9CyUhSKLxnvy35h80VcGSlXcydlEJecF38g/Xo2HGJ/lF/NVP1y51kxdWe3KTOYspD2Zjlixi1Eap2/8WqU5Ikr9Ng4zJoUAF2gPzxeXiD3SW29MXrpeLh+HQGPrsq4zTZkX6z7h1hSmin+jYPu/7H4PsXiu0Tsuh8DyjWztrzhFxCG2Z8lIjtlFMqXRCB6f90TW9XF09AnxmFV1GTxPQfA10tclcp9Rp0RNGsRdGXiSvfZ7oaxntSCuseouKKc8DIRKfvzzRePCeLniVwUWU6DFT/nWYH9MfFYHyQdTMbUHnfvmnyYNefvmXWfEMRGuCJjQndofSIQk5yDkjq/Zr/i79mCU1AUVg0QreSPxEWcLHtUNWuQ1GkF3Ksb57Ex7hSWFlUZxkfs2ljB094Wo50sr5kF+y6Y835PfKi1hrPpO7h9G2mGsZQsFNwQ202po4ZoAaRvFVc/fT3qhIHX5Hh51dTAMsyid1o0vJqmgzhZjQIS9yHD0P8vrpa2psDjHR18LM4Noxc28Lxymfa8WcdH+wbe10ZY//Fe29pt4TVQtGtKa1tBhvGbEZ7QvrYQ+uJyOHiMQuS7HyFhZZisUMtpUBT0J85AP2sg8NXH8O0qrvSX59QdI+r1nnEsocFlSL0B7/tBuVJ9BaVYe/KsLKlG9vIAEYivI3pXMcrtumB0xHuYHbccY2QNE2v3MGzK+gGZG8LgVByHwN7PGj7doO6papRxnKXB5X34mDX3K44ug27wh8jvuwE522fArwV2l9ydmt+zzvCLTkbuqWTMGgBsne0PrWdAvfts7unvuZ7O4u9xOfyOzcEUizHKR02zBoldx8dru65+LKkdHG+K7wuxRg5pePbqJc4fOqx89yWM7fWYsdCSbSfoRvtj01wdvnrDvPXxM46ck+tNqfOriBNE7ELElA7FpABTX7w12roD2bc61Fyp1ltcGu7BbgrNwJGIxGb899eiVfFTJpL2mw2yK9pr8IT4UtjWqeHnFovHk8bUsW4vHrdLXME21OKurqo3iOjQ2Qv43ypVs0dK9sYh+pAXEvYcRtJnMxAZbrzHwevpx2UNC207wCc4CgkZWcj+zAsZ899CrGFWm3z9R6vh0LPh79Onz289Q6uJLqZg5fxMeK3+H2RvWoTZE8MQOEC8vh6NvL7WGngMGS+utI/j7Kbx0CSGYqb8qBrr9kq7txhtHS2/V9PSBQ6mi4q8OLw6NA2uS/8HSZN7PhzvxX1yr79n1k+KFvCceGRnHUbM85mI/s84+akHzfT3/NQozI7uiezZC7DxJ1nWkNJi8bxtYW3WhduSNGuQQOuE19vJ9esXsOQf+bh03Zgm1SWFSE4+UzuLy0LltdrT1NWrVahUHlZ5AfoGpuqWZWYi8djPqFRaFa2sYOfoAG1N3rSClfhhNKXOr6JMLVz+FkIWFSHwiygEPinL0QV9R4oTXOzfoD8vi5pTWy/4Te4A/a5MpO5dh4xhr2KQ+T0dmp7oGwxk/G3TXWeKePTQwQFxWPNV/amOqRsXIENumTg87QGHr08j3zJhGiWOsytBNKTC4CHnbJQUK3+eLnCq099cjYw9m+V6YzRwHaiM8ZTi5zLjC/Do8yo8Gnz9D1bF/hSsEa3HMd3klarh5AC4OtUdy6n6OgV/l+s1LPrGHQYNhZ/4WlRq7NTX9OyD0cjE2v+2aJnVUwH9mjnIDn8f8wZZjCE9clT8nlmORWi08FPGmsT7XW74NWu+v2ePiE8xr8c+RM5Lw/UhstBCSXE+Stw9DOODLVHzBkkrRwSHPVNz5Z/3/RkEzt9huH9jwKoTWHq+8ZEkm39/EgHycQXfnsJgZZxk0VHsqmig/+fWL1i9IwuDP5H3hyw+gdXyJNfR0QV+zzaxzl1UnM1GxqFMsexDUoK40pkWDK+ubtCtrUbQhv9BgsVHhXiEforZPVIQPjgAkQkp8rGZ0CcuwNTXTVc6v1Zb+LwyAR4712HxV6drB9lraKD7IB6Bpcvg2z8UMcn7zF77HIS/bzb1sccoLAkSoTThZfHz2YZUpd7+bYgJ88dWm1H1Btvx7z0QBD2Onm540LDu+7QAkSN6IzDWWjTrx9fMMtOK53TAMsycpEwaUOqmYFXYS9j5i6+xgsnFbQg39FmbXr+oN3cB9B3GY1gfeTD3MCyZ3tPw+nXvm44nll2bDT+jVbLlck8q9mGqvT1mfd3w91jP/+YjWz5vavI6RL8fgJ7iZ2wd/CkiB8jXKd63N8WJIWbuZKwVFwBKXX1sKHx2V2OQsYaUg5jeyv0Jpt+Zfdg4e6EIG9HqHCRbnX8ZiqlfjETJEn94hS0TLVL5PYuf29qoCETWfDTLWZxMBHw0VTWvz3LJrRlzUmb+2UMTdZeb5+rd01Aq3ns3w7TmXHmoqpPi986+OyJ3ydfxax5zF835e6bM2vIaZ/Y+7orDzJgUOEwcIt47Y53m+3vugjELZ8Br5zLE7JJFdVQj//9sg8PALrVTs3/395E4dMWcab0w3/0xeLaRZYKzjTUC/vpvsJHb9WjcMEGEULD8IaK1qN+rK2KG2sqCWm072iHA3qp27ENwt7fFBP9eWD/OzdC91pQ6d5OxJBS6EQFiCUb4R6IV8JMD/GYlIjcrGfOGNHC1174npm45jE1vd8b3a+Rjx03Hmn3/C9cxQ+tOnf013L0R5J6D7GKzQXZznUYi4WAyYvpVYevsYOPzv78UG3NtMWi0t1nwdIBudRbSForI2PsxAkW9iTGZQMB6xAY3MLpgaA0Bf0+vfy+Lou77tA3fdwrHpowDWDWs9j2y7jMF+i/Gw/bkUoSIuuEzUlD9RiJigiymG9hp4fN8NfYuMr3+OBzt/D4yM6PgUzMTpy28piQie0M4nL+LMxxPNyJCnIj3oUIbhmH/Lqvdi4LT2NnEe2UMvl4mnzcAgeJnnPRdZ8Pd85krh9aOmbX1xgc74hFpl4PFb4m6ot5X1aOQtGCkxSQLJ3i95oD8jR8av+dxc5BUMRCxJzZgtFmr0ykgHpnbF8Gv+kvMfN343BNjNiPXxhdj+shL2YvFhtlbtT+T+stn35ialmeRK05sY573qDd772HUnL9nGq03fG6lIdr0PsbmwPm9A8iZ4137XjTj37N1t/FYMrORqd1X0pAU2wFv9m3iDb8PoWa+j4QeWXlxoqWTg7Gn1pt15z06iv4eAI/T4+9wL8Yj6KfN0HmdRmSd+5Pofiv6ezA8dg1F7pZRTZvF+RBq/hYJPZrcwzB/ShFmLm/8jt6WqwL5pzOhE1fmv6fzacXZ08gY1hNdGSIPzsUURC+qwOzpr7bYEFEwSKiJ2sIr8lOMPf0uppj+P5JHxlkcXT8Urzz/SM6RbVT+/1kH3RDzLk+6v4qRNP9DFI35FBO7tex7fNi1RUREqrBFQkREqjBIiIhIFQYJERGpwiAhIiJVGCRERKQKg4SIiFRhkBARkSoMEiIiUoVBQkREqjBIiIhIFQYJERGpwiAhIiJVGCRERKQKg4SIiFRhkBARkSoMEiIiUoVBQkREqjBIhLwtyegzy7jMPFguSx99Ffunw8MtAKtOVssSIqJ7xyD5HauqqpJrRES/HoPkd8xhyHLknklGZLe2skRRjNSoyZi6q1RuExHdGYOELJQgN3YzfmZvFxE10aMTJKWZWLUkRZwG6aFwch1mJZ9FhdwkokdXyw+SW6XIiA01DBqvLbeGtSyu40oh0rakYdIntYPqgQt2Y2PuNVmhEcrjvjyAmYt3INDscUv1P6LytqwjVZ47g8S1uxExt/Y5IlYcQPoFWQG3UXbyBFZ/rkfIx7LOxzsw6fOjyKuUVe6qGvm7liFyxIvQ2ttDY98dvpPikF1zts5BjCgPSW6gW+rYMlE/FEkX5bbCoix7iXJMf0SLdf04N7GubNd9TFVBCmIm+cOj5vmXQV/QQPNFY4vCRS+i54g5SPqOcUL0KGvRQVJyKA4hvd0QvrUtxmw/g9zogdDIfSbV32Zh0vITiMq7ihM3ZKFw6VoV8svMChqQlyoed7Ic6RW3cUmWKY9LPnoKo9adgen8X/1tJqb+LR+ri6qQd0sWCnmXy1Ekz6GXDqbi7S8LkXjhJgpNIXT7Nk5c+L+4dF1u30Vu/Ah4TcuEJigKCduTod8wHl1Lz6LoF1lBJddh4pjbF2G0WPeZsl6sK9vvw8fOuL9KBI+udyj2YiTmG/ZFYdgvm8TPYARW5Rnr1HhqJDZlnUHCgGJE+/SGbvZmZHPYheiR1DKDROnGCusO7bh9cJ5+GDkZ8Yjs00HuNHP5NBZt+RknDCduKwQM6IU9cwNwaN5w7HnrGXRvZ6jVqLbW7TBheG98NXO4eIx43MfemNPRuK+s6BwOnlfWruKbg5dhOo8G+A821p07GJuGP4GOrZXS80g7eA1lhhpWeP8tnTxeX8R728Hmj4Ydd3EaqatygDc/wrzggfDp4w2fIWGI2bIcgU/KKippXMQx+3jASVnXehmfo08XOChj8dU5iP1gAaqm7IZ+ZRh0hn1DEbluOxKG5WDWxn31u7Fad4DPxPXIPRMPv4tL4evWHSGxmSgxC1siavlaVpDUdGNFIPXJGcjOSsa8AG29VojJpZxCpMmrfxfPbni/vyNsDCf2VrB5tisCetka9jXGZfhgBPd4AnZ/Em/T9WuorPwnbP5sJffeRMEFpWvsn7hhdmI8+30BCspvipNoOzj36A1frVL6T6VnS7qJIyeLRStEFLSxg/ugnnjhL3LXHWnQoYv4kn7IrCvr/qk6koLoPG+Mea2nRfdhZ3gNGgqsP418WVJPB28ROMdxdvt4/Hl/BLSiVbPqEJsnRI+KFhUkFd9sxuLPU1DkrsPo1wbCtbEEMbiKsz+JE7rU/7lOcq3pqovOYOPncnxk/h4MXpqFD76tPWbZdaVrzBae3dpB9v4g79yPCI3R45VP9mBj1s8wjh444oVupgCCCJJTCJwvjrv4AJJzr8pSoCQ5VI5LmC1h2+QEgs4ImrUIurIF8H22OwKnrUNqwf1LlIorxeLfTER6Wbw+sXhMSBH7clFkPv7SAIfnX8WYYB08fkrBqiX6xoOHiFqUFhUkmj7vQZ91HEkjSxDd/1l4hC2DvtGB3LothXumdIuty8eaC8bxkY7trODpaIfRHeu/ZXZ9B2NziDOCbVvVBErZjWtYszsL7355XoSJFVxe9UXS8CegM+tOu1RRjqVb0xCVbrybXrmvo/iHH+ouS4fCwbAXsHYPw6asH5C5IQxOxXEI7C3eg0kiWOX+394oxBjGRhpaasdS6qswTBIIEa/31cQqjN5+RrROwuAq9xJRy9ayurYUms7wU/rdfziM2Z2zMdNHCZQ4ZFy0nDlkC2dHuSoc/N4woNFkl3LP13SLBQwdjKQZOqx8py90z7UxFlqwec4TE6YOx1fKuEcvsxaKOI5yLS9iAB179MaHMwJw6IPemP9cbQslLe+8cfykrQYajeVifrOg0FoDjyHjEbPlOM5uGg9NYihmWszSyi6uPwm6pDhXrv061u2VOCtGW0dlbKShRY6l1CEDxOtZeEXlotfC48jZvhxjGhrPIqIWq+UFiYlGi8A5icY7szX7EN7VE7olmXUGfF26OcJdrhecOIk1x8pQrbRSbt9E2bc5SMxs/HO1Kq/WzugquyqnRV3Jh/6o5ceKlCN9SxaOnL+KaiV42vwZzk89bhiwNmirjKSfR/KGE8i7JB/7mB3cO5mNNLRphXrn4IZYtLAcBg2Fn/haVGoKDgd06CdC45tci1ZKMfZuVbqfms4yjDQ9+2A0MrH2v3PQpA9W+WmbMUCmZcJ5+gEUZ61H5IDOjY5nEVHL9Yd/CXK9xnfnjsDxcRe51TJU/LQPG5OrEDSltitIcengHkTsN82YqqvvgJcwv7+t4UMbI+S0K1MZfjiKiA0XamZjmbi3a4W8a8amirGuaFGsOICoy4aienSDXsKH3uXYOOsE1siyOlpZYcIbgxFs1kJpWA5ivJbi57GjMOw55XRcjcK9cZgX3xazshMx+iljrZKdEfAO2wbrYVGYH9oFmupSpK9fgGoXX6yKLUHCqfW1s7yU+0hezq1bhlIkhbkh/JuRiFk5Cq4Vxah6fhT8xP6i5Aj4jlOOPQOz3+ghZ3OVIv9QGnL/4xOsGmbW0jgZh/BDXTA/whsOhgkORPSoarktEguapwYi0iJEFB37D8bmt10x1tEKzqbvtlUreNrb4vlO7WVBA57thZigJ+Are7Ls2rTDWP/emP6C5S2PbdDxGVv0takdH0HrVujr9ATmvz1YhIgyM6w9XLSPwdNsfMSujRV0WmesnDykCSGicILXaw7I3/ghdCMCoBs3B0kVAxF7YkNNiCgchq2A/ovxcC1YjRBRLzwqDbaRBzBviOU705gOCJybiMguOZj6unj88rPKyzdwCohH5vZF8Kv+EjPFPuV1TIzZjFwb3/rdVd3GI2EiQ4To9+CRaZEQEdGD8ci0SIiI6MFgkBARkSoMEiIiUoVBQkREqjBIiIhIFQYJERGpwiAhIiJVGCRERKQKg4SIiFRhkBARkSoMEiIiUoVBQkREqjBIiIhIFQYJERGpwiAhIiJVGCRERKQKg4SIiFRhkBARkSoMEiIiUoVBQkREqjBIiIhIFQYJERGpwiAhIiJVGCRERKQKg4SIiFRhkBARkSoMEiIiUoVBQkREqjBIiIhIFQYJERGpwiAhIiJVGCRERKQKg4SIiFRhkBARkSoMEiIiUoVBQkREqvzhX4Jcr/HduSNyjYiI6M4aDBIiIqKmYtcWERGpwiAhIiJVGCRERKQKg4SIiFRhkBARkQrA/w9ArqVcA1mDcwAAAABJRU5ErkJggg==)"
      ],
      "metadata": {
        "id": "YuJtvKD6K_s3"
      }
    },
    {
      "cell_type": "code",
      "source": [
        "class Calculation1:\n",
        "    def Summation(self,a,b):\n",
        "        return a+b;\n",
        "class Calculation2:\n",
        "    def Multiplication(self,a,b):\n",
        "        return a*b;\n",
        "class Derived(Calculation1,Calculation2):\n",
        "    def Divide(self,a,b):\n",
        "        return a/b;\n",
        "d = Derived()\n",
        "print(d.Summation(10,20))\n",
        "print(d.Multiplication(10,20))\n",
        "print(d.Divide(10,20))"
      ],
      "metadata": {
        "colab": {
          "base_uri": "https://localhost:8080/"
        },
        "id": "4lxGOODzLDYi",
        "outputId": "c84460e8-ecc4-4774-84b0-25b8be176de0"
      },
      "execution_count": null,
      "outputs": [
        {
          "output_type": "stream",
          "name": "stdout",
          "text": [
            "30\n",
            "200\n",
            "0.5\n"
          ]
        }
      ]
    },
    {
      "cell_type": "markdown",
      "source": [
        "Polymorphism\n",
        "\n",
        "Polymorphism contains two words \"poly\" and \"morphs\". Poly means many, and morph means shape. By polymorphism, we understand that one task can be performed in different ways."
      ],
      "metadata": {
        "id": "qQt123XNAbOG"
      }
    },
    {
      "cell_type": "code",
      "source": [
        "class Bird:\n",
        "  def intro(self):\n",
        "    print(\"There are many types of birds.\")\n",
        "\n",
        "  def flight(self):\n",
        "    print(\"Most of the birds can fly but some cannot.\")\n",
        "\n",
        "class sparrow(Bird):\n",
        "  def flight(self):\n",
        "    print(\"Sparrows can fly.\")\n",
        "\n",
        "class ostrich(Bird):\n",
        "  def flight(self):\n",
        "    print(\"Ostriches cannot fly.\")\n",
        "\n",
        "obj_bird = Bird()\n",
        "obj_spr = sparrow()\n",
        "obj_ost = ostrich()\n",
        "\n",
        "obj_bird.intro()\n",
        "obj_bird.flight()\n",
        "\n",
        "obj_spr.intro()\n",
        "obj_spr.flight()\n",
        "\n",
        "obj_ost.intro()\n",
        "obj_ost.flight()\n"
      ],
      "metadata": {
        "colab": {
          "base_uri": "https://localhost:8080/"
        },
        "id": "JXyZKWPfL21F",
        "outputId": "9d04aa97-0512-4d73-8c23-95ec01acbf9a"
      },
      "execution_count": null,
      "outputs": [
        {
          "output_type": "stream",
          "name": "stdout",
          "text": [
            "There are many types of birds.\n",
            "Most of the birds can fly but some cannot.\n",
            "There are many types of birds.\n",
            "Sparrows can fly.\n",
            "There are many types of birds.\n",
            "Ostriches cannot fly.\n"
          ]
        }
      ]
    },
    {
      "cell_type": "markdown",
      "source": [
        "Encapsulation\n",
        "\n",
        "\n",
        "Encapsulation is also an essential aspect of object-oriented programming. It is used to restrict access to methods and variables. In encapsulation, code and data are wrapped together within a single unit from being modified by accident."
      ],
      "metadata": {
        "id": "J3Kn1106AhlY"
      }
    },
    {
      "cell_type": "markdown",
      "source": [
        "Data Abstraction\n",
        "\n",
        "Data abstraction and encapsulation both are often used as synonyms. Both are nearly synonyms because data abstraction is achieved through encapsulation.\n",
        "\n",
        "Abstraction is used to hide internal details and show only functionalities. Abstracting something means to give names to things so that the name captures the core of what a function or a whole program does."
      ],
      "metadata": {
        "id": "2q-7cgF2Ap4G"
      }
    },
    {
      "cell_type": "markdown",
      "source": [
        "Abstraction is an important aspect of object-oriented programming. In python, we can also perform data hiding by adding the double underscore (___) as a prefix to the attribute which is to be hidden. After this, the attribute will not be visible outside of the class through the object."
      ],
      "metadata": {
        "id": "sK5RpVFULVJO"
      }
    },
    {
      "cell_type": "code",
      "source": [
        "class Employee:\n",
        "    __count = 0;\n",
        "    def __init__(self):\n",
        "        Employee.__count = Employee.__count+1\n",
        "    def display(self):\n",
        "        print(\"The number of employees\",Employee.__count)\n",
        "emp1 = Employee()\n",
        "emp2 = Employee()\n",
        "try:\n",
        "    print(emp1.__count)\n",
        "finally:\n",
        "    emp2.display()"
      ],
      "metadata": {
        "colab": {
          "base_uri": "https://localhost:8080/",
          "height": 228
        },
        "id": "wZEl_Nj5-ZIi",
        "outputId": "e08f8453-4980-4fa0-eef3-4c2a9132f4f5"
      },
      "execution_count": null,
      "outputs": [
        {
          "output_type": "stream",
          "name": "stdout",
          "text": [
            "The number of employees 2\n"
          ]
        },
        {
          "output_type": "error",
          "ename": "AttributeError",
          "evalue": "'Employee' object has no attribute '__count'",
          "traceback": [
            "\u001b[0;31m---------------------------------------------------------------------------\u001b[0m",
            "\u001b[0;31mAttributeError\u001b[0m                            Traceback (most recent call last)",
            "\u001b[0;32m<ipython-input-51-ceb2be01725d>\u001b[0m in \u001b[0;36m<cell line: 9>\u001b[0;34m()\u001b[0m\n\u001b[1;32m      8\u001b[0m \u001b[0memp2\u001b[0m \u001b[0;34m=\u001b[0m \u001b[0mEmployee\u001b[0m\u001b[0;34m(\u001b[0m\u001b[0;34m)\u001b[0m\u001b[0;34m\u001b[0m\u001b[0;34m\u001b[0m\u001b[0m\n\u001b[1;32m      9\u001b[0m \u001b[0;32mtry\u001b[0m\u001b[0;34m:\u001b[0m\u001b[0;34m\u001b[0m\u001b[0;34m\u001b[0m\u001b[0m\n\u001b[0;32m---> 10\u001b[0;31m     \u001b[0mprint\u001b[0m\u001b[0;34m(\u001b[0m\u001b[0memp1\u001b[0m\u001b[0;34m.\u001b[0m\u001b[0m__count\u001b[0m\u001b[0;34m)\u001b[0m\u001b[0;34m\u001b[0m\u001b[0;34m\u001b[0m\u001b[0m\n\u001b[0m\u001b[1;32m     11\u001b[0m \u001b[0;32mfinally\u001b[0m\u001b[0;34m:\u001b[0m\u001b[0;34m\u001b[0m\u001b[0;34m\u001b[0m\u001b[0m\n\u001b[1;32m     12\u001b[0m     \u001b[0memp2\u001b[0m\u001b[0;34m.\u001b[0m\u001b[0mdisplay\u001b[0m\u001b[0;34m(\u001b[0m\u001b[0;34m)\u001b[0m\u001b[0;34m\u001b[0m\u001b[0;34m\u001b[0m\u001b[0m\n",
            "\u001b[0;31mAttributeError\u001b[0m: 'Employee' object has no attribute '__count'"
          ]
        }
      ]
    }
  ]
}